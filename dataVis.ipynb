{
 "cells": [
  {
   "cell_type": "code",
   "execution_count": 3,
   "id": "20bbc576",
   "metadata": {},
   "outputs": [
    {
     "data": {
      "text/html": [
       "<div>\n",
       "<style scoped>\n",
       "    .dataframe tbody tr th:only-of-type {\n",
       "        vertical-align: middle;\n",
       "    }\n",
       "\n",
       "    .dataframe tbody tr th {\n",
       "        vertical-align: top;\n",
       "    }\n",
       "\n",
       "    .dataframe thead th {\n",
       "        text-align: right;\n",
       "    }\n",
       "</style>\n",
       "<table border=\"1\" class=\"dataframe\">\n",
       "  <thead>\n",
       "    <tr style=\"text-align: right;\">\n",
       "      <th></th>\n",
       "      <th>survived</th>\n",
       "      <th>pclass</th>\n",
       "      <th>sex</th>\n",
       "      <th>age</th>\n",
       "      <th>sibsp</th>\n",
       "      <th>parch</th>\n",
       "      <th>fare</th>\n",
       "      <th>embarked</th>\n",
       "      <th>class</th>\n",
       "      <th>who</th>\n",
       "      <th>adult_male</th>\n",
       "      <th>deck</th>\n",
       "      <th>embark_town</th>\n",
       "      <th>alive</th>\n",
       "      <th>alone</th>\n",
       "    </tr>\n",
       "  </thead>\n",
       "  <tbody>\n",
       "    <tr>\n",
       "      <th>0</th>\n",
       "      <td>0</td>\n",
       "      <td>3</td>\n",
       "      <td>male</td>\n",
       "      <td>22.0</td>\n",
       "      <td>1</td>\n",
       "      <td>0</td>\n",
       "      <td>7.2500</td>\n",
       "      <td>S</td>\n",
       "      <td>Third</td>\n",
       "      <td>man</td>\n",
       "      <td>True</td>\n",
       "      <td>NaN</td>\n",
       "      <td>Southampton</td>\n",
       "      <td>no</td>\n",
       "      <td>False</td>\n",
       "    </tr>\n",
       "    <tr>\n",
       "      <th>1</th>\n",
       "      <td>1</td>\n",
       "      <td>1</td>\n",
       "      <td>female</td>\n",
       "      <td>38.0</td>\n",
       "      <td>1</td>\n",
       "      <td>0</td>\n",
       "      <td>71.2833</td>\n",
       "      <td>C</td>\n",
       "      <td>First</td>\n",
       "      <td>woman</td>\n",
       "      <td>False</td>\n",
       "      <td>C</td>\n",
       "      <td>Cherbourg</td>\n",
       "      <td>yes</td>\n",
       "      <td>False</td>\n",
       "    </tr>\n",
       "    <tr>\n",
       "      <th>2</th>\n",
       "      <td>1</td>\n",
       "      <td>3</td>\n",
       "      <td>female</td>\n",
       "      <td>26.0</td>\n",
       "      <td>0</td>\n",
       "      <td>0</td>\n",
       "      <td>7.9250</td>\n",
       "      <td>S</td>\n",
       "      <td>Third</td>\n",
       "      <td>woman</td>\n",
       "      <td>False</td>\n",
       "      <td>NaN</td>\n",
       "      <td>Southampton</td>\n",
       "      <td>yes</td>\n",
       "      <td>True</td>\n",
       "    </tr>\n",
       "    <tr>\n",
       "      <th>3</th>\n",
       "      <td>1</td>\n",
       "      <td>1</td>\n",
       "      <td>female</td>\n",
       "      <td>35.0</td>\n",
       "      <td>1</td>\n",
       "      <td>0</td>\n",
       "      <td>53.1000</td>\n",
       "      <td>S</td>\n",
       "      <td>First</td>\n",
       "      <td>woman</td>\n",
       "      <td>False</td>\n",
       "      <td>C</td>\n",
       "      <td>Southampton</td>\n",
       "      <td>yes</td>\n",
       "      <td>False</td>\n",
       "    </tr>\n",
       "    <tr>\n",
       "      <th>4</th>\n",
       "      <td>0</td>\n",
       "      <td>3</td>\n",
       "      <td>male</td>\n",
       "      <td>35.0</td>\n",
       "      <td>0</td>\n",
       "      <td>0</td>\n",
       "      <td>8.0500</td>\n",
       "      <td>S</td>\n",
       "      <td>Third</td>\n",
       "      <td>man</td>\n",
       "      <td>True</td>\n",
       "      <td>NaN</td>\n",
       "      <td>Southampton</td>\n",
       "      <td>no</td>\n",
       "      <td>True</td>\n",
       "    </tr>\n",
       "  </tbody>\n",
       "</table>\n",
       "</div>"
      ],
      "text/plain": [
       "   survived  pclass     sex   age  sibsp  parch     fare embarked  class  \\\n",
       "0         0       3    male  22.0      1      0   7.2500        S  Third   \n",
       "1         1       1  female  38.0      1      0  71.2833        C  First   \n",
       "2         1       3  female  26.0      0      0   7.9250        S  Third   \n",
       "3         1       1  female  35.0      1      0  53.1000        S  First   \n",
       "4         0       3    male  35.0      0      0   8.0500        S  Third   \n",
       "\n",
       "     who adult_male deck  embark_town alive  alone  \n",
       "0    man       True  NaN  Southampton    no  False  \n",
       "1  woman      False    C    Cherbourg   yes  False  \n",
       "2  woman      False  NaN  Southampton   yes   True  \n",
       "3  woman      False    C  Southampton   yes  False  \n",
       "4    man       True  NaN  Southampton    no   True  "
      ]
     },
     "execution_count": 3,
     "metadata": {},
     "output_type": "execute_result"
    }
   ],
   "source": [
    "import pandas as pd\n",
    "import numpy as np\n",
    "\n",
    "import matplotlib.pyplot as plt\n",
    "import seaborn as sns\n",
    "import plotly.express as px\n",
    "\n",
    "# nicer defaults\n",
    "plt.rcParams[\"figure.figsize\"] = (8,5)\n",
    "plt.rcParams[\"axes.grid\"] = False\n",
    "\n",
    "# load data\n",
    "titanic = sns.load_dataset(\"titanic\")\n",
    "# light tidy: cast categories, drop obvisous junk columns if needed\n",
    "cat_cols = [\"sex\", \"class\", \"embark_town\", \"who\", \"adult_male\", \"alive\", \"alone\", \"deck\", \"embarked\"]\n",
    "for c in cat_cols:\n",
    "    if c in titanic.columns:\n",
    "        titanic[c] = titanic[c].astype(\"category\")\n",
    "\n",
    "titanic.head()\n"
   ]
  },
  {
   "cell_type": "code",
   "execution_count": 4,
   "id": "31e5206a",
   "metadata": {},
   "outputs": [
    {
     "name": "stderr",
     "output_type": "stream",
     "text": [
      "/var/folders/hd/wvpfmg893d9ff7g872_k6hvh0000gn/T/ipykernel_74073/1999767839.py:1: FutureWarning: The default of observed=False is deprecated and will be changed to True in a future version of pandas. Pass observed=False to retain current behavior or observed=True to adopt the future default and silence this warning.\n",
      "  survival_by_class = titanic.groupby(\"class\")[\"survived\"].mean().sort_values(ascending=False)\n"
     ]
    },
    {
     "data": {
      "image/png": "[encoded data removed]",
      "text/plain": [
       "<Figure size 800x500 with 1 Axes>"
      ]
     },
     "metadata": {},
     "output_type": "display_data"
    }
   ],
   "source": [
    "survival_by_class = titanic.groupby(\"class\")[\"survived\"].mean().sort_values(ascending=False)\n",
    "ax = survival_by_class.plot(kind=\"bar\")\n",
    "ax.set_title(\"Survival Rate by Passenger Class\")\n",
    "ax.set_ylabel(\"Survival Rate\")\n",
    "ax.set_xlabel(\"Class\")\n",
    "plt.show()"
   ]
  },
  {
   "cell_type": "code",
   "execution_count": 11,
   "id": "22955884",
   "metadata": {},
   "outputs": [
    {
     "data": {
      "image/png": "[encoded data removed]",
      "text/plain": [
       "<Figure size 800x500 with 1 Axes>"
      ]
     },
     "metadata": {},
     "output_type": "display_data"
    }
   ],
   "source": [
    "df = titanic.dropna(subset=[\"age\", \"fare\"])\n",
    "plt.scatter(df[\"age\"], df[\"fare\"], alpha=0.5)\n",
    "plt.title(\"Fare vs Age\")\n",
    "plt.xlabel(\"Age\")\n",
    "plt.ylabel(\"Fare\")\n",
    "# plt.ylim(0,600)\n",
    "plt.show()\n"
   ]
  },
  {
   "cell_type": "code",
   "execution_count": 14,
   "id": "9b7c5a9c",
   "metadata": {},
   "outputs": [
    {
     "data": {
      "image/png": "[encoded data removed]",
      "text/plain": [
       "<Figure size 800x500 with 1 Axes>"
      ]
     },
     "metadata": {},
     "output_type": "display_data"
    }
   ],
   "source": [
    "sns.countplot(data=titanic, x=\"class\", hue=\"sex\")\n",
    "plt.title(\"Counts by Class and Sex\")\n",
    "plt.show()"
   ]
  },
  {
   "cell_type": "code",
   "execution_count": null,
   "id": "6539e1f1",
   "metadata": {},
   "outputs": [
    {
     "data": {
      "image/png": "[encoded data removed]",
      "text/plain": [
       "<Figure size 800x500 with 1 Axes>"
      ]
     },
     "metadata": {},
     "output_type": "display_data"
    }
   ],
   "source": [
    "sns.boxplot(data=titanic, x=\"class\", y=\"fare\")\n",
    "plt.title(\"Fare Distribution by Class (Boxplot)\")\n",
    "plt.ylim(0,400)\n",
    "plt.show()"
   ]
  },
  {
   "cell_type": "code",
   "execution_count": null,
   "id": "f622a722",
   "metadata": {},
   "outputs": [
    {
     "data": {
      "image/png": "[encoded data removed]",
      "text/plain": [
       "<Figure size 800x500 with 1 Axes>"
      ]
     },
     "metadata": {},
     "output_type": "display_data"
    }
   ],
   "source": [
    "sns.violinplot(data=titanic, x=\"class\", y=\"fare\", inner=\"quartile\", cut=0)\n",
    "plt.title(\"Fare Distribution by Class (Violin)\")\n",
    "plt.ylim(0, 400)\n",
    "plt.show()"
   ]
  },
  {
   "cell_type": "code",
   "execution_count": 17,
   "id": "8c7320c7",
   "metadata": {},
   "outputs": [
    {
     "data": {
      "image/png": "[encoded data removed]",
      "text/plain": [
       "<Figure size 800x500 with 2 Axes>"
      ]
     },
     "metadata": {},
     "output_type": "display_data"
    }
   ],
   "source": [
    "num = titanic.select_dtypes(include=[\"number\"])\n",
    "sns.heatmap(num.corr(numeric_only=True), annot=True, fmt=\".2f\")\n",
    "plt.title(\"Correlation Heatmap\")\n",
    "plt.show()"
   ]
  },
  {
   "cell_type": "markdown",
   "id": "33e7bc16",
   "metadata": {},
   "source": [
    "# So what is each graph good for:\n",
    "\n",
    "- Countplot: Categorical frequencies\n",
    "- Boxplot: Summary of distribution (median, spread, outliers)\n",
    "- Violin plot: Full shape of the distribution (density)\n",
    "- Heatmap: matrix of correlations between numeric columns"
   ]
  },
  {
   "cell_type": "code",
   "execution_count": 22,
   "id": "e8817b8e",
   "metadata": {},
   "outputs": [
    {
     "data": {
      "image/png": "[encoded data removed]",
      "text/plain": [
       "<Figure size 1200x800 with 2 Axes>"
      ]
     },
     "metadata": {},
     "output_type": "display_data"
    }
   ],
   "source": [
    "import pandas as pd\n",
    "import seaborn as sns\n",
    "import matplotlib.pyplot as plt\n",
    "\n",
    "# load dataset\n",
    "titanic = sns.load_dataset(\"titanic\")\n",
    "\n",
    "# convert categorical columns to codes (0,1,2...)\n",
    "titanic_encoded = titanic.copy()\n",
    "for col in titanic_encoded.select_dtypes(include=\"category\").columns:\n",
    "    titanic_encoded[col] = titanic_encoded[col].cat.codes\n",
    "\n",
    "corr = titanic_encoded.corr(numeric_only=True)\n",
    "\n",
    "plt.figure(figsize=(12,8))\n",
    "sns.heatmap(corr, annot=True, fmt=\".2f\", cmap=\"coolwarm\", cbar=True)\n",
    "plt.title(\"Titanic Dataset — Full Correlation Heatmap (Numeric + Encoded Categories)\")\n",
    "plt.show()\n"
   ]
  },
  {
   "cell_type": "markdown",
   "id": "16ed6cd5",
   "metadata": {},
   "source": [
    "Task: Compare fare distributions by sex within class using `sns.boxplot` with `hue=\"sex\"`. Limit fares to 0 - 400.\n",
    "  "
   ]
  },
  {
   "cell_type": "markdown",
   "id": "bd782cff",
   "metadata": {},
   "source": []
  },
  {
   "cell_type": "code",
   "execution_count": 4,
   "id": "02a94d40",
   "metadata": {},
   "outputs": [
    {
     "data": {
      "image/png": "[encoded data removed]",
      "text/plain": [
       "<Figure size 800x500 with 1 Axes>"
      ]
     },
     "metadata": {},
     "output_type": "display_data"
    }
   ],
   "source": [
    "import seaborn as sns\n",
    "\n",
    "sns.boxplot(data=titanic, x=\"class\", y=\"fare\", hue=\"sex\")\n",
    "plt.title(\"Fare Distribution by Class and Sex\")\n",
    "plt.ylim(0, 400)\n",
    "plt.show()"
   ]
  },
  {
   "cell_type": "markdown",
   "id": "aa8c8835",
   "metadata": {},
   "source": [
    "Use `sns.scatterplot` to plot `age` vs `fare` with `hue=\"survived\"` and `style=\"sex\"`"
   ]
  },
  {
   "cell_type": "code",
   "execution_count": 5,
   "id": "9e69d5d2",
   "metadata": {},
   "outputs": [
    {
     "data": {
      "image/png": "[encoded data removed]",
      "text/plain": [
       "<Figure size 800x500 with 1 Axes>"
      ]
     },
     "metadata": {},
     "output_type": "display_data"
    }
   ],
   "source": [
    "df = titanic.dropna(subset=[\"age\", \"fare\", \"sex\", \"survived\"])\n",
    "sns.scatterplot(data=df, x=\"age\", y=\"fare\", hue=\"survived\", style=\"sex\", alpha=0.7)\n",
    "plt.title(\"Fare vs Age - Survival & Sex\")\n",
    "plt.ylim(0,400)\n",
    "plt.show()\n"
   ]
  },
  {
   "cell_type": "markdown",
   "id": "2164df1e",
   "metadata": {},
   "source": [
    "## Plotly"
   ]
  },
  {
   "cell_type": "code",
   "execution_count": 7,
   "id": "7164aff7",
   "metadata": {},
   "outputs": [
    {
     "data": {
      "application/vnd.plotly.v1+json": {
       "config": {
        "plotlyServerURL": "https://plot.ly"
       },
       "data": [
        {
         "customdata": [
          [
           "Southampton",
           false,
           "man"
          ],
          [
           "Southampton",
           true,
           "man"
          ],
          [
           "Southampton",
           false,
           "child"
          ],
          [
           "Southampton",
           true,
           "man"
          ],
          [
           "Southampton",
           false,
           "man"
          ],
          [
           "Queenstown",
           false,
           "child"
          ],
          [
           "Southampton",
           true,
           "man"
          ],
          [
           "Southampton",
           false,
           "child"
          ],
          [
           "Southampton",
           true,
           "man"
          ],
          [
           "Cherbourg",
           true,
           "man"
          ],
          [
           "Southampton",
           false,
           "child"
          ],
          [
           "Cherbourg",
           true,
           "man"
          ],
          [
           "Southampton",
           false,
           "child"
          ],
          [
           "Southampton",
           true,
           "man"
          ],
          [
           "Southampton",
           false,
           "man"
          ],
          [
           "Cherbourg",
           false,
           "man"
          ],
          [
           "Southampton",
           true,
           "man"
          ],
          [
           "Southampton",
           true,
           "man"
          ],
          [
           "Southampton",
           true,
           "man"
          ],
          [
           "Southampton",
           true,
           "man"
          ],
          [
           "Southampton",
           false,
           "man"
          ],
          [
           "Southampton",
           true,
           "man"
          ],
          [
           "Southampton",
           true,
           "man"
          ],
          [
           "Southampton",
           true,
           "man"
          ],
          [
           "Southampton",
           false,
           "man"
          ],
          [
           "Southampton",
           true,
           "man"
          ],
          [
           "Southampton",
           true,
           "man"
          ],
          [
           "Southampton",
           false,
           "man"
          ],
          [
           "Southampton",
           true,
           "man"
          ],
          [
           "Southampton",
           true,
           "man"
          ],
          [
           "Southampton",
           true,
           "man"
          ],
          [
           "Southampton",
           true,
           "man"
          ],
          [
           "Queenstown",
           true,
           "man"
          ],
          [
           "Cherbourg",
           false,
           "child"
          ],
          [
           "Southampton",
           true,
           "man"
          ],
          [
           "Southampton",
           true,
           "man"
          ],
          [
           "Cherbourg",
           true,
           "man"
          ],
          [
           "Southampton",
           true,
           "man"
          ],
          [
           "Southampton",
           true,
           "man"
          ],
          [
           "Queenstown",
           true,
           "man"
          ],
          [
           "Southampton",
           true,
           "man"
          ],
          [
           "Southampton",
           true,
           "man"
          ],
          [
           "Southampton",
           false,
           "man"
          ],
          [
           "Southampton",
           true,
           "man"
          ],
          [
           "Southampton",
           false,
           "man"
          ],
          [
           "Southampton",
           true,
           "man"
          ],
          [
           "Southampton",
           true,
           "man"
          ],
          [
           "Southampton",
           false,
           "child"
          ],
          [
           "Southampton",
           false,
           "child"
          ],
          [
           "Southampton",
           true,
           "man"
          ],
          [
           "Queenstown",
           false,
           "child"
          ],
          [
           "Southampton",
           true,
           "man"
          ],
          [
           "Southampton",
           false,
           "man"
          ],
          [
           "Southampton",
           true,
           "man"
          ],
          [
           "Southampton",
           false,
           "child"
          ],
          [
           "Queenstown",
           false,
           "man"
          ],
          [
           "Southampton",
           true,
           "man"
          ],
          [
           "Southampton",
           false,
           "man"
          ],
          [
           "Southampton",
           true,
           "man"
          ],
          [
           "Southampton",
           true,
           "man"
          ],
          [
           "Cherbourg",
           true,
           "man"
          ],
          [
           "Southampton",
           true,
           "man"
          ],
          [
           "Southampton",
           false,
           "man"
          ],
          [
           "Cherbourg",
           true,
           "man"
          ],
          [
           "Southampton",
           true,
           "man"
          ],
          [
           "Southampton",
           true,
           "man"
          ],
          [
           "Southampton",
           true,
           "man"
          ],
          [
           "Southampton",
           true,
           "man"
          ],
          [
           "Southampton",
           true,
           "man"
          ],
          [
           "Southampton",
           true,
           "man"
          ],
          [
           "Southampton",
           true,
           "man"
          ],
          [
           "Southampton",
           true,
           "man"
          ],
          [
           "Cherbourg",
           true,
           "man"
          ],
          [
           "Southampton",
           false,
           "man"
          ],
          [
           "Southampton",
           false,
           "child"
          ],
          [
           "Southampton",
           false,
           "man"
          ],
          [
           "Southampton",
           false,
           "man"
          ],
          [
           "Southampton",
           true,
           "man"
          ],
          [
           "Queenstown",
           false,
           "child"
          ],
          [
           "Queenstown",
           true,
           "man"
          ],
          [
           "Southampton",
           true,
           "man"
          ],
          [
           "Southampton",
           true,
           "man"
          ],
          [
           "Southampton",
           true,
           "man"
          ],
          [
           "Cherbourg",
           true,
           "man"
          ],
          [
           "Southampton",
           true,
           "man"
          ],
          [
           "Southampton",
           true,
           "man"
          ],
          [
           "Southampton",
           true,
           "man"
          ],
          [
           "Cherbourg",
           true,
           "man"
          ],
          [
           "Southampton",
           true,
           "man"
          ],
          [
           "Southampton",
           true,
           "man"
          ],
          [
           "Southampton",
           true,
           "man"
          ],
          [
           "Southampton",
           true,
           "man"
          ],
          [
           "Southampton",
           true,
           "man"
          ],
          [
           "Southampton",
           false,
           "man"
          ],
          [
           "Southampton",
           true,
           "man"
          ],
          [
           "Southampton",
           false,
           "child"
          ],
          [
           "Southampton",
           true,
           "man"
          ],
          [
           "Southampton",
           true,
           "man"
          ],
          [
           "Cherbourg",
           false,
           "child"
          ],
          [
           "Southampton",
           false,
           "man"
          ],
          [
           "Southampton",
           true,
           "man"
          ],
          [
           "Southampton",
           false,
           "man"
          ],
          [
           "Southampton",
           true,
           "man"
          ],
          [
           "Southampton",
           true,
           "man"
          ],
          [
           "Southampton",
           false,
           "man"
          ],
          [
           "Southampton",
           true,
           "man"
          ],
          [
           "Cherbourg",
           true,
           "man"
          ],
          [
           "Southampton",
           true,
           "man"
          ],
          [
           "Southampton",
           true,
           "man"
          ],
          [
           "Southampton",
           false,
           "child"
          ],
          [
           "Southampton",
           true,
           "man"
          ],
          [
           "Southampton",
           false,
           "man"
          ],
          [
           "Southampton",
           true,
           "man"
          ],
          [
           "Southampton",
           true,
           "man"
          ],
          [
           "Southampton",
           true,
           "man"
          ],
          [
           "Southampton",
           false,
           "man"
          ],
          [
           "Southampton",
           true,
           "man"
          ],
          [
           "Southampton",
           true,
           "man"
          ],
          [
           "Southampton",
           true,
           "man"
          ],
          [
           "Queenstown",
           true,
           "man"
          ],
          [
           "Southampton",
           true,
           "man"
          ],
          [
           "Southampton",
           false,
           "man"
          ],
          [
           "Southampton",
           true,
           "man"
          ],
          [
           "Southampton",
           true,
           "man"
          ],
          [
           "Southampton",
           true,
           "man"
          ],
          [
           "Southampton",
           false,
           "man"
          ],
          [
           "Cherbourg",
           true,
           "man"
          ],
          [
           "Southampton",
           true,
           "man"
          ],
          [
           "Southampton",
           true,
           "man"
          ],
          [
           "Southampton",
           true,
           "man"
          ],
          [
           "Southampton",
           false,
           "man"
          ],
          [
           "Southampton",
           true,
           "man"
          ],
          [
           "Southampton",
           false,
           "child"
          ],
          [
           "Southampton",
           true,
           "man"
          ],
          [
           "Southampton",
           true,
           "man"
          ],
          [
           "Southampton",
           false,
           "child"
          ],
          [
           "Southampton",
           true,
           "man"
          ],
          [
           "Southampton",
           true,
           "man"
          ],
          [
           "Southampton",
           true,
           "man"
          ],
          [
           "Southampton",
           true,
           "man"
          ],
          [
           "Southampton",
           true,
           "man"
          ],
          [
           "Southampton",
           true,
           "man"
          ],
          [
           "Queenstown",
           true,
           "man"
          ],
          [
           "Southampton",
           true,
           "man"
          ],
          [
           "Southampton",
           true,
           "man"
          ],
          [
           "Southampton",
           true,
           "man"
          ],
          [
           "Queenstown",
           true,
           "man"
          ],
          [
           "Southampton",
           true,
           "man"
          ],
          [
           "Cherbourg",
           false,
           "man"
          ],
          [
           "Southampton",
           false,
           "man"
          ],
          [
           "Cherbourg",
           true,
           "man"
          ],
          [
           "Southampton",
           true,
           "man"
          ],
          [
           "Southampton",
           false,
           "man"
          ],
          [
           "Southampton",
           true,
           "man"
          ],
          [
           "Southampton",
           true,
           "man"
          ],
          [
           "Southampton",
           true,
           "man"
          ],
          [
           "Southampton",
           true,
           "man"
          ],
          [
           "Southampton",
           true,
           "man"
          ],
          [
           "Southampton",
           true,
           "man"
          ],
          [
           "Southampton",
           true,
           "man"
          ],
          [
           "Southampton",
           true,
           "man"
          ],
          [
           "Southampton",
           false,
           "man"
          ],
          [
           "Southampton",
           true,
           "man"
          ],
          [
           "Southampton",
           true,
           "man"
          ],
          [
           "Southampton",
           false,
           "man"
          ],
          [
           "Southampton",
           true,
           "man"
          ],
          [
           "Southampton",
           true,
           "man"
          ],
          [
           "Southampton",
           false,
           "man"
          ],
          [
           "Cherbourg",
           false,
           "man"
          ],
          [
           "Cherbourg",
           false,
           "man"
          ],
          [
           "Southampton",
           true,
           "man"
          ],
          [
           "Southampton",
           true,
           "man"
          ],
          [
           "Southampton",
           true,
           "man"
          ],
          [
           "Southampton",
           true,
           "man"
          ],
          [
           "Southampton",
           true,
           "man"
          ],
          [
           "Southampton",
           true,
           "man"
          ],
          [
           "Southampton",
           true,
           "man"
          ],
          [
           "Southampton",
           true,
           "man"
          ],
          [
           "Cherbourg",
           true,
           "man"
          ],
          [
           "Southampton",
           true,
           "man"
          ],
          [
           "Southampton",
           false,
           "man"
          ],
          [
           "Southampton",
           true,
           "man"
          ],
          [
           "Southampton",
           true,
           "man"
          ],
          [
           "Southampton",
           true,
           "man"
          ],
          [
           "Southampton",
           true,
           "man"
          ],
          [
           "Southampton",
           false,
           "child"
          ],
          [
           "Southampton",
           false,
           "child"
          ],
          [
           "Southampton",
           true,
           "man"
          ],
          [
           "Southampton",
           true,
           "man"
          ],
          [
           "Cherbourg",
           true,
           "man"
          ],
          [
           "Southampton",
           true,
           "man"
          ],
          [
           "Southampton",
           true,
           "man"
          ],
          [
           "Queenstown",
           true,
           "man"
          ],
          [
           "Southampton",
           false,
           "man"
          ],
          [
           "Southampton",
           true,
           "man"
          ],
          [
           "Southampton",
           true,
           "man"
          ],
          [
           "Southampton",
           true,
           "man"
          ],
          [
           "Southampton",
           false,
           "man"
          ],
          [
           "Southampton",
           true,
           "man"
          ],
          [
           "Cherbourg",
           true,
           "child"
          ],
          [
           "Southampton",
           true,
           "man"
          ],
          [
           "Southampton",
           false,
           "man"
          ],
          [
           "Southampton",
           true,
           "man"
          ],
          [
           "Southampton",
           false,
           "man"
          ],
          [
           "Queenstown",
           true,
           "man"
          ],
          [
           "Southampton",
           false,
           "child"
          ],
          [
           "Southampton",
           true,
           "man"
          ],
          [
           "Southampton",
           true,
           "man"
          ],
          [
           "Southampton",
           true,
           "man"
          ],
          [
           "Southampton",
           true,
           "man"
          ],
          [
           "Southampton",
           true,
           "man"
          ],
          [
           "Cherbourg",
           true,
           "man"
          ],
          [
           "Southampton",
           true,
           "man"
          ],
          [
           "Southampton",
           true,
           "man"
          ],
          [
           "Southampton",
           true,
           "man"
          ],
          [
           "Southampton",
           true,
           "man"
          ],
          [
           "Southampton",
           true,
           "man"
          ],
          [
           "Southampton",
           true,
           "man"
          ],
          [
           "Southampton",
           true,
           "man"
          ],
          [
           "Queenstown",
           false,
           "child"
          ],
          [
           "Southampton",
           false,
           "child"
          ],
          [
           "Southampton",
           true,
           "man"
          ],
          [
           "Cherbourg",
           true,
           "man"
          ],
          [
           "Cherbourg",
           false,
           "child"
          ],
          [
           "Southampton",
           true,
           "man"
          ],
          [
           "Southampton",
           true,
           "man"
          ],
          [
           "Southampton",
           true,
           "man"
          ],
          [
           "Southampton",
           true,
           "man"
          ],
          [
           "Southampton",
           true,
           "man"
          ],
          [
           "Southampton",
           true,
           "man"
          ],
          [
           "Southampton",
           false,
           "child"
          ],
          [
           "Southampton",
           true,
           "man"
          ],
          [
           "Southampton",
           false,
           "child"
          ],
          [
           "Southampton",
           true,
           "man"
          ],
          [
           "Southampton",
           true,
           "man"
          ],
          [
           "Southampton",
           true,
           "man"
          ],
          [
           "Southampton",
           true,
           "man"
          ],
          [
           "Southampton",
           true,
           "man"
          ],
          [
           "Cherbourg",
           true,
           "man"
          ],
          [
           "Southampton",
           true,
           "man"
          ],
          [
           "Southampton",
           true,
           "man"
          ],
          [
           "Cherbourg",
           true,
           "man"
          ],
          [
           "Southampton",
           false,
           "child"
          ],
          [
           "Southampton",
           true,
           "man"
          ],
          [
           "Southampton",
           false,
           "man"
          ],
          [
           "Southampton",
           false,
           "child"
          ],
          [
           "Southampton",
           true,
           "man"
          ],
          [
           "Southampton",
           true,
           "man"
          ],
          [
           "Southampton",
           true,
           "man"
          ],
          [
           "Southampton",
           true,
           "man"
          ],
          [
           "Southampton",
           true,
           "man"
          ],
          [
           "Southampton",
           true,
           "man"
          ],
          [
           "Queenstown",
           true,
           "man"
          ]
         ],
         "hovertemplate": "class=Third<br>sex=male<br>age=%{x}<br>fare=%{y}<br>embark_town=%{customdata[0]}<br>alone=%{customdata[1]}<br>who=%{customdata[2]}<extra></extra>",
         "legendgroup": "Third, male",
         "marker": {
          "color": "#636efa",
          "symbol": "circle"
         },
         "mode": "markers",
         "name": "Third, male",
         "orientation": "v",
         "showlegend": true,
         "type": "scatter",
         "x": {
          "bdata": "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",
          "dtype": "f8"
         },
         "xaxis": "x",
         "y": {
          "bdata": "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",
          "dtype": "f8"
         },
         "yaxis": "y"
        },
        {
         "customdata": [
          [
           "Southampton",
           true,
           "woman"
          ],
          [
           "Southampton",
           false,
           "woman"
          ],
          [
           "Southampton",
           false,
           "child"
          ],
          [
           "Southampton",
           true,
           "child"
          ],
          [
           "Southampton",
           false,
           "woman"
          ],
          [
           "Queenstown",
           true,
           "child"
          ],
          [
           "Southampton",
           false,
           "child"
          ],
          [
           "Southampton",
           false,
           "woman"
          ],
          [
           "Southampton",
           false,
           "woman"
          ],
          [
           "Cherbourg",
           false,
           "child"
          ],
          [
           "Southampton",
           false,
           "woman"
          ],
          [
           "Queenstown",
           true,
           "woman"
          ],
          [
           "Southampton",
           false,
           "woman"
          ],
          [
           "Southampton",
           false,
           "woman"
          ],
          [
           "Southampton",
           false,
           "woman"
          ],
          [
           "Southampton",
           true,
           "woman"
          ],
          [
           "Southampton",
           false,
           "woman"
          ],
          [
           "Southampton",
           true,
           "woman"
          ],
          [
           "Southampton",
           true,
           "woman"
          ],
          [
           "Cherbourg",
           false,
           "child"
          ],
          [
           "Southampton",
           false,
           "woman"
          ],
          [
           "Cherbourg",
           true,
           "woman"
          ],
          [
           "Southampton",
           false,
           "child"
          ],
          [
           "Southampton",
           false,
           "woman"
          ],
          [
           "Southampton",
           true,
           "woman"
          ],
          [
           "Southampton",
           false,
           "woman"
          ],
          [
           "Southampton",
           false,
           "child"
          ],
          [
           "Queenstown",
           true,
           "woman"
          ],
          [
           "Southampton",
           false,
           "woman"
          ],
          [
           "Southampton",
           false,
           "child"
          ],
          [
           "Southampton",
           false,
           "child"
          ],
          [
           "Southampton",
           false,
           "woman"
          ],
          [
           "Southampton",
           false,
           "child"
          ],
          [
           "Queenstown",
           true,
           "woman"
          ],
          [
           "Southampton",
           true,
           "woman"
          ],
          [
           "Southampton",
           false,
           "child"
          ],
          [
           "Southampton",
           true,
           "woman"
          ],
          [
           "Southampton",
           false,
           "woman"
          ],
          [
           "Southampton",
           false,
           "woman"
          ],
          [
           "Cherbourg",
           false,
           "woman"
          ],
          [
           "Southampton",
           true,
           "woman"
          ],
          [
           "Southampton",
           false,
           "woman"
          ],
          [
           "Queenstown",
           true,
           "woman"
          ],
          [
           "Southampton",
           true,
           "woman"
          ],
          [
           "Southampton",
           true,
           "woman"
          ],
          [
           "Southampton",
           false,
           "woman"
          ],
          [
           "Cherbourg",
           false,
           "woman"
          ],
          [
           "Southampton",
           false,
           "child"
          ],
          [
           "Southampton",
           true,
           "woman"
          ],
          [
           "Cherbourg",
           false,
           "child"
          ],
          [
           "Southampton",
           false,
           "woman"
          ],
          [
           "Southampton",
           true,
           "woman"
          ],
          [
           "Southampton",
           false,
           "woman"
          ],
          [
           "Southampton",
           true,
           "woman"
          ],
          [
           "Southampton",
           false,
           "child"
          ],
          [
           "Southampton",
           false,
           "woman"
          ],
          [
           "Southampton",
           false,
           "woman"
          ],
          [
           "Cherbourg",
           false,
           "child"
          ],
          [
           "Cherbourg",
           false,
           "child"
          ],
          [
           "Southampton",
           true,
           "woman"
          ],
          [
           "Southampton",
           false,
           "child"
          ],
          [
           "Southampton",
           true,
           "woman"
          ],
          [
           "Queenstown",
           true,
           "woman"
          ],
          [
           "Southampton",
           true,
           "woman"
          ],
          [
           "Southampton",
           true,
           "woman"
          ],
          [
           "Southampton",
           false,
           "child"
          ],
          [
           "Southampton",
           false,
           "child"
          ],
          [
           "Southampton",
           true,
           "woman"
          ],
          [
           "Southampton",
           false,
           "woman"
          ],
          [
           "Southampton",
           false,
           "woman"
          ],
          [
           "Southampton",
           false,
           "woman"
          ],
          [
           "Southampton",
           false,
           "woman"
          ],
          [
           "Southampton",
           false,
           "child"
          ],
          [
           "Southampton",
           false,
           "woman"
          ],
          [
           "Southampton",
           false,
           "child"
          ],
          [
           "Cherbourg",
           false,
           "child"
          ],
          [
           "Southampton",
           true,
           "woman"
          ],
          [
           "Queenstown",
           true,
           "woman"
          ],
          [
           "Queenstown",
           false,
           "woman"
          ],
          [
           "Southampton",
           true,
           "woman"
          ],
          [
           "Southampton",
           false,
           "woman"
          ],
          [
           "Cherbourg",
           false,
           "child"
          ],
          [
           "Cherbourg",
           false,
           "woman"
          ],
          [
           "Southampton",
           false,
           "woman"
          ],
          [
           "Southampton",
           false,
           "woman"
          ],
          [
           "Queenstown",
           true,
           "woman"
          ],
          [
           "Southampton",
           true,
           "child"
          ],
          [
           "Cherbourg",
           true,
           "child"
          ],
          [
           "Southampton",
           true,
           "woman"
          ],
          [
           "Southampton",
           true,
           "woman"
          ],
          [
           "Southampton",
           false,
           "woman"
          ],
          [
           "Southampton",
           true,
           "woman"
          ],
          [
           "Southampton",
           false,
           "child"
          ],
          [
           "Southampton",
           true,
           "woman"
          ],
          [
           "Southampton",
           false,
           "woman"
          ],
          [
           "Cherbourg",
           false,
           "child"
          ],
          [
           "Cherbourg",
           false,
           "child"
          ],
          [
           "Southampton",
           false,
           "woman"
          ],
          [
           "Cherbourg",
           false,
           "woman"
          ],
          [
           "Cherbourg",
           true,
           "child"
          ],
          [
           "Southampton",
           true,
           "woman"
          ],
          [
           "Queenstown",
           false,
           "woman"
          ]
         ],
         "hovertemplate": "class=Third<br>sex=female<br>age=%{x}<br>fare=%{y}<br>embark_town=%{customdata[0]}<br>alone=%{customdata[1]}<br>who=%{customdata[2]}<extra></extra>",
         "legendgroup": "Third, female",
         "marker": {
          "color": "#636efa",
          "symbol": "diamond"
         },
         "mode": "markers",
         "name": "Third, female",
         "orientation": "v",
         "showlegend": true,
         "type": "scatter",
         "x": {
          "bdata": "AAAAAAAAOkAAAAAAAAA7QAAAAAAAABBAAAAAAAAALEAAAAAAAAA/QAAAAAAAAC5AAAAAAAAAIEAAAAAAAABDQAAAAAAAADJAAAAAAAAALEAAAAAAAABEQAAAAAAAADNAAAAAAAAAMkAAAAAAAAAxQAAAAAAAADBAAAAAAAAAPkAAAAAAAIBAQAAAAAAAADxAAAAAAAAANUAAAAAAAAAtQAAAAAAAADRAAAAAAAAAMUAAAAAAAAAAQAAAAAAAgEdAAAAAAAAANkAAAAAAAAA4QAAAAAAAACJAAAAAAAAAMEAAAAAAAIBGQAAAAAAAAPA/AAAAAAAAEEAAAAAAAAAzQAAAAAAAAABAAAAAAAAAMEAAAAAAAAA7QAAAAAAAABRAAAAAAAAAOUAAAAAAAAA9QAAAAAAAgERAAAAAAAAAPUAAAAAAAIBGQAAAAAAAgEFAAAAAAAAANkAAAAAAAAA4QAAAAAAAADpAAAAAAAAAP0AAAAAAAIBGQAAAAAAAAAhAAAAAAAAANkAAAAAAAADwPwAAAAAAADhAAAAAAAAAP0AAAAAAAAA1QAAAAAAAADRAAAAAAAAAJEAAAAAAAAA8QAAAAAAAADVAAAAAAAAAFEAAAAAAAADoPwAAAAAAADZAAAAAAAAAAEAAAAAAAIBPQAAAAAAAADVAAAAAAACAQkAAAAAAAAA+QAAAAAAAACJAAAAAAAAAJkAAAAAAAAA2QAAAAAAAAEJAAAAAAAAAPUAAAAAAAIBDQAAAAAAAADpAAAAAAAAAIkAAAAAAAIBEQAAAAAAAAABAAAAAAAAA6D8AAAAAAAA3QAAAAAAAADJAAAAAAAAAQEAAAAAAAAAyQAAAAAAAgEVAAAAAAAAAEEAAAAAAAAAyQAAAAAAAADlAAAAAAAAASEAAAAAAAIA+QAAAAAAAABRAAAAAAAAAKkAAAAAAAAAyQAAAAAAAAD9AAAAAAAAAPkAAAAAAAAAyQAAAAAAAABhAAAAAAAAAN0AAAAAAAAA7QAAAAAAAAC5AAAAAAAAAIkAAAAAAAAAyQAAAAAAAADhAAAAAAAAALkAAAAAAAAA2QAAAAAAAgENA",
          "dtype": "f8"
         },
         "xaxis": "x",
         "y": {
          "bdata": "MzMzMzOzH0AVHcnlP0QmQDMzMzMzszBACfmgZ7NqH0AAAAAAAAAyQB4Wak3zDiBAMzMzMzMTNUAzMzMzM2M/QAAAAAAAADJA6+I2GsB7JkAzMzMzM/MiQKOSOgFNhB9AzczMzMzMMUAzMzMzM7MfQDMzMzMzc0dAMzMzMzPzKEAzMzMzM7MvQPcGX5hMlR9AmpmZmZmZHkC4rwPnjOgsQGZmZmZmpiNAe4MvTKbqLEBmZmZmZkY/QAAAAAAAAC1AAAAAAAAAH0AzMzMzM7MvQAAAAAAAMEFAkKD4MebuHkBmZmZmZuY7QBUdyeU/RCZAZmZmZmYGNkAJ+aBns2ofQM3MzMzM7CRAAAAAAAAAH0AzMzMzM7MfQDMzMzMzYz9AmpmZmZkZH0DNzMzMzOwkQGZmZmZmNjRArrZif9l9LkAAAAAAAAAfQAAAAAAAQDRAAAAAAAAAH0AzMzMzM7MhQAn5oGezah9AZmZmZmaGNEC4rwPnjOgsQDMzMzMzEzVAAAAAAAAAHUDr4jYawHsvQDMzMzMzszBACfmgZ7NqH0BmZmZmZqYjQDMzMzMzUyFAZmZmZmYmOEDNzMzMzMwsQAAAAAAAMEFAio7k8h9CM0CKjuTyH0IzQM3MzMzMrCNAMzMzMzOTKEDNzMzMzCwjQAAAAAAAAB9AzczMzMwsI0AzMzMzM1MhQGZmZmZmRj9AZmZmZmZGP0CamZmZmRkfQGZmZmZmZjFAMzMzMzMTNUBmZmZmZkY/QJqZmZmZGTBAZmZmZmbmO0AAAAAAANhDQGZmZmZm5jtAio7k8h9CM0AzMzMzMzMeQAAAAAAAABtAAAAAAAAAL0AeFmpN864jQDMzMzMzc0dAhXzQs1nVKkC4rwPnjOgsQDMzMzMzsx9AAAAAAAAwQUAAAAAAAAAfQDMzMzMz8yhACfmgZ7PqHEBdbcX+svsdQK62Yn/ZXSFAZmZmZmYmOECamZmZmRkfQGZmZmZmRj9AMzMzMzOzH0AzMzMzM/MoQLivA+eM6CxArrZif9l9LkAzMzMzM7MiQIqO5PIfQjNAZmZmZmbmHEC4rwPnjAglQAAAAAAAID1A",
          "dtype": "f8"
         },
         "yaxis": "y"
        },
        {
         "customdata": [
          [
           "Southampton",
           true,
           "man"
          ],
          [
           "Southampton",
           true,
           "man"
          ],
          [
           "Southampton",
           false,
           "man"
          ],
          [
           "Cherbourg",
           true,
           "man"
          ],
          [
           "Cherbourg",
           false,
           "man"
          ],
          [
           "Southampton",
           false,
           "man"
          ],
          [
           "Cherbourg",
           false,
           "man"
          ],
          [
           "Southampton",
           false,
           "man"
          ],
          [
           "Southampton",
           true,
           "man"
          ],
          [
           "Southampton",
           false,
           "man"
          ],
          [
           "Cherbourg",
           true,
           "man"
          ],
          [
           "Cherbourg",
           false,
           "man"
          ],
          [
           "Southampton",
           false,
           "man"
          ],
          [
           "Southampton",
           true,
           "man"
          ],
          [
           "Cherbourg",
           false,
           "man"
          ],
          [
           "Southampton",
           false,
           "man"
          ],
          [
           "Southampton",
           false,
           "man"
          ],
          [
           "Cherbourg",
           true,
           "man"
          ],
          [
           "Cherbourg",
           false,
           "man"
          ],
          [
           "Southampton",
           true,
           "man"
          ],
          [
           "Cherbourg",
           true,
           "man"
          ],
          [
           "Southampton",
           true,
           "man"
          ],
          [
           "Cherbourg",
           true,
           "man"
          ],
          [
           "Southampton",
           false,
           "man"
          ],
          [
           "Queenstown",
           false,
           "man"
          ],
          [
           "Southampton",
           false,
           "man"
          ],
          [
           "Southampton",
           true,
           "man"
          ],
          [
           "Southampton",
           false,
           "man"
          ],
          [
           "Southampton",
           true,
           "man"
          ],
          [
           "Cherbourg",
           false,
           "man"
          ],
          [
           "Southampton",
           false,
           "child"
          ],
          [
           "Southampton",
           true,
           "man"
          ],
          [
           "Southampton",
           false,
           "man"
          ],
          [
           "Southampton",
           false,
           "man"
          ],
          [
           "Southampton",
           true,
           "man"
          ],
          [
           "Cherbourg",
           false,
           "man"
          ],
          [
           "Cherbourg",
           true,
           "man"
          ],
          [
           "Cherbourg",
           false,
           "man"
          ],
          [
           "Southampton",
           false,
           "man"
          ],
          [
           "Southampton",
           true,
           "man"
          ],
          [
           "Southampton",
           false,
           "man"
          ],
          [
           "Southampton",
           false,
           "man"
          ],
          [
           "Southampton",
           false,
           "child"
          ],
          [
           "Southampton",
           true,
           "man"
          ],
          [
           "Southampton",
           true,
           "man"
          ],
          [
           "Cherbourg",
           true,
           "man"
          ],
          [
           "Cherbourg",
           false,
           "man"
          ],
          [
           "Southampton",
           true,
           "man"
          ],
          [
           "Southampton",
           true,
           "man"
          ],
          [
           "Southampton",
           true,
           "man"
          ],
          [
           "Southampton",
           true,
           "man"
          ],
          [
           "Cherbourg",
           false,
           "man"
          ],
          [
           "Cherbourg",
           true,
           "man"
          ],
          [
           "Southampton",
           true,
           "man"
          ],
          [
           "Cherbourg",
           true,
           "man"
          ],
          [
           "Cherbourg",
           false,
           "man"
          ],
          [
           "Southampton",
           true,
           "man"
          ],
          [
           "Southampton",
           true,
           "man"
          ],
          [
           "Southampton",
           true,
           "man"
          ],
          [
           "Cherbourg",
           false,
           "man"
          ],
          [
           "Southampton",
           true,
           "man"
          ],
          [
           "Cherbourg",
           false,
           "man"
          ],
          [
           "Southampton",
           true,
           "man"
          ],
          [
           "Southampton",
           true,
           "man"
          ],
          [
           "Cherbourg",
           true,
           "man"
          ],
          [
           "Cherbourg",
           false,
           "man"
          ],
          [
           "Cherbourg",
           false,
           "man"
          ],
          [
           "Cherbourg",
           true,
           "man"
          ],
          [
           "Southampton",
           true,
           "man"
          ],
          [
           "Southampton",
           false,
           "man"
          ],
          [
           "Southampton",
           true,
           "man"
          ],
          [
           "Southampton",
           true,
           "man"
          ],
          [
           "Cherbourg",
           true,
           "man"
          ],
          [
           "Cherbourg",
           false,
           "man"
          ],
          [
           "Cherbourg",
           true,
           "man"
          ],
          [
           "Cherbourg",
           false,
           "man"
          ],
          [
           "Southampton",
           false,
           "man"
          ],
          [
           "Southampton",
           true,
           "man"
          ],
          [
           "Southampton",
           false,
           "man"
          ],
          [
           "Cherbourg",
           false,
           "man"
          ],
          [
           "Cherbourg",
           true,
           "man"
          ],
          [
           "Southampton",
           false,
           "man"
          ],
          [
           "Southampton",
           true,
           "man"
          ],
          [
           "Cherbourg",
           false,
           "man"
          ],
          [
           "Southampton",
           true,
           "man"
          ],
          [
           "Southampton",
           true,
           "man"
          ],
          [
           "Southampton",
           false,
           "man"
          ],
          [
           "Southampton",
           false,
           "man"
          ],
          [
           "Cherbourg",
           true,
           "man"
          ],
          [
           "Southampton",
           false,
           "man"
          ],
          [
           "Southampton",
           false,
           "man"
          ],
          [
           "Southampton",
           false,
           "man"
          ],
          [
           "Southampton",
           true,
           "man"
          ],
          [
           "Cherbourg",
           true,
           "man"
          ],
          [
           "Southampton",
           false,
           "child"
          ],
          [
           "Southampton",
           true,
           "man"
          ],
          [
           "Southampton",
           true,
           "man"
          ],
          [
           "Southampton",
           true,
           "man"
          ],
          [
           "Southampton",
           true,
           "man"
          ],
          [
           "Southampton",
           true,
           "man"
          ],
          [
           "Cherbourg",
           true,
           "man"
          ]
         ],
         "hovertemplate": "class=First<br>sex=male<br>age=%{x}<br>fare=%{y}<br>embark_town=%{customdata[0]}<br>alone=%{customdata[1]}<br>who=%{customdata[2]}<extra></extra>",
         "legendgroup": "First, male",
         "marker": {
          "color": "#EF553B",
          "symbol": "circle"
         },
         "mode": "markers",
         "name": "First, male",
         "orientation": "v",
         "showlegend": true,
         "type": "scatter",
         "x": {
          "bdata": "AAAAAAAAS0AAAAAAAAA8QAAAAAAAADNAAAAAAAAAREAAAAAAAAA8QAAAAAAAAEVAAAAAAABAUEAAAAAAAIBGQAAAAAAAADxAAAAAAAAAR0AAAAAAAMBRQAAAAAAAADdAAAAAAAAANUAAAAAAAIBHQAAAAAAAADhAAAAAAAAAS0AAAAAAAIBCQAAAAAAAADhAAAAAAACASUAAAAAAAIBOQAAAAAAAAExAAAAAAACARkAAAAAAAABEQAAAAAAAAENAAAAAAAAARkAAAAAAAIBCQAAAAAAAAE9AAAAAAAAASkAAAAAAAABEQAAAAAAAgEJAcT0K16Nw7T8AAAAAAMBGQAAAAAAAAENAAAAAAAAAPUAAAAAAAIBGQAAAAAAAADlAAAAAAAAANkAAAAAAAAA7QAAAAAAAAEJAAAAAAAAAPEAAAAAAAABJQAAAAAAAAFBAAAAAAAAAEEAAAAAAAABBQAAAAAAAAEpAAAAAAAAAPkAAAAAAAIBIQAAAAAAAQFBAAAAAAAAASEAAAAAAAIBHQAAAAAAAAExAAAAAAAAAOUAAAAAAAABNQAAAAAAAgEtAAAAAAADAUUAAAAAAAAAyQAAAAAAAAEJAAAAAAACAR0AAAAAAAIBGQAAAAAAAAElAAAAAAAAAUEAAAAAAAAAxQAAAAAAAAE9AAAAAAAAAQkAAAAAAAABCQAAAAAAAAE5AAAAAAACASEAAAAAAAIBBQAAAAAAAADtAAAAAAAAARUAAAAAAAIBOQAAAAAAAAFRAAAAAAAAAQEAAAAAAAABIQAAAAAAAAExAAAAAAAAATUAAAAAAAABJQAAAAAAAgEdAAAAAAAAAP0AAAAAAAABCQAAAAAAAADtAAAAAAAAAP0AAAAAAAABOQAAAAAAAgEhAAAAAAACAQUAAAAAAAABFQAAAAAAAAEhAAAAAAAAAO0AAAAAAAIBBQAAAAAAAAEJAAAAAAACAUUAAAAAAAAAzQAAAAAAAAD1AAAAAAAAAR0AAAAAAAAAmQAAAAAAAgENAAAAAAAAAQ0AAAAAAAIBJQAAAAAAAAD9AAAAAAACAQEAAAAAAAAA6QA==",
          "dtype": "f8"
         },
         "xaxis": "x",
         "y": {
          "bdata": "ZmZmZmbuSUAAAAAAAMBBQAAAAAAAcHBA8fRKWYa4O0AJih9j7opUQAAAAAAAAEpAIR/0bFb9TkBmZmZmZt5UQM3MzMzMjEdAZmZmZmaWTkCIhVrTvFNBQBIUP8bcrU9AZmZmZmZSU0AAAAAAAABKQDj4wmSq8G5AZmZmZmZSU0DNzMzMzIxKQM3MzMzMzFNAVFInoImwTkAAAAAAAMBAQIqO5PIfsj5AzczMzMyMOkAAAAAAAAA/QAAAAAAAgFZAAAAAAACAVkC7uI0G8EZKQM3MzMzMjDpAmpmZmZnpU0AAAAAAAAAAADMzMzMzsz1AmpmZmZnxYkAAAAAAAIA8QM3MzMzMLmNAZmZmZmamUEAAAAAAAMBBQFRSJ6CJuEtA0ZFc/kP0YEAAAAAAAHBqQAAAAAAAAF5AzczMzMyMOkAzMzMzM/NLQAAAAAAAcHBACYofY+52VEDNzMzMzIw6QAAAAAAAgD5AAAAAAADAO0CRD3o2q0ZWQM3MzMzMjDpAzczMzMyMOkAAAAAAAEBDQM3MzMzMjDpA93XgnBHFVkAzMzMzM7M9QAAAAAAAgD5AVFInoInASECamZmZmTlbQJqZmZmZSTpA3+ALk6kCQUDNzMzMzIw6QDMzMzMzm1pAAAAAAAAAOkCjI7n8h7hbQM3MzMzMjDpAMzMzMzNjOkAAAAAAABBEQM3MzMzMzFNAu7iNBvB2TEDNzMzMzIw6QAAAAAAAgD5Au7iNBvBGSkBFR3L5DylAQAAAAAAAAD5AAAAAAACAPkCRD3o2qy5TQAAAAAAAwEFAmpmZmZlRXEDNzMzMzLRgQGZmZmZmljlAAAAAAAAASkC/DpwzogKAQJEPejarLlNAAAAAAACATEDNzMzMzIw6QKMjufyHuFtAmpmZmZlJOkCamZmZmUk6QAAAAAAAAEpAzczMzMyMSkC/DpwzogKAQGZmZmZmtlNAAAAAAADAUUDNzMzMzIxKQAAAAAAAAD5AzczMzMzMU0AAAAAAAABeQAAAAAAAAAAAAAAAAAAAAADNzMzMzIw6QKyt2F92P0lAAAAAAAAAFEAAAAAAAAA+QA==",
          "dtype": "f8"
         },
         "yaxis": "y"
        },
        {
         "customdata": [
          [
           "Cherbourg",
           false,
           "woman"
          ],
          [
           "Southampton",
           false,
           "woman"
          ],
          [
           "Southampton",
           true,
           "woman"
          ],
          [
           "Cherbourg",
           false,
           "woman"
          ],
          [
           "Southampton",
           false,
           "woman"
          ],
          [
           "Southampton",
           false,
           "woman"
          ],
          [
           "Southampton",
           false,
           "woman"
          ],
          [
           "Cherbourg",
           true,
           "woman"
          ],
          [
           "Cherbourg",
           true,
           "woman"
          ],
          [
           "Cherbourg",
           true,
           "woman"
          ],
          [
           "Cherbourg",
           false,
           "woman"
          ],
          [
           "Cherbourg",
           true,
           "woman"
          ],
          [
           "Southampton",
           false,
           "woman"
          ],
          [
           "Southampton",
           true,
           "woman"
          ],
          [
           "Cherbourg",
           true,
           "woman"
          ],
          [
           "Southampton",
           false,
           "woman"
          ],
          [
           "Southampton",
           true,
           "woman"
          ],
          [
           "Southampton",
           false,
           "woman"
          ],
          [
           "Southampton",
           true,
           "woman"
          ],
          [
           "Cherbourg",
           false,
           "woman"
          ],
          [
           "Southampton",
           false,
           "child"
          ],
          [
           "Cherbourg",
           false,
           "woman"
          ],
          [
           "Cherbourg",
           false,
           "woman"
          ],
          [
           "Cherbourg",
           true,
           "woman"
          ],
          [
           "Cherbourg",
           true,
           "woman"
          ],
          [
           "Cherbourg",
           false,
           "woman"
          ],
          [
           "Southampton",
           false,
           "woman"
          ],
          [
           "Cherbourg",
           false,
           "woman"
          ],
          [
           "Cherbourg",
           true,
           "woman"
          ],
          [
           "Cherbourg",
           false,
           "woman"
          ],
          [
           "Cherbourg",
           true,
           "woman"
          ],
          [
           "Southampton",
           false,
           "woman"
          ],
          [
           "Southampton",
           false,
           "woman"
          ],
          [
           "Cherbourg",
           false,
           "woman"
          ],
          [
           "Cherbourg",
           true,
           "woman"
          ],
          [
           "Cherbourg",
           true,
           "woman"
          ],
          [
           "Southampton",
           false,
           "woman"
          ],
          [
           "Cherbourg",
           false,
           "woman"
          ],
          [
           "Queenstown",
           false,
           "woman"
          ],
          [
           "Southampton",
           false,
           "child"
          ],
          [
           "Southampton",
           false,
           "woman"
          ],
          [
           "Cherbourg",
           false,
           "woman"
          ],
          [
           "Southampton",
           false,
           "woman"
          ],
          [
           "Southampton",
           true,
           "woman"
          ],
          [
           "Cherbourg",
           false,
           "woman"
          ],
          [
           "Southampton",
           true,
           "woman"
          ],
          [
           "Cherbourg",
           false,
           "woman"
          ],
          [
           "Cherbourg",
           true,
           "woman"
          ],
          [
           "Cherbourg",
           false,
           "woman"
          ],
          [
           "Southampton",
           false,
           "woman"
          ],
          [
           "Cherbourg",
           false,
           "woman"
          ],
          [
           "Southampton",
           false,
           "woman"
          ],
          [
           "Southampton",
           false,
           "woman"
          ],
          [
           "Southampton",
           false,
           "woman"
          ],
          [
           "Cherbourg",
           false,
           "woman"
          ],
          [
           "Southampton",
           false,
           "woman"
          ],
          [
           "Cherbourg",
           false,
           "woman"
          ],
          [
           "Southampton",
           true,
           "woman"
          ],
          [
           "Southampton",
           true,
           "woman"
          ],
          [
           "Cherbourg",
           true,
           "woman"
          ],
          [
           "Southampton",
           false,
           "child"
          ],
          [
           "Cherbourg",
           false,
           "woman"
          ],
          [
           "Southampton",
           true,
           "woman"
          ],
          [
           "Cherbourg",
           true,
           "woman"
          ],
          [
           "Cherbourg",
           true,
           "woman"
          ],
          [
           "Southampton",
           true,
           "woman"
          ],
          [
           "Cherbourg",
           false,
           "woman"
          ],
          [
           "Southampton",
           true,
           "woman"
          ],
          [
           "Southampton",
           false,
           "woman"
          ],
          [
           "Southampton",
           false,
           "woman"
          ],
          [
           "Southampton",
           false,
           "woman"
          ],
          [
           "Southampton",
           false,
           "woman"
          ],
          [
           "Southampton",
           true,
           "woman"
          ],
          [
           "Southampton",
           false,
           "woman"
          ],
          [
           "Southampton",
           false,
           "woman"
          ],
          [
           "Cherbourg",
           false,
           "woman"
          ],
          [
           "Cherbourg",
           true,
           "woman"
          ],
          [
           "Southampton",
           false,
           "woman"
          ],
          [
           "Southampton",
           false,
           "woman"
          ],
          [
           "Southampton",
           true,
           "woman"
          ],
          [
           "Southampton",
           false,
           "woman"
          ],
          [
           "Cherbourg",
           false,
           "woman"
          ],
          [
           "Southampton",
           true,
           "woman"
          ]
         ],
         "hovertemplate": "class=First<br>sex=female<br>age=%{x}<br>fare=%{y}<br>embark_town=%{customdata[0]}<br>alone=%{customdata[1]}<br>who=%{customdata[2]}<extra></extra>",
         "legendgroup": "First, female",
         "marker": {
          "color": "#EF553B",
          "symbol": "diamond"
         },
         "mode": "markers",
         "name": "First, female",
         "orientation": "v",
         "showlegend": true,
         "type": "scatter",
         "x": {
          "bdata": "AAAAAAAAQ0AAAAAAAIBBQAAAAAAAAE1AAAAAAACASEAAAAAAAAA3QAAAAAAAADNAAAAAAAAANkAAAAAAAABJQAAAAAAAAEZAAAAAAAAATUAAAAAAAAA/QAAAAAAAAEBAAAAAAACAQUAAAAAAAAA+QAAAAAAAgEFAAAAAAAAATUAAAAAAAIBBQAAAAAAAgE9AAAAAAAAAOkAAAAAAAAAzQAAAAAAAAABAAAAAAAAASUAAAAAAAAAxQAAAAAAAAD5AAAAAAAAAOEAAAAAAAAAyQAAAAAAAAD9AAAAAAAAAREAAAAAAAABCQAAAAAAAADBAAAAAAACAREAAAAAAAAA4QAAAAAAAADZAAAAAAAAATkAAAAAAAAA4QAAAAAAAAEVAAAAAAACAQUAAAAAAAAA3QAAAAAAAgEBAAAAAAAAALEAAAAAAAIBBQAAAAAAAAEtAAAAAAAAAOUAAAAAAAAAwQAAAAAAAAEtAAAAAAAAAPkAAAAAAAABGQAAAAAAAAD5AAAAAAAAANkAAAAAAAABCQAAAAAAAAEhAAAAAAACAQ0AAAAAAAIBKQAAAAAAAgENAAAAAAACAQ0AAAAAAAAAyQAAAAAAAAEpAAAAAAAAAREAAAAAAAAA1QAAAAAAAADhAAAAAAAAALkAAAAAAAAAyQAAAAAAAADZAAAAAAAAAOEAAAAAAAABDQAAAAAAAAD1AAAAAAAAANUAAAAAAAIBAQAAAAAAAAEJAAAAAAACASUAAAAAAAIBFQAAAAAAAADFAAAAAAACASEAAAAAAAIBAQAAAAAAAAEpAAAAAAACAQ0AAAAAAAAA+QAAAAAAAADBAAAAAAACARkAAAAAAAABIQAAAAAAAgEdAAAAAAAAATEAAAAAAAAAzQA==",
          "dtype": "f8"
         },
         "xaxis": "x",
         "y": {
          "bdata": "PL1SliHSUUDNzMzMzIxKQM3MzMzMjDpAkQ96NqsuU0AAAAAAAHBwQPH0SlmGSDpAZmZmZmamUEBmZmZmZrY8QPH0SlmGuDtAOPjCZKpQYkCamZmZmVFcQJEPejarElNAZmZmZmbeVEAAAAAAAKBVQL8OnDOiAoBAzczMzMwuY0DRkVz+Q/RgQG/whclUfVNAZmZmZma2U0D3deCcEcVWQJqZmZmZ8WJAOPjCZKrwbkCamZmZmTlbQLu4jQbwdkxAPL1SliHKVEAAAAAAAGZwQC9uowG8m2RAAAAAAADQYEDRkVz+Q/RgQCEf9GxW/UxAAAAAAADQYEAAAAAAAHBwQAAAAAAAgEtAAAAAAADQUkAzMzMzM1NRQM3MzMzMcGxAAAAAAAAASkCamZmZmVFcQAAAAAAAgFZAAAAAAAAAXkAAAAAAAIBWQPd14JwRkVNAmpmZmZnxYkAAAAAAAKBVQDMzMzMzs01AAAAAAABgV0AhH/RsVv1MQDMzMzMzm1pAAAAAAADASEAAAAAAAMBRQM3MzMzMzENAmpmZmZnpU0AhH/RsVr1JQDMzMzMz80tAoyO5/Ie4W0CamZmZmelTQPd14JwRkVNAzczMzMwuY0Bv8IXJVH1TQDMzMzMzU1FAzczMzMxqakDNzMzMzHBsQJqZmZmZ8WJAVFInoInASEDNzMzMzHBsQM3MzMzMampAAAAAAABmcEAAAAAAAKBVQAAAAAAAAF5Ab/CFyVR9U0DNzMzMzGpqQAAAAAAAgExAdnEbDeDtOUDNzMzMzIxKQAAAAAAAYFdAPL1SliHKVEAAAAAAAAA/QDMzMzMzs0NAL26jAbybZEB2cRsN4O05QLu4jQbwRkpAPL1SliHKVEAAAAAAAAA+QA==",
          "dtype": "f8"
         },
         "yaxis": "y"
        },
        {
         "customdata": [
          [
           "Southampton",
           true,
           "man"
          ],
          [
           "Southampton",
           true,
           "man"
          ],
          [
           "Southampton",
           true,
           "man"
          ],
          [
           "Southampton",
           true,
           "man"
          ],
          [
           "Southampton",
           true,
           "man"
          ],
          [
           "Southampton",
           false,
           "child"
          ],
          [
           "Southampton",
           false,
           "man"
          ],
          [
           "Southampton",
           false,
           "man"
          ],
          [
           "Southampton",
           false,
           "man"
          ],
          [
           "Cherbourg",
           false,
           "man"
          ],
          [
           "Southampton",
           true,
           "man"
          ],
          [
           "Cherbourg",
           true,
           "man"
          ],
          [
           "Southampton",
           true,
           "man"
          ],
          [
           "Southampton",
           false,
           "man"
          ],
          [
           "Southampton",
           false,
           "man"
          ],
          [
           "Southampton",
           true,
           "man"
          ],
          [
           "Southampton",
           true,
           "man"
          ],
          [
           "Southampton",
           true,
           "man"
          ],
          [
           "Southampton",
           false,
           "child"
          ],
          [
           "Southampton",
           true,
           "man"
          ],
          [
           "Southampton",
           false,
           "child"
          ],
          [
           "Southampton",
           true,
           "man"
          ],
          [
           "Southampton",
           false,
           "man"
          ],
          [
           "Southampton",
           true,
           "man"
          ],
          [
           "Southampton",
           true,
           "man"
          ],
          [
           "Southampton",
           true,
           "man"
          ],
          [
           "Southampton",
           true,
           "man"
          ],
          [
           "Southampton",
           true,
           "man"
          ],
          [
           "Southampton",
           true,
           "man"
          ],
          [
           "Southampton",
           false,
           "man"
          ],
          [
           "Southampton",
           true,
           "man"
          ],
          [
           "Southampton",
           true,
           "man"
          ],
          [
           "Southampton",
           true,
           "man"
          ],
          [
           "Southampton",
           false,
           "man"
          ],
          [
           "Southampton",
           true,
           "man"
          ],
          [
           "Southampton",
           true,
           "man"
          ],
          [
           "Cherbourg",
           true,
           "man"
          ],
          [
           "Cherbourg",
           false,
           "man"
          ],
          [
           "Southampton",
           false,
           "man"
          ],
          [
           "Southampton",
           true,
           "man"
          ],
          [
           "Southampton",
           false,
           "child"
          ],
          [
           "Southampton",
           true,
           "man"
          ],
          [
           "Southampton",
           true,
           "man"
          ],
          [
           "Southampton",
           true,
           "man"
          ],
          [
           "Cherbourg",
           false,
           "man"
          ],
          [
           "Southampton",
           true,
           "man"
          ],
          [
           "Southampton",
           true,
           "man"
          ],
          [
           "Southampton",
           true,
           "man"
          ],
          [
           "Southampton",
           false,
           "man"
          ],
          [
           "Southampton",
           false,
           "child"
          ],
          [
           "Southampton",
           true,
           "man"
          ],
          [
           "Southampton",
           true,
           "man"
          ],
          [
           "Southampton",
           false,
           "man"
          ],
          [
           "Southampton",
           true,
           "man"
          ],
          [
           "Southampton",
           false,
           "man"
          ],
          [
           "Southampton",
           false,
           "man"
          ],
          [
           "Southampton",
           false,
           "man"
          ],
          [
           "Southampton",
           false,
           "child"
          ],
          [
           "Southampton",
           true,
           "man"
          ],
          [
           "Southampton",
           true,
           "man"
          ],
          [
           "Southampton",
           true,
           "man"
          ],
          [
           "Southampton",
           true,
           "man"
          ],
          [
           "Southampton",
           true,
           "man"
          ],
          [
           "Southampton",
           false,
           "man"
          ],
          [
           "Southampton",
           true,
           "man"
          ],
          [
           "Queenstown",
           true,
           "man"
          ],
          [
           "Southampton",
           false,
           "man"
          ],
          [
           "Southampton",
           false,
           "man"
          ],
          [
           "Southampton",
           true,
           "man"
          ],
          [
           "Southampton",
           false,
           "man"
          ],
          [
           "Southampton",
           true,
           "man"
          ],
          [
           "Southampton",
           true,
           "man"
          ],
          [
           "Southampton",
           true,
           "man"
          ],
          [
           "Southampton",
           false,
           "man"
          ],
          [
           "Cherbourg",
           false,
           "man"
          ],
          [
           "Southampton",
           true,
           "man"
          ],
          [
           "Southampton",
           true,
           "man"
          ],
          [
           "Southampton",
           true,
           "man"
          ],
          [
           "Southampton",
           true,
           "man"
          ],
          [
           "Southampton",
           true,
           "man"
          ],
          [
           "Southampton",
           false,
           "man"
          ],
          [
           "Southampton",
           true,
           "man"
          ],
          [
           "Southampton",
           true,
           "man"
          ],
          [
           "Southampton",
           false,
           "child"
          ],
          [
           "Southampton",
           true,
           "man"
          ],
          [
           "Southampton",
           true,
           "man"
          ],
          [
           "Southampton",
           true,
           "man"
          ],
          [
           "Southampton",
           true,
           "man"
          ],
          [
           "Southampton",
           true,
           "man"
          ],
          [
           "Southampton",
           true,
           "man"
          ],
          [
           "Cherbourg",
           false,
           "man"
          ],
          [
           "Cherbourg",
           false,
           "child"
          ],
          [
           "Southampton",
           false,
           "child"
          ],
          [
           "Southampton",
           true,
           "man"
          ],
          [
           "Southampton",
           false,
           "man"
          ],
          [
           "Southampton",
           false,
           "man"
          ],
          [
           "Southampton",
           true,
           "man"
          ],
          [
           "Southampton",
           true,
           "man"
          ],
          [
           "Southampton",
           true,
           "man"
          ]
         ],
         "hovertemplate": "class=Second<br>sex=male<br>age=%{x}<br>fare=%{y}<br>embark_town=%{customdata[0]}<br>alone=%{customdata[1]}<br>who=%{customdata[2]}<extra></extra>",
         "legendgroup": "Second, male",
         "marker": {
          "color": "#00cc96",
          "symbol": "circle"
         },
         "mode": "markers",
         "name": "Second, male",
         "orientation": "v",
         "showlegend": true,
         "type": "scatter",
         "x": {
          "bdata": "AAAAAACAQUAAAAAAAABBQAAAAAAAgFBAAAAAAAAAQEAAAAAAAAA1QI/C9Shcj+o/AAAAAAAAQUAAAAAAAAA9QAAAAAAAADVAAAAAAABAQEAAAAAAAAA5QAAAAAAAADdAAAAAAAAAMkAAAAAAAAAzQAAAAAAAQEJAAAAAAAAARUAAAAAAAIBJQAAAAAAAAD5AAAAAAAAA8D8AAAAAAAAzQAAAAAAAAAhAAAAAAAAAPkAAAAAAAABFQAAAAAAAAD5AAAAAAAAAO0AAAAAAAAAzQAAAAAAAADJAAAAAAACATUAAAAAAAAA4QAAAAAAAAEZAAAAAAAAAM0AAAAAAAIBAQAAAAAAAAD1AAAAAAAAAS0AAAAAAAABCQAAAAAAAAEVAAAAAAAAAQkAAAAAAAAA+QAAAAAAAgEVAAAAAAAAAS0AAAAAAAAAAQAAAAAAAADxAAAAAAAAAOUAAAAAAAABCQAAAAAAAAD1AAAAAAAAAMkAAAAAAAABHQAAAAAAAADdAAAAAAAAAQUAAAAAAAAAIQAAAAAAAAD5AAAAAAAAAP0AAAAAAAABCQAAAAAAAAEhAAAAAAAAAQUAAAAAAAAA3QAAAAAAAAEBAAAAAAAAAIEAAAAAAAAA7QAAAAAAAADxAAAAAAAAAT0AAAAAAAABLQAAAAAAAgEdAAAAAAACAQkAAAAAAAAA6QAAAAAAAgExAAAAAAAAAP0AAAAAAAAA4QAAAAAAAADdAAAAAAAAAQEAAAAAAAAA5QAAAAAAAgFFAAAAAAAAAP0AAAAAAAABOQAAAAAAAADlAAAAAAAAASkAAAAAAAIBDQAAAAAAAAEpAAAAAAAAAQUAAAAAAAABJQAAAAAAAADlAAAAAAAAAN0AAAAAAAAA3QHE9CtejcOU/AAAAAAAAMkAAAAAAAAAwQAAAAAAAgENAAAAAAAAAQUAAAAAAAIBDQAAAAAAAgEFAAAAAAAAAP0AAAAAAAADwP4/C9Shcj+o/AAAAAAAAMEAAAAAAAAA8QAAAAAAAADVAAAAAAAAAOEAAAAAAAAA8QAAAAAAAADtA",
          "dtype": "f8"
         },
         "xaxis": "x",
         "y": {
          "bdata": "AAAAAAAAOkAAAAAAAAAqQAAAAAAAACVAAAAAAAAAJUAAAAAAAGBSQAAAAAAAAD1AAAAAAAAAOkAAAAAAAAA1QAAAAAAAYFJAio7k8h8SPkAAAAAAAAAqQEhQ/BhzFy5AAAAAAAAAJ0AAAAAAAGBCQAAAAAAAADpAAAAAAAAAKkDNzMzMzAwpQAAAAAAAACpAAAAAAACAQ0AAAAAAAAAqQAAAAAAAADpAAAAAAAAAKkAAAAAAAAA7QAAAAAAAACVAAAAAAAAAKkAAAAAAAAAlQAAAAAAAACpAAAAAAAAAK0AAAAAAAAAlQAAAAAAAADpAAAAAAAAAJUDNzMzMzIwoQAAAAAAAACVAAAAAAAAAOkAAAAAAAAAlQAAAAAAAACpAAAAAAADAKUAAAAAAAAA4QAAAAAAAQDpAAAAAAAAALEAAAAAAAAA6QAAAAAAAACpAAAAAAAAAKkAAAAAAAAAqQPH0SlmGuDtAAAAAAABgUkAAAAAAAAA6QAAAAAAAACVAAAAAAAAANUAAAAAAAMAyQAAAAAAAACpAAAAAAAAAJUAAAAAAAMA7QAAAAAAAACpAAAAAAAAANUAAAAAAAAAnQAAAAAAAADpAAAAAAABgQkAAAAAAAAA6QAAAAAAAACtAAAAAAAAAJUAAAAAAAAA6QAAAAAAAAC5AAAAAAAAAOkAAAAAAAAAlQDMzMzMzsyhAAAAAAABAOkAAAAAAAGBSQAAAAAAAACpAAAAAAABgUkAAAAAAAAAqQAAAAAAAACVAAAAAAAAAKkAAAAAAAIBDQO7rwDkjykRAAAAAAAAAK0AAAAAAAAA6QAAAAAAAACpAAAAAAAAAKkAAAAAAAAAqQAAAAAAAADpAAAAAAAAAKkAAAAAAAAAqQAAAAAAAAC1AAAAAAAAAJ0AAAAAAAAA6QAAAAAAAACpAAAAAAAAAKkAAAAAAAAAqQAAAAAAAACVAVFInoImAQkBUUiegiYBCQAAAAAAAwDJAAAAAAAAAJUAAAAAAAIBAQAAAAAAAACdAAAAAAAAAKkAAAAAAAAAlQAAAAAAAACpA",
          "dtype": "f8"
         },
         "yaxis": "y"
        },
        {
         "customdata": [
          [
           "Cherbourg",
           false,
           "child"
          ],
          [
           "Southampton",
           true,
           "woman"
          ],
          [
           "Southampton",
           false,
           "woman"
          ],
          [
           "Cherbourg",
           false,
           "child"
          ],
          [
           "Southampton",
           false,
           "woman"
          ],
          [
           "Southampton",
           true,
           "woman"
          ],
          [
           "Southampton",
           false,
           "child"
          ],
          [
           "Southampton",
           true,
           "woman"
          ],
          [
           "Southampton",
           true,
           "woman"
          ],
          [
           "Southampton",
           false,
           "woman"
          ],
          [
           "Southampton",
           true,
           "woman"
          ],
          [
           "Southampton",
           false,
           "woman"
          ],
          [
           "Southampton",
           true,
           "woman"
          ],
          [
           "Southampton",
           true,
           "woman"
          ],
          [
           "Southampton",
           true,
           "woman"
          ],
          [
           "Southampton",
           true,
           "woman"
          ],
          [
           "Southampton",
           false,
           "child"
          ],
          [
           "Southampton",
           false,
           "woman"
          ],
          [
           "Southampton",
           false,
           "woman"
          ],
          [
           "Southampton",
           false,
           "woman"
          ],
          [
           "Southampton",
           false,
           "woman"
          ],
          [
           "Southampton",
           false,
           "woman"
          ],
          [
           "Queenstown",
           true,
           "woman"
          ],
          [
           "Southampton",
           false,
           "woman"
          ],
          [
           "Southampton",
           true,
           "woman"
          ],
          [
           "Southampton",
           true,
           "woman"
          ],
          [
           "Southampton",
           true,
           "woman"
          ],
          [
           "Southampton",
           true,
           "woman"
          ],
          [
           "Southampton",
           true,
           "woman"
          ],
          [
           "Cherbourg",
           true,
           "woman"
          ],
          [
           "Southampton",
           true,
           "woman"
          ],
          [
           "Southampton",
           false,
           "woman"
          ],
          [
           "Southampton",
           false,
           "woman"
          ],
          [
           "Southampton",
           false,
           "woman"
          ],
          [
           "Southampton",
           true,
           "woman"
          ],
          [
           "Southampton",
           false,
           "woman"
          ],
          [
           "Southampton",
           false,
           "woman"
          ],
          [
           "Southampton",
           false,
           "woman"
          ],
          [
           "Southampton",
           true,
           "woman"
          ],
          [
           "Southampton",
           false,
           "child"
          ],
          [
           "Southampton",
           true,
           "woman"
          ],
          [
           "Southampton",
           false,
           "woman"
          ],
          [
           "Cherbourg",
           true,
           "woman"
          ],
          [
           "Southampton",
           false,
           "woman"
          ],
          [
           "Southampton",
           true,
           "woman"
          ],
          [
           "Southampton",
           false,
           "woman"
          ],
          [
           "Southampton",
           true,
           "woman"
          ],
          [
           "Southampton",
           false,
           "child"
          ],
          [
           "Southampton",
           false,
           "child"
          ],
          [
           "Southampton",
           false,
           "woman"
          ],
          [
           "Southampton",
           true,
           "woman"
          ],
          [
           "Southampton",
           false,
           "woman"
          ],
          [
           "Southampton",
           false,
           "woman"
          ],
          [
           "Cherbourg",
           false,
           "woman"
          ],
          [
           "Southampton",
           false,
           "woman"
          ],
          [
           "Southampton",
           false,
           "child"
          ],
          [
           "Southampton",
           true,
           "woman"
          ],
          [
           "Southampton",
           false,
           "woman"
          ],
          [
           "Southampton",
           false,
           "woman"
          ],
          [
           "Southampton",
           true,
           "woman"
          ],
          [
           "Southampton",
           true,
           "woman"
          ],
          [
           "Southampton",
           false,
           "child"
          ],
          [
           "Southampton",
           false,
           "woman"
          ],
          [
           "Southampton",
           true,
           "woman"
          ],
          [
           "Southampton",
           false,
           "child"
          ],
          [
           "Southampton",
           false,
           "woman"
          ],
          [
           "Southampton",
           true,
           "woman"
          ],
          [
           "Southampton",
           false,
           "woman"
          ],
          [
           "Southampton",
           false,
           "woman"
          ],
          [
           "Southampton",
           false,
           "woman"
          ],
          [
           "Southampton",
           true,
           "woman"
          ],
          [
           "Cherbourg",
           false,
           "woman"
          ],
          [
           "Cherbourg",
           false,
           "woman"
          ],
          [
           "Southampton",
           false,
           "woman"
          ]
         ],
         "hovertemplate": "class=Second<br>sex=female<br>age=%{x}<br>fare=%{y}<br>embark_town=%{customdata[0]}<br>alone=%{customdata[1]}<br>who=%{customdata[2]}<extra></extra>",
         "legendgroup": "Second, female",
         "marker": {
          "color": "#00cc96",
          "symbol": "diamond"
         },
         "mode": "markers",
         "name": "Second, female",
         "orientation": "v",
         "showlegend": true,
         "type": "scatter",
         "x": {
          "bdata": "AAAAAAAALEAAAAAAAIBLQAAAAAAAADtAAAAAAAAACEAAAAAAAAA9QAAAAAAAADVAAAAAAAAAFEAAAAAAAAA9QAAAAAAAADFAAAAAAAAAQUAAAAAAAEBAQAAAAAAAAD1AAAAAAAAAREAAAAAAAABAQAAAAAAAADhAAAAAAACAQUAAAAAAAAAgQAAAAAAAADhAAAAAAAAASUAAAAAAAIBEQAAAAAAAADpAAAAAAAAAOEAAAAAAAAA+QAAAAAAAADZAAAAAAAAAQkAAAAAAAAA4QAAAAAAAAERAAAAAAAAAQ0AAAAAAAABCQAAAAAAAADFAAAAAAAAAPEAAAAAAAABBQAAAAAAAADJAAAAAAAAAPEAAAAAAAAAzQAAAAAAAAEVAAAAAAAAAOEAAAAAAAIBGQAAAAAAAADxAAAAAAAAAKkAAAAAAAABJQAAAAAAAgEBAAAAAAAAAN0AAAAAAAIBAQAAAAAAAAEFAAAAAAAAAQkAAAAAAAABJQAAAAAAAAABAAAAAAAAAHEAAAAAAAAAzQAAAAAAAAEFAAAAAAAAAOUAAAAAAAAA4QAAAAAAAADZAAAAAAAAAOEAAAAAAAAAQQAAAAAAAADxAAAAAAAAAMkAAAAAAAABEQAAAAAAAgEZAAAAAAAAAO0AAAAAAAAAYQAAAAAAAAD5AAAAAAAAAPkAAAAAAAAAQQAAAAAAAAEhAAAAAAACATEAAAAAAAABLQAAAAAAAAD9AAAAAAAAARkAAAAAAAABFQAAAAAAAADtAAAAAAAAAPEAAAAAAAAA5QA==",
          "dtype": "f8"
         },
         "xaxis": "x",
         "y": {
          "bdata": "io7k8h8SPkAAAAAAAAAwQAAAAAAAADVA7uvAOSPKREAAAAAAAAA6QAAAAAAAACVAAAAAAADAO0AAAAAAAAAlQAAAAAAAACVAAAAAAAAAN0AAAAAAAAAqQAAAAAAAADpAAAAAAACAL0AAAAAAAAAqQAAAAAAAACpAAAAAAAAANUAAAAAAAEA6QAAAAAAAAC1AAAAAAAAAOkAAAAAAAIAzQAAAAAAAADpAAAAAAAAAOkAzMzMzM7MoQAAAAAAAAD1AAAAAAAAAKkAAAAAAAAAqQAAAAAAAACpAAAAAAAAAKkAAAAAAAAAqQAAAAAAAAChAzczMzMxMKUAAAAAAAEBAQAAAAAAAACpAAAAAAAAAOkAAAAAAAAA6QAAAAAAAADpAAAAAAADAMkAAAAAAAEA6QAAAAAAAACpAAAAAAACAM0AAAAAAAAAlQAAAAAAAwDtAhXzQs1mVK0AAAAAAAAA6QAAAAAAAACVAAAAAAAAAOkAAAAAAAAAlQAAAAAAAADpAAAAAAABAOkAAAAAAAAA6QAAAAAAAACpAAAAAAAAAPkAAAAAAAAA7QO7rwDkjykRAAAAAAABAUEAAAAAAAIBDQAAAAAAAACpAAAAAAAAAN0AAAAAAAIBDQAAAAAAAACtAAAAAAAAAJUAAAAAAAIBAQAAAAAAAADVAAAAAAAAAKkAAAAAAAAA3QAAAAAAAQFBAAAAAAAAAJUAAAAAAAAA3QAAAAAAAQDpAAAAAAAAAOkAAAAAAAAAqQEhQ/BhztytAAAAAAAAAOEAAAAAAAAA6QA==",
          "dtype": "f8"
         },
         "yaxis": "y"
        }
       ],
       "layout": {
        "legend": {
         "title": {
          "text": "class, sex"
         },
         "tracegroupgap": 0
        },
        "template": {
         "data": {
          "bar": [
           {
            "error_x": {
             "color": "#2a3f5f"
            },
            "error_y": {
             "color": "#2a3f5f"
            },
            "marker": {
             "line": {
              "color": "#E5ECF6",
              "width": 0.5
             },
             "pattern": {
              "fillmode": "overlay",
              "size": 10,
              "solidity": 0.2
             }
            },
            "type": "bar"
           }
          ],
          "barpolar": [
           {
            "marker": {
             "line": {
              "color": "#E5ECF6",
              "width": 0.5
             },
             "pattern": {
              "fillmode": "overlay",
              "size": 10,
              "solidity": 0.2
             }
            },
            "type": "barpolar"
           }
          ],
          "carpet": [
           {
            "aaxis": {
             "endlinecolor": "#2a3f5f",
             "gridcolor": "white",
             "linecolor": "white",
             "minorgridcolor": "white",
             "startlinecolor": "#2a3f5f"
            },
            "baxis": {
             "endlinecolor": "#2a3f5f",
             "gridcolor": "white",
             "linecolor": "white",
             "minorgridcolor": "white",
             "startlinecolor": "#2a3f5f"
            },
            "type": "carpet"
           }
          ],
          "choropleth": [
           {
            "colorbar": {
             "outlinewidth": 0,
             "ticks": ""
            },
            "type": "choropleth"
           }
          ],
          "contour": [
           {
            "colorbar": {
             "outlinewidth": 0,
             "ticks": ""
            },
            "colorscale": [
             [
              0,
              "#0d0887"
             ],
             [
              0.1111111111111111,
              "#46039f"
             ],
             [
              0.2222222222222222,
              "#7201a8"
             ],
             [
              0.3333333333333333,
              "#9c179e"
             ],
             [
              0.4444444444444444,
              "#bd3786"
             ],
             [
              0.5555555555555556,
              "#d8576b"
             ],
             [
              0.6666666666666666,
              "#ed7953"
             ],
             [
              0.7777777777777778,
              "#fb9f3a"
             ],
             [
              0.8888888888888888,
              "#fdca26"
             ],
             [
              1,
              "#f0f921"
             ]
            ],
            "type": "contour"
           }
          ],
          "contourcarpet": [
           {
            "colorbar": {
             "outlinewidth": 0,
             "ticks": ""
            },
            "type": "contourcarpet"
           }
          ],
          "heatmap": [
           {
            "colorbar": {
             "outlinewidth": 0,
             "ticks": ""
            },
            "colorscale": [
             [
              0,
              "#0d0887"
             ],
             [
              0.1111111111111111,
              "#46039f"
             ],
             [
              0.2222222222222222,
              "#7201a8"
             ],
             [
              0.3333333333333333,
              "#9c179e"
             ],
             [
              0.4444444444444444,
              "#bd3786"
             ],
             [
              0.5555555555555556,
              "#d8576b"
             ],
             [
              0.6666666666666666,
              "#ed7953"
             ],
             [
              0.7777777777777778,
              "#fb9f3a"
             ],
             [
              0.8888888888888888,
              "#fdca26"
             ],
             [
              1,
              "#f0f921"
             ]
            ],
            "type": "heatmap"
           }
          ],
          "histogram": [
           {
            "marker": {
             "pattern": {
              "fillmode": "overlay",
              "size": 10,
              "solidity": 0.2
             }
            },
            "type": "histogram"
           }
          ],
          "histogram2d": [
           {
            "colorbar": {
             "outlinewidth": 0,
             "ticks": ""
            },
            "colorscale": [
             [
              0,
              "#0d0887"
             ],
             [
              0.1111111111111111,
              "#46039f"
             ],
             [
              0.2222222222222222,
              "#7201a8"
             ],
             [
              0.3333333333333333,
              "#9c179e"
             ],
             [
              0.4444444444444444,
              "#bd3786"
             ],
             [
              0.5555555555555556,
              "#d8576b"
             ],
             [
              0.6666666666666666,
              "#ed7953"
             ],
             [
              0.7777777777777778,
              "#fb9f3a"
             ],
             [
              0.8888888888888888,
              "#fdca26"
             ],
             [
              1,
              "#f0f921"
             ]
            ],
            "type": "histogram2d"
           }
          ],
          "histogram2dcontour": [
           {
            "colorbar": {
             "outlinewidth": 0,
             "ticks": ""
            },
            "colorscale": [
             [
              0,
              "#0d0887"
             ],
             [
              0.1111111111111111,
              "#46039f"
             ],
             [
              0.2222222222222222,
              "#7201a8"
             ],
             [
              0.3333333333333333,
              "#9c179e"
             ],
             [
              0.4444444444444444,
              "#bd3786"
             ],
             [
              0.5555555555555556,
              "#d8576b"
             ],
             [
              0.6666666666666666,
              "#ed7953"
             ],
             [
              0.7777777777777778,
              "#fb9f3a"
             ],
             [
              0.8888888888888888,
              "#fdca26"
             ],
             [
              1,
              "#f0f921"
             ]
            ],
            "type": "histogram2dcontour"
           }
          ],
          "mesh3d": [
           {
            "colorbar": {
             "outlinewidth": 0,
             "ticks": ""
            },
            "type": "mesh3d"
           }
          ],
          "parcoords": [
           {
            "line": {
             "colorbar": {
              "outlinewidth": 0,
              "ticks": ""
             }
            },
            "type": "parcoords"
           }
          ],
          "pie": [
           {
            "automargin": true,
            "type": "pie"
           }
          ],
          "scatter": [
           {
            "fillpattern": {
             "fillmode": "overlay",
             "size": 10,
             "solidity": 0.2
            },
            "type": "scatter"
           }
          ],
          "scatter3d": [
           {
            "line": {
             "colorbar": {
              "outlinewidth": 0,
              "ticks": ""
             }
            },
            "marker": {
             "colorbar": {
              "outlinewidth": 0,
              "ticks": ""
             }
            },
            "type": "scatter3d"
           }
          ],
          "scattercarpet": [
           {
            "marker": {
             "colorbar": {
              "outlinewidth": 0,
              "ticks": ""
             }
            },
            "type": "scattercarpet"
           }
          ],
          "scattergeo": [
           {
            "marker": {
             "colorbar": {
              "outlinewidth": 0,
              "ticks": ""
             }
            },
            "type": "scattergeo"
           }
          ],
          "scattergl": [
           {
            "marker": {
             "colorbar": {
              "outlinewidth": 0,
              "ticks": ""
             }
            },
            "type": "scattergl"
           }
          ],
          "scattermap": [
           {
            "marker": {
             "colorbar": {
              "outlinewidth": 0,
              "ticks": ""
             }
            },
            "type": "scattermap"
           }
          ],
          "scattermapbox": [
           {
            "marker": {
             "colorbar": {
              "outlinewidth": 0,
              "ticks": ""
             }
            },
            "type": "scattermapbox"
           }
          ],
          "scatterpolar": [
           {
            "marker": {
             "colorbar": {
              "outlinewidth": 0,
              "ticks": ""
             }
            },
            "type": "scatterpolar"
           }
          ],
          "scatterpolargl": [
           {
            "marker": {
             "colorbar": {
              "outlinewidth": 0,
              "ticks": ""
             }
            },
            "type": "scatterpolargl"
           }
          ],
          "scatterternary": [
           {
            "marker": {
             "colorbar": {
              "outlinewidth": 0,
              "ticks": ""
             }
            },
            "type": "scatterternary"
           }
          ],
          "surface": [
           {
            "colorbar": {
             "outlinewidth": 0,
             "ticks": ""
            },
            "colorscale": [
             [
              0,
              "#0d0887"
             ],
             [
              0.1111111111111111,
              "#46039f"
             ],
             [
              0.2222222222222222,
              "#7201a8"
             ],
             [
              0.3333333333333333,
              "#9c179e"
             ],
             [
              0.4444444444444444,
              "#bd3786"
             ],
             [
              0.5555555555555556,
              "#d8576b"
             ],
             [
              0.6666666666666666,
              "#ed7953"
             ],
             [
              0.7777777777777778,
              "#fb9f3a"
             ],
             [
              0.8888888888888888,
              "#fdca26"
             ],
             [
              1,
              "#f0f921"
             ]
            ],
            "type": "surface"
           }
          ],
          "table": [
           {
            "cells": {
             "fill": {
              "color": "#EBF0F8"
             },
             "line": {
              "color": "white"
             }
            },
            "header": {
             "fill": {
              "color": "#C8D4E3"
             },
             "line": {
              "color": "white"
             }
            },
            "type": "table"
           }
          ]
         },
         "layout": {
          "annotationdefaults": {
           "arrowcolor": "#2a3f5f",
           "arrowhead": 0,
           "arrowwidth": 1
          },
          "autotypenumbers": "strict",
          "coloraxis": {
           "colorbar": {
            "outlinewidth": 0,
            "ticks": ""
           }
          },
          "colorscale": {
           "diverging": [
            [
             0,
             "#8e0152"
            ],
            [
             0.1,
             "#c51b7d"
            ],
            [
             0.2,
             "#de77ae"
            ],
            [
             0.3,
             "#f1b6da"
            ],
            [
             0.4,
             "#fde0ef"
            ],
            [
             0.5,
             "#f7f7f7"
            ],
            [
             0.6,
             "#e6f5d0"
            ],
            [
             0.7,
             "#b8e186"
            ],
            [
             0.8,
             "#7fbc41"
            ],
            [
             0.9,
             "#4d9221"
            ],
            [
             1,
             "#276419"
            ]
           ],
           "sequential": [
            [
             0,
             "#0d0887"
            ],
            [
             0.1111111111111111,
             "#46039f"
            ],
            [
             0.2222222222222222,
             "#7201a8"
            ],
            [
             0.3333333333333333,
             "#9c179e"
            ],
            [
             0.4444444444444444,
             "#bd3786"
            ],
            [
             0.5555555555555556,
             "#d8576b"
            ],
            [
             0.6666666666666666,
             "#ed7953"
            ],
            [
             0.7777777777777778,
             "#fb9f3a"
            ],
            [
             0.8888888888888888,
             "#fdca26"
            ],
            [
             1,
             "#f0f921"
            ]
           ],
           "sequentialminus": [
            [
             0,
             "#0d0887"
            ],
            [
             0.1111111111111111,
             "#46039f"
            ],
            [
             0.2222222222222222,
             "#7201a8"
            ],
            [
             0.3333333333333333,
             "#9c179e"
            ],
            [
             0.4444444444444444,
             "#bd3786"
            ],
            [
             0.5555555555555556,
             "#d8576b"
            ],
            [
             0.6666666666666666,
             "#ed7953"
            ],
            [
             0.7777777777777778,
             "#fb9f3a"
            ],
            [
             0.8888888888888888,
             "#fdca26"
            ],
            [
             1,
             "#f0f921"
            ]
           ]
          },
          "colorway": [
           "#636efa",
           "#EF553B",
           "#00cc96",
           "#ab63fa",
           "#FFA15A",
           "#19d3f3",
           "#FF6692",
           "#B6E880",
           "#FF97FF",
           "#FECB52"
          ],
          "font": {
           "color": "#2a3f5f"
          },
          "geo": {
           "bgcolor": "white",
           "lakecolor": "white",
           "landcolor": "#E5ECF6",
           "showlakes": true,
           "showland": true,
           "subunitcolor": "white"
          },
          "hoverlabel": {
           "align": "left"
          },
          "hovermode": "closest",
          "mapbox": {
           "style": "light"
          },
          "paper_bgcolor": "white",
          "plot_bgcolor": "#E5ECF6",
          "polar": {
           "angularaxis": {
            "gridcolor": "white",
            "linecolor": "white",
            "ticks": ""
           },
           "bgcolor": "#E5ECF6",
           "radialaxis": {
            "gridcolor": "white",
            "linecolor": "white",
            "ticks": ""
           }
          },
          "scene": {
           "xaxis": {
            "backgroundcolor": "#E5ECF6",
            "gridcolor": "white",
            "gridwidth": 2,
            "linecolor": "white",
            "showbackground": true,
            "ticks": "",
            "zerolinecolor": "white"
           },
           "yaxis": {
            "backgroundcolor": "#E5ECF6",
            "gridcolor": "white",
            "gridwidth": 2,
            "linecolor": "white",
            "showbackground": true,
            "ticks": "",
            "zerolinecolor": "white"
           },
           "zaxis": {
            "backgroundcolor": "#E5ECF6",
            "gridcolor": "white",
            "gridwidth": 2,
            "linecolor": "white",
            "showbackground": true,
            "ticks": "",
            "zerolinecolor": "white"
           }
          },
          "shapedefaults": {
           "line": {
            "color": "#2a3f5f"
           }
          },
          "ternary": {
           "aaxis": {
            "gridcolor": "white",
            "linecolor": "white",
            "ticks": ""
           },
           "baxis": {
            "gridcolor": "white",
            "linecolor": "white",
            "ticks": ""
           },
           "bgcolor": "#E5ECF6",
           "caxis": {
            "gridcolor": "white",
            "linecolor": "white",
            "ticks": ""
           }
          },
          "title": {
           "x": 0.05
          },
          "xaxis": {
           "automargin": true,
           "gridcolor": "white",
           "linecolor": "white",
           "ticks": "",
           "title": {
            "standoff": 15
           },
           "zerolinecolor": "white",
           "zerolinewidth": 2
          },
          "yaxis": {
           "automargin": true,
           "gridcolor": "white",
           "linecolor": "white",
           "ticks": "",
           "title": {
            "standoff": 15
           },
           "zerolinecolor": "white",
           "zerolinewidth": 2
          }
         }
        },
        "title": {
         "text": "Fare vs Age - Interactive (hover me!)"
        },
        "xaxis": {
         "anchor": "y",
         "domain": [
          0,
          1
         ],
         "title": {
          "text": "age"
         }
        },
        "yaxis": {
         "anchor": "x",
         "domain": [
          0,
          1
         ],
         "range": [
          0,
          400
         ],
         "title": {
          "text": "fare"
         }
        }
       }
      }
     },
     "metadata": {},
     "output_type": "display_data"
    }
   ],
   "source": [
    "df = titanic.dropna(subset=[\"age\", \"fare\", \"class\", \"sex\", \"embark_town\"])\n",
    "fig = px.scatter(\n",
    "    df, x=\"age\", y=\"fare\",\n",
    "    color=\"class\", symbol=\"sex\",\n",
    "    hover_data=[\"embark_town\", \"alone\", \"who\"],\n",
    "    range_y=[0, 400],\n",
    "    title=\"Fare vs Age - Interactive (hover me!)\"\n",
    ")\n",
    "fig.show()"
   ]
  },
  {
   "cell_type": "markdown",
   "id": "297a6e78",
   "metadata": {},
   "source": []
  },
  {
   "cell_type": "code",
   "execution_count": 12,
   "id": "4e8c6427",
   "metadata": {},
   "outputs": [
    {
     "name": "stderr",
     "output_type": "stream",
     "text": [
      "/var/folders/hd/wvpfmg893d9ff7g872_k6hvh0000gn/T/ipykernel_95455/2425840251.py:5: FutureWarning:\n",
      "\n",
      "The default of observed=False is deprecated and will be changed to True in a future version of pandas. Pass observed=False to retain current behavior or observed=True to adopt the future default and silence this warning.\n",
      "\n"
     ]
    },
    {
     "data": {
      "application/vnd.plotly.v1+json": {
       "config": {
        "plotlyServerURL": "https://plot.ly"
       },
       "data": [
        {
         "hovertemplate": "class=%{x}<br>survival_rate=%{y}<extra></extra>",
         "legendgroup": "",
         "marker": {
          "color": "#636efa",
          "pattern": {
           "shape": ""
          }
         },
         "name": "",
         "orientation": "v",
         "showlegend": false,
         "textposition": "auto",
         "type": "bar",
         "x": [
          "Third",
          "First",
          "Second"
         ],
         "xaxis": "x",
         "y": {
          "bdata": "QtIZJ1FWwT/jkiFYR5vXP19CewntJcQ/",
          "dtype": "f8"
         },
         "yaxis": "y"
        }
       ],
       "layout": {
        "barmode": "relative",
        "legend": {
         "tracegroupgap": 0
        },
        "template": {
         "data": {
          "bar": [
           {
            "error_x": {
             "color": "#2a3f5f"
            },
            "error_y": {
             "color": "#2a3f5f"
            },
            "marker": {
             "line": {
              "color": "#E5ECF6",
              "width": 0.5
             },
             "pattern": {
              "fillmode": "overlay",
              "size": 10,
              "solidity": 0.2
             }
            },
            "type": "bar"
           }
          ],
          "barpolar": [
           {
            "marker": {
             "line": {
              "color": "#E5ECF6",
              "width": 0.5
             },
             "pattern": {
              "fillmode": "overlay",
              "size": 10,
              "solidity": 0.2
             }
            },
            "type": "barpolar"
           }
          ],
          "carpet": [
           {
            "aaxis": {
             "endlinecolor": "#2a3f5f",
             "gridcolor": "white",
             "linecolor": "white",
             "minorgridcolor": "white",
             "startlinecolor": "#2a3f5f"
            },
            "baxis": {
             "endlinecolor": "#2a3f5f",
             "gridcolor": "white",
             "linecolor": "white",
             "minorgridcolor": "white",
             "startlinecolor": "#2a3f5f"
            },
            "type": "carpet"
           }
          ],
          "choropleth": [
           {
            "colorbar": {
             "outlinewidth": 0,
             "ticks": ""
            },
            "type": "choropleth"
           }
          ],
          "contour": [
           {
            "colorbar": {
             "outlinewidth": 0,
             "ticks": ""
            },
            "colorscale": [
             [
              0,
              "#0d0887"
             ],
             [
              0.1111111111111111,
              "#46039f"
             ],
             [
              0.2222222222222222,
              "#7201a8"
             ],
             [
              0.3333333333333333,
              "#9c179e"
             ],
             [
              0.4444444444444444,
              "#bd3786"
             ],
             [
              0.5555555555555556,
              "#d8576b"
             ],
             [
              0.6666666666666666,
              "#ed7953"
             ],
             [
              0.7777777777777778,
              "#fb9f3a"
             ],
             [
              0.8888888888888888,
              "#fdca26"
             ],
             [
              1,
              "#f0f921"
             ]
            ],
            "type": "contour"
           }
          ],
          "contourcarpet": [
           {
            "colorbar": {
             "outlinewidth": 0,
             "ticks": ""
            },
            "type": "contourcarpet"
           }
          ],
          "heatmap": [
           {
            "colorbar": {
             "outlinewidth": 0,
             "ticks": ""
            },
            "colorscale": [
             [
              0,
              "#0d0887"
             ],
             [
              0.1111111111111111,
              "#46039f"
             ],
             [
              0.2222222222222222,
              "#7201a8"
             ],
             [
              0.3333333333333333,
              "#9c179e"
             ],
             [
              0.4444444444444444,
              "#bd3786"
             ],
             [
              0.5555555555555556,
              "#d8576b"
             ],
             [
              0.6666666666666666,
              "#ed7953"
             ],
             [
              0.7777777777777778,
              "#fb9f3a"
             ],
             [
              0.8888888888888888,
              "#fdca26"
             ],
             [
              1,
              "#f0f921"
             ]
            ],
            "type": "heatmap"
           }
          ],
          "histogram": [
           {
            "marker": {
             "pattern": {
              "fillmode": "overlay",
              "size": 10,
              "solidity": 0.2
             }
            },
            "type": "histogram"
           }
          ],
          "histogram2d": [
           {
            "colorbar": {
             "outlinewidth": 0,
             "ticks": ""
            },
            "colorscale": [
             [
              0,
              "#0d0887"
             ],
             [
              0.1111111111111111,
              "#46039f"
             ],
             [
              0.2222222222222222,
              "#7201a8"
             ],
             [
              0.3333333333333333,
              "#9c179e"
             ],
             [
              0.4444444444444444,
              "#bd3786"
             ],
             [
              0.5555555555555556,
              "#d8576b"
             ],
             [
              0.6666666666666666,
              "#ed7953"
             ],
             [
              0.7777777777777778,
              "#fb9f3a"
             ],
             [
              0.8888888888888888,
              "#fdca26"
             ],
             [
              1,
              "#f0f921"
             ]
            ],
            "type": "histogram2d"
           }
          ],
          "histogram2dcontour": [
           {
            "colorbar": {
             "outlinewidth": 0,
             "ticks": ""
            },
            "colorscale": [
             [
              0,
              "#0d0887"
             ],
             [
              0.1111111111111111,
              "#46039f"
             ],
             [
              0.2222222222222222,
              "#7201a8"
             ],
             [
              0.3333333333333333,
              "#9c179e"
             ],
             [
              0.4444444444444444,
              "#bd3786"
             ],
             [
              0.5555555555555556,
              "#d8576b"
             ],
             [
              0.6666666666666666,
              "#ed7953"
             ],
             [
              0.7777777777777778,
              "#fb9f3a"
             ],
             [
              0.8888888888888888,
              "#fdca26"
             ],
             [
              1,
              "#f0f921"
             ]
            ],
            "type": "histogram2dcontour"
           }
          ],
          "mesh3d": [
           {
            "colorbar": {
             "outlinewidth": 0,
             "ticks": ""
            },
            "type": "mesh3d"
           }
          ],
          "parcoords": [
           {
            "line": {
             "colorbar": {
              "outlinewidth": 0,
              "ticks": ""
             }
            },
            "type": "parcoords"
           }
          ],
          "pie": [
           {
            "automargin": true,
            "type": "pie"
           }
          ],
          "scatter": [
           {
            "fillpattern": {
             "fillmode": "overlay",
             "size": 10,
             "solidity": 0.2
            },
            "type": "scatter"
           }
          ],
          "scatter3d": [
           {
            "line": {
             "colorbar": {
              "outlinewidth": 0,
              "ticks": ""
             }
            },
            "marker": {
             "colorbar": {
              "outlinewidth": 0,
              "ticks": ""
             }
            },
            "type": "scatter3d"
           }
          ],
          "scattercarpet": [
           {
            "marker": {
             "colorbar": {
              "outlinewidth": 0,
              "ticks": ""
             }
            },
            "type": "scattercarpet"
           }
          ],
          "scattergeo": [
           {
            "marker": {
             "colorbar": {
              "outlinewidth": 0,
              "ticks": ""
             }
            },
            "type": "scattergeo"
           }
          ],
          "scattergl": [
           {
            "marker": {
             "colorbar": {
              "outlinewidth": 0,
              "ticks": ""
             }
            },
            "type": "scattergl"
           }
          ],
          "scattermap": [
           {
            "marker": {
             "colorbar": {
              "outlinewidth": 0,
              "ticks": ""
             }
            },
            "type": "scattermap"
           }
          ],
          "scattermapbox": [
           {
            "marker": {
             "colorbar": {
              "outlinewidth": 0,
              "ticks": ""
             }
            },
            "type": "scattermapbox"
           }
          ],
          "scatterpolar": [
           {
            "marker": {
             "colorbar": {
              "outlinewidth": 0,
              "ticks": ""
             }
            },
            "type": "scatterpolar"
           }
          ],
          "scatterpolargl": [
           {
            "marker": {
             "colorbar": {
              "outlinewidth": 0,
              "ticks": ""
             }
            },
            "type": "scatterpolargl"
           }
          ],
          "scatterternary": [
           {
            "marker": {
             "colorbar": {
              "outlinewidth": 0,
              "ticks": ""
             }
            },
            "type": "scatterternary"
           }
          ],
          "surface": [
           {
            "colorbar": {
             "outlinewidth": 0,
             "ticks": ""
            },
            "colorscale": [
             [
              0,
              "#0d0887"
             ],
             [
              0.1111111111111111,
              "#46039f"
             ],
             [
              0.2222222222222222,
              "#7201a8"
             ],
             [
              0.3333333333333333,
              "#9c179e"
             ],
             [
              0.4444444444444444,
              "#bd3786"
             ],
             [
              0.5555555555555556,
              "#d8576b"
             ],
             [
              0.6666666666666666,
              "#ed7953"
             ],
             [
              0.7777777777777778,
              "#fb9f3a"
             ],
             [
              0.8888888888888888,
              "#fdca26"
             ],
             [
              1,
              "#f0f921"
             ]
            ],
            "type": "surface"
           }
          ],
          "table": [
           {
            "cells": {
             "fill": {
              "color": "#EBF0F8"
             },
             "line": {
              "color": "white"
             }
            },
            "header": {
             "fill": {
              "color": "#C8D4E3"
             },
             "line": {
              "color": "white"
             }
            },
            "type": "table"
           }
          ]
         },
         "layout": {
          "annotationdefaults": {
           "arrowcolor": "#2a3f5f",
           "arrowhead": 0,
           "arrowwidth": 1
          },
          "autotypenumbers": "strict",
          "coloraxis": {
           "colorbar": {
            "outlinewidth": 0,
            "ticks": ""
           }
          },
          "colorscale": {
           "diverging": [
            [
             0,
             "#8e0152"
            ],
            [
             0.1,
             "#c51b7d"
            ],
            [
             0.2,
             "#de77ae"
            ],
            [
             0.3,
             "#f1b6da"
            ],
            [
             0.4,
             "#fde0ef"
            ],
            [
             0.5,
             "#f7f7f7"
            ],
            [
             0.6,
             "#e6f5d0"
            ],
            [
             0.7,
             "#b8e186"
            ],
            [
             0.8,
             "#7fbc41"
            ],
            [
             0.9,
             "#4d9221"
            ],
            [
             1,
             "#276419"
            ]
           ],
           "sequential": [
            [
             0,
             "#0d0887"
            ],
            [
             0.1111111111111111,
             "#46039f"
            ],
            [
             0.2222222222222222,
             "#7201a8"
            ],
            [
             0.3333333333333333,
             "#9c179e"
            ],
            [
             0.4444444444444444,
             "#bd3786"
            ],
            [
             0.5555555555555556,
             "#d8576b"
            ],
            [
             0.6666666666666666,
             "#ed7953"
            ],
            [
             0.7777777777777778,
             "#fb9f3a"
            ],
            [
             0.8888888888888888,
             "#fdca26"
            ],
            [
             1,
             "#f0f921"
            ]
           ],
           "sequentialminus": [
            [
             0,
             "#0d0887"
            ],
            [
             0.1111111111111111,
             "#46039f"
            ],
            [
             0.2222222222222222,
             "#7201a8"
            ],
            [
             0.3333333333333333,
             "#9c179e"
            ],
            [
             0.4444444444444444,
             "#bd3786"
            ],
            [
             0.5555555555555556,
             "#d8576b"
            ],
            [
             0.6666666666666666,
             "#ed7953"
            ],
            [
             0.7777777777777778,
             "#fb9f3a"
            ],
            [
             0.8888888888888888,
             "#fdca26"
            ],
            [
             1,
             "#f0f921"
            ]
           ]
          },
          "colorway": [
           "#636efa",
           "#EF553B",
           "#00cc96",
           "#ab63fa",
           "#FFA15A",
           "#19d3f3",
           "#FF6692",
           "#B6E880",
           "#FF97FF",
           "#FECB52"
          ],
          "font": {
           "color": "#2a3f5f"
          },
          "geo": {
           "bgcolor": "white",
           "lakecolor": "white",
           "landcolor": "#E5ECF6",
           "showlakes": true,
           "showland": true,
           "subunitcolor": "white"
          },
          "hoverlabel": {
           "align": "left"
          },
          "hovermode": "closest",
          "mapbox": {
           "style": "light"
          },
          "paper_bgcolor": "white",
          "plot_bgcolor": "#E5ECF6",
          "polar": {
           "angularaxis": {
            "gridcolor": "white",
            "linecolor": "white",
            "ticks": ""
           },
           "bgcolor": "#E5ECF6",
           "radialaxis": {
            "gridcolor": "white",
            "linecolor": "white",
            "ticks": ""
           }
          },
          "scene": {
           "xaxis": {
            "backgroundcolor": "#E5ECF6",
            "gridcolor": "white",
            "gridwidth": 2,
            "linecolor": "white",
            "showbackground": true,
            "ticks": "",
            "zerolinecolor": "white"
           },
           "yaxis": {
            "backgroundcolor": "#E5ECF6",
            "gridcolor": "white",
            "gridwidth": 2,
            "linecolor": "white",
            "showbackground": true,
            "ticks": "",
            "zerolinecolor": "white"
           },
           "zaxis": {
            "backgroundcolor": "#E5ECF6",
            "gridcolor": "white",
            "gridwidth": 2,
            "linecolor": "white",
            "showbackground": true,
            "ticks": "",
            "zerolinecolor": "white"
           }
          },
          "shapedefaults": {
           "line": {
            "color": "#2a3f5f"
           }
          },
          "ternary": {
           "aaxis": {
            "gridcolor": "white",
            "linecolor": "white",
            "ticks": ""
           },
           "baxis": {
            "gridcolor": "white",
            "linecolor": "white",
            "ticks": ""
           },
           "bgcolor": "#E5ECF6",
           "caxis": {
            "gridcolor": "white",
            "linecolor": "white",
            "ticks": ""
           }
          },
          "title": {
           "x": 0.05
          },
          "xaxis": {
           "automargin": true,
           "gridcolor": "white",
           "linecolor": "white",
           "ticks": "",
           "title": {
            "standoff": 15
           },
           "zerolinecolor": "white",
           "zerolinewidth": 2
          },
          "yaxis": {
           "automargin": true,
           "gridcolor": "white",
           "linecolor": "white",
           "ticks": "",
           "title": {
            "standoff": 15
           },
           "zerolinecolor": "white",
           "zerolinewidth": 2
          }
         }
        },
        "title": {
         "text": "Survival Rate by Class — Filter by Sex"
        },
        "updatemenus": [
         {
          "buttons": [
           {
            "args": [
             {
              "x": [
               [
                "Third",
                "First",
                "Second"
               ]
              ],
              "y": [
               [
                0.13544668587896252,
                0.36885245901639346,
                0.1574074074074074
               ]
              ]
             },
             {
              "title": "Survival Rate by Class — Male"
             }
            ],
            "label": "Male",
            "method": "update"
           },
           {
            "args": [
             {
              "x": [
               [
                "First",
                "Third",
                "Second"
               ]
              ],
              "y": [
               [
                0.9680851063829787,
                0.5,
                0.9210526315789473
               ]
              ]
             },
             {
              "title": "Survival Rate by Class — Female"
             }
            ],
            "label": "Female",
            "method": "update"
           }
          ],
          "direction": "right",
          "x": 0.5,
          "y": 1.2
         }
        ],
        "xaxis": {
         "anchor": "y",
         "domain": [
          0,
          1
         ],
         "title": {
          "text": "class"
         }
        },
        "yaxis": {
         "anchor": "x",
         "domain": [
          0,
          1
         ],
         "range": [
          0,
          1
         ],
         "title": {
          "text": "Survival Rate"
         }
        }
       }
      }
     },
     "metadata": {},
     "output_type": "display_data"
    }
   ],
   "source": [
    "# this drops rows with missing values, copy avoids Pandas warnings when you add a new column\n",
    "df = titanic.dropna(subset=[\"sex\",\"class\",\"survived\"]).copy()\n",
    "\n",
    "# gets the mean group rate (so every row carries its groups survival rate)\n",
    "df[\"survival_rate\"] = df.groupby([\"sex\",\"class\"])[\"survived\"].transform(\"mean\")\n",
    "\n",
    "# collapse to one group per row\n",
    "agg = df.drop_duplicates(subset=[\"sex\",\"class\"])[[\"sex\",\"class\",\"survival_rate\"]]\n",
    "# agg.head()\n",
    "# start with the default slice before we add a dropdown\n",
    "fig = px.bar(\n",
    "    agg.query(\"sex=='male'\"),\n",
    "    x=\"class\", y=\"survival_rate\",\n",
    "    title=\"Survival Rate by Class — Filter by Sex\"\n",
    ")\n",
    "\n",
    "# add dropdown to switch sex\n",
    "fig.update_layout(\n",
    "    updatemenus=[{\n",
    "        \"buttons\":[\n",
    "            {\"label\":\"Male\",\"method\":\"update\",\n",
    "             \"args\":[{\"x\":[agg.query('sex==\\\"male\\\"')[\"class\"]],\n",
    "                      \"y\":[agg.query('sex==\\\"male\\\"')[\"survival_rate\"]]},\n",
    "                     {\"title\":\"Survival Rate by Class — Male\"}]},\n",
    "            {\"label\":\"Female\",\"method\":\"update\",\n",
    "             \"args\":[{\"x\":[agg.query('sex==\\\"female\\\"')[\"class\"]],\n",
    "                      \"y\":[agg.query('sex==\\\"female\\\"')[\"survival_rate\"]]},\n",
    "                     {\"title\":\"Survival Rate by Class — Female\"}]},\n",
    "        ],\n",
    "        \"direction\":\"right\", \"x\":0.5, \"y\":1.2\n",
    "    }]\n",
    ")\n",
    "\"\"\" \n",
    "updatemenus adds a dropdown.\n",
    "method:\"update\" lets you update both trace data and layout.\n",
    "The first dict in args updates trace properties (x, y).\n",
    "Plotly expects a list per trace → you have one trace, so you pass lists of length 1.\n",
    "The second dict in args updates layout (here, the title).\n",
    "Each button filters agg by sex and swaps the data in the existing trace.\n",
    "\"\"\"\n",
    "\n",
    "# Survival rate is a proportion, we do this to make the comparaion fair\n",
    "fig.update_yaxes(range=[0,1], title=\"Survival Rate\")\n",
    "fig.show()"
   ]
  },
  {
   "cell_type": "markdown",
   "id": "a313f07c",
   "metadata": {},
   "source": [
    "Build an interactive histogram of `age` with:\n",
    "- color by `sex`\n",
    "- `nbins=30`\n",
    "- title + x/y labels\n",
    "- filter out `age` nulls\n",
    "\n",
    "https://plotly.com/python/histograms/\n"
   ]
  },
  {
   "cell_type": "code",
   "execution_count": 13,
   "id": "d2d8788e",
   "metadata": {},
   "outputs": [
    {
     "data": {
      "application/vnd.plotly.v1+json": {
       "config": {
        "plotlyServerURL": "https://plot.ly"
       },
       "data": [
        {
         "bingroup": "x",
         "hovertemplate": "sex=male<br>age=%{x}<br>count=%{y}<extra></extra>",
         "legendgroup": "male",
         "marker": {
          "color": "#636efa",
          "opacity": 0.7,
          "pattern": {
           "shape": ""
          }
         },
         "name": "male",
         "nbinsx": 30,
         "orientation": "v",
         "showlegend": true,
         "type": "histogram",
         "x": {
          "bdata": "AAAAAAAANkAAAAAAAIBBQAAAAAAAAEtAAAAAAAAAAEAAAAAAAAA0QAAAAAAAgENAAAAAAAAAAEAAAAAAAIBBQAAAAAAAAEFAAAAAAAAAPEAAAAAAAAAzQAAAAAAAAERAAAAAAACAUEAAAAAAAAA8QAAAAAAAAEVAAAAAAAAANUAAAAAAAAAcQAAAAAAAADVAAAAAAABAUEAAAAAAAIA8QAAAAAAAACZAAAAAAAAANkAAAAAAAIBGQAAAAAAAABBAAAAAAAAAM0AAAAAAAAA6QAAAAAAAAEBAAAAAAAAANUAAAAAAAAA6QAAAAAAAAEBAAAAAAAAAOUCPwvUoXI/qPwAAAAAAADZAAAAAAAAAPUAAAAAAAAA8QAAAAAAAADBAAAAAAAAAOEAAAAAAAAA9QAAAAAAAADRAAAAAAAAAR0AAAAAAAAA6QAAAAAAAgE1AAAAAAADAUUAAAAAAAAA3QAAAAAAAAEFAAAAAAAAANUAAAAAAAIBAQAAAAAAAgEJAAAAAAAAAPEAAAAAAAABDQAAAAAAAgEdAAAAAAAAANkAAAAAAAAA1QAAAAAAAoFFAAAAAAAAAPUAAAAAAAAA4QAAAAAAAADVAAAAAAABAQEAAAAAAAABLQAAAAAAAAChAAAAAAAAAOEAAAAAAAIBGQAAAAAAAgEBAAAAAAAAANEAAAAAAAAA5QAAAAAAAADdAAAAAAACAQkAAAAAAAAAwQAAAAAAAADhAAAAAAAAAM0AAAAAAAAAyQAAAAAAAADNAAAAAAAAAO0AAAAAAAEBCQAAAAAAAAEVAAAAAAACASUAAAAAAAMBLQAAAAAAAQERAAAAAAACASUAAAAAAAAA+QAAAAAAAAEZAAAAAAAAAOkAAAAAAAAAxQAAAAAAAAPA/AAAAAAAAIkAAAAAAAAA8QAAAAAAAgE5AAAAAAAAAEEAAAAAAAAA1QAAAAAAAAExAAAAAAAAAMkAAAAAAAAA+QAAAAAAAAEJAAAAAAAAAIkAAAAAAAADwPwAAAAAAgEZAAAAAAAAAREAAAAAAAABCQAAAAAAAADNAAAAAAAAACEAAAAAAAABFQAAAAAAAADxAAAAAAAAAQUAAAAAAAMBGQAAAAAAAADJAAAAAAAAAQEAAAAAAAAA6QAAAAAAAAERAAAAAAAAAOEAAAAAAAAA2QAAAAAAAAD5AAAAAAAAARUAAAAAAAAA+QAAAAAAAADBAAAAAAAAAO0AAAAAAAIBJQAAAAAAAAENAAAAAAAAANkAAAAAAAAAzQAAAAAAAgDRAAAAAAAAAMkAAAAAAAAA9QAAAAAAAgE1AAAAAAAAAOEAAAAAAAABGQAAAAAAAADNAAAAAAACAQEAAAAAAAAA9QAAAAAAAADZAAAAAAAAAPkAAAAAAAABGQAAAAAAAgEJAAAAAAAAAS0AAAAAAAABPQAAAAAAAAD5AAAAAAAAACEAAAAAAAABKQAAAAAAAAERAAAAAAAAAQkAAAAAAAAAwQAAAAAAAADlAAAAAAAAAOUAAAAAAAIBCQAAAAAAAABxAAAAAAABAUEAAAAAAAAA8QAAAAAAAADBAAAAAAAAAM0AAAAAAAIBAQAAAAAAAAD5AAAAAAAAANkAAAAAAAABFQAAAAAAAAEJAAAAAAAAAOEAAAAAAAIA3QAAAAAAAADNAcT0K16Nw7T8AAAAAAAA+QAAAAAAAADxAAAAAAACARUAAAAAAAABLQAAAAAAAADZAAAAAAAAAO0AAAAAAAIBOQAAAAAAAwEZAAAAAAAAAQ0AAAAAAAAAwQAAAAAAAAD1AAAAAAACARkAAAAAAAIBGQAAAAAAAAABAAAAAAAAAPEAAAAAAAAA5QAAAAAAAAEJAAAAAAAAACEAAAAAAAABFQAAAAAAAADdAAAAAAAAALkAAAAAAAAA5QAAAAAAAADxAAAAAAAAAREAAAAAAAAA9QAAAAAAAgEFAAAAAAAAAPkAAAAAAAAA5QAAAAAAAADJAAAAAAAAAM0AAAAAAAAA2QAAAAAAAADtAAAAAAAAANEAAAAAAAAAzQAAAAAAAAEBAAAAAAAAAMkAAAAAAAADwPwAAAAAAAEJAAAAAAAAANUAAAAAAAAA8QAAAAAAAADZAAAAAAAAAR0AAAAAAAAA3QAAAAAAAgENAAAAAAAAAOkAAAAAAAAA8QAAAAAAAAEFAAAAAAACASUAAAAAAAAAIQAAAAAAAADVAAAAAAAAARkAAAAAAAAA+QAAAAAAAADVAAAAAAAAAPUAAAAAAAAAyQAAAAAAAAEBAAAAAAAAAPEAAAAAAAAAxQAAAAAAAAElAAAAAAAAAUEAAAAAAAAA/QAAAAAAAADRAAAAAAAAAOUAAAAAAAAAQQAAAAAAAAEFAAAAAAAAASkAAAAAAAABCQAAAAAAAAD5AAAAAAACASEAAAAAAAAA9QAAAAAAAQFBAAAAAAAAASEAAAAAAAABBQAAAAAAAgEdAAAAAAAAASEAAAAAAAABDQAAAAAAAAExAAAAAAAAAQ0AAAAAAAABBQAAAAAAAAD1AAAAAAAAANkAAAAAAAAAiQAAAAAAAAElAAAAAAAAAOUAAAAAAAABNQAAAAAAAAD5AAAAAAAAAIkAAAAAAAAA1QAAAAAAAgEtAAAAAAADAUUAAAAAAAAA1QAAAAAAAADhAAAAAAAAAMUAAAAAAAAAyQAAAAAAAADxAAAAAAAAAOkAAAAAAAAA9QAAAAAAAAEJAAAAAAAAAOEAAAAAAAIBHQAAAAAAAAEBAAAAAAAAANkAAAAAAAEBEQAAAAAAAgENAAAAAAAAAN0AAAAAAAAAxQAAAAAAAgEZAAAAAAAAAQEAAAAAAAABJQAAAAAAAAFBAAAAAAACAQEAAAAAAAAAgQAAAAAAAADFAAAAAAAAAO0AAAAAAAAA2QAAAAAAAAE9AAAAAAAAAREAAAAAAAAA8QAAAAAAAADhAAAAAAAAAM0AAAAAAAABAQAAAAAAAAE9AAAAAAAAAQkAAAAAAAAAwQAAAAAAAADNAAAAAAAAAQEAAAAAAAABLQAAAAAAAAEJAAAAAAACAR0AAAAAAAABOQAAAAAAAADZAAAAAAACAQUAAAAAAAIBHQAAAAAAAgEJAAAAAAAAAQkAAAAAAAIBIQAAAAAAAgEhAAAAAAAAARkAAAAAAAIBBQAAAAAAAAEJAAAAAAAAAPkAAAAAAAAA7QAAAAAAAgEFAAAAAAAAAQUAAAAAAAAA6QAAAAAAAADtAAAAAAAAARUAAAAAAAAA0QAAAAAAAADVAAAAAAAAANUAAAAAAAIBOQAAAAAAAgExAAAAAAAAAOkAAAAAAAABUQAAAAAAAgElAAAAAAAAAQEAAAAAAAABAQAAAAAAAAD9AAAAAAAAANEAAAAAAAABIQAAAAAAAADNAAAAAAAAATEAAAAAAAAA1QAAAAAAAADhAAAAAAAAAN0AAAAAAAABNQAAAAAAAAElAAAAAAAAAREAAAAAAAIBHQAAAAAAAAEJAAAAAAAAANEAAAAAAAABAQAAAAAAAADlAAAAAAACARUAAAAAAAAA/QAAAAAAAgFFAAAAAAAAAP0AAAAAAAAAyQAAAAAAAgDhAAAAAAAAAQkAAAAAAAAA7QAAAAAAAADRAAAAAAAAALEAAAAAAAABOQAAAAAAAADlAAAAAAAAALEAAAAAAAAAzQAAAAAAAADJAAAAAAAAAP0AAAAAAAAA5QAAAAAAAAE5AAAAAAAAASkAAAAAAAABGQAAAAAAAgEhAAAAAAAAARUAAAAAAAIBBQAAAAAAAADlAAAAAAAAAOkAAAAAAAIBDQAAAAAAAAEVAAAAAAAAASEAAAAAAAAA9QAAAAAAAAEpAAAAAAAAAM0AAAAAAAIBAQAAAAAAAADFAAAAAAAAAQUAAAAAAAABJQAAAAAAAADtAAAAAAAAANEAAAAAAAAA5QAAAAAAAACZAAAAAAAAAN0AAAAAAAAA3QAAAAAAAgDxAAAAAAACAQUAAAAAAAABCQAAAAAAAADhAAAAAAAAAP0AAAAAAAIBRQAAAAAAAADBAAAAAAAAAM0AAAAAAAAA/QAAAAAAAABhAAAAAAACAQEAAAAAAAAA3QHE9CtejcOU/AAAAAAAAPEAAAAAAAAAyQAAAAAAAAEFAAAAAAACAREAAAAAAAAA0QAAAAAAAADBAAAAAAAAAQEAAAAAAAAA4QAAAAAAAAEhAAAAAAAAAMkAAAAAAAAA9QAAAAAAAADlAAAAAAAAAOUAAAAAAAAAgQAAAAAAAAPA/AAAAAAAAR0AAAAAAAAAwQAAAAAAAADlAAAAAAACAQ0AAAAAAAAA+QAAAAAAAAEFAAAAAAAAAJkDhehSuR+HaPwAAAAAAADtAAAAAAAAAP0AAAAAAAIBDQAAAAAAAgENAAAAAAAAAOkAAAAAAAIBDQAAAAAAAgEFAAAAAAACAPkAAAAAAAAA/QAAAAAAAgEVAAAAAAAAAJEAAAAAAAAA7QAAAAAAAAENAAAAAAAAAAEAAAAAAAADwP4/C9Shcj+o/AAAAAAAAN0AAAAAAAAAyQAAAAAAAADVAAAAAAAAAQEAAAAAAAAA0QAAAAAAAADBAAAAAAABAQUAAAAAAAAAxQAAAAAAAAEVAAAAAAACAQUAAAAAAAAA8QAAAAAAAABBAAAAAAACAUkAAAAAAAIBJQAAAAAAAgERAAAAAAAAANUAAAAAAAAA4QAAAAAAAAD9AAAAAAAAAEEAAAAAAAAA6QAAAAAAAgEBAAAAAAACAR0AAAAAAAAA0QAAAAAAAADNAAAAAAACAQEAAAAAAAAA8QAAAAAAAADlAAAAAAAAAO0AAAAAAAAA6QAAAAAAAAEBA",
          "dtype": "f8"
         },
         "xaxis": "x",
         "yaxis": "y"
        },
        {
         "bingroup": "x",
         "hovertemplate": "sex=female<br>age=%{x}<br>count=%{y}<extra></extra>",
         "legendgroup": "female",
         "marker": {
          "color": "#EF553B",
          "opacity": 0.7,
          "pattern": {
           "shape": ""
          }
         },
         "name": "female",
         "nbinsx": 30,
         "orientation": "v",
         "showlegend": true,
         "type": "histogram",
         "x": {
          "bdata": "AAAAAAAAQ0AAAAAAAAA6QAAAAAAAgEFAAAAAAAAAO0AAAAAAAAAsQAAAAAAAABBAAAAAAAAATUAAAAAAAAAsQAAAAAAAgEtAAAAAAAAAP0AAAAAAAAAuQAAAAAAAACBAAAAAAAAAQ0AAAAAAAAAyQAAAAAAAACxAAAAAAAAAREAAAAAAAAA7QAAAAAAAAAhAAAAAAAAAM0AAAAAAAAAyQAAAAAAAgEhAAAAAAAAAPUAAAAAAAAA1QAAAAAAAABRAAAAAAAAAQ0AAAAAAAAA9QAAAAAAAADFAAAAAAAAAMEAAAAAAAAA+QAAAAAAAADFAAAAAAACAQEAAAAAAAAA3QAAAAAAAAEFAAAAAAAAAPEAAAAAAAAA1QAAAAAAAAC1AAAAAAAAANEAAAAAAAAAxQAAAAAAAAABAAAAAAABAQEAAAAAAAIBHQAAAAAAAAD1AAAAAAAAAM0AAAAAAAAA2QAAAAAAAADhAAAAAAAAAIkAAAAAAAAA2QAAAAAAAADBAAAAAAAAAREAAAAAAAIBGQAAAAAAAAPA/AAAAAAAASUAAAAAAAAAQQAAAAAAAAEBAAAAAAAAAM0AAAAAAAABGQAAAAAAAAE1AAAAAAAAAOEAAAAAAAAAAQAAAAAAAADBAAAAAAACAQUAAAAAAAAA/QAAAAAAAADtAAAAAAAAAQEAAAAAAAIBBQAAAAAAAABRAAAAAAAAAIEAAAAAAAAA5QAAAAAAAADhAAAAAAAAAPUAAAAAAAIBEQAAAAAAAAD1AAAAAAAAAPkAAAAAAAIBBQAAAAAAAAElAAAAAAAAATUAAAAAAAIBBQAAAAAAAgERAAAAAAACAT0AAAAAAAIBGQAAAAAAAgEFAAAAAAAAANkAAAAAAAAA6QAAAAAAAADNAAAAAAAAAOEAAAAAAAAAAQAAAAAAAAElAAAAAAAAAMUAAAAAAAAA+QAAAAAAAADhAAAAAAAAAMkAAAAAAAAA6QAAAAAAAADpAAAAAAAAAOEAAAAAAAAA/QAAAAAAAAERAAAAAAAAAPkAAAAAAAAA2QAAAAAAAAEJAAAAAAAAAQkAAAAAAAAA/QAAAAAAAADBAAAAAAACAREAAAAAAAAA4QAAAAAAAADhAAAAAAAAAREAAAAAAAAA2QAAAAAAAAENAAAAAAACARkAAAAAAAABOQAAAAAAAADhAAAAAAAAACEAAAAAAAAA2QAAAAAAAAEVAAAAAAAAA8D8AAAAAAIBBQAAAAAAAAEJAAAAAAAAAMUAAAAAAAAA3QAAAAAAAADhAAAAAAAAAP0AAAAAAAAA8QAAAAAAAADVAAAAAAAAANEAAAAAAAIBAQAAAAAAAAEFAAAAAAAAAMkAAAAAAAAAkQAAAAAAAADxAAAAAAAAAPEAAAAAAAAAzQAAAAAAAAEVAAAAAAAAALEAAAAAAAAA1QAAAAAAAADhAAAAAAACARkAAAAAAAAA8QAAAAAAAACpAAAAAAAAAFEAAAAAAAABJQAAAAAAAAOg/AAAAAACAQEAAAAAAAAA3QAAAAAAAADZAAAAAAAAAAEAAAAAAAIBPQAAAAAAAgEFAAAAAAAAAS0AAAAAAAAA5QAAAAAAAADVAAAAAAACAQkAAAAAAAAAwQAAAAAAAgEBAAAAAAAAAS0AAAAAAAABBQAAAAAAAAEJAAAAAAAAAPkAAAAAAAABGQAAAAAAAAElAAAAAAAAAAEAAAAAAAAA+QAAAAAAAABxAAAAAAAAAPkAAAAAAAAA2QAAAAAAAAEJAAAAAAAAAIkAAAAAAAAAmQAAAAAAAADNAAAAAAAAANkAAAAAAAABIQAAAAAAAgENAAAAAAAAAQkAAAAAAAAA9QAAAAAAAgEpAAAAAAAAAQUAAAAAAAIBDQAAAAAAAADlAAAAAAACAQ0AAAAAAAAAyQAAAAAAAAEpAAAAAAAAAOEAAAAAAAAA2QAAAAAAAAERAAAAAAACAQ0AAAAAAAAA4QAAAAAAAADpAAAAAAAAAEEAAAAAAAAA1QAAAAAAAACJAAAAAAAAAPEAAAAAAAIBEQAAAAAAAADhAAAAAAAAAAEAAAAAAAADoPwAAAAAAADdAAAAAAAAAMkAAAAAAAAAyQAAAAAAAAEBAAAAAAAAAREAAAAAAAAAyQAAAAAAAgEVAAAAAAAAALkAAAAAAAAAQQAAAAAAAADJAAAAAAAAAMkAAAAAAAIBGQAAAAAAAADZAAAAAAAAAOEAAAAAAAABDQAAAAAAAADtAAAAAAAAAGEAAAAAAAAA+QAAAAAAAADlAAAAAAAAAPUAAAAAAAABIQAAAAAAAADVAAAAAAAAAPkAAAAAAAAAQQAAAAAAAAEhAAAAAAACAQEAAAAAAAABCQAAAAAAAgElAAAAAAACAPkAAAAAAAIBMQAAAAAAAAEtAAAAAAAAAFEAAAAAAAIBFQAAAAAAAACpAAAAAAAAAMUAAAAAAAAAyQAAAAAAAgEhAAAAAAAAAP0AAAAAAAAA+QAAAAAAAAD9AAAAAAAAAMkAAAAAAAIBAQAAAAAAAABhAAAAAAAAAN0AAAAAAAABKQAAAAAAAADtAAAAAAAAAT0AAAAAAAAAuQAAAAAAAgENAAAAAAAAAPkAAAAAAAAAiQAAAAAAAADBAAAAAAAAARkAAAAAAAAAyQAAAAAAAgEZAAAAAAAAAOEAAAAAAAABIQAAAAAAAAEVAAAAAAAAAO0AAAAAAAIBHQAAAAAAAADxAAAAAAAAALkAAAAAAAABMQAAAAAAAADlAAAAAAAAANkAAAAAAAIBDQAAAAAAAADNA",
          "dtype": "f8"
         },
         "xaxis": "x",
         "yaxis": "y"
        }
       ],
       "layout": {
        "barmode": "overlay",
        "legend": {
         "title": {
          "text": "sex"
         },
         "tracegroupgap": 0
        },
        "template": {
         "data": {
          "bar": [
           {
            "error_x": {
             "color": "#2a3f5f"
            },
            "error_y": {
             "color": "#2a3f5f"
            },
            "marker": {
             "line": {
              "color": "#E5ECF6",
              "width": 0.5
             },
             "pattern": {
              "fillmode": "overlay",
              "size": 10,
              "solidity": 0.2
             }
            },
            "type": "bar"
           }
          ],
          "barpolar": [
           {
            "marker": {
             "line": {
              "color": "#E5ECF6",
              "width": 0.5
             },
             "pattern": {
              "fillmode": "overlay",
              "size": 10,
              "solidity": 0.2
             }
            },
            "type": "barpolar"
           }
          ],
          "carpet": [
           {
            "aaxis": {
             "endlinecolor": "#2a3f5f",
             "gridcolor": "white",
             "linecolor": "white",
             "minorgridcolor": "white",
             "startlinecolor": "#2a3f5f"
            },
            "baxis": {
             "endlinecolor": "#2a3f5f",
             "gridcolor": "white",
             "linecolor": "white",
             "minorgridcolor": "white",
             "startlinecolor": "#2a3f5f"
            },
            "type": "carpet"
           }
          ],
          "choropleth": [
           {
            "colorbar": {
             "outlinewidth": 0,
             "ticks": ""
            },
            "type": "choropleth"
           }
          ],
          "contour": [
           {
            "colorbar": {
             "outlinewidth": 0,
             "ticks": ""
            },
            "colorscale": [
             [
              0,
              "#0d0887"
             ],
             [
              0.1111111111111111,
              "#46039f"
             ],
             [
              0.2222222222222222,
              "#7201a8"
             ],
             [
              0.3333333333333333,
              "#9c179e"
             ],
             [
              0.4444444444444444,
              "#bd3786"
             ],
             [
              0.5555555555555556,
              "#d8576b"
             ],
             [
              0.6666666666666666,
              "#ed7953"
             ],
             [
              0.7777777777777778,
              "#fb9f3a"
             ],
             [
              0.8888888888888888,
              "#fdca26"
             ],
             [
              1,
              "#f0f921"
             ]
            ],
            "type": "contour"
           }
          ],
          "contourcarpet": [
           {
            "colorbar": {
             "outlinewidth": 0,
             "ticks": ""
            },
            "type": "contourcarpet"
           }
          ],
          "heatmap": [
           {
            "colorbar": {
             "outlinewidth": 0,
             "ticks": ""
            },
            "colorscale": [
             [
              0,
              "#0d0887"
             ],
             [
              0.1111111111111111,
              "#46039f"
             ],
             [
              0.2222222222222222,
              "#7201a8"
             ],
             [
              0.3333333333333333,
              "#9c179e"
             ],
             [
              0.4444444444444444,
              "#bd3786"
             ],
             [
              0.5555555555555556,
              "#d8576b"
             ],
             [
              0.6666666666666666,
              "#ed7953"
             ],
             [
              0.7777777777777778,
              "#fb9f3a"
             ],
             [
              0.8888888888888888,
              "#fdca26"
             ],
             [
              1,
              "#f0f921"
             ]
            ],
            "type": "heatmap"
           }
          ],
          "histogram": [
           {
            "marker": {
             "pattern": {
              "fillmode": "overlay",
              "size": 10,
              "solidity": 0.2
             }
            },
            "type": "histogram"
           }
          ],
          "histogram2d": [
           {
            "colorbar": {
             "outlinewidth": 0,
             "ticks": ""
            },
            "colorscale": [
             [
              0,
              "#0d0887"
             ],
             [
              0.1111111111111111,
              "#46039f"
             ],
             [
              0.2222222222222222,
              "#7201a8"
             ],
             [
              0.3333333333333333,
              "#9c179e"
             ],
             [
              0.4444444444444444,
              "#bd3786"
             ],
             [
              0.5555555555555556,
              "#d8576b"
             ],
             [
              0.6666666666666666,
              "#ed7953"
             ],
             [
              0.7777777777777778,
              "#fb9f3a"
             ],
             [
              0.8888888888888888,
              "#fdca26"
             ],
             [
              1,
              "#f0f921"
             ]
            ],
            "type": "histogram2d"
           }
          ],
          "histogram2dcontour": [
           {
            "colorbar": {
             "outlinewidth": 0,
             "ticks": ""
            },
            "colorscale": [
             [
              0,
              "#0d0887"
             ],
             [
              0.1111111111111111,
              "#46039f"
             ],
             [
              0.2222222222222222,
              "#7201a8"
             ],
             [
              0.3333333333333333,
              "#9c179e"
             ],
             [
              0.4444444444444444,
              "#bd3786"
             ],
             [
              0.5555555555555556,
              "#d8576b"
             ],
             [
              0.6666666666666666,
              "#ed7953"
             ],
             [
              0.7777777777777778,
              "#fb9f3a"
             ],
             [
              0.8888888888888888,
              "#fdca26"
             ],
             [
              1,
              "#f0f921"
             ]
            ],
            "type": "histogram2dcontour"
           }
          ],
          "mesh3d": [
           {
            "colorbar": {
             "outlinewidth": 0,
             "ticks": ""
            },
            "type": "mesh3d"
           }
          ],
          "parcoords": [
           {
            "line": {
             "colorbar": {
              "outlinewidth": 0,
              "ticks": ""
             }
            },
            "type": "parcoords"
           }
          ],
          "pie": [
           {
            "automargin": true,
            "type": "pie"
           }
          ],
          "scatter": [
           {
            "fillpattern": {
             "fillmode": "overlay",
             "size": 10,
             "solidity": 0.2
            },
            "type": "scatter"
           }
          ],
          "scatter3d": [
           {
            "line": {
             "colorbar": {
              "outlinewidth": 0,
              "ticks": ""
             }
            },
            "marker": {
             "colorbar": {
              "outlinewidth": 0,
              "ticks": ""
             }
            },
            "type": "scatter3d"
           }
          ],
          "scattercarpet": [
           {
            "marker": {
             "colorbar": {
              "outlinewidth": 0,
              "ticks": ""
             }
            },
            "type": "scattercarpet"
           }
          ],
          "scattergeo": [
           {
            "marker": {
             "colorbar": {
              "outlinewidth": 0,
              "ticks": ""
             }
            },
            "type": "scattergeo"
           }
          ],
          "scattergl": [
           {
            "marker": {
             "colorbar": {
              "outlinewidth": 0,
              "ticks": ""
             }
            },
            "type": "scattergl"
           }
          ],
          "scattermap": [
           {
            "marker": {
             "colorbar": {
              "outlinewidth": 0,
              "ticks": ""
             }
            },
            "type": "scattermap"
           }
          ],
          "scattermapbox": [
           {
            "marker": {
             "colorbar": {
              "outlinewidth": 0,
              "ticks": ""
             }
            },
            "type": "scattermapbox"
           }
          ],
          "scatterpolar": [
           {
            "marker": {
             "colorbar": {
              "outlinewidth": 0,
              "ticks": ""
             }
            },
            "type": "scatterpolar"
           }
          ],
          "scatterpolargl": [
           {
            "marker": {
             "colorbar": {
              "outlinewidth": 0,
              "ticks": ""
             }
            },
            "type": "scatterpolargl"
           }
          ],
          "scatterternary": [
           {
            "marker": {
             "colorbar": {
              "outlinewidth": 0,
              "ticks": ""
             }
            },
            "type": "scatterternary"
           }
          ],
          "surface": [
           {
            "colorbar": {
             "outlinewidth": 0,
             "ticks": ""
            },
            "colorscale": [
             [
              0,
              "#0d0887"
             ],
             [
              0.1111111111111111,
              "#46039f"
             ],
             [
              0.2222222222222222,
              "#7201a8"
             ],
             [
              0.3333333333333333,
              "#9c179e"
             ],
             [
              0.4444444444444444,
              "#bd3786"
             ],
             [
              0.5555555555555556,
              "#d8576b"
             ],
             [
              0.6666666666666666,
              "#ed7953"
             ],
             [
              0.7777777777777778,
              "#fb9f3a"
             ],
             [
              0.8888888888888888,
              "#fdca26"
             ],
             [
              1,
              "#f0f921"
             ]
            ],
            "type": "surface"
           }
          ],
          "table": [
           {
            "cells": {
             "fill": {
              "color": "#EBF0F8"
             },
             "line": {
              "color": "white"
             }
            },
            "header": {
             "fill": {
              "color": "#C8D4E3"
             },
             "line": {
              "color": "white"
             }
            },
            "type": "table"
           }
          ]
         },
         "layout": {
          "annotationdefaults": {
           "arrowcolor": "#2a3f5f",
           "arrowhead": 0,
           "arrowwidth": 1
          },
          "autotypenumbers": "strict",
          "coloraxis": {
           "colorbar": {
            "outlinewidth": 0,
            "ticks": ""
           }
          },
          "colorscale": {
           "diverging": [
            [
             0,
             "#8e0152"
            ],
            [
             0.1,
             "#c51b7d"
            ],
            [
             0.2,
             "#de77ae"
            ],
            [
             0.3,
             "#f1b6da"
            ],
            [
             0.4,
             "#fde0ef"
            ],
            [
             0.5,
             "#f7f7f7"
            ],
            [
             0.6,
             "#e6f5d0"
            ],
            [
             0.7,
             "#b8e186"
            ],
            [
             0.8,
             "#7fbc41"
            ],
            [
             0.9,
             "#4d9221"
            ],
            [
             1,
             "#276419"
            ]
           ],
           "sequential": [
            [
             0,
             "#0d0887"
            ],
            [
             0.1111111111111111,
             "#46039f"
            ],
            [
             0.2222222222222222,
             "#7201a8"
            ],
            [
             0.3333333333333333,
             "#9c179e"
            ],
            [
             0.4444444444444444,
             "#bd3786"
            ],
            [
             0.5555555555555556,
             "#d8576b"
            ],
            [
             0.6666666666666666,
             "#ed7953"
            ],
            [
             0.7777777777777778,
             "#fb9f3a"
            ],
            [
             0.8888888888888888,
             "#fdca26"
            ],
            [
             1,
             "#f0f921"
            ]
           ],
           "sequentialminus": [
            [
             0,
             "#0d0887"
            ],
            [
             0.1111111111111111,
             "#46039f"
            ],
            [
             0.2222222222222222,
             "#7201a8"
            ],
            [
             0.3333333333333333,
             "#9c179e"
            ],
            [
             0.4444444444444444,
             "#bd3786"
            ],
            [
             0.5555555555555556,
             "#d8576b"
            ],
            [
             0.6666666666666666,
             "#ed7953"
            ],
            [
             0.7777777777777778,
             "#fb9f3a"
            ],
            [
             0.8888888888888888,
             "#fdca26"
            ],
            [
             1,
             "#f0f921"
            ]
           ]
          },
          "colorway": [
           "#636efa",
           "#EF553B",
           "#00cc96",
           "#ab63fa",
           "#FFA15A",
           "#19d3f3",
           "#FF6692",
           "#B6E880",
           "#FF97FF",
           "#FECB52"
          ],
          "font": {
           "color": "#2a3f5f"
          },
          "geo": {
           "bgcolor": "white",
           "lakecolor": "white",
           "landcolor": "#E5ECF6",
           "showlakes": true,
           "showland": true,
           "subunitcolor": "white"
          },
          "hoverlabel": {
           "align": "left"
          },
          "hovermode": "closest",
          "mapbox": {
           "style": "light"
          },
          "paper_bgcolor": "white",
          "plot_bgcolor": "#E5ECF6",
          "polar": {
           "angularaxis": {
            "gridcolor": "white",
            "linecolor": "white",
            "ticks": ""
           },
           "bgcolor": "#E5ECF6",
           "radialaxis": {
            "gridcolor": "white",
            "linecolor": "white",
            "ticks": ""
           }
          },
          "scene": {
           "xaxis": {
            "backgroundcolor": "#E5ECF6",
            "gridcolor": "white",
            "gridwidth": 2,
            "linecolor": "white",
            "showbackground": true,
            "ticks": "",
            "zerolinecolor": "white"
           },
           "yaxis": {
            "backgroundcolor": "#E5ECF6",
            "gridcolor": "white",
            "gridwidth": 2,
            "linecolor": "white",
            "showbackground": true,
            "ticks": "",
            "zerolinecolor": "white"
           },
           "zaxis": {
            "backgroundcolor": "#E5ECF6",
            "gridcolor": "white",
            "gridwidth": 2,
            "linecolor": "white",
            "showbackground": true,
            "ticks": "",
            "zerolinecolor": "white"
           }
          },
          "shapedefaults": {
           "line": {
            "color": "#2a3f5f"
           }
          },
          "ternary": {
           "aaxis": {
            "gridcolor": "white",
            "linecolor": "white",
            "ticks": ""
           },
           "baxis": {
            "gridcolor": "white",
            "linecolor": "white",
            "ticks": ""
           },
           "bgcolor": "#E5ECF6",
           "caxis": {
            "gridcolor": "white",
            "linecolor": "white",
            "ticks": ""
           }
          },
          "title": {
           "x": 0.05
          },
          "xaxis": {
           "automargin": true,
           "gridcolor": "white",
           "linecolor": "white",
           "ticks": "",
           "title": {
            "standoff": 15
           },
           "zerolinecolor": "white",
           "zerolinewidth": 2
          },
          "yaxis": {
           "automargin": true,
           "gridcolor": "white",
           "linecolor": "white",
           "ticks": "",
           "title": {
            "standoff": 15
           },
           "zerolinecolor": "white",
           "zerolinewidth": 2
          }
         }
        },
        "title": {
         "text": "Age Distribution by Sex"
        },
        "xaxis": {
         "anchor": "y",
         "domain": [
          0,
          1
         ],
         "title": {
          "text": "Age"
         }
        },
        "yaxis": {
         "anchor": "x",
         "domain": [
          0,
          1
         ],
         "title": {
          "text": "Count"
         }
        }
       }
      }
     },
     "metadata": {},
     "output_type": "display_data"
    }
   ],
   "source": [
    "# dropping null NaN rows that contain these values\n",
    "df = titanic.dropna(subset=[\"age\", \"sex\"])\n",
    "fig = px.histogram(\n",
    "    df, x=\"age\", color=\"sex\", nbins=30, barmode=\"overlay\", opacity=0.7,\n",
    "    title=\"Age Distribution by Sex\"\n",
    ")\n",
    "fig.update_layout(xaxis_title=\"Age\", yaxis_title=\"Count\")\n",
    "fig.show()\n"
   ]
  },
  {
   "cell_type": "markdown",
   "id": "e2f37fa3",
   "metadata": {},
   "source": [
    "### Common Pitfalls & fixes\n",
    "\n",
    "- Cluttered Legends: merge exocings or use direct lables/annotations.\n",
    "- Inconsistent scales: align axis when comparing panels; limit or log-scale\n",
    "- Too many colours: try to use less than six distinct hues\n",
    "- Forgetting titles/units: ALWAYS remember  to title and give units\n",
    "- Sampling bias: visuals reflect the data you have, add caveats (or use if influencing descisions). "
   ]
  },
  {
   "cell_type": "markdown",
   "id": "825180e1",
   "metadata": {},
   "source": [
    "### When to use\n",
    "\n",
    "- *Matplotlib*: maximum control; templates for final static figures\n",
    "- *Seaborn*: fast, beautiful statistics, great defaults\n",
    "- *Plotly*: interaction & sharing; great for stakeholder demos and dashboards\n",
    "\n",
    "So a *general* rule of thumb:\n",
    "- Explore in Seaborn\n",
    "- Refine in Matplotlib\n",
    "- Present interactively in Plotly (if needed)."
   ]
  },
  {
   "cell_type": "markdown",
   "id": "30949f7a",
   "metadata": {},
   "source": []
  }
 ],
 "metadata": {
  "kernelspec": {
   "display_name": "Python 3",
   "language": "python",
   "name": "python3"
  },
  "language_info": {
   "codemirror_mode": {
    "name": "ipython",
    "version": 3
   },
   "file_extension": ".py",
   "mimetype": "text/x-python",
   "name": "python",
   "nbconvert_exporter": "python",
   "pygments_lexer": "ipython3",
   "version": "3.11.11"
  }
 },
 "nbformat": 4,
 "nbformat_minor": 5
}
