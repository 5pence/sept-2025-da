{
 "cells": [
  {
   "cell_type": "code",
   "execution_count": 23,
   "id": "e3fac962",
   "metadata": {},
   "outputs": [
    {
     "data": {
      "text/html": [
       "<div>\n",
       "<style scoped>\n",
       "    .dataframe tbody tr th:only-of-type {\n",
       "        vertical-align: middle;\n",
       "    }\n",
       "\n",
       "    .dataframe tbody tr th {\n",
       "        vertical-align: top;\n",
       "    }\n",
       "\n",
       "    .dataframe thead th {\n",
       "        text-align: right;\n",
       "    }\n",
       "</style>\n",
       "<table border=\"1\" class=\"dataframe\">\n",
       "  <thead>\n",
       "    <tr style=\"text-align: right;\">\n",
       "      <th></th>\n",
       "      <th>species</th>\n",
       "      <th>island</th>\n",
       "      <th>bill_length_mm</th>\n",
       "      <th>bill_depth_mm</th>\n",
       "      <th>flipper_length_mm</th>\n",
       "      <th>body_mass_g</th>\n",
       "      <th>sex</th>\n",
       "    </tr>\n",
       "  </thead>\n",
       "  <tbody>\n",
       "    <tr>\n",
       "      <th>0</th>\n",
       "      <td>Adelie</td>\n",
       "      <td>Torgersen</td>\n",
       "      <td>39.1</td>\n",
       "      <td>18.7</td>\n",
       "      <td>181.0</td>\n",
       "      <td>3750.0</td>\n",
       "      <td>Male</td>\n",
       "    </tr>\n",
       "    <tr>\n",
       "      <th>1</th>\n",
       "      <td>Adelie</td>\n",
       "      <td>Torgersen</td>\n",
       "      <td>39.5</td>\n",
       "      <td>17.4</td>\n",
       "      <td>186.0</td>\n",
       "      <td>3800.0</td>\n",
       "      <td>Female</td>\n",
       "    </tr>\n",
       "    <tr>\n",
       "      <th>2</th>\n",
       "      <td>Adelie</td>\n",
       "      <td>Torgersen</td>\n",
       "      <td>40.3</td>\n",
       "      <td>18.0</td>\n",
       "      <td>195.0</td>\n",
       "      <td>3250.0</td>\n",
       "      <td>Female</td>\n",
       "    </tr>\n",
       "    <tr>\n",
       "      <th>3</th>\n",
       "      <td>Adelie</td>\n",
       "      <td>Torgersen</td>\n",
       "      <td>NaN</td>\n",
       "      <td>NaN</td>\n",
       "      <td>NaN</td>\n",
       "      <td>NaN</td>\n",
       "      <td>NaN</td>\n",
       "    </tr>\n",
       "    <tr>\n",
       "      <th>4</th>\n",
       "      <td>Adelie</td>\n",
       "      <td>Torgersen</td>\n",
       "      <td>36.7</td>\n",
       "      <td>19.3</td>\n",
       "      <td>193.0</td>\n",
       "      <td>3450.0</td>\n",
       "      <td>Female</td>\n",
       "    </tr>\n",
       "  </tbody>\n",
       "</table>\n",
       "</div>"
      ],
      "text/plain": [
       "  species     island  bill_length_mm  bill_depth_mm  flipper_length_mm  \\\n",
       "0  Adelie  Torgersen            39.1           18.7              181.0   \n",
       "1  Adelie  Torgersen            39.5           17.4              186.0   \n",
       "2  Adelie  Torgersen            40.3           18.0              195.0   \n",
       "3  Adelie  Torgersen             NaN            NaN                NaN   \n",
       "4  Adelie  Torgersen            36.7           19.3              193.0   \n",
       "\n",
       "   body_mass_g     sex  \n",
       "0       3750.0    Male  \n",
       "1       3800.0  Female  \n",
       "2       3250.0  Female  \n",
       "3          NaN     NaN  \n",
       "4       3450.0  Female  "
      ]
     },
     "execution_count": 23,
     "metadata": {},
     "output_type": "execute_result"
    }
   ],
   "source": [
    "import pandas as pd\n",
    "import numpy as np\n",
    "import seaborn as sns\n",
    "import plotly.express as px\n",
    "import plotly.graph_objects as go\n",
    "import matplotlib.pyplot as plt\n",
    "\n",
    "# Extract\n",
    "raw = sns.load_dataset(\"penguins\")\n",
    "raw.head()\n",
    "\n"
   ]
  },
  {
   "cell_type": "code",
   "execution_count": 8,
   "id": "f3a05513",
   "metadata": {},
   "outputs": [],
   "source": [
    "# Transform\n",
    "# Standardise column names\n",
    "# Drop missing rows for key variables\n",
    "# Create a simple feature: Mass per flipper\n",
    "# Add an outlier flag using IQR rule\n",
    "df = raw.copy()\n",
    "df = df.rename(columns={c: c.replace(\"_\", \" \").title() for c in df.columns})\n",
    "df[\"Mass/Flipper\"] = df[\"Body Mass G\"] / df[\"Flipper Length Mm\"]\n",
    "\n",
    "def iqr_flags(s):\n",
    "    \"\"\" Calculating inter quartile range and returning True or False\"\"\"\n",
    "    q1, q3 = s.quantile([0.25, 0.75])\n",
    "    iqr = q3 - q1\n",
    "    low, high = q1 - 1.5*iqr, q3 + 1.5*iqr\n",
    "    return (s < low) | (s > high)\n",
    "\n",
    "for col in [\n",
    "    \"Bill Length Mm\",\n",
    "    \"Bill Depth Mm\",\n",
    "    \"Flipper Length Mm\",\n",
    "    \"Body Mass G\",\n",
    "    \"Mass/Flipper\"\n",
    "]:\n",
    "    df[f\"{col} Outlier\"] = iqr_flags(df[col])\n",
    "\n",
    "df.to_csv(\"penguins_cleaned.csv\", index=False)"
   ]
  },
  {
   "cell_type": "code",
   "execution_count": 10,
   "id": "a80b7d58",
   "metadata": {},
   "outputs": [
    {
     "data": {
      "image/png": "[encoded data removed]",
      "text/plain": [
       "<Figure size 1117x1000 with 20 Axes>"
      ]
     },
     "metadata": {},
     "output_type": "display_data"
    },
    {
     "data": {
      "image/png": "[encoded data removed]",
      "text/plain": [
       "<Figure size 640x480 with 1 Axes>"
      ]
     },
     "metadata": {},
     "output_type": "display_data"
    }
   ],
   "source": [
    "sns.pairplot(df, vars=[\"Bill Length Mm\",\"Bill Depth Mm\",\"Flipper Length Mm\",\"Body Mass G\"], hue=\"Species\")\n",
    "plt.show()\n",
    "\n",
    "sns.boxplot(data=df, x=\"Species\", y=\"Body Mass G\")\n",
    "plt.title(\"Body Mass by Species (Seaborn)\")\n",
    "plt.show()\n",
    "\n"
   ]
  },
  {
   "cell_type": "code",
   "execution_count": 11,
   "id": "32a86ed6",
   "metadata": {},
   "outputs": [
    {
     "data": {
      "application/vnd.plotly.v1+json": {
       "config": {
        "plotlyServerURL": "https://plot.ly"
       },
       "data": [
        {
         "customdata": [
          [
           "Torgersen",
           "Male",
           181,
           3750,
           20.718232044198896
          ],
          [
           "Torgersen",
           "Female",
           186,
           3800,
           20.43010752688172
          ],
          [
           "Torgersen",
           "Female",
           195,
           3250,
           16.666666666666668
          ],
          [
           "Torgersen",
           null,
           null,
           null,
           null
          ],
          [
           "Torgersen",
           "Female",
           193,
           3450,
           17.875647668393782
          ],
          [
           "Torgersen",
           "Male",
           190,
           3650,
           19.210526315789473
          ],
          [
           "Torgersen",
           "Female",
           181,
           3625,
           20.027624309392266
          ],
          [
           "Torgersen",
           "Male",
           195,
           4675,
           23.974358974358974
          ],
          [
           "Torgersen",
           null,
           193,
           3475,
           18.00518134715026
          ],
          [
           "Torgersen",
           null,
           190,
           4250,
           22.36842105263158
          ],
          [
           "Torgersen",
           null,
           186,
           3300,
           17.741935483870968
          ],
          [
           "Torgersen",
           null,
           180,
           3700,
           20.555555555555557
          ],
          [
           "Torgersen",
           "Female",
           182,
           3200,
           17.582417582417584
          ],
          [
           "Torgersen",
           "Male",
           191,
           3800,
           19.895287958115183
          ],
          [
           "Torgersen",
           "Male",
           198,
           4400,
           22.22222222222222
          ],
          [
           "Torgersen",
           "Female",
           185,
           3700,
           20
          ],
          [
           "Torgersen",
           "Female",
           195,
           3450,
           17.692307692307693
          ],
          [
           "Torgersen",
           "Male",
           197,
           4500,
           22.84263959390863
          ],
          [
           "Torgersen",
           "Female",
           184,
           3325,
           18.070652173913043
          ],
          [
           "Torgersen",
           "Male",
           194,
           4200,
           21.649484536082475
          ],
          [
           "Biscoe",
           "Female",
           174,
           3400,
           19.54022988505747
          ],
          [
           "Biscoe",
           "Male",
           180,
           3600,
           20
          ],
          [
           "Biscoe",
           "Female",
           189,
           3800,
           20.105820105820104
          ],
          [
           "Biscoe",
           "Male",
           185,
           3950,
           21.35135135135135
          ],
          [
           "Biscoe",
           "Male",
           180,
           3800,
           21.11111111111111
          ],
          [
           "Biscoe",
           "Female",
           187,
           3800,
           20.32085561497326
          ],
          [
           "Biscoe",
           "Male",
           183,
           3550,
           19.398907103825138
          ],
          [
           "Biscoe",
           "Female",
           187,
           3200,
           17.112299465240643
          ],
          [
           "Biscoe",
           "Female",
           172,
           3150,
           18.313953488372093
          ],
          [
           "Biscoe",
           "Male",
           180,
           3950,
           21.944444444444443
          ],
          [
           "Dream",
           "Female",
           178,
           3250,
           18.258426966292134
          ],
          [
           "Dream",
           "Male",
           178,
           3900,
           21.910112359550563
          ],
          [
           "Dream",
           "Female",
           188,
           3300,
           17.5531914893617
          ],
          [
           "Dream",
           "Male",
           184,
           3900,
           21.195652173913043
          ],
          [
           "Dream",
           "Female",
           195,
           3325,
           17.05128205128205
          ],
          [
           "Dream",
           "Male",
           196,
           4150,
           21.1734693877551
          ],
          [
           "Dream",
           "Male",
           190,
           3950,
           20.789473684210527
          ],
          [
           "Dream",
           "Female",
           180,
           3550,
           19.72222222222222
          ],
          [
           "Dream",
           "Female",
           181,
           3300,
           18.23204419889503
          ],
          [
           "Dream",
           "Male",
           184,
           4650,
           25.27173913043478
          ],
          [
           "Dream",
           "Female",
           182,
           3150,
           17.307692307692307
          ],
          [
           "Dream",
           "Male",
           195,
           3900,
           20
          ],
          [
           "Dream",
           "Female",
           186,
           3100,
           16.666666666666668
          ],
          [
           "Dream",
           "Male",
           196,
           4400,
           22.448979591836736
          ],
          [
           "Dream",
           "Female",
           185,
           3000,
           16.216216216216218
          ],
          [
           "Dream",
           "Male",
           190,
           4600,
           24.210526315789473
          ],
          [
           "Dream",
           "Male",
           182,
           3425,
           18.818681318681318
          ],
          [
           "Dream",
           null,
           179,
           2975,
           16.620111731843576
          ],
          [
           "Dream",
           "Female",
           190,
           3450,
           18.157894736842106
          ],
          [
           "Dream",
           "Male",
           191,
           4150,
           21.727748691099478
          ],
          [
           "Biscoe",
           "Female",
           186,
           3500,
           18.817204301075268
          ],
          [
           "Biscoe",
           "Male",
           188,
           4300,
           22.872340425531913
          ],
          [
           "Biscoe",
           "Female",
           190,
           3450,
           18.157894736842106
          ],
          [
           "Biscoe",
           "Male",
           200,
           4050,
           20.25
          ],
          [
           "Biscoe",
           "Female",
           187,
           2900,
           15.508021390374331
          ],
          [
           "Biscoe",
           "Male",
           191,
           3700,
           19.3717277486911
          ],
          [
           "Biscoe",
           "Female",
           186,
           3550,
           19.086021505376344
          ],
          [
           "Biscoe",
           "Male",
           193,
           3800,
           19.689119170984455
          ],
          [
           "Biscoe",
           "Female",
           181,
           2850,
           15.74585635359116
          ],
          [
           "Biscoe",
           "Male",
           194,
           3750,
           19.329896907216494
          ],
          [
           "Biscoe",
           "Female",
           185,
           3150,
           17.027027027027028
          ],
          [
           "Biscoe",
           "Male",
           195,
           4400,
           22.564102564102566
          ],
          [
           "Biscoe",
           "Female",
           185,
           3600,
           19.45945945945946
          ],
          [
           "Biscoe",
           "Male",
           192,
           4050,
           21.09375
          ],
          [
           "Biscoe",
           "Female",
           184,
           2850,
           15.48913043478261
          ],
          [
           "Biscoe",
           "Male",
           192,
           3950,
           20.572916666666668
          ],
          [
           "Biscoe",
           "Female",
           195,
           3350,
           17.17948717948718
          ],
          [
           "Biscoe",
           "Male",
           188,
           4100,
           21.80851063829787
          ],
          [
           "Torgersen",
           "Female",
           190,
           3050,
           16.05263157894737
          ],
          [
           "Torgersen",
           "Male",
           198,
           4450,
           22.474747474747474
          ],
          [
           "Torgersen",
           "Female",
           190,
           3600,
           18.94736842105263
          ],
          [
           "Torgersen",
           "Male",
           190,
           3900,
           20.526315789473685
          ],
          [
           "Torgersen",
           "Female",
           196,
           3550,
           18.112244897959183
          ],
          [
           "Torgersen",
           "Male",
           197,
           4150,
           21.065989847715738
          ],
          [
           "Torgersen",
           "Female",
           190,
           3700,
           19.473684210526315
          ],
          [
           "Torgersen",
           "Male",
           195,
           4250,
           21.794871794871796
          ],
          [
           "Torgersen",
           "Female",
           191,
           3700,
           19.3717277486911
          ],
          [
           "Torgersen",
           "Male",
           184,
           3900,
           21.195652173913043
          ],
          [
           "Torgersen",
           "Female",
           187,
           3550,
           18.983957219251337
          ],
          [
           "Torgersen",
           "Male",
           195,
           4000,
           20.512820512820515
          ],
          [
           "Torgersen",
           "Female",
           189,
           3200,
           16.93121693121693
          ],
          [
           "Torgersen",
           "Male",
           196,
           4700,
           23.979591836734695
          ],
          [
           "Torgersen",
           "Female",
           187,
           3800,
           20.32085561497326
          ],
          [
           "Torgersen",
           "Male",
           193,
           4200,
           21.761658031088082
          ],
          [
           "Dream",
           "Female",
           191,
           3350,
           17.539267015706805
          ],
          [
           "Dream",
           "Male",
           194,
           3550,
           18.298969072164947
          ],
          [
           "Dream",
           "Male",
           190,
           3800,
           20
          ],
          [
           "Dream",
           "Female",
           189,
           3500,
           18.51851851851852
          ],
          [
           "Dream",
           "Male",
           189,
           3950,
           20.8994708994709
          ],
          [
           "Dream",
           "Female",
           190,
           3600,
           18.94736842105263
          ],
          [
           "Dream",
           "Female",
           202,
           3550,
           17.574257425742573
          ],
          [
           "Dream",
           "Male",
           205,
           4300,
           20.975609756097562
          ],
          [
           "Dream",
           "Female",
           185,
           3400,
           18.37837837837838
          ],
          [
           "Dream",
           "Male",
           186,
           4450,
           23.9247311827957
          ],
          [
           "Dream",
           "Female",
           187,
           3300,
           17.647058823529413
          ],
          [
           "Dream",
           "Male",
           208,
           4300,
           20.673076923076923
          ],
          [
           "Dream",
           "Female",
           190,
           3700,
           19.473684210526315
          ],
          [
           "Dream",
           "Male",
           196,
           4350,
           22.193877551020407
          ],
          [
           "Dream",
           "Female",
           178,
           2900,
           16.292134831460675
          ],
          [
           "Dream",
           "Male",
           192,
           4100,
           21.354166666666668
          ],
          [
           "Biscoe",
           "Female",
           192,
           3725,
           19.401041666666668
          ],
          [
           "Biscoe",
           "Male",
           203,
           4725,
           23.275862068965516
          ],
          [
           "Biscoe",
           "Female",
           183,
           3075,
           16.80327868852459
          ],
          [
           "Biscoe",
           "Male",
           190,
           4250,
           22.36842105263158
          ],
          [
           "Biscoe",
           "Female",
           193,
           2925,
           15.155440414507773
          ],
          [
           "Biscoe",
           "Male",
           184,
           3550,
           19.293478260869566
          ],
          [
           "Biscoe",
           "Female",
           199,
           3750,
           18.844221105527637
          ],
          [
           "Biscoe",
           "Male",
           190,
           3900,
           20.526315789473685
          ],
          [
           "Biscoe",
           "Female",
           181,
           3175,
           17.5414364640884
          ],
          [
           "Biscoe",
           "Male",
           197,
           4775,
           24.238578680203045
          ],
          [
           "Biscoe",
           "Female",
           198,
           3825,
           19.318181818181817
          ],
          [
           "Biscoe",
           "Male",
           191,
           4600,
           24.083769633507853
          ],
          [
           "Biscoe",
           "Female",
           193,
           3200,
           16.580310880829014
          ],
          [
           "Biscoe",
           "Male",
           197,
           4275,
           21.700507614213198
          ],
          [
           "Biscoe",
           "Female",
           191,
           3900,
           20.418848167539267
          ],
          [
           "Biscoe",
           "Male",
           196,
           4075,
           20.790816326530614
          ],
          [
           "Torgersen",
           "Female",
           188,
           2900,
           15.425531914893616
          ],
          [
           "Torgersen",
           "Male",
           199,
           3775,
           18.969849246231156
          ],
          [
           "Torgersen",
           "Female",
           189,
           3350,
           17.724867724867725
          ],
          [
           "Torgersen",
           "Male",
           189,
           3325,
           17.59259259259259
          ],
          [
           "Torgersen",
           "Female",
           187,
           3150,
           16.844919786096256
          ],
          [
           "Torgersen",
           "Male",
           198,
           3500,
           17.67676767676768
          ],
          [
           "Torgersen",
           "Female",
           176,
           3450,
           19.602272727272727
          ],
          [
           "Torgersen",
           "Male",
           202,
           3875,
           19.183168316831683
          ],
          [
           "Torgersen",
           "Female",
           186,
           3050,
           16.397849462365592
          ],
          [
           "Torgersen",
           "Male",
           199,
           4000,
           20.100502512562816
          ],
          [
           "Torgersen",
           "Female",
           191,
           3275,
           17.146596858638745
          ],
          [
           "Torgersen",
           "Male",
           195,
           4300,
           22.05128205128205
          ],
          [
           "Torgersen",
           "Female",
           191,
           3050,
           15.968586387434556
          ],
          [
           "Torgersen",
           "Male",
           210,
           4000,
           19.047619047619047
          ],
          [
           "Torgersen",
           "Female",
           190,
           3325,
           17.5
          ],
          [
           "Torgersen",
           "Male",
           197,
           3500,
           17.766497461928935
          ],
          [
           "Dream",
           "Female",
           193,
           3500,
           18.134715025906736
          ],
          [
           "Dream",
           "Male",
           199,
           4475,
           22.487437185929647
          ],
          [
           "Dream",
           "Female",
           187,
           3425,
           18.315508021390375
          ],
          [
           "Dream",
           "Male",
           190,
           3900,
           20.526315789473685
          ],
          [
           "Dream",
           "Female",
           191,
           3175,
           16.623036649214658
          ],
          [
           "Dream",
           "Male",
           200,
           3975,
           19.875
          ],
          [
           "Dream",
           "Female",
           185,
           3400,
           18.37837837837838
          ],
          [
           "Dream",
           "Male",
           193,
           4250,
           22.020725388601036
          ],
          [
           "Dream",
           "Female",
           193,
           3400,
           17.616580310880828
          ],
          [
           "Dream",
           "Male",
           187,
           3475,
           18.58288770053476
          ],
          [
           "Dream",
           "Female",
           188,
           3050,
           16.22340425531915
          ],
          [
           "Dream",
           "Male",
           190,
           3725,
           19.605263157894736
          ],
          [
           "Dream",
           "Female",
           192,
           3000,
           15.625
          ],
          [
           "Dream",
           "Male",
           185,
           3650,
           19.72972972972973
          ],
          [
           "Dream",
           "Male",
           190,
           4250,
           22.36842105263158
          ],
          [
           "Dream",
           "Female",
           184,
           3475,
           18.88586956521739
          ],
          [
           "Dream",
           "Female",
           195,
           3450,
           17.692307692307693
          ],
          [
           "Dream",
           "Male",
           193,
           3750,
           19.430051813471504
          ],
          [
           "Dream",
           "Female",
           187,
           3700,
           19.78609625668449
          ],
          [
           "Dream",
           "Male",
           201,
           4000,
           19.90049751243781
          ]
         ],
         "hovertemplate": "Species=Adelie<br>Bill Length Mm=%{x}<br>Bill Depth Mm=%{y}<br>Island=%{customdata[0]}<br>Sex=%{customdata[1]}<br>Flipper Length Mm=%{customdata[2]}<br>Body Mass G=%{customdata[3]}<br>Mass/Flipper=%{customdata[4]}<extra></extra>",
         "legendgroup": "Adelie",
         "marker": {
          "color": "#636efa",
          "opacity": 0.85,
          "symbol": "circle"
         },
         "mode": "markers",
         "name": "Adelie",
         "orientation": "v",
         "showlegend": true,
         "type": "scatter",
         "x": {
          "bdata": "zczMzMyMQ0AAAAAAAMBDQGZmZmZmJkRAAAAAAAAA+H+amZmZmVlCQGZmZmZmpkNAMzMzMzNzQ0CamZmZmZlDQM3MzMzMDEFAAAAAAAAARUBmZmZmZuZCQGZmZmZm5kJAzczMzMyMREDNzMzMzExDQM3MzMzMTEFAzczMzMxMQkCamZmZmVlDQAAAAAAAQEVAMzMzMzMzQUAAAAAAAABHQGZmZmZm5kJAmpmZmZnZQkAzMzMzM/NBQJqZmZmZGUNAZmZmZmZmQ0BmZmZmZqZBQM3MzMzMTERAAAAAAABAREAzMzMzM/NCQAAAAAAAQERAAAAAAADAQ0CamZmZmZlCQAAAAAAAwENAMzMzMzNzREAzMzMzMzNCQJqZmZmZmUNAZmZmZmZmQ0CamZmZmRlFQM3MzMzMzEJAZmZmZmbmQ0AAAAAAAEBCQGZmZmZmZkRAAAAAAAAAQkDNzMzMzAxGQAAAAAAAgEJAzczMzMzMQ0DNzMzMzIxEQAAAAAAAwEJAAAAAAAAAQkBmZmZmZiZFQM3MzMzMzENAzczMzMwMREAAAAAAAIBBQAAAAAAAAEVAAAAAAABAQUAzMzMzM7NEQAAAAAAAgENAzczMzMxMREAAAAAAAEBCQM3MzMzMzEJAmpmZmZnZQUBmZmZmZqZEQM3MzMzMzEJAzczMzMyMREAzMzMzMzNCQM3MzMzMzERAAAAAAADAQUDNzMzMzIxEQDMzMzMz80FAZmZmZmbmREAAAAAAAMBAQJqZmZmZ2UNAzczMzMzMQ0BmZmZmZuZGQAAAAAAAwEFAZmZmZmZmRUAzMzMzM3NEQJqZmZmZmUJAmpmZmZkZQkDNzMzMzAxFQM3MzMzMTEFAMzMzMzNzRUCamZmZmVlCQM3MzMzMjEFAZmZmZmamQkBmZmZmZqZEQGZmZmZmJkJAMzMzMzNzQkBmZmZmZiZDQDMzMzMzc0NAmpmZmZnZQUDNzMzMzIxEQAAAAAAAAEFAzczMzMzMQ0CamZmZmRlCQGZmZmZmZkRAzczMzMwMQ0BmZmZmZiZEQM3MzMzMjEBAmpmZmZmZRUAAAAAAAIBBQAAAAAAAgERAmpmZmZnZQkBmZmZmZuZCQDMzMzMz80JAmpmZmZnZQ0DNzMzMzExDQJqZmZmZGUNAzczMzMwMQ0CamZmZmZlFQM3MzMzMDENAzczMzMzMRkCamZmZmdlDQJqZmZmZGUVAzczMzMzMQ0CamZmZmVlFQM3MzMzMTENAZmZmZmamQkCamZmZmdlBQM3MzMzMjERAmpmZmZkZQkCamZmZmdlCQJqZmZmZGURAMzMzMzOzRECamZmZmZlBQM3MzMzMTERAZmZmZmZmQ0AAAAAAAMBEQAAAAAAAgENAzczMzMwMRkAAAAAAAEBDQM3MzMzMjEVAZmZmZmZmQkAAAAAAAMBCQM3MzMzMDENAzczMzMyMREDNzMzMzMxBQJqZmZmZGURAAAAAAACAQkCamZmZmdlDQJqZmZmZGURAzczMzMxMREDNzMzMzAxAQJqZmZmZWURAZmZmZmamQkAAAAAAAIBDQJqZmZmZmUNAzczMzMxMQkAAAAAAAABCQGZmZmZm5kJAAAAAAAAAQkAAAAAAAMBEQA==",
          "dtype": "f8"
         },
         "xaxis": "x",
         "y": {
          "bdata": "MzMzMzOzMkBmZmZmZmYxQAAAAAAAADJAAAAAAAAA+H/NzMzMzEwzQJqZmZmZmTRAzczMzMzMMUCamZmZmZkzQJqZmZmZGTJAMzMzMzMzNECamZmZmRkxQM3MzMzMTDFAmpmZmZmZMUAzMzMzMzM1QJqZmZmZGTVAzczMzMzMMUAAAAAAAAAzQDMzMzMzszRAZmZmZmZmMkAAAAAAAIA1QM3MzMzMTDJAMzMzMzOzMkAzMzMzMzMzQJqZmZmZGTJAMzMzMzMzMUBmZmZmZuYyQJqZmZmZmTJAZmZmZmbmMUCamZmZmZkyQGZmZmZm5jJAMzMzMzOzMECamZmZmRkyQM3MzMzMzDFAZmZmZmbmMkAAAAAAAAAxQJqZmZmZGTVAAAAAAAAANEAAAAAAAIAyQM3MzMzMTDNAmpmZmZkZM0AAAAAAAAAyQGZmZmZmZjJAAAAAAACAMkAzMzMzM7MzQGZmZmZm5jBAzczMzMzMMkAAAAAAAAAzQGZmZmZm5jJAZmZmZmbmMUAzMzMzMzM1QDMzMzMzszFAZmZmZmbmMkBmZmZmZuYxQAAAAAAAgDNAmpmZmZkZMkCamZmZmZkyQAAAAAAAgDFAzczMzMzMMkCamZmZmZkwQJqZmZmZGTNAZmZmZmbmMECamZmZmRk1QAAAAAAAADFAMzMzMzMzMkCamZmZmRkxQAAAAAAAADJAMzMzMzMzMECamZmZmRkzQJqZmZmZmTBAZmZmZmZmM0AAAAAAAAAzQGZmZmZmZjJAMzMzMzMzMUBmZmZmZuYyQAAAAAAAgDFAAAAAAACAMkDNzMzMzMwwQGZmZmZmZjNAmpmZmZkZMECamZmZmRkzQDMzMzMzMzFAmpmZmZmZMUDNzMzMzMwyQGZmZmZmZjNAzczMzMzMMUDNzMzMzEw0QAAAAAAAgDNAmpmZmZmZMkAzMzMzMzMzQM3MzMzMzDJAAAAAAAAAMkCamZmZmRkyQJqZmZmZGTFAmpmZmZkZMkDNzMzMzEwxQGZmZmZm5jJAmpmZmZmZMkAAAAAAAIAyQJqZmZmZGTBAAAAAAACAMkBmZmZmZuYxQAAAAAAAADRAAAAAAAAAMEAAAAAAAAA0QJqZmZmZmTJAZmZmZmbmMkAzMzMzMzMxQAAAAAAAADRAAAAAAAAAMUAAAAAAAAAzQAAAAAAAgDBAzczMzMxMNEAzMzMzM7MxQAAAAAAAgDNAMzMzMzOzNEDNzMzMzEwyQAAAAAAAADFAAAAAAACANEAAAAAAAAAxQJqZmZmZmTJAMzMzMzMzMUDNzMzMzMwzQAAAAAAAADFAAAAAAACAMkDNzMzMzMwvQAAAAAAAADNAmpmZmZmZMUDNzMzMzEwyQJqZmZmZGTFAAAAAAAAAMkBmZmZmZuYxQDMzMzMzMzNAAAAAAACAMkAAAAAAAIAyQJqZmZmZmTFAAAAAAACAMUAAAAAAAIAxQJqZmZmZGTRAAAAAAACAMEBmZmZmZuYxQJqZmZmZGTFAMzMzMzMzMUAAAAAAAAAvQAAAAAAAADFAzczMzMzMMEAzMzMzM7MyQJqZmZmZmTJAZmZmZmZmMkDNzMzMzMwxQJqZmZmZGTJAmpmZmZkZMUAAAAAAAIAyQA==",
          "dtype": "f8"
         },
         "yaxis": "y"
        },
        {
         "bingroup": "x",
         "hovertemplate": "Species=Adelie<br>Bill Length Mm=%{x}<br>count=%{y}<extra></extra>",
         "legendgroup": "Adelie",
         "marker": {
          "color": "#636efa"
         },
         "name": "Adelie",
         "opacity": 0.5,
         "showlegend": false,
         "type": "histogram",
         "x": {
          "bdata": "zczMzMyMQ0AAAAAAAMBDQGZmZmZmJkRAAAAAAAAA+H+amZmZmVlCQGZmZmZmpkNAMzMzMzNzQ0CamZmZmZlDQM3MzMzMDEFAAAAAAAAARUBmZmZmZuZCQGZmZmZm5kJAzczMzMyMREDNzMzMzExDQM3MzMzMTEFAzczMzMxMQkCamZmZmVlDQAAAAAAAQEVAMzMzMzMzQUAAAAAAAABHQGZmZmZm5kJAmpmZmZnZQkAzMzMzM/NBQJqZmZmZGUNAZmZmZmZmQ0BmZmZmZqZBQM3MzMzMTERAAAAAAABAREAzMzMzM/NCQAAAAAAAQERAAAAAAADAQ0CamZmZmZlCQAAAAAAAwENAMzMzMzNzREAzMzMzMzNCQJqZmZmZmUNAZmZmZmZmQ0CamZmZmRlFQM3MzMzMzEJAZmZmZmbmQ0AAAAAAAEBCQGZmZmZmZkRAAAAAAAAAQkDNzMzMzAxGQAAAAAAAgEJAzczMzMzMQ0DNzMzMzIxEQAAAAAAAwEJAAAAAAAAAQkBmZmZmZiZFQM3MzMzMzENAzczMzMwMREAAAAAAAIBBQAAAAAAAAEVAAAAAAABAQUAzMzMzM7NEQAAAAAAAgENAzczMzMxMREAAAAAAAEBCQM3MzMzMzEJAmpmZmZnZQUBmZmZmZqZEQM3MzMzMzEJAzczMzMyMREAzMzMzMzNCQM3MzMzMzERAAAAAAADAQUDNzMzMzIxEQDMzMzMz80FAZmZmZmbmREAAAAAAAMBAQJqZmZmZ2UNAzczMzMzMQ0BmZmZmZuZGQAAAAAAAwEFAZmZmZmZmRUAzMzMzM3NEQJqZmZmZmUJAmpmZmZkZQkDNzMzMzAxFQM3MzMzMTEFAMzMzMzNzRUCamZmZmVlCQM3MzMzMjEFAZmZmZmamQkBmZmZmZqZEQGZmZmZmJkJAMzMzMzNzQkBmZmZmZiZDQDMzMzMzc0NAmpmZmZnZQUDNzMzMzIxEQAAAAAAAAEFAzczMzMzMQ0CamZmZmRlCQGZmZmZmZkRAzczMzMwMQ0BmZmZmZiZEQM3MzMzMjEBAmpmZmZmZRUAAAAAAAIBBQAAAAAAAgERAmpmZmZnZQkBmZmZmZuZCQDMzMzMz80JAmpmZmZnZQ0DNzMzMzExDQJqZmZmZGUNAzczMzMwMQ0CamZmZmZlFQM3MzMzMDENAzczMzMzMRkCamZmZmdlDQJqZmZmZGUVAzczMzMzMQ0CamZmZmVlFQM3MzMzMTENAZmZmZmamQkCamZmZmdlBQM3MzMzMjERAmpmZmZkZQkCamZmZmdlCQJqZmZmZGURAMzMzMzOzRECamZmZmZlBQM3MzMzMTERAZmZmZmZmQ0AAAAAAAMBEQAAAAAAAgENAzczMzMwMRkAAAAAAAEBDQM3MzMzMjEVAZmZmZmZmQkAAAAAAAMBCQM3MzMzMDENAzczMzMyMREDNzMzMzMxBQJqZmZmZGURAAAAAAACAQkCamZmZmdlDQJqZmZmZGURAzczMzMxMREDNzMzMzAxAQJqZmZmZWURAZmZmZmamQkAAAAAAAIBDQJqZmZmZmUNAzczMzMxMQkAAAAAAAABCQGZmZmZm5kJAAAAAAAAAQkAAAAAAAMBEQA==",
          "dtype": "f8"
         },
         "xaxis": "x3",
         "yaxis": "y3"
        },
        {
         "customdata": [
          [
           "Torgersen",
           "Male",
           181,
           3750,
           20.718232044198896
          ],
          [
           "Torgersen",
           "Female",
           186,
           3800,
           20.43010752688172
          ],
          [
           "Torgersen",
           "Female",
           195,
           3250,
           16.666666666666668
          ],
          [
           "Torgersen",
           null,
           null,
           null,
           null
          ],
          [
           "Torgersen",
           "Female",
           193,
           3450,
           17.875647668393782
          ],
          [
           "Torgersen",
           "Male",
           190,
           3650,
           19.210526315789473
          ],
          [
           "Torgersen",
           "Female",
           181,
           3625,
           20.027624309392266
          ],
          [
           "Torgersen",
           "Male",
           195,
           4675,
           23.974358974358974
          ],
          [
           "Torgersen",
           null,
           193,
           3475,
           18.00518134715026
          ],
          [
           "Torgersen",
           null,
           190,
           4250,
           22.36842105263158
          ],
          [
           "Torgersen",
           null,
           186,
           3300,
           17.741935483870968
          ],
          [
           "Torgersen",
           null,
           180,
           3700,
           20.555555555555557
          ],
          [
           "Torgersen",
           "Female",
           182,
           3200,
           17.582417582417584
          ],
          [
           "Torgersen",
           "Male",
           191,
           3800,
           19.895287958115183
          ],
          [
           "Torgersen",
           "Male",
           198,
           4400,
           22.22222222222222
          ],
          [
           "Torgersen",
           "Female",
           185,
           3700,
           20
          ],
          [
           "Torgersen",
           "Female",
           195,
           3450,
           17.692307692307693
          ],
          [
           "Torgersen",
           "Male",
           197,
           4500,
           22.84263959390863
          ],
          [
           "Torgersen",
           "Female",
           184,
           3325,
           18.070652173913043
          ],
          [
           "Torgersen",
           "Male",
           194,
           4200,
           21.649484536082475
          ],
          [
           "Biscoe",
           "Female",
           174,
           3400,
           19.54022988505747
          ],
          [
           "Biscoe",
           "Male",
           180,
           3600,
           20
          ],
          [
           "Biscoe",
           "Female",
           189,
           3800,
           20.105820105820104
          ],
          [
           "Biscoe",
           "Male",
           185,
           3950,
           21.35135135135135
          ],
          [
           "Biscoe",
           "Male",
           180,
           3800,
           21.11111111111111
          ],
          [
           "Biscoe",
           "Female",
           187,
           3800,
           20.32085561497326
          ],
          [
           "Biscoe",
           "Male",
           183,
           3550,
           19.398907103825138
          ],
          [
           "Biscoe",
           "Female",
           187,
           3200,
           17.112299465240643
          ],
          [
           "Biscoe",
           "Female",
           172,
           3150,
           18.313953488372093
          ],
          [
           "Biscoe",
           "Male",
           180,
           3950,
           21.944444444444443
          ],
          [
           "Dream",
           "Female",
           178,
           3250,
           18.258426966292134
          ],
          [
           "Dream",
           "Male",
           178,
           3900,
           21.910112359550563
          ],
          [
           "Dream",
           "Female",
           188,
           3300,
           17.5531914893617
          ],
          [
           "Dream",
           "Male",
           184,
           3900,
           21.195652173913043
          ],
          [
           "Dream",
           "Female",
           195,
           3325,
           17.05128205128205
          ],
          [
           "Dream",
           "Male",
           196,
           4150,
           21.1734693877551
          ],
          [
           "Dream",
           "Male",
           190,
           3950,
           20.789473684210527
          ],
          [
           "Dream",
           "Female",
           180,
           3550,
           19.72222222222222
          ],
          [
           "Dream",
           "Female",
           181,
           3300,
           18.23204419889503
          ],
          [
           "Dream",
           "Male",
           184,
           4650,
           25.27173913043478
          ],
          [
           "Dream",
           "Female",
           182,
           3150,
           17.307692307692307
          ],
          [
           "Dream",
           "Male",
           195,
           3900,
           20
          ],
          [
           "Dream",
           "Female",
           186,
           3100,
           16.666666666666668
          ],
          [
           "Dream",
           "Male",
           196,
           4400,
           22.448979591836736
          ],
          [
           "Dream",
           "Female",
           185,
           3000,
           16.216216216216218
          ],
          [
           "Dream",
           "Male",
           190,
           4600,
           24.210526315789473
          ],
          [
           "Dream",
           "Male",
           182,
           3425,
           18.818681318681318
          ],
          [
           "Dream",
           null,
           179,
           2975,
           16.620111731843576
          ],
          [
           "Dream",
           "Female",
           190,
           3450,
           18.157894736842106
          ],
          [
           "Dream",
           "Male",
           191,
           4150,
           21.727748691099478
          ],
          [
           "Biscoe",
           "Female",
           186,
           3500,
           18.817204301075268
          ],
          [
           "Biscoe",
           "Male",
           188,
           4300,
           22.872340425531913
          ],
          [
           "Biscoe",
           "Female",
           190,
           3450,
           18.157894736842106
          ],
          [
           "Biscoe",
           "Male",
           200,
           4050,
           20.25
          ],
          [
           "Biscoe",
           "Female",
           187,
           2900,
           15.508021390374331
          ],
          [
           "Biscoe",
           "Male",
           191,
           3700,
           19.3717277486911
          ],
          [
           "Biscoe",
           "Female",
           186,
           3550,
           19.086021505376344
          ],
          [
           "Biscoe",
           "Male",
           193,
           3800,
           19.689119170984455
          ],
          [
           "Biscoe",
           "Female",
           181,
           2850,
           15.74585635359116
          ],
          [
           "Biscoe",
           "Male",
           194,
           3750,
           19.329896907216494
          ],
          [
           "Biscoe",
           "Female",
           185,
           3150,
           17.027027027027028
          ],
          [
           "Biscoe",
           "Male",
           195,
           4400,
           22.564102564102566
          ],
          [
           "Biscoe",
           "Female",
           185,
           3600,
           19.45945945945946
          ],
          [
           "Biscoe",
           "Male",
           192,
           4050,
           21.09375
          ],
          [
           "Biscoe",
           "Female",
           184,
           2850,
           15.48913043478261
          ],
          [
           "Biscoe",
           "Male",
           192,
           3950,
           20.572916666666668
          ],
          [
           "Biscoe",
           "Female",
           195,
           3350,
           17.17948717948718
          ],
          [
           "Biscoe",
           "Male",
           188,
           4100,
           21.80851063829787
          ],
          [
           "Torgersen",
           "Female",
           190,
           3050,
           16.05263157894737
          ],
          [
           "Torgersen",
           "Male",
           198,
           4450,
           22.474747474747474
          ],
          [
           "Torgersen",
           "Female",
           190,
           3600,
           18.94736842105263
          ],
          [
           "Torgersen",
           "Male",
           190,
           3900,
           20.526315789473685
          ],
          [
           "Torgersen",
           "Female",
           196,
           3550,
           18.112244897959183
          ],
          [
           "Torgersen",
           "Male",
           197,
           4150,
           21.065989847715738
          ],
          [
           "Torgersen",
           "Female",
           190,
           3700,
           19.473684210526315
          ],
          [
           "Torgersen",
           "Male",
           195,
           4250,
           21.794871794871796
          ],
          [
           "Torgersen",
           "Female",
           191,
           3700,
           19.3717277486911
          ],
          [
           "Torgersen",
           "Male",
           184,
           3900,
           21.195652173913043
          ],
          [
           "Torgersen",
           "Female",
           187,
           3550,
           18.983957219251337
          ],
          [
           "Torgersen",
           "Male",
           195,
           4000,
           20.512820512820515
          ],
          [
           "Torgersen",
           "Female",
           189,
           3200,
           16.93121693121693
          ],
          [
           "Torgersen",
           "Male",
           196,
           4700,
           23.979591836734695
          ],
          [
           "Torgersen",
           "Female",
           187,
           3800,
           20.32085561497326
          ],
          [
           "Torgersen",
           "Male",
           193,
           4200,
           21.761658031088082
          ],
          [
           "Dream",
           "Female",
           191,
           3350,
           17.539267015706805
          ],
          [
           "Dream",
           "Male",
           194,
           3550,
           18.298969072164947
          ],
          [
           "Dream",
           "Male",
           190,
           3800,
           20
          ],
          [
           "Dream",
           "Female",
           189,
           3500,
           18.51851851851852
          ],
          [
           "Dream",
           "Male",
           189,
           3950,
           20.8994708994709
          ],
          [
           "Dream",
           "Female",
           190,
           3600,
           18.94736842105263
          ],
          [
           "Dream",
           "Female",
           202,
           3550,
           17.574257425742573
          ],
          [
           "Dream",
           "Male",
           205,
           4300,
           20.975609756097562
          ],
          [
           "Dream",
           "Female",
           185,
           3400,
           18.37837837837838
          ],
          [
           "Dream",
           "Male",
           186,
           4450,
           23.9247311827957
          ],
          [
           "Dream",
           "Female",
           187,
           3300,
           17.647058823529413
          ],
          [
           "Dream",
           "Male",
           208,
           4300,
           20.673076923076923
          ],
          [
           "Dream",
           "Female",
           190,
           3700,
           19.473684210526315
          ],
          [
           "Dream",
           "Male",
           196,
           4350,
           22.193877551020407
          ],
          [
           "Dream",
           "Female",
           178,
           2900,
           16.292134831460675
          ],
          [
           "Dream",
           "Male",
           192,
           4100,
           21.354166666666668
          ],
          [
           "Biscoe",
           "Female",
           192,
           3725,
           19.401041666666668
          ],
          [
           "Biscoe",
           "Male",
           203,
           4725,
           23.275862068965516
          ],
          [
           "Biscoe",
           "Female",
           183,
           3075,
           16.80327868852459
          ],
          [
           "Biscoe",
           "Male",
           190,
           4250,
           22.36842105263158
          ],
          [
           "Biscoe",
           "Female",
           193,
           2925,
           15.155440414507773
          ],
          [
           "Biscoe",
           "Male",
           184,
           3550,
           19.293478260869566
          ],
          [
           "Biscoe",
           "Female",
           199,
           3750,
           18.844221105527637
          ],
          [
           "Biscoe",
           "Male",
           190,
           3900,
           20.526315789473685
          ],
          [
           "Biscoe",
           "Female",
           181,
           3175,
           17.5414364640884
          ],
          [
           "Biscoe",
           "Male",
           197,
           4775,
           24.238578680203045
          ],
          [
           "Biscoe",
           "Female",
           198,
           3825,
           19.318181818181817
          ],
          [
           "Biscoe",
           "Male",
           191,
           4600,
           24.083769633507853
          ],
          [
           "Biscoe",
           "Female",
           193,
           3200,
           16.580310880829014
          ],
          [
           "Biscoe",
           "Male",
           197,
           4275,
           21.700507614213198
          ],
          [
           "Biscoe",
           "Female",
           191,
           3900,
           20.418848167539267
          ],
          [
           "Biscoe",
           "Male",
           196,
           4075,
           20.790816326530614
          ],
          [
           "Torgersen",
           "Female",
           188,
           2900,
           15.425531914893616
          ],
          [
           "Torgersen",
           "Male",
           199,
           3775,
           18.969849246231156
          ],
          [
           "Torgersen",
           "Female",
           189,
           3350,
           17.724867724867725
          ],
          [
           "Torgersen",
           "Male",
           189,
           3325,
           17.59259259259259
          ],
          [
           "Torgersen",
           "Female",
           187,
           3150,
           16.844919786096256
          ],
          [
           "Torgersen",
           "Male",
           198,
           3500,
           17.67676767676768
          ],
          [
           "Torgersen",
           "Female",
           176,
           3450,
           19.602272727272727
          ],
          [
           "Torgersen",
           "Male",
           202,
           3875,
           19.183168316831683
          ],
          [
           "Torgersen",
           "Female",
           186,
           3050,
           16.397849462365592
          ],
          [
           "Torgersen",
           "Male",
           199,
           4000,
           20.100502512562816
          ],
          [
           "Torgersen",
           "Female",
           191,
           3275,
           17.146596858638745
          ],
          [
           "Torgersen",
           "Male",
           195,
           4300,
           22.05128205128205
          ],
          [
           "Torgersen",
           "Female",
           191,
           3050,
           15.968586387434556
          ],
          [
           "Torgersen",
           "Male",
           210,
           4000,
           19.047619047619047
          ],
          [
           "Torgersen",
           "Female",
           190,
           3325,
           17.5
          ],
          [
           "Torgersen",
           "Male",
           197,
           3500,
           17.766497461928935
          ],
          [
           "Dream",
           "Female",
           193,
           3500,
           18.134715025906736
          ],
          [
           "Dream",
           "Male",
           199,
           4475,
           22.487437185929647
          ],
          [
           "Dream",
           "Female",
           187,
           3425,
           18.315508021390375
          ],
          [
           "Dream",
           "Male",
           190,
           3900,
           20.526315789473685
          ],
          [
           "Dream",
           "Female",
           191,
           3175,
           16.623036649214658
          ],
          [
           "Dream",
           "Male",
           200,
           3975,
           19.875
          ],
          [
           "Dream",
           "Female",
           185,
           3400,
           18.37837837837838
          ],
          [
           "Dream",
           "Male",
           193,
           4250,
           22.020725388601036
          ],
          [
           "Dream",
           "Female",
           193,
           3400,
           17.616580310880828
          ],
          [
           "Dream",
           "Male",
           187,
           3475,
           18.58288770053476
          ],
          [
           "Dream",
           "Female",
           188,
           3050,
           16.22340425531915
          ],
          [
           "Dream",
           "Male",
           190,
           3725,
           19.605263157894736
          ],
          [
           "Dream",
           "Female",
           192,
           3000,
           15.625
          ],
          [
           "Dream",
           "Male",
           185,
           3650,
           19.72972972972973
          ],
          [
           "Dream",
           "Male",
           190,
           4250,
           22.36842105263158
          ],
          [
           "Dream",
           "Female",
           184,
           3475,
           18.88586956521739
          ],
          [
           "Dream",
           "Female",
           195,
           3450,
           17.692307692307693
          ],
          [
           "Dream",
           "Male",
           193,
           3750,
           19.430051813471504
          ],
          [
           "Dream",
           "Female",
           187,
           3700,
           19.78609625668449
          ],
          [
           "Dream",
           "Male",
           201,
           4000,
           19.90049751243781
          ]
         ],
         "hovertemplate": "Species=Adelie<br>Bill Depth Mm=%{y}<br>Island=%{customdata[0]}<br>Sex=%{customdata[1]}<br>Flipper Length Mm=%{customdata[2]}<br>Body Mass G=%{customdata[3]}<br>Mass/Flipper=%{customdata[4]}<extra></extra>",
         "legendgroup": "Adelie",
         "marker": {
          "color": "#636efa",
          "symbol": "circle"
         },
         "name": "Adelie",
         "scalegroup": "y",
         "showlegend": false,
         "type": "violin",
         "xaxis": "x2",
         "y": {
          "bdata": "MzMzMzOzMkBmZmZmZmYxQAAAAAAAADJAAAAAAAAA+H/NzMzMzEwzQJqZmZmZmTRAzczMzMzMMUCamZmZmZkzQJqZmZmZGTJAMzMzMzMzNECamZmZmRkxQM3MzMzMTDFAmpmZmZmZMUAzMzMzMzM1QJqZmZmZGTVAzczMzMzMMUAAAAAAAAAzQDMzMzMzszRAZmZmZmZmMkAAAAAAAIA1QM3MzMzMTDJAMzMzMzOzMkAzMzMzMzMzQJqZmZmZGTJAMzMzMzMzMUBmZmZmZuYyQJqZmZmZmTJAZmZmZmbmMUCamZmZmZkyQGZmZmZm5jJAMzMzMzOzMECamZmZmRkyQM3MzMzMzDFAZmZmZmbmMkAAAAAAAAAxQJqZmZmZGTVAAAAAAAAANEAAAAAAAIAyQM3MzMzMTDNAmpmZmZkZM0AAAAAAAAAyQGZmZmZmZjJAAAAAAACAMkAzMzMzM7MzQGZmZmZm5jBAzczMzMzMMkAAAAAAAAAzQGZmZmZm5jJAZmZmZmbmMUAzMzMzMzM1QDMzMzMzszFAZmZmZmbmMkBmZmZmZuYxQAAAAAAAgDNAmpmZmZkZMkCamZmZmZkyQAAAAAAAgDFAzczMzMzMMkCamZmZmZkwQJqZmZmZGTNAZmZmZmbmMECamZmZmRk1QAAAAAAAADFAMzMzMzMzMkCamZmZmRkxQAAAAAAAADJAMzMzMzMzMECamZmZmRkzQJqZmZmZmTBAZmZmZmZmM0AAAAAAAAAzQGZmZmZmZjJAMzMzMzMzMUBmZmZmZuYyQAAAAAAAgDFAAAAAAACAMkDNzMzMzMwwQGZmZmZmZjNAmpmZmZkZMECamZmZmRkzQDMzMzMzMzFAmpmZmZmZMUDNzMzMzMwyQGZmZmZmZjNAzczMzMzMMUDNzMzMzEw0QAAAAAAAgDNAmpmZmZmZMkAzMzMzMzMzQM3MzMzMzDJAAAAAAAAAMkCamZmZmRkyQJqZmZmZGTFAmpmZmZkZMkDNzMzMzEwxQGZmZmZm5jJAmpmZmZmZMkAAAAAAAIAyQJqZmZmZGTBAAAAAAACAMkBmZmZmZuYxQAAAAAAAADRAAAAAAAAAMEAAAAAAAAA0QJqZmZmZmTJAZmZmZmbmMkAzMzMzMzMxQAAAAAAAADRAAAAAAAAAMUAAAAAAAAAzQAAAAAAAgDBAzczMzMxMNEAzMzMzM7MxQAAAAAAAgDNAMzMzMzOzNEDNzMzMzEwyQAAAAAAAADFAAAAAAACANEAAAAAAAAAxQJqZmZmZmTJAMzMzMzMzMUDNzMzMzMwzQAAAAAAAADFAAAAAAACAMkDNzMzMzMwvQAAAAAAAADNAmpmZmZmZMUDNzMzMzEwyQJqZmZmZGTFAAAAAAAAAMkBmZmZmZuYxQDMzMzMzMzNAAAAAAACAMkAAAAAAAIAyQJqZmZmZmTFAAAAAAACAMUAAAAAAAIAxQJqZmZmZGTRAAAAAAACAMEBmZmZmZuYxQJqZmZmZGTFAMzMzMzMzMUAAAAAAAAAvQAAAAAAAADFAzczMzMzMMEAzMzMzM7MyQJqZmZmZmTJAZmZmZmZmMkDNzMzMzMwxQJqZmZmZGTJAmpmZmZkZMUAAAAAAAIAyQA==",
          "dtype": "f8"
         },
         "yaxis": "y2"
        },
        {
         "customdata": [
          [
           "Dream",
           "Female",
           192,
           3500,
           18.229166666666668
          ],
          [
           "Dream",
           "Male",
           196,
           3900,
           19.897959183673468
          ],
          [
           "Dream",
           "Male",
           193,
           3650,
           18.911917098445596
          ],
          [
           "Dream",
           "Female",
           188,
           3525,
           18.75
          ],
          [
           "Dream",
           "Male",
           197,
           3725,
           18.908629441624367
          ],
          [
           "Dream",
           "Female",
           198,
           3950,
           19.949494949494948
          ],
          [
           "Dream",
           "Female",
           178,
           3250,
           18.258426966292134
          ],
          [
           "Dream",
           "Male",
           197,
           3750,
           19.03553299492386
          ],
          [
           "Dream",
           "Female",
           195,
           4150,
           21.28205128205128
          ],
          [
           "Dream",
           "Male",
           198,
           3700,
           18.68686868686869
          ],
          [
           "Dream",
           "Female",
           193,
           3800,
           19.689119170984455
          ],
          [
           "Dream",
           "Male",
           194,
           3775,
           19.45876288659794
          ],
          [
           "Dream",
           "Female",
           185,
           3700,
           20
          ],
          [
           "Dream",
           "Male",
           201,
           4050,
           20.149253731343283
          ],
          [
           "Dream",
           "Female",
           190,
           3575,
           18.81578947368421
          ],
          [
           "Dream",
           "Male",
           201,
           4050,
           20.149253731343283
          ],
          [
           "Dream",
           "Male",
           197,
           3300,
           16.751269035532996
          ],
          [
           "Dream",
           "Female",
           181,
           3700,
           20.441988950276244
          ],
          [
           "Dream",
           "Female",
           190,
           3450,
           18.157894736842106
          ],
          [
           "Dream",
           "Male",
           195,
           4400,
           22.564102564102566
          ],
          [
           "Dream",
           "Female",
           181,
           3600,
           19.88950276243094
          ],
          [
           "Dream",
           "Male",
           191,
           3400,
           17.801047120418847
          ],
          [
           "Dream",
           "Female",
           187,
           2900,
           15.508021390374331
          ],
          [
           "Dream",
           "Male",
           193,
           3800,
           19.689119170984455
          ],
          [
           "Dream",
           "Female",
           195,
           3300,
           16.923076923076923
          ],
          [
           "Dream",
           "Male",
           197,
           4150,
           21.065989847715738
          ],
          [
           "Dream",
           "Female",
           200,
           3400,
           17
          ],
          [
           "Dream",
           "Male",
           200,
           3800,
           19
          ],
          [
           "Dream",
           "Female",
           191,
           3700,
           19.3717277486911
          ],
          [
           "Dream",
           "Male",
           205,
           4550,
           22.195121951219512
          ],
          [
           "Dream",
           "Female",
           187,
           3200,
           17.112299465240643
          ],
          [
           "Dream",
           "Male",
           201,
           4300,
           21.393034825870647
          ],
          [
           "Dream",
           "Female",
           187,
           3350,
           17.914438502673796
          ],
          [
           "Dream",
           "Male",
           203,
           4100,
           20.19704433497537
          ],
          [
           "Dream",
           "Male",
           195,
           3600,
           18.46153846153846
          ],
          [
           "Dream",
           "Female",
           199,
           3900,
           19.597989949748744
          ],
          [
           "Dream",
           "Female",
           195,
           3850,
           19.743589743589745
          ],
          [
           "Dream",
           "Male",
           210,
           4800,
           22.857142857142858
          ],
          [
           "Dream",
           "Female",
           192,
           2700,
           14.0625
          ],
          [
           "Dream",
           "Male",
           205,
           4500,
           21.951219512195124
          ],
          [
           "Dream",
           "Male",
           210,
           3950,
           18.80952380952381
          ],
          [
           "Dream",
           "Female",
           187,
           3650,
           19.518716577540108
          ],
          [
           "Dream",
           "Male",
           196,
           3550,
           18.112244897959183
          ],
          [
           "Dream",
           "Female",
           196,
           3500,
           17.857142857142858
          ],
          [
           "Dream",
           "Female",
           196,
           3675,
           18.75
          ],
          [
           "Dream",
           "Male",
           201,
           4450,
           22.139303482587064
          ],
          [
           "Dream",
           "Female",
           190,
           3400,
           17.894736842105264
          ],
          [
           "Dream",
           "Male",
           212,
           4300,
           20.28301886792453
          ],
          [
           "Dream",
           "Male",
           187,
           3250,
           17.379679144385026
          ],
          [
           "Dream",
           "Female",
           198,
           3675,
           18.560606060606062
          ],
          [
           "Dream",
           "Female",
           199,
           3325,
           16.70854271356784
          ],
          [
           "Dream",
           "Male",
           201,
           3950,
           19.65174129353234
          ],
          [
           "Dream",
           "Female",
           193,
           3600,
           18.65284974093264
          ],
          [
           "Dream",
           "Male",
           203,
           4050,
           19.950738916256157
          ],
          [
           "Dream",
           "Female",
           187,
           3350,
           17.914438502673796
          ],
          [
           "Dream",
           "Male",
           197,
           3450,
           17.512690355329948
          ],
          [
           "Dream",
           "Female",
           191,
           3250,
           17.015706806282722
          ],
          [
           "Dream",
           "Male",
           203,
           4050,
           19.950738916256157
          ],
          [
           "Dream",
           "Male",
           202,
           3800,
           18.81188118811881
          ],
          [
           "Dream",
           "Female",
           194,
           3525,
           18.170103092783506
          ],
          [
           "Dream",
           "Male",
           206,
           3950,
           19.174757281553397
          ],
          [
           "Dream",
           "Female",
           189,
           3650,
           19.312169312169313
          ],
          [
           "Dream",
           "Female",
           195,
           3650,
           18.71794871794872
          ],
          [
           "Dream",
           "Male",
           207,
           4000,
           19.32367149758454
          ],
          [
           "Dream",
           "Female",
           202,
           3400,
           16.831683168316832
          ],
          [
           "Dream",
           "Male",
           193,
           3775,
           19.559585492227978
          ],
          [
           "Dream",
           "Male",
           210,
           4100,
           19.523809523809526
          ],
          [
           "Dream",
           "Female",
           198,
           3775,
           19.065656565656564
          ]
         ],
         "hovertemplate": "Species=Chinstrap<br>Bill Length Mm=%{x}<br>Bill Depth Mm=%{y}<br>Island=%{customdata[0]}<br>Sex=%{customdata[1]}<br>Flipper Length Mm=%{customdata[2]}<br>Body Mass G=%{customdata[3]}<br>Mass/Flipper=%{customdata[4]}<extra></extra>",
         "legendgroup": "Chinstrap",
         "marker": {
          "color": "#EF553B",
          "opacity": 0.85,
          "symbol": "circle"
         },
         "mode": "markers",
         "name": "Chinstrap",
         "orientation": "v",
         "showlegend": true,
         "type": "scatter",
         "x": {
          "bdata": "AAAAAABAR0AAAAAAAABJQGZmZmZmpklAMzMzMzOzRkCamZmZmVlKQJqZmZmZmUZAzczMzMwMR0BmZmZmZqZJQAAAAAAAAEdAZmZmZmamSUDNzMzMzExHQJqZmZmZ2UlAAAAAAACAR0AAAAAAAABKQDMzMzMz80ZAAAAAAABASUBmZmZmZiZJQAAAAAAAAE1AMzMzMzMzR0CamZmZmZlIQDMzMzMzM0VAAAAAAABASECamZmZmZlFQM3MzMzMTElAmpmZmZlZR0AAAAAAAABKQAAAAAAAQElAAAAAAADASEAzMzMzMzNHQGZmZmZmZkpAMzMzMzNzRECamZmZmRlLQAAAAAAAQEVAAAAAAACASUCamZmZmdlIQAAAAAAAwEdAzczMzMzMR0AAAAAAAABKQDMzMzMzc0dAAAAAAADASkAAAAAAAIBIQJqZmZmZGUdAMzMzMzNzSUAAAAAAAMBGQDMzMzMzc0lAZmZmZmZmSUDNzMzMzAxJQAAAAAAAgEhAAAAAAADASUBmZmZmZuZIQM3MzMzMDEhAMzMzMzOzSUCamZmZmdlGQJqZmZmZWUlAAAAAAABARUCamZmZmRlKQJqZmZmZmUZAZmZmZmamSECamZmZmRlJQM3MzMzMzEZAMzMzMzPzSUBmZmZmZmZHQJqZmZmZ2UZAZmZmZmbmS0AAAAAAAMBFQM3MzMzMzEhAZmZmZmZmSUCamZmZmRlJQA==",
          "dtype": "f8"
         },
         "xaxis": "x",
         "y": {
          "bdata": "ZmZmZmbmMUAAAAAAAIAzQDMzMzMzMzNAMzMzMzOzMkDNzMzMzMwzQM3MzMzMzDFAMzMzMzMzMkAzMzMzMzMyQGZmZmZm5jJAZmZmZmbmM0DNzMzMzMwxQM3MzMzMTDRAzczMzMxMMUCamZmZmRkyQJqZmZmZGTFAmpmZmZmZM0AAAAAAAAA0QM3MzMzMzDFAmpmZmZmZMkAzMzMzMzMyQM3MzMzMTDFAAAAAAACAMUCamZmZmZkwQGZmZmZmZjNAZmZmZmbmMUAAAAAAAAAzQGZmZmZmZjJAAAAAAAAAM0DNzMzMzMwxQAAAAAAAADRAmpmZmZmZMEDNzMzMzMw0QDMzMzMzszBAzczMzMzMMkCamZmZmZkyQM3MzMzMzDBAzczMzMxMMkAzMzMzM7M0QJqZmZmZmTBAZmZmZmbmM0AAAAAAAIAzQAAAAAAAgDFAmpmZmZkZM0AAAAAAAAAxQGZmZmZm5jFAAAAAAACAMkBmZmZmZuYxQJqZmZmZmTNAMzMzMzOzMkDNzMzMzEwxQGZmZmZmZjBAAAAAAAAAM0DNzMzMzEwxQDMzMzMzszNAzczMzMxMMUDNzMzMzMwyQJqZmZmZmTBAZmZmZmbmM0DNzMzMzMwyQGZmZmZmZjNAAAAAAACAM0AAAAAAAIAwQAAAAAAAADFAzczMzMzMM0CamZmZmRkyQDMzMzMzMzJAAAAAAAAAM0AzMzMzM7MyQA==",
          "dtype": "f8"
         },
         "yaxis": "y"
        },
        {
         "bingroup": "x",
         "hovertemplate": "Species=Chinstrap<br>Bill Length Mm=%{x}<br>count=%{y}<extra></extra>",
         "legendgroup": "Chinstrap",
         "marker": {
          "color": "#EF553B"
         },
         "name": "Chinstrap",
         "opacity": 0.5,
         "showlegend": false,
         "type": "histogram",
         "x": {
          "bdata": "AAAAAABAR0AAAAAAAABJQGZmZmZmpklAMzMzMzOzRkCamZmZmVlKQJqZmZmZmUZAzczMzMwMR0BmZmZmZqZJQAAAAAAAAEdAZmZmZmamSUDNzMzMzExHQJqZmZmZ2UlAAAAAAACAR0AAAAAAAABKQDMzMzMz80ZAAAAAAABASUBmZmZmZiZJQAAAAAAAAE1AMzMzMzMzR0CamZmZmZlIQDMzMzMzM0VAAAAAAABASECamZmZmZlFQM3MzMzMTElAmpmZmZlZR0AAAAAAAABKQAAAAAAAQElAAAAAAADASEAzMzMzMzNHQGZmZmZmZkpAMzMzMzNzRECamZmZmRlLQAAAAAAAQEVAAAAAAACASUCamZmZmdlIQAAAAAAAwEdAzczMzMzMR0AAAAAAAABKQDMzMzMzc0dAAAAAAADASkAAAAAAAIBIQJqZmZmZGUdAMzMzMzNzSUAAAAAAAMBGQDMzMzMzc0lAZmZmZmZmSUDNzMzMzAxJQAAAAAAAgEhAAAAAAADASUBmZmZmZuZIQM3MzMzMDEhAMzMzMzOzSUCamZmZmdlGQJqZmZmZWUlAAAAAAABARUCamZmZmRlKQJqZmZmZmUZAZmZmZmamSECamZmZmRlJQM3MzMzMzEZAMzMzMzPzSUBmZmZmZmZHQJqZmZmZ2UZAZmZmZmbmS0AAAAAAAMBFQM3MzMzMzEhAZmZmZmZmSUCamZmZmRlJQA==",
          "dtype": "f8"
         },
         "xaxis": "x3",
         "yaxis": "y3"
        },
        {
         "customdata": [
          [
           "Dream",
           "Female",
           192,
           3500,
           18.229166666666668
          ],
          [
           "Dream",
           "Male",
           196,
           3900,
           19.897959183673468
          ],
          [
           "Dream",
           "Male",
           193,
           3650,
           18.911917098445596
          ],
          [
           "Dream",
           "Female",
           188,
           3525,
           18.75
          ],
          [
           "Dream",
           "Male",
           197,
           3725,
           18.908629441624367
          ],
          [
           "Dream",
           "Female",
           198,
           3950,
           19.949494949494948
          ],
          [
           "Dream",
           "Female",
           178,
           3250,
           18.258426966292134
          ],
          [
           "Dream",
           "Male",
           197,
           3750,
           19.03553299492386
          ],
          [
           "Dream",
           "Female",
           195,
           4150,
           21.28205128205128
          ],
          [
           "Dream",
           "Male",
           198,
           3700,
           18.68686868686869
          ],
          [
           "Dream",
           "Female",
           193,
           3800,
           19.689119170984455
          ],
          [
           "Dream",
           "Male",
           194,
           3775,
           19.45876288659794
          ],
          [
           "Dream",
           "Female",
           185,
           3700,
           20
          ],
          [
           "Dream",
           "Male",
           201,
           4050,
           20.149253731343283
          ],
          [
           "Dream",
           "Female",
           190,
           3575,
           18.81578947368421
          ],
          [
           "Dream",
           "Male",
           201,
           4050,
           20.149253731343283
          ],
          [
           "Dream",
           "Male",
           197,
           3300,
           16.751269035532996
          ],
          [
           "Dream",
           "Female",
           181,
           3700,
           20.441988950276244
          ],
          [
           "Dream",
           "Female",
           190,
           3450,
           18.157894736842106
          ],
          [
           "Dream",
           "Male",
           195,
           4400,
           22.564102564102566
          ],
          [
           "Dream",
           "Female",
           181,
           3600,
           19.88950276243094
          ],
          [
           "Dream",
           "Male",
           191,
           3400,
           17.801047120418847
          ],
          [
           "Dream",
           "Female",
           187,
           2900,
           15.508021390374331
          ],
          [
           "Dream",
           "Male",
           193,
           3800,
           19.689119170984455
          ],
          [
           "Dream",
           "Female",
           195,
           3300,
           16.923076923076923
          ],
          [
           "Dream",
           "Male",
           197,
           4150,
           21.065989847715738
          ],
          [
           "Dream",
           "Female",
           200,
           3400,
           17
          ],
          [
           "Dream",
           "Male",
           200,
           3800,
           19
          ],
          [
           "Dream",
           "Female",
           191,
           3700,
           19.3717277486911
          ],
          [
           "Dream",
           "Male",
           205,
           4550,
           22.195121951219512
          ],
          [
           "Dream",
           "Female",
           187,
           3200,
           17.112299465240643
          ],
          [
           "Dream",
           "Male",
           201,
           4300,
           21.393034825870647
          ],
          [
           "Dream",
           "Female",
           187,
           3350,
           17.914438502673796
          ],
          [
           "Dream",
           "Male",
           203,
           4100,
           20.19704433497537
          ],
          [
           "Dream",
           "Male",
           195,
           3600,
           18.46153846153846
          ],
          [
           "Dream",
           "Female",
           199,
           3900,
           19.597989949748744
          ],
          [
           "Dream",
           "Female",
           195,
           3850,
           19.743589743589745
          ],
          [
           "Dream",
           "Male",
           210,
           4800,
           22.857142857142858
          ],
          [
           "Dream",
           "Female",
           192,
           2700,
           14.0625
          ],
          [
           "Dream",
           "Male",
           205,
           4500,
           21.951219512195124
          ],
          [
           "Dream",
           "Male",
           210,
           3950,
           18.80952380952381
          ],
          [
           "Dream",
           "Female",
           187,
           3650,
           19.518716577540108
          ],
          [
           "Dream",
           "Male",
           196,
           3550,
           18.112244897959183
          ],
          [
           "Dream",
           "Female",
           196,
           3500,
           17.857142857142858
          ],
          [
           "Dream",
           "Female",
           196,
           3675,
           18.75
          ],
          [
           "Dream",
           "Male",
           201,
           4450,
           22.139303482587064
          ],
          [
           "Dream",
           "Female",
           190,
           3400,
           17.894736842105264
          ],
          [
           "Dream",
           "Male",
           212,
           4300,
           20.28301886792453
          ],
          [
           "Dream",
           "Male",
           187,
           3250,
           17.379679144385026
          ],
          [
           "Dream",
           "Female",
           198,
           3675,
           18.560606060606062
          ],
          [
           "Dream",
           "Female",
           199,
           3325,
           16.70854271356784
          ],
          [
           "Dream",
           "Male",
           201,
           3950,
           19.65174129353234
          ],
          [
           "Dream",
           "Female",
           193,
           3600,
           18.65284974093264
          ],
          [
           "Dream",
           "Male",
           203,
           4050,
           19.950738916256157
          ],
          [
           "Dream",
           "Female",
           187,
           3350,
           17.914438502673796
          ],
          [
           "Dream",
           "Male",
           197,
           3450,
           17.512690355329948
          ],
          [
           "Dream",
           "Female",
           191,
           3250,
           17.015706806282722
          ],
          [
           "Dream",
           "Male",
           203,
           4050,
           19.950738916256157
          ],
          [
           "Dream",
           "Male",
           202,
           3800,
           18.81188118811881
          ],
          [
           "Dream",
           "Female",
           194,
           3525,
           18.170103092783506
          ],
          [
           "Dream",
           "Male",
           206,
           3950,
           19.174757281553397
          ],
          [
           "Dream",
           "Female",
           189,
           3650,
           19.312169312169313
          ],
          [
           "Dream",
           "Female",
           195,
           3650,
           18.71794871794872
          ],
          [
           "Dream",
           "Male",
           207,
           4000,
           19.32367149758454
          ],
          [
           "Dream",
           "Female",
           202,
           3400,
           16.831683168316832
          ],
          [
           "Dream",
           "Male",
           193,
           3775,
           19.559585492227978
          ],
          [
           "Dream",
           "Male",
           210,
           4100,
           19.523809523809526
          ],
          [
           "Dream",
           "Female",
           198,
           3775,
           19.065656565656564
          ]
         ],
         "hovertemplate": "Species=Chinstrap<br>Bill Depth Mm=%{y}<br>Island=%{customdata[0]}<br>Sex=%{customdata[1]}<br>Flipper Length Mm=%{customdata[2]}<br>Body Mass G=%{customdata[3]}<br>Mass/Flipper=%{customdata[4]}<extra></extra>",
         "legendgroup": "Chinstrap",
         "marker": {
          "color": "#EF553B",
          "symbol": "circle"
         },
         "name": "Chinstrap",
         "scalegroup": "y",
         "showlegend": false,
         "type": "violin",
         "xaxis": "x2",
         "y": {
          "bdata": "ZmZmZmbmMUAAAAAAAIAzQDMzMzMzMzNAMzMzMzOzMkDNzMzMzMwzQM3MzMzMzDFAMzMzMzMzMkAzMzMzMzMyQGZmZmZm5jJAZmZmZmbmM0DNzMzMzMwxQM3MzMzMTDRAzczMzMxMMUCamZmZmRkyQJqZmZmZGTFAmpmZmZmZM0AAAAAAAAA0QM3MzMzMzDFAmpmZmZmZMkAzMzMzMzMyQM3MzMzMTDFAAAAAAACAMUCamZmZmZkwQGZmZmZmZjNAZmZmZmbmMUAAAAAAAAAzQGZmZmZmZjJAAAAAAAAAM0DNzMzMzMwxQAAAAAAAADRAmpmZmZmZMEDNzMzMzMw0QDMzMzMzszBAzczMzMzMMkCamZmZmZkyQM3MzMzMzDBAzczMzMxMMkAzMzMzM7M0QJqZmZmZmTBAZmZmZmbmM0AAAAAAAIAzQAAAAAAAgDFAmpmZmZkZM0AAAAAAAAAxQGZmZmZm5jFAAAAAAACAMkBmZmZmZuYxQJqZmZmZmTNAMzMzMzOzMkDNzMzMzEwxQGZmZmZmZjBAAAAAAAAAM0DNzMzMzEwxQDMzMzMzszNAzczMzMxMMUDNzMzMzMwyQJqZmZmZmTBAZmZmZmbmM0DNzMzMzMwyQGZmZmZmZjNAAAAAAACAM0AAAAAAAIAwQAAAAAAAADFAzczMzMzMM0CamZmZmRkyQDMzMzMzMzJAAAAAAAAAM0AzMzMzM7MyQA==",
          "dtype": "f8"
         },
         "yaxis": "y2"
        },
        {
         "customdata": [
          [
           "Biscoe",
           "Female",
           211,
           4500,
           21.327014218009477
          ],
          [
           "Biscoe",
           "Male",
           230,
           5700,
           24.782608695652176
          ],
          [
           "Biscoe",
           "Female",
           210,
           4450,
           21.19047619047619
          ],
          [
           "Biscoe",
           "Male",
           218,
           5700,
           26.146788990825687
          ],
          [
           "Biscoe",
           "Male",
           215,
           5400,
           25.11627906976744
          ],
          [
           "Biscoe",
           "Female",
           210,
           4550,
           21.666666666666668
          ],
          [
           "Biscoe",
           "Female",
           211,
           4800,
           22.748815165876778
          ],
          [
           "Biscoe",
           "Male",
           219,
           5200,
           23.744292237442924
          ],
          [
           "Biscoe",
           "Female",
           209,
           4400,
           21.05263157894737
          ],
          [
           "Biscoe",
           "Male",
           215,
           5150,
           23.953488372093023
          ],
          [
           "Biscoe",
           "Female",
           214,
           4650,
           21.72897196261682
          ],
          [
           "Biscoe",
           "Male",
           216,
           5550,
           25.694444444444443
          ],
          [
           "Biscoe",
           "Female",
           214,
           4650,
           21.72897196261682
          ],
          [
           "Biscoe",
           "Male",
           213,
           5850,
           27.464788732394368
          ],
          [
           "Biscoe",
           "Female",
           210,
           4200,
           20
          ],
          [
           "Biscoe",
           "Male",
           217,
           5850,
           26.95852534562212
          ],
          [
           "Biscoe",
           "Female",
           210,
           4150,
           19.761904761904763
          ],
          [
           "Biscoe",
           "Male",
           221,
           6300,
           28.506787330316744
          ],
          [
           "Biscoe",
           "Female",
           209,
           4800,
           22.966507177033492
          ],
          [
           "Biscoe",
           "Male",
           222,
           5350,
           24.0990990990991
          ],
          [
           "Biscoe",
           "Male",
           218,
           5700,
           26.146788990825687
          ],
          [
           "Biscoe",
           "Female",
           215,
           5000,
           23.25581395348837
          ],
          [
           "Biscoe",
           "Female",
           213,
           4400,
           20.657276995305164
          ],
          [
           "Biscoe",
           "Male",
           215,
           5050,
           23.488372093023255
          ],
          [
           "Biscoe",
           "Female",
           215,
           5000,
           23.25581395348837
          ],
          [
           "Biscoe",
           "Male",
           215,
           5100,
           23.72093023255814
          ],
          [
           "Biscoe",
           null,
           216,
           4100,
           18.98148148148148
          ],
          [
           "Biscoe",
           "Male",
           215,
           5650,
           26.27906976744186
          ],
          [
           "Biscoe",
           "Female",
           210,
           4600,
           21.904761904761905
          ],
          [
           "Biscoe",
           "Male",
           220,
           5550,
           25.227272727272727
          ],
          [
           "Biscoe",
           "Male",
           222,
           5250,
           23.64864864864865
          ],
          [
           "Biscoe",
           "Female",
           209,
           4700,
           22.48803827751196
          ],
          [
           "Biscoe",
           "Female",
           207,
           5050,
           24.396135265700483
          ],
          [
           "Biscoe",
           "Male",
           230,
           6050,
           26.304347826086957
          ],
          [
           "Biscoe",
           "Female",
           220,
           5150,
           23.40909090909091
          ],
          [
           "Biscoe",
           "Male",
           220,
           5400,
           24.545454545454547
          ],
          [
           "Biscoe",
           "Female",
           213,
           4950,
           23.239436619718308
          ],
          [
           "Biscoe",
           "Male",
           219,
           5250,
           23.972602739726028
          ],
          [
           "Biscoe",
           "Female",
           208,
           4350,
           20.91346153846154
          ],
          [
           "Biscoe",
           "Male",
           208,
           5350,
           25.721153846153847
          ],
          [
           "Biscoe",
           "Female",
           208,
           3950,
           18.990384615384617
          ],
          [
           "Biscoe",
           "Male",
           225,
           5700,
           25.333333333333332
          ],
          [
           "Biscoe",
           "Female",
           210,
           4300,
           20.476190476190474
          ],
          [
           "Biscoe",
           "Male",
           216,
           4750,
           21.99074074074074
          ],
          [
           "Biscoe",
           "Male",
           222,
           5550,
           25
          ],
          [
           "Biscoe",
           "Female",
           217,
           4900,
           22.580645161290324
          ],
          [
           "Biscoe",
           "Female",
           210,
           4200,
           20
          ],
          [
           "Biscoe",
           "Male",
           225,
           5400,
           24
          ],
          [
           "Biscoe",
           "Female",
           213,
           5100,
           23.943661971830984
          ],
          [
           "Biscoe",
           "Male",
           215,
           5300,
           24.651162790697676
          ],
          [
           "Biscoe",
           "Female",
           210,
           4850,
           23.095238095238095
          ],
          [
           "Biscoe",
           "Male",
           220,
           5300,
           24.09090909090909
          ],
          [
           "Biscoe",
           "Female",
           210,
           4400,
           20.952380952380953
          ],
          [
           "Biscoe",
           "Male",
           225,
           5000,
           22.22222222222222
          ],
          [
           "Biscoe",
           "Female",
           217,
           4900,
           22.580645161290324
          ],
          [
           "Biscoe",
           "Male",
           220,
           5050,
           22.954545454545453
          ],
          [
           "Biscoe",
           "Female",
           208,
           4300,
           20.673076923076923
          ],
          [
           "Biscoe",
           "Male",
           220,
           5000,
           22.727272727272727
          ],
          [
           "Biscoe",
           "Female",
           208,
           4450,
           21.39423076923077
          ],
          [
           "Biscoe",
           "Male",
           224,
           5550,
           24.776785714285715
          ],
          [
           "Biscoe",
           "Female",
           208,
           4200,
           20.192307692307693
          ],
          [
           "Biscoe",
           "Male",
           221,
           5300,
           23.981900452488688
          ],
          [
           "Biscoe",
           "Female",
           214,
           4400,
           20.560747663551403
          ],
          [
           "Biscoe",
           "Male",
           231,
           5650,
           24.458874458874458
          ],
          [
           "Biscoe",
           "Female",
           219,
           4700,
           21.461187214611872
          ],
          [
           "Biscoe",
           "Male",
           230,
           5700,
           24.782608695652176
          ],
          [
           "Biscoe",
           null,
           214,
           4650,
           21.72897196261682
          ],
          [
           "Biscoe",
           "Male",
           229,
           5800,
           25.32751091703057
          ],
          [
           "Biscoe",
           "Female",
           220,
           4700,
           21.363636363636363
          ],
          [
           "Biscoe",
           "Male",
           223,
           5550,
           24.887892376681613
          ],
          [
           "Biscoe",
           "Female",
           216,
           4750,
           21.99074074074074
          ],
          [
           "Biscoe",
           "Male",
           221,
           5000,
           22.624434389140273
          ],
          [
           "Biscoe",
           "Male",
           221,
           5100,
           23.076923076923077
          ],
          [
           "Biscoe",
           "Female",
           217,
           5200,
           23.963133640552996
          ],
          [
           "Biscoe",
           "Female",
           216,
           4700,
           21.75925925925926
          ],
          [
           "Biscoe",
           "Male",
           230,
           5800,
           25.217391304347824
          ],
          [
           "Biscoe",
           "Female",
           209,
           4600,
           22.00956937799043
          ],
          [
           "Biscoe",
           "Male",
           220,
           6000,
           27.272727272727273
          ],
          [
           "Biscoe",
           "Female",
           215,
           4750,
           22.093023255813954
          ],
          [
           "Biscoe",
           "Male",
           223,
           5950,
           26.681614349775785
          ],
          [
           "Biscoe",
           "Female",
           212,
           4625,
           21.816037735849058
          ],
          [
           "Biscoe",
           "Male",
           221,
           5450,
           24.660633484162897
          ],
          [
           "Biscoe",
           "Female",
           212,
           4725,
           22.287735849056602
          ],
          [
           "Biscoe",
           "Male",
           224,
           5350,
           23.883928571428573
          ],
          [
           "Biscoe",
           "Female",
           212,
           4750,
           22.40566037735849
          ],
          [
           "Biscoe",
           "Male",
           228,
           5600,
           24.56140350877193
          ],
          [
           "Biscoe",
           "Female",
           218,
           4600,
           21.10091743119266
          ],
          [
           "Biscoe",
           "Male",
           218,
           5300,
           24.31192660550459
          ],
          [
           "Biscoe",
           "Female",
           212,
           4875,
           22.995283018867923
          ],
          [
           "Biscoe",
           "Male",
           230,
           5550,
           24.130434782608695
          ],
          [
           "Biscoe",
           "Female",
           218,
           4950,
           22.706422018348626
          ],
          [
           "Biscoe",
           "Male",
           228,
           5400,
           23.68421052631579
          ],
          [
           "Biscoe",
           "Female",
           212,
           4750,
           22.40566037735849
          ],
          [
           "Biscoe",
           "Male",
           224,
           5650,
           25.223214285714285
          ],
          [
           "Biscoe",
           "Female",
           214,
           4850,
           22.66355140186916
          ],
          [
           "Biscoe",
           "Male",
           226,
           5200,
           23.008849557522122
          ],
          [
           "Biscoe",
           "Male",
           216,
           4925,
           22.800925925925927
          ],
          [
           "Biscoe",
           "Female",
           222,
           4875,
           21.95945945945946
          ],
          [
           "Biscoe",
           "Female",
           203,
           4625,
           22.783251231527093
          ],
          [
           "Biscoe",
           "Male",
           225,
           5250,
           23.333333333333332
          ],
          [
           "Biscoe",
           "Female",
           219,
           4850,
           22.14611872146119
          ],
          [
           "Biscoe",
           "Male",
           228,
           5600,
           24.56140350877193
          ],
          [
           "Biscoe",
           "Female",
           215,
           4975,
           23.13953488372093
          ],
          [
           "Biscoe",
           "Male",
           228,
           5500,
           24.12280701754386
          ],
          [
           "Biscoe",
           null,
           216,
           4725,
           21.875
          ],
          [
           "Biscoe",
           "Male",
           215,
           5500,
           25.58139534883721
          ],
          [
           "Biscoe",
           "Female",
           210,
           4700,
           22.38095238095238
          ],
          [
           "Biscoe",
           "Male",
           219,
           5500,
           25.114155251141554
          ],
          [
           "Biscoe",
           "Female",
           208,
           4575,
           21.995192307692307
          ],
          [
           "Biscoe",
           "Male",
           209,
           5500,
           26.31578947368421
          ],
          [
           "Biscoe",
           "Female",
           216,
           5000,
           23.14814814814815
          ],
          [
           "Biscoe",
           "Male",
           229,
           5950,
           25.982532751091703
          ],
          [
           "Biscoe",
           "Female",
           213,
           4650,
           21.830985915492956
          ],
          [
           "Biscoe",
           "Male",
           230,
           5500,
           23.91304347826087
          ],
          [
           "Biscoe",
           "Female",
           217,
           4375,
           20.161290322580644
          ],
          [
           "Biscoe",
           "Male",
           230,
           5850,
           25.434782608695652
          ],
          [
           "Biscoe",
           null,
           217,
           4875,
           22.465437788018434
          ],
          [
           "Biscoe",
           "Male",
           222,
           6000,
           27.027027027027028
          ],
          [
           "Biscoe",
           "Female",
           214,
           4925,
           23.014018691588785
          ],
          [
           "Biscoe",
           null,
           null,
           null,
           null
          ],
          [
           "Biscoe",
           "Female",
           215,
           4850,
           22.558139534883722
          ],
          [
           "Biscoe",
           "Male",
           222,
           5750,
           25.9009009009009
          ],
          [
           "Biscoe",
           "Female",
           212,
           5200,
           24.528301886792452
          ],
          [
           "Biscoe",
           "Male",
           213,
           5400,
           25.35211267605634
          ]
         ],
         "hovertemplate": "Species=Gentoo<br>Bill Length Mm=%{x}<br>Bill Depth Mm=%{y}<br>Island=%{customdata[0]}<br>Sex=%{customdata[1]}<br>Flipper Length Mm=%{customdata[2]}<br>Body Mass G=%{customdata[3]}<br>Mass/Flipper=%{customdata[4]}<extra></extra>",
         "legendgroup": "Gentoo",
         "marker": {
          "color": "#00cc96",
          "opacity": 0.85,
          "symbol": "circle"
         },
         "mode": "markers",
         "name": "Gentoo",
         "orientation": "v",
         "showlegend": true,
         "type": "scatter",
         "x": {
          "bdata": "zczMzMwMR0AAAAAAAABJQJqZmZmZWUhAAAAAAAAASUDNzMzMzMxHQAAAAAAAQEdAMzMzMzOzRkCamZmZmVlHQGZmZmZmpkVAZmZmZmZmR0AzMzMzM3NEQAAAAAAAgEhAAAAAAADARkAzMzMzMzNIQGZmZmZm5kZAZmZmZmamSEAAAAAAAABFQJqZmZmZmUhAmpmZmZkZR0CamZmZmVlIQJqZmZmZGUlAzczMzMyMRkAAAAAAAEBHQGZmZmZmJkdAMzMzMzNzRUDNzMzMzAxHQAAAAAAAQEZAZmZmZmbmR0CamZmZmRlIQAAAAAAAAElAZmZmZmamR0BmZmZmZmZFQM3MzMzMjEZAzczMzMzMTUDNzMzMzIxIQDMzMzMzM0hAzczMzMxMRUAzMzMzMzNGQAAAAAAAAEZAmpmZmZlZSECamZmZmVlFQM3MzMzMzEhAZmZmZmamRkDNzMzMzMxIQAAAAAAAQElAzczMzMzMRUAAAAAAAMBGQAAAAAAAQElAMzMzMzNzRkCamZmZmZlGQM3MzMzMTEdAAAAAAABASEDNzMzMzIxGQM3MzMzMDElAAAAAAABAR0AAAAAAAIBGQGZmZmZm5kVAAAAAAADARkCamZmZmZlFQDMzMzMzM0lAZmZmZmamRkCamZmZmRlHQJqZmZmZ2UZAZmZmZmYmS0BmZmZmZuZGQGZmZmZm5khAmpmZmZkZR0AAAAAAAMBIQAAAAAAAwEVAmpmZmZlZSUCamZmZmdlHQDMzMzMzM0dAmpmZmZkZSEAAAAAAAEBHQDMzMzMzM0dAzczMzMxMSEAAAAAAAMBHQM3MzMzMjElAmpmZmZmZRkCamZmZmZlGQM3MzMzMjEhAAAAAAABASkAzMzMzM7NHQAAAAAAAAElAMzMzMzNzRkBmZmZmZmZJQDMzMzMzs0VAZmZmZmamSUAAAAAAAMBHQM3MzMzMDEpAAAAAAADAR0CamZmZmRlKQAAAAAAAwEZAAAAAAADASEAAAAAAAEBGQGZmZmZmZklAMzMzMzOzSEAzMzMzM3NHQDMzMzMzM0hAzczMzMyMSUAAAAAAAEBIQDMzMzMz80tAmpmZmZmZR0DNzMzMzIxIQGZmZmZmpkdAZmZmZmZmR0CamZmZmdlEQDMzMzMzs0pAZmZmZmamRUDNzMzMzAxIQAAAAAAAQElAZmZmZmbmSEAAAAAAAMBFQAAAAAAAwElAmpmZmZkZR0DNzMzMzIxLQAAAAAAAQEZAZmZmZmZmSECamZmZmZlHQAAAAAAAAPh/ZmZmZmZmR0AzMzMzMzNJQJqZmZmZmUZAMzMzMzPzSEA=",
          "dtype": "f8"
         },
         "xaxis": "x",
         "y": {
          "bdata": "ZmZmZmZmKkDNzMzMzEwwQDMzMzMzMyxAZmZmZmZmLkAAAAAAAAAtQAAAAAAAACtAMzMzMzMzLUCamZmZmZkuQM3MzMzMzCpAzczMzMzMLkBmZmZmZmYrQJqZmZmZGTBAZmZmZmZmK0AzMzMzMzMtQDMzMzMzMy1AZmZmZmZmL0AAAAAAAAArQGZmZmZmZi5AAAAAAAAALUAzMzMzMzMuQJqZmZmZmSxAAAAAAAAALUAAAAAAAAAtQJqZmZmZmS9AMzMzMzMzKkAzMzMzMzMuQJqZmZmZmSxAAAAAAAAALkCamZmZmZksQJqZmZmZmS5AmpmZmZmZLkBmZmZmZmYsQAAAAAAAAC1AAAAAAAAAMUCamZmZmZktQM3MzMzMTDBAZmZmZmZmK0DNzMzMzEwxQDMzMzMzMytAZmZmZmZmL0BmZmZmZmYrQAAAAAAAADBAZmZmZmZmK0AAAAAAAAAuQM3MzMzMzC9AzczMzMzMK0DNzMzMzMwrQM3MzMzMzC9AmpmZmZmZKkCamZmZmZkvQGZmZmZmZixAMzMzMzMzLEDNzMzMzMwsQAAAAAAAAC5AzczMzMzMLEDNzMzMzMwuQM3MzMzMzCtAAAAAAAAALkAAAAAAAAAtQJqZmZmZmS5AmpmZmZmZK0DNzMzMzMwtQM3MzMzMzCtAZmZmZmZmL0BmZmZmZmYsQM3MzMzMzDBAzczMzMzMLEAzMzMzMzMwQGZmZmZmZixAAAAAAAAALkAAAAAAAAAuQDMzMzMzMy9AMzMzMzMzL0CamZmZmZktQAAAAAAAAC5AAAAAAAAAMEBmZmZmZmYsQM3MzMzMTDBAmpmZmZmZK0BmZmZmZmYwQAAAAAAAAC1AMzMzMzMzL0AzMzMzMzMtQM3MzMzMzC9AmpmZmZmZK0DNzMzMzEwxQM3MzMzMzCxAZmZmZmZmLEAAAAAAAAAsQAAAAAAAADFAAAAAAAAALkCamZmZmRkxQAAAAAAAAC1AmpmZmZkZMEBmZmZmZmYtQGZmZmZmZi9AmpmZmZmZL0AzMzMzMzMtQM3MzMzMzCxAAAAAAACAMEAAAAAAAAAuQAAAAAAAADFAAAAAAAAAL0AAAAAAAAAuQJqZmZmZmStAmpmZmZkZMEBmZmZmZmYtQJqZmZmZmS9AAAAAAAAALEAzMzMzMzMuQGZmZmZmZi5AzczMzMzML0BmZmZmZmYuQM3MzMzMTDBAMzMzMzMzLEAAAAAAAAAwQGZmZmZmZi9AMzMzMzMzMEBmZmZmZmYrQAAAAAAAAPh/mpmZmZmZLEBmZmZmZmYvQJqZmZmZmS1AmpmZmZkZMEA=",
          "dtype": "f8"
         },
         "yaxis": "y"
        },
        {
         "bingroup": "x",
         "hovertemplate": "Species=Gentoo<br>Bill Length Mm=%{x}<br>count=%{y}<extra></extra>",
         "legendgroup": "Gentoo",
         "marker": {
          "color": "#00cc96"
         },
         "name": "Gentoo",
         "opacity": 0.5,
         "showlegend": false,
         "type": "histogram",
         "x": {
          "bdata": "zczMzMwMR0AAAAAAAABJQJqZmZmZWUhAAAAAAAAASUDNzMzMzMxHQAAAAAAAQEdAMzMzMzOzRkCamZmZmVlHQGZmZmZmpkVAZmZmZmZmR0AzMzMzM3NEQAAAAAAAgEhAAAAAAADARkAzMzMzMzNIQGZmZmZm5kZAZmZmZmamSEAAAAAAAABFQJqZmZmZmUhAmpmZmZkZR0CamZmZmVlIQJqZmZmZGUlAzczMzMyMRkAAAAAAAEBHQGZmZmZmJkdAMzMzMzNzRUDNzMzMzAxHQAAAAAAAQEZAZmZmZmbmR0CamZmZmRlIQAAAAAAAAElAZmZmZmamR0BmZmZmZmZFQM3MzMzMjEZAzczMzMzMTUDNzMzMzIxIQDMzMzMzM0hAzczMzMxMRUAzMzMzMzNGQAAAAAAAAEZAmpmZmZlZSECamZmZmVlFQM3MzMzMzEhAZmZmZmamRkDNzMzMzMxIQAAAAAAAQElAzczMzMzMRUAAAAAAAMBGQAAAAAAAQElAMzMzMzNzRkCamZmZmZlGQM3MzMzMTEdAAAAAAABASEDNzMzMzIxGQM3MzMzMDElAAAAAAABAR0AAAAAAAIBGQGZmZmZm5kVAAAAAAADARkCamZmZmZlFQDMzMzMzM0lAZmZmZmamRkCamZmZmRlHQJqZmZmZ2UZAZmZmZmYmS0BmZmZmZuZGQGZmZmZm5khAmpmZmZkZR0AAAAAAAMBIQAAAAAAAwEVAmpmZmZlZSUCamZmZmdlHQDMzMzMzM0dAmpmZmZkZSEAAAAAAAEBHQDMzMzMzM0dAzczMzMxMSEAAAAAAAMBHQM3MzMzMjElAmpmZmZmZRkCamZmZmZlGQM3MzMzMjEhAAAAAAABASkAzMzMzM7NHQAAAAAAAAElAMzMzMzNzRkBmZmZmZmZJQDMzMzMzs0VAZmZmZmamSUAAAAAAAMBHQM3MzMzMDEpAAAAAAADAR0CamZmZmRlKQAAAAAAAwEZAAAAAAADASEAAAAAAAEBGQGZmZmZmZklAMzMzMzOzSEAzMzMzM3NHQDMzMzMzM0hAzczMzMyMSUAAAAAAAEBIQDMzMzMz80tAmpmZmZmZR0DNzMzMzIxIQGZmZmZmpkdAZmZmZmZmR0CamZmZmdlEQDMzMzMzs0pAZmZmZmamRUDNzMzMzAxIQAAAAAAAQElAZmZmZmbmSEAAAAAAAMBFQAAAAAAAwElAmpmZmZkZR0DNzMzMzIxLQAAAAAAAQEZAZmZmZmZmSECamZmZmZlHQAAAAAAAAPh/ZmZmZmZmR0AzMzMzMzNJQJqZmZmZmUZAMzMzMzPzSEA=",
          "dtype": "f8"
         },
         "xaxis": "x3",
         "yaxis": "y3"
        },
        {
         "customdata": [
          [
           "Biscoe",
           "Female",
           211,
           4500,
           21.327014218009477
          ],
          [
           "Biscoe",
           "Male",
           230,
           5700,
           24.782608695652176
          ],
          [
           "Biscoe",
           "Female",
           210,
           4450,
           21.19047619047619
          ],
          [
           "Biscoe",
           "Male",
           218,
           5700,
           26.146788990825687
          ],
          [
           "Biscoe",
           "Male",
           215,
           5400,
           25.11627906976744
          ],
          [
           "Biscoe",
           "Female",
           210,
           4550,
           21.666666666666668
          ],
          [
           "Biscoe",
           "Female",
           211,
           4800,
           22.748815165876778
          ],
          [
           "Biscoe",
           "Male",
           219,
           5200,
           23.744292237442924
          ],
          [
           "Biscoe",
           "Female",
           209,
           4400,
           21.05263157894737
          ],
          [
           "Biscoe",
           "Male",
           215,
           5150,
           23.953488372093023
          ],
          [
           "Biscoe",
           "Female",
           214,
           4650,
           21.72897196261682
          ],
          [
           "Biscoe",
           "Male",
           216,
           5550,
           25.694444444444443
          ],
          [
           "Biscoe",
           "Female",
           214,
           4650,
           21.72897196261682
          ],
          [
           "Biscoe",
           "Male",
           213,
           5850,
           27.464788732394368
          ],
          [
           "Biscoe",
           "Female",
           210,
           4200,
           20
          ],
          [
           "Biscoe",
           "Male",
           217,
           5850,
           26.95852534562212
          ],
          [
           "Biscoe",
           "Female",
           210,
           4150,
           19.761904761904763
          ],
          [
           "Biscoe",
           "Male",
           221,
           6300,
           28.506787330316744
          ],
          [
           "Biscoe",
           "Female",
           209,
           4800,
           22.966507177033492
          ],
          [
           "Biscoe",
           "Male",
           222,
           5350,
           24.0990990990991
          ],
          [
           "Biscoe",
           "Male",
           218,
           5700,
           26.146788990825687
          ],
          [
           "Biscoe",
           "Female",
           215,
           5000,
           23.25581395348837
          ],
          [
           "Biscoe",
           "Female",
           213,
           4400,
           20.657276995305164
          ],
          [
           "Biscoe",
           "Male",
           215,
           5050,
           23.488372093023255
          ],
          [
           "Biscoe",
           "Female",
           215,
           5000,
           23.25581395348837
          ],
          [
           "Biscoe",
           "Male",
           215,
           5100,
           23.72093023255814
          ],
          [
           "Biscoe",
           null,
           216,
           4100,
           18.98148148148148
          ],
          [
           "Biscoe",
           "Male",
           215,
           5650,
           26.27906976744186
          ],
          [
           "Biscoe",
           "Female",
           210,
           4600,
           21.904761904761905
          ],
          [
           "Biscoe",
           "Male",
           220,
           5550,
           25.227272727272727
          ],
          [
           "Biscoe",
           "Male",
           222,
           5250,
           23.64864864864865
          ],
          [
           "Biscoe",
           "Female",
           209,
           4700,
           22.48803827751196
          ],
          [
           "Biscoe",
           "Female",
           207,
           5050,
           24.396135265700483
          ],
          [
           "Biscoe",
           "Male",
           230,
           6050,
           26.304347826086957
          ],
          [
           "Biscoe",
           "Female",
           220,
           5150,
           23.40909090909091
          ],
          [
           "Biscoe",
           "Male",
           220,
           5400,
           24.545454545454547
          ],
          [
           "Biscoe",
           "Female",
           213,
           4950,
           23.239436619718308
          ],
          [
           "Biscoe",
           "Male",
           219,
           5250,
           23.972602739726028
          ],
          [
           "Biscoe",
           "Female",
           208,
           4350,
           20.91346153846154
          ],
          [
           "Biscoe",
           "Male",
           208,
           5350,
           25.721153846153847
          ],
          [
           "Biscoe",
           "Female",
           208,
           3950,
           18.990384615384617
          ],
          [
           "Biscoe",
           "Male",
           225,
           5700,
           25.333333333333332
          ],
          [
           "Biscoe",
           "Female",
           210,
           4300,
           20.476190476190474
          ],
          [
           "Biscoe",
           "Male",
           216,
           4750,
           21.99074074074074
          ],
          [
           "Biscoe",
           "Male",
           222,
           5550,
           25
          ],
          [
           "Biscoe",
           "Female",
           217,
           4900,
           22.580645161290324
          ],
          [
           "Biscoe",
           "Female",
           210,
           4200,
           20
          ],
          [
           "Biscoe",
           "Male",
           225,
           5400,
           24
          ],
          [
           "Biscoe",
           "Female",
           213,
           5100,
           23.943661971830984
          ],
          [
           "Biscoe",
           "Male",
           215,
           5300,
           24.651162790697676
          ],
          [
           "Biscoe",
           "Female",
           210,
           4850,
           23.095238095238095
          ],
          [
           "Biscoe",
           "Male",
           220,
           5300,
           24.09090909090909
          ],
          [
           "Biscoe",
           "Female",
           210,
           4400,
           20.952380952380953
          ],
          [
           "Biscoe",
           "Male",
           225,
           5000,
           22.22222222222222
          ],
          [
           "Biscoe",
           "Female",
           217,
           4900,
           22.580645161290324
          ],
          [
           "Biscoe",
           "Male",
           220,
           5050,
           22.954545454545453
          ],
          [
           "Biscoe",
           "Female",
           208,
           4300,
           20.673076923076923
          ],
          [
           "Biscoe",
           "Male",
           220,
           5000,
           22.727272727272727
          ],
          [
           "Biscoe",
           "Female",
           208,
           4450,
           21.39423076923077
          ],
          [
           "Biscoe",
           "Male",
           224,
           5550,
           24.776785714285715
          ],
          [
           "Biscoe",
           "Female",
           208,
           4200,
           20.192307692307693
          ],
          [
           "Biscoe",
           "Male",
           221,
           5300,
           23.981900452488688
          ],
          [
           "Biscoe",
           "Female",
           214,
           4400,
           20.560747663551403
          ],
          [
           "Biscoe",
           "Male",
           231,
           5650,
           24.458874458874458
          ],
          [
           "Biscoe",
           "Female",
           219,
           4700,
           21.461187214611872
          ],
          [
           "Biscoe",
           "Male",
           230,
           5700,
           24.782608695652176
          ],
          [
           "Biscoe",
           null,
           214,
           4650,
           21.72897196261682
          ],
          [
           "Biscoe",
           "Male",
           229,
           5800,
           25.32751091703057
          ],
          [
           "Biscoe",
           "Female",
           220,
           4700,
           21.363636363636363
          ],
          [
           "Biscoe",
           "Male",
           223,
           5550,
           24.887892376681613
          ],
          [
           "Biscoe",
           "Female",
           216,
           4750,
           21.99074074074074
          ],
          [
           "Biscoe",
           "Male",
           221,
           5000,
           22.624434389140273
          ],
          [
           "Biscoe",
           "Male",
           221,
           5100,
           23.076923076923077
          ],
          [
           "Biscoe",
           "Female",
           217,
           5200,
           23.963133640552996
          ],
          [
           "Biscoe",
           "Female",
           216,
           4700,
           21.75925925925926
          ],
          [
           "Biscoe",
           "Male",
           230,
           5800,
           25.217391304347824
          ],
          [
           "Biscoe",
           "Female",
           209,
           4600,
           22.00956937799043
          ],
          [
           "Biscoe",
           "Male",
           220,
           6000,
           27.272727272727273
          ],
          [
           "Biscoe",
           "Female",
           215,
           4750,
           22.093023255813954
          ],
          [
           "Biscoe",
           "Male",
           223,
           5950,
           26.681614349775785
          ],
          [
           "Biscoe",
           "Female",
           212,
           4625,
           21.816037735849058
          ],
          [
           "Biscoe",
           "Male",
           221,
           5450,
           24.660633484162897
          ],
          [
           "Biscoe",
           "Female",
           212,
           4725,
           22.287735849056602
          ],
          [
           "Biscoe",
           "Male",
           224,
           5350,
           23.883928571428573
          ],
          [
           "Biscoe",
           "Female",
           212,
           4750,
           22.40566037735849
          ],
          [
           "Biscoe",
           "Male",
           228,
           5600,
           24.56140350877193
          ],
          [
           "Biscoe",
           "Female",
           218,
           4600,
           21.10091743119266
          ],
          [
           "Biscoe",
           "Male",
           218,
           5300,
           24.31192660550459
          ],
          [
           "Biscoe",
           "Female",
           212,
           4875,
           22.995283018867923
          ],
          [
           "Biscoe",
           "Male",
           230,
           5550,
           24.130434782608695
          ],
          [
           "Biscoe",
           "Female",
           218,
           4950,
           22.706422018348626
          ],
          [
           "Biscoe",
           "Male",
           228,
           5400,
           23.68421052631579
          ],
          [
           "Biscoe",
           "Female",
           212,
           4750,
           22.40566037735849
          ],
          [
           "Biscoe",
           "Male",
           224,
           5650,
           25.223214285714285
          ],
          [
           "Biscoe",
           "Female",
           214,
           4850,
           22.66355140186916
          ],
          [
           "Biscoe",
           "Male",
           226,
           5200,
           23.008849557522122
          ],
          [
           "Biscoe",
           "Male",
           216,
           4925,
           22.800925925925927
          ],
          [
           "Biscoe",
           "Female",
           222,
           4875,
           21.95945945945946
          ],
          [
           "Biscoe",
           "Female",
           203,
           4625,
           22.783251231527093
          ],
          [
           "Biscoe",
           "Male",
           225,
           5250,
           23.333333333333332
          ],
          [
           "Biscoe",
           "Female",
           219,
           4850,
           22.14611872146119
          ],
          [
           "Biscoe",
           "Male",
           228,
           5600,
           24.56140350877193
          ],
          [
           "Biscoe",
           "Female",
           215,
           4975,
           23.13953488372093
          ],
          [
           "Biscoe",
           "Male",
           228,
           5500,
           24.12280701754386
          ],
          [
           "Biscoe",
           null,
           216,
           4725,
           21.875
          ],
          [
           "Biscoe",
           "Male",
           215,
           5500,
           25.58139534883721
          ],
          [
           "Biscoe",
           "Female",
           210,
           4700,
           22.38095238095238
          ],
          [
           "Biscoe",
           "Male",
           219,
           5500,
           25.114155251141554
          ],
          [
           "Biscoe",
           "Female",
           208,
           4575,
           21.995192307692307
          ],
          [
           "Biscoe",
           "Male",
           209,
           5500,
           26.31578947368421
          ],
          [
           "Biscoe",
           "Female",
           216,
           5000,
           23.14814814814815
          ],
          [
           "Biscoe",
           "Male",
           229,
           5950,
           25.982532751091703
          ],
          [
           "Biscoe",
           "Female",
           213,
           4650,
           21.830985915492956
          ],
          [
           "Biscoe",
           "Male",
           230,
           5500,
           23.91304347826087
          ],
          [
           "Biscoe",
           "Female",
           217,
           4375,
           20.161290322580644
          ],
          [
           "Biscoe",
           "Male",
           230,
           5850,
           25.434782608695652
          ],
          [
           "Biscoe",
           null,
           217,
           4875,
           22.465437788018434
          ],
          [
           "Biscoe",
           "Male",
           222,
           6000,
           27.027027027027028
          ],
          [
           "Biscoe",
           "Female",
           214,
           4925,
           23.014018691588785
          ],
          [
           "Biscoe",
           null,
           null,
           null,
           null
          ],
          [
           "Biscoe",
           "Female",
           215,
           4850,
           22.558139534883722
          ],
          [
           "Biscoe",
           "Male",
           222,
           5750,
           25.9009009009009
          ],
          [
           "Biscoe",
           "Female",
           212,
           5200,
           24.528301886792452
          ],
          [
           "Biscoe",
           "Male",
           213,
           5400,
           25.35211267605634
          ]
         ],
         "hovertemplate": "Species=Gentoo<br>Bill Depth Mm=%{y}<br>Island=%{customdata[0]}<br>Sex=%{customdata[1]}<br>Flipper Length Mm=%{customdata[2]}<br>Body Mass G=%{customdata[3]}<br>Mass/Flipper=%{customdata[4]}<extra></extra>",
         "legendgroup": "Gentoo",
         "marker": {
          "color": "#00cc96",
          "symbol": "circle"
         },
         "name": "Gentoo",
         "scalegroup": "y",
         "showlegend": false,
         "type": "violin",
         "xaxis": "x2",
         "y": {
          "bdata": "ZmZmZmZmKkDNzMzMzEwwQDMzMzMzMyxAZmZmZmZmLkAAAAAAAAAtQAAAAAAAACtAMzMzMzMzLUCamZmZmZkuQM3MzMzMzCpAzczMzMzMLkBmZmZmZmYrQJqZmZmZGTBAZmZmZmZmK0AzMzMzMzMtQDMzMzMzMy1AZmZmZmZmL0AAAAAAAAArQGZmZmZmZi5AAAAAAAAALUAzMzMzMzMuQJqZmZmZmSxAAAAAAAAALUAAAAAAAAAtQJqZmZmZmS9AMzMzMzMzKkAzMzMzMzMuQJqZmZmZmSxAAAAAAAAALkCamZmZmZksQJqZmZmZmS5AmpmZmZmZLkBmZmZmZmYsQAAAAAAAAC1AAAAAAAAAMUCamZmZmZktQM3MzMzMTDBAZmZmZmZmK0DNzMzMzEwxQDMzMzMzMytAZmZmZmZmL0BmZmZmZmYrQAAAAAAAADBAZmZmZmZmK0AAAAAAAAAuQM3MzMzMzC9AzczMzMzMK0DNzMzMzMwrQM3MzMzMzC9AmpmZmZmZKkCamZmZmZkvQGZmZmZmZixAMzMzMzMzLEDNzMzMzMwsQAAAAAAAAC5AzczMzMzMLEDNzMzMzMwuQM3MzMzMzCtAAAAAAAAALkAAAAAAAAAtQJqZmZmZmS5AmpmZmZmZK0DNzMzMzMwtQM3MzMzMzCtAZmZmZmZmL0BmZmZmZmYsQM3MzMzMzDBAzczMzMzMLEAzMzMzMzMwQGZmZmZmZixAAAAAAAAALkAAAAAAAAAuQDMzMzMzMy9AMzMzMzMzL0CamZmZmZktQAAAAAAAAC5AAAAAAAAAMEBmZmZmZmYsQM3MzMzMTDBAmpmZmZmZK0BmZmZmZmYwQAAAAAAAAC1AMzMzMzMzL0AzMzMzMzMtQM3MzMzMzC9AmpmZmZmZK0DNzMzMzEwxQM3MzMzMzCxAZmZmZmZmLEAAAAAAAAAsQAAAAAAAADFAAAAAAAAALkCamZmZmRkxQAAAAAAAAC1AmpmZmZkZMEBmZmZmZmYtQGZmZmZmZi9AmpmZmZmZL0AzMzMzMzMtQM3MzMzMzCxAAAAAAACAMEAAAAAAAAAuQAAAAAAAADFAAAAAAAAAL0AAAAAAAAAuQJqZmZmZmStAmpmZmZkZMEBmZmZmZmYtQJqZmZmZmS9AAAAAAAAALEAzMzMzMzMuQGZmZmZmZi5AzczMzMzML0BmZmZmZmYuQM3MzMzMTDBAMzMzMzMzLEAAAAAAAAAwQGZmZmZmZi9AMzMzMzMzMEBmZmZmZmYrQAAAAAAAAPh/mpmZmZmZLEBmZmZmZmYvQJqZmZmZmS1AmpmZmZkZMEA=",
          "dtype": "f8"
         },
         "yaxis": "y2"
        }
       ],
       "layout": {
        "barmode": "overlay",
        "legend": {
         "title": {
          "text": "Species"
         },
         "tracegroupgap": 0
        },
        "template": {
         "data": {
          "bar": [
           {
            "error_x": {
             "color": "#2a3f5f"
            },
            "error_y": {
             "color": "#2a3f5f"
            },
            "marker": {
             "line": {
              "color": "#E5ECF6",
              "width": 0.5
             },
             "pattern": {
              "fillmode": "overlay",
              "size": 10,
              "solidity": 0.2
             }
            },
            "type": "bar"
           }
          ],
          "barpolar": [
           {
            "marker": {
             "line": {
              "color": "#E5ECF6",
              "width": 0.5
             },
             "pattern": {
              "fillmode": "overlay",
              "size": 10,
              "solidity": 0.2
             }
            },
            "type": "barpolar"
           }
          ],
          "carpet": [
           {
            "aaxis": {
             "endlinecolor": "#2a3f5f",
             "gridcolor": "white",
             "linecolor": "white",
             "minorgridcolor": "white",
             "startlinecolor": "#2a3f5f"
            },
            "baxis": {
             "endlinecolor": "#2a3f5f",
             "gridcolor": "white",
             "linecolor": "white",
             "minorgridcolor": "white",
             "startlinecolor": "#2a3f5f"
            },
            "type": "carpet"
           }
          ],
          "choropleth": [
           {
            "colorbar": {
             "outlinewidth": 0,
             "ticks": ""
            },
            "type": "choropleth"
           }
          ],
          "contour": [
           {
            "colorbar": {
             "outlinewidth": 0,
             "ticks": ""
            },
            "colorscale": [
             [
              0,
              "#0d0887"
             ],
             [
              0.1111111111111111,
              "#46039f"
             ],
             [
              0.2222222222222222,
              "#7201a8"
             ],
             [
              0.3333333333333333,
              "#9c179e"
             ],
             [
              0.4444444444444444,
              "#bd3786"
             ],
             [
              0.5555555555555556,
              "#d8576b"
             ],
             [
              0.6666666666666666,
              "#ed7953"
             ],
             [
              0.7777777777777778,
              "#fb9f3a"
             ],
             [
              0.8888888888888888,
              "#fdca26"
             ],
             [
              1,
              "#f0f921"
             ]
            ],
            "type": "contour"
           }
          ],
          "contourcarpet": [
           {
            "colorbar": {
             "outlinewidth": 0,
             "ticks": ""
            },
            "type": "contourcarpet"
           }
          ],
          "heatmap": [
           {
            "colorbar": {
             "outlinewidth": 0,
             "ticks": ""
            },
            "colorscale": [
             [
              0,
              "#0d0887"
             ],
             [
              0.1111111111111111,
              "#46039f"
             ],
             [
              0.2222222222222222,
              "#7201a8"
             ],
             [
              0.3333333333333333,
              "#9c179e"
             ],
             [
              0.4444444444444444,
              "#bd3786"
             ],
             [
              0.5555555555555556,
              "#d8576b"
             ],
             [
              0.6666666666666666,
              "#ed7953"
             ],
             [
              0.7777777777777778,
              "#fb9f3a"
             ],
             [
              0.8888888888888888,
              "#fdca26"
             ],
             [
              1,
              "#f0f921"
             ]
            ],
            "type": "heatmap"
           }
          ],
          "histogram": [
           {
            "marker": {
             "pattern": {
              "fillmode": "overlay",
              "size": 10,
              "solidity": 0.2
             }
            },
            "type": "histogram"
           }
          ],
          "histogram2d": [
           {
            "colorbar": {
             "outlinewidth": 0,
             "ticks": ""
            },
            "colorscale": [
             [
              0,
              "#0d0887"
             ],
             [
              0.1111111111111111,
              "#46039f"
             ],
             [
              0.2222222222222222,
              "#7201a8"
             ],
             [
              0.3333333333333333,
              "#9c179e"
             ],
             [
              0.4444444444444444,
              "#bd3786"
             ],
             [
              0.5555555555555556,
              "#d8576b"
             ],
             [
              0.6666666666666666,
              "#ed7953"
             ],
             [
              0.7777777777777778,
              "#fb9f3a"
             ],
             [
              0.8888888888888888,
              "#fdca26"
             ],
             [
              1,
              "#f0f921"
             ]
            ],
            "type": "histogram2d"
           }
          ],
          "histogram2dcontour": [
           {
            "colorbar": {
             "outlinewidth": 0,
             "ticks": ""
            },
            "colorscale": [
             [
              0,
              "#0d0887"
             ],
             [
              0.1111111111111111,
              "#46039f"
             ],
             [
              0.2222222222222222,
              "#7201a8"
             ],
             [
              0.3333333333333333,
              "#9c179e"
             ],
             [
              0.4444444444444444,
              "#bd3786"
             ],
             [
              0.5555555555555556,
              "#d8576b"
             ],
             [
              0.6666666666666666,
              "#ed7953"
             ],
             [
              0.7777777777777778,
              "#fb9f3a"
             ],
             [
              0.8888888888888888,
              "#fdca26"
             ],
             [
              1,
              "#f0f921"
             ]
            ],
            "type": "histogram2dcontour"
           }
          ],
          "mesh3d": [
           {
            "colorbar": {
             "outlinewidth": 0,
             "ticks": ""
            },
            "type": "mesh3d"
           }
          ],
          "parcoords": [
           {
            "line": {
             "colorbar": {
              "outlinewidth": 0,
              "ticks": ""
             }
            },
            "type": "parcoords"
           }
          ],
          "pie": [
           {
            "automargin": true,
            "type": "pie"
           }
          ],
          "scatter": [
           {
            "fillpattern": {
             "fillmode": "overlay",
             "size": 10,
             "solidity": 0.2
            },
            "type": "scatter"
           }
          ],
          "scatter3d": [
           {
            "line": {
             "colorbar": {
              "outlinewidth": 0,
              "ticks": ""
             }
            },
            "marker": {
             "colorbar": {
              "outlinewidth": 0,
              "ticks": ""
             }
            },
            "type": "scatter3d"
           }
          ],
          "scattercarpet": [
           {
            "marker": {
             "colorbar": {
              "outlinewidth": 0,
              "ticks": ""
             }
            },
            "type": "scattercarpet"
           }
          ],
          "scattergeo": [
           {
            "marker": {
             "colorbar": {
              "outlinewidth": 0,
              "ticks": ""
             }
            },
            "type": "scattergeo"
           }
          ],
          "scattergl": [
           {
            "marker": {
             "colorbar": {
              "outlinewidth": 0,
              "ticks": ""
             }
            },
            "type": "scattergl"
           }
          ],
          "scattermap": [
           {
            "marker": {
             "colorbar": {
              "outlinewidth": 0,
              "ticks": ""
             }
            },
            "type": "scattermap"
           }
          ],
          "scattermapbox": [
           {
            "marker": {
             "colorbar": {
              "outlinewidth": 0,
              "ticks": ""
             }
            },
            "type": "scattermapbox"
           }
          ],
          "scatterpolar": [
           {
            "marker": {
             "colorbar": {
              "outlinewidth": 0,
              "ticks": ""
             }
            },
            "type": "scatterpolar"
           }
          ],
          "scatterpolargl": [
           {
            "marker": {
             "colorbar": {
              "outlinewidth": 0,
              "ticks": ""
             }
            },
            "type": "scatterpolargl"
           }
          ],
          "scatterternary": [
           {
            "marker": {
             "colorbar": {
              "outlinewidth": 0,
              "ticks": ""
             }
            },
            "type": "scatterternary"
           }
          ],
          "surface": [
           {
            "colorbar": {
             "outlinewidth": 0,
             "ticks": ""
            },
            "colorscale": [
             [
              0,
              "#0d0887"
             ],
             [
              0.1111111111111111,
              "#46039f"
             ],
             [
              0.2222222222222222,
              "#7201a8"
             ],
             [
              0.3333333333333333,
              "#9c179e"
             ],
             [
              0.4444444444444444,
              "#bd3786"
             ],
             [
              0.5555555555555556,
              "#d8576b"
             ],
             [
              0.6666666666666666,
              "#ed7953"
             ],
             [
              0.7777777777777778,
              "#fb9f3a"
             ],
             [
              0.8888888888888888,
              "#fdca26"
             ],
             [
              1,
              "#f0f921"
             ]
            ],
            "type": "surface"
           }
          ],
          "table": [
           {
            "cells": {
             "fill": {
              "color": "#EBF0F8"
             },
             "line": {
              "color": "white"
             }
            },
            "header": {
             "fill": {
              "color": "#C8D4E3"
             },
             "line": {
              "color": "white"
             }
            },
            "type": "table"
           }
          ]
         },
         "layout": {
          "annotationdefaults": {
           "arrowcolor": "#2a3f5f",
           "arrowhead": 0,
           "arrowwidth": 1
          },
          "autotypenumbers": "strict",
          "coloraxis": {
           "colorbar": {
            "outlinewidth": 0,
            "ticks": ""
           }
          },
          "colorscale": {
           "diverging": [
            [
             0,
             "#8e0152"
            ],
            [
             0.1,
             "#c51b7d"
            ],
            [
             0.2,
             "#de77ae"
            ],
            [
             0.3,
             "#f1b6da"
            ],
            [
             0.4,
             "#fde0ef"
            ],
            [
             0.5,
             "#f7f7f7"
            ],
            [
             0.6,
             "#e6f5d0"
            ],
            [
             0.7,
             "#b8e186"
            ],
            [
             0.8,
             "#7fbc41"
            ],
            [
             0.9,
             "#4d9221"
            ],
            [
             1,
             "#276419"
            ]
           ],
           "sequential": [
            [
             0,
             "#0d0887"
            ],
            [
             0.1111111111111111,
             "#46039f"
            ],
            [
             0.2222222222222222,
             "#7201a8"
            ],
            [
             0.3333333333333333,
             "#9c179e"
            ],
            [
             0.4444444444444444,
             "#bd3786"
            ],
            [
             0.5555555555555556,
             "#d8576b"
            ],
            [
             0.6666666666666666,
             "#ed7953"
            ],
            [
             0.7777777777777778,
             "#fb9f3a"
            ],
            [
             0.8888888888888888,
             "#fdca26"
            ],
            [
             1,
             "#f0f921"
            ]
           ],
           "sequentialminus": [
            [
             0,
             "#0d0887"
            ],
            [
             0.1111111111111111,
             "#46039f"
            ],
            [
             0.2222222222222222,
             "#7201a8"
            ],
            [
             0.3333333333333333,
             "#9c179e"
            ],
            [
             0.4444444444444444,
             "#bd3786"
            ],
            [
             0.5555555555555556,
             "#d8576b"
            ],
            [
             0.6666666666666666,
             "#ed7953"
            ],
            [
             0.7777777777777778,
             "#fb9f3a"
            ],
            [
             0.8888888888888888,
             "#fdca26"
            ],
            [
             1,
             "#f0f921"
            ]
           ]
          },
          "colorway": [
           "#636efa",
           "#EF553B",
           "#00cc96",
           "#ab63fa",
           "#FFA15A",
           "#19d3f3",
           "#FF6692",
           "#B6E880",
           "#FF97FF",
           "#FECB52"
          ],
          "font": {
           "color": "#2a3f5f"
          },
          "geo": {
           "bgcolor": "white",
           "lakecolor": "white",
           "landcolor": "#E5ECF6",
           "showlakes": true,
           "showland": true,
           "subunitcolor": "white"
          },
          "hoverlabel": {
           "align": "left"
          },
          "hovermode": "closest",
          "mapbox": {
           "style": "light"
          },
          "paper_bgcolor": "white",
          "plot_bgcolor": "#E5ECF6",
          "polar": {
           "angularaxis": {
            "gridcolor": "white",
            "linecolor": "white",
            "ticks": ""
           },
           "bgcolor": "#E5ECF6",
           "radialaxis": {
            "gridcolor": "white",
            "linecolor": "white",
            "ticks": ""
           }
          },
          "scene": {
           "xaxis": {
            "backgroundcolor": "#E5ECF6",
            "gridcolor": "white",
            "gridwidth": 2,
            "linecolor": "white",
            "showbackground": true,
            "ticks": "",
            "zerolinecolor": "white"
           },
           "yaxis": {
            "backgroundcolor": "#E5ECF6",
            "gridcolor": "white",
            "gridwidth": 2,
            "linecolor": "white",
            "showbackground": true,
            "ticks": "",
            "zerolinecolor": "white"
           },
           "zaxis": {
            "backgroundcolor": "#E5ECF6",
            "gridcolor": "white",
            "gridwidth": 2,
            "linecolor": "white",
            "showbackground": true,
            "ticks": "",
            "zerolinecolor": "white"
           }
          },
          "shapedefaults": {
           "line": {
            "color": "#2a3f5f"
           }
          },
          "ternary": {
           "aaxis": {
            "gridcolor": "white",
            "linecolor": "white",
            "ticks": ""
           },
           "baxis": {
            "gridcolor": "white",
            "linecolor": "white",
            "ticks": ""
           },
           "bgcolor": "#E5ECF6",
           "caxis": {
            "gridcolor": "white",
            "linecolor": "white",
            "ticks": ""
           }
          },
          "title": {
           "x": 0.05
          },
          "xaxis": {
           "automargin": true,
           "gridcolor": "white",
           "linecolor": "white",
           "ticks": "",
           "title": {
            "standoff": 15
           },
           "zerolinecolor": "white",
           "zerolinewidth": 2
          },
          "yaxis": {
           "automargin": true,
           "gridcolor": "white",
           "linecolor": "white",
           "ticks": "",
           "title": {
            "standoff": 15
           },
           "zerolinecolor": "white",
           "zerolinewidth": 2
          }
         }
        },
        "title": {
         "text": "Bill: Length vs Depth — with marginals"
        },
        "xaxis": {
         "anchor": "y",
         "domain": [
          0,
          0.7363
         ],
         "title": {
          "text": "Bill Length Mm"
         }
        },
        "xaxis2": {
         "anchor": "y2",
         "domain": [
          0.7413,
          1
         ],
         "matches": "x2",
         "showgrid": false,
         "showline": false,
         "showticklabels": false,
         "ticks": ""
        },
        "xaxis3": {
         "anchor": "y3",
         "domain": [
          0,
          0.7363
         ],
         "matches": "x",
         "showgrid": true,
         "showticklabels": false
        },
        "xaxis4": {
         "anchor": "y4",
         "domain": [
          0.7413,
          1
         ],
         "matches": "x2",
         "showgrid": false,
         "showline": false,
         "showticklabels": false,
         "ticks": ""
        },
        "yaxis": {
         "anchor": "x",
         "domain": [
          0,
          0.7326
         ],
         "title": {
          "text": "Bill Depth Mm"
         }
        },
        "yaxis2": {
         "anchor": "x2",
         "domain": [
          0,
          0.7326
         ],
         "matches": "y",
         "showgrid": true,
         "showticklabels": false
        },
        "yaxis3": {
         "anchor": "x3",
         "domain": [
          0.7426,
          1
         ],
         "matches": "y3",
         "showgrid": true,
         "showline": false,
         "showticklabels": false,
         "ticks": ""
        },
        "yaxis4": {
         "anchor": "x4",
         "domain": [
          0.7426,
          1
         ],
         "matches": "y3",
         "showgrid": true,
         "showline": false,
         "showticklabels": false,
         "ticks": ""
        }
       }
      }
     },
     "metadata": {},
     "output_type": "display_data"
    }
   ],
   "source": [
    "fig = px.scatter(\n",
    "    df, x=\"Bill Length Mm\", y=\"Bill Depth Mm\", color=\"Species\",\n",
    "    hover_data=[\"Island\",\"Sex\",\"Flipper Length Mm\",\"Body Mass G\",\"Mass/Flipper\"],\n",
    "    marginal_x=\"histogram\", marginal_y=\"violin\", opacity=0.85,\n",
    "    title=\"Bill: Length vs Depth — with marginals\"\n",
    ")\n",
    "fig.show()"
   ]
  },
  {
   "cell_type": "code",
   "execution_count": 12,
   "id": "e5ccb0ad",
   "metadata": {},
   "outputs": [
    {
     "data": {
      "application/vnd.plotly.v1+json": {
       "config": {
        "plotlyServerURL": "https://plot.ly"
       },
       "data": [
        {
         "bingroup": "x",
         "hovertemplate": "Species=Adelie<br>Sex=Male<br>Body Mass G=%{x}<br>count=%{y}<extra></extra>",
         "legendgroup": "Adelie",
         "marker": {
          "color": "#636efa",
          "opacity": 0.6,
          "pattern": {
           "shape": ""
          }
         },
         "name": "Adelie",
         "nbinsx": 30,
         "orientation": "v",
         "showlegend": true,
         "type": "histogram",
         "x": {
          "bdata": "AAAAAABMrUAAAAAAAISsQAAAAAAAQ7JAAAAAAACwrUAAAAAAADCxQAAAAAAAlLFAAAAAAABosEAAAAAAACCsQAAAAAAA3K5AAAAAAACwrUAAAAAAALyrQAAAAAAA3K5AAAAAAAB4rkAAAAAAAHiuQAAAAAAANrBAAAAAAADcrkAAAAAAACqyQAAAAAAAeK5AAAAAAAAwsUAAAAAAAPixQAAAAAAAwqpAAAAAAAA2sEAAAAAAAMywQAAAAAAApK9AAAAAAADorEAAAAAAALCtQAAAAAAATK1AAAAAAAAwsUAAAAAAAKSvQAAAAAAA3K5AAAAAAAAEsEAAAAAAAGKxQAAAAAAAeK5AAAAAAAA2sEAAAAAAAJqwQAAAAAAAeK5AAAAAAABAr0AAAAAAAFyyQAAAAAAAaLBAAAAAAAC8q0AAAAAAALCtQAAAAAAA3K5AAAAAAADMsEAAAAAAAGKxQAAAAAAAzLBAAAAAAAD+sEAAAAAAAASwQAAAAAAAdbJAAAAAAACasEAAAAAAALyrQAAAAAAAeK5AAAAAAACnskAAAAAAAPixQAAAAAAAs7BAAAAAAADWr0AAAAAAAH6tQAAAAAAA+qlAAAAAAABYq0AAAAAAAEauQAAAAAAAQK9AAAAAAADMsEAAAAAAAECvQAAAAAAAWKtAAAAAAAB7sUAAAAAAAHiuQAAAAAAADq9AAAAAAACasEAAAAAAACarQAAAAAAAGq1AAAAAAACErEAAAAAAAJqwQAAAAAAATK1AAAAAAABAr0A=",
          "dtype": "f8"
         },
         "xaxis": "x3",
         "yaxis": "y3"
        },
        {
         "bingroup": "x",
         "hovertemplate": "Species=Adelie<br>Sex=Female<br>Body Mass G=%{x}<br>count=%{y}<extra></extra>",
         "legendgroup": "Adelie",
         "marker": {
          "color": "#636efa",
          "opacity": 0.6,
          "pattern": {
           "shape": ""
          }
         },
         "name": "Adelie",
         "nbinsx": 30,
         "orientation": "v",
         "showlegend": false,
         "type": "histogram",
         "x": {
          "bdata": "AAAAAACwrUAAAAAAAGSpQAAAAAAA9KpAAAAAAABSrEAAAAAAAACpQAAAAAAA6KxAAAAAAAD0qkAAAAAAAPqpQAAAAAAAkKpAAAAAAACwrUAAAAAAALCtQAAAAAAAAKlAAAAAAACcqEAAAAAAAGSpQAAAAAAAyKlAAAAAAAD6qUAAAAAAALyrQAAAAAAAyKlAAAAAAACcqEAAAAAAADioQAAAAAAAcKdAAAAAAAD0qkAAAAAAAFirQAAAAAAA9KpAAAAAAACopkAAAAAAALyrQAAAAAAARKZAAAAAAACcqEAAAAAAACCsQAAAAAAARKZAAAAAAAAsqkAAAAAAANSnQAAAAAAAIKxAAAAAAAC8q0AAAAAAAOisQAAAAAAA6KxAAAAAAAC8q0AAAAAAAACpQAAAAAAAsK1AAAAAAAAsqkAAAAAAAFirQAAAAAAAIKxAAAAAAAC8q0AAAAAAAJCqQAAAAAAAyKlAAAAAAADorEAAAAAAAKimQAAAAAAAGq1AAAAAAAAGqEAAAAAAANqmQAAAAAAATK1AAAAAAADOqEAAAAAAAOKtQAAAAAAAAKlAAAAAAAB4rkAAAAAAAKimQAAAAAAALKpAAAAAAACcqEAAAAAAAPSqQAAAAAAA1KdAAAAAAACWqUAAAAAAANSnQAAAAAAA+qlAAAAAAABYq0AAAAAAAMKqQAAAAAAAzqhAAAAAAACQqkAAAAAAAJCqQAAAAAAA1KdAAAAAAABwp0AAAAAAACarQAAAAAAA9KpAAAAAAADorEA=",
          "dtype": "f8"
         },
         "xaxis": "x2",
         "yaxis": "y2"
        },
        {
         "bingroup": "x",
         "hovertemplate": "Species=Chinstrap<br>Sex=Male<br>Body Mass G=%{x}<br>count=%{y}<extra></extra>",
         "legendgroup": "Chinstrap",
         "marker": {
          "color": "#EF553B",
          "opacity": 0.6,
          "pattern": {
           "shape": ""
          }
         },
         "name": "Chinstrap",
         "nbinsx": 30,
         "orientation": "v",
         "showlegend": true,
         "type": "histogram",
         "x": {
          "bdata": "AAAAAAB4rkAAAAAAAISsQAAAAAAAGq1AAAAAAABMrUAAAAAAAOisQAAAAAAAfq1AAAAAAACkr0AAAAAAAKSvQAAAAAAAyKlAAAAAAAAwsUAAAAAAAJCqQAAAAAAAsK1AAAAAAAA2sEAAAAAAALCtQAAAAAAAxrFAAAAAAADMsEAAAAAAAASwQAAAAAAAIKxAAAAAAADAskAAAAAAAJSxQAAAAAAA3K5AAAAAAAC8q0AAAAAAAGKxQAAAAAAAzLBAAAAAAABkqUAAAAAAANyuQAAAAAAApK9AAAAAAAD0qkAAAAAAAKSvQAAAAAAAsK1AAAAAAADcrkAAAAAAAECvQAAAAAAAfq1AAAAAAAAEsEA=",
          "dtype": "f8"
         },
         "xaxis": "x3",
         "yaxis": "y3"
        },
        {
         "bingroup": "x",
         "hovertemplate": "Species=Chinstrap<br>Sex=Female<br>Body Mass G=%{x}<br>count=%{y}<extra></extra>",
         "legendgroup": "Chinstrap",
         "marker": {
          "color": "#EF553B",
          "opacity": 0.6,
          "pattern": {
           "shape": ""
          }
         },
         "name": "Chinstrap",
         "nbinsx": 30,
         "orientation": "v",
         "showlegend": false,
         "type": "histogram",
         "x": {
          "bdata": "AAAAAABYq0AAAAAAAIqrQAAAAAAA3K5AAAAAAABkqUAAAAAAADawQAAAAAAAsK1AAAAAAADorEAAAAAAAO6rQAAAAAAA6KxAAAAAAAD0qkAAAAAAACCsQAAAAAAAqKZAAAAAAADIqUAAAAAAAJCqQAAAAAAA6KxAAAAAAAAAqUAAAAAAACyqQAAAAAAAeK5AAAAAAAAUrkAAAAAAABilQAAAAAAAhKxAAAAAAABYq0AAAAAAALasQAAAAAAAkKpAAAAAAAC2rEAAAAAAAPqpQAAAAAAAIKxAAAAAAAAsqkAAAAAAAGSpQAAAAAAAiqtAAAAAAACErEAAAAAAAISsQAAAAAAAkKpAAAAAAAB+rUA=",
          "dtype": "f8"
         },
         "xaxis": "x2",
         "yaxis": "y2"
        },
        {
         "bingroup": "x",
         "hovertemplate": "Species=Gentoo<br>Sex=Male<br>Body Mass G=%{x}<br>count=%{y}<extra></extra>",
         "legendgroup": "Gentoo",
         "marker": {
          "color": "#00cc96",
          "opacity": 0.6,
          "pattern": {
           "shape": ""
          }
         },
         "name": "Gentoo",
         "nbinsx": 30,
         "orientation": "v",
         "showlegend": true,
         "type": "histogram",
         "x": {
          "bdata": "AAAAAABEtkAAAAAAAES2QAAAAAAAGLVAAAAAAABQtEAAAAAAAB60QAAAAAAArrVAAAAAAADatkAAAAAAANq2QAAAAAAAnLhAAAAAAADmtEAAAAAAAES2QAAAAAAAurNAAAAAAADss0AAAAAAABK2QAAAAAAArrVAAAAAAACCtEAAAAAAAKK3QAAAAAAAGLVAAAAAAACCtEAAAAAAAOa0QAAAAAAARLZAAAAAAACOskAAAAAAAK61QAAAAAAAGLVAAAAAAAC0tEAAAAAAALS0QAAAAAAAiLNAAAAAAAC6s0AAAAAAAIizQAAAAAAArrVAAAAAAAC0tEAAAAAAABK2QAAAAAAARLZAAAAAAACotkAAAAAAAK61QAAAAAAAiLNAAAAAAADss0AAAAAAAKi2QAAAAAAAcLdAAAAAAAA+t0AAAAAAAEq1QAAAAAAA5rRAAAAAAADgtUAAAAAAALS0QAAAAAAArrVAAAAAAAAYtUAAAAAAABK2QAAAAAAAULRAAAAAAAA9s0AAAAAAAIK0QAAAAAAA4LVAAAAAAAB8tUAAAAAAAHy1QAAAAAAAfLVAAAAAAAB8tUAAAAAAAD63QAAAAAAAfLVAAAAAAADatkAAAAAAAHC3QAAAAAAAdrZAAAAAAAAYtUA=",
          "dtype": "f8"
         },
         "xaxis": "x3",
         "yaxis": "y3"
        },
        {
         "bingroup": "x",
         "hovertemplate": "Species=Gentoo<br>Sex=Female<br>Body Mass G=%{x}<br>count=%{y}<extra></extra>",
         "legendgroup": "Gentoo",
         "marker": {
          "color": "#00cc96",
          "opacity": 0.6,
          "pattern": {
           "shape": ""
          }
         },
         "name": "Gentoo",
         "nbinsx": 30,
         "orientation": "v",
         "showlegend": false,
         "type": "histogram",
         "x": {
          "bdata": "AAAAAACUsUAAAAAAAGKxQAAAAAAAxrFAAAAAAADAskAAAAAAADCxQAAAAAAAKrJAAAAAAAAqskAAAAAAAGiwQAAAAAAANrBAAAAAAADAskAAAAAAAIizQAAAAAAAMLFAAAAAAACIs0AAAAAAAPixQAAAAAAAXLJAAAAAAAC6s0AAAAAAAB60QAAAAAAAVrNAAAAAAAD+sEAAAAAAANyuQAAAAAAAzLBAAAAAAAAks0AAAAAAAGiwQAAAAAAA7LNAAAAAAADyskAAAAAAADCxQAAAAAAAJLNAAAAAAADMsEAAAAAAAGKxQAAAAAAAaLBAAAAAAAAwsUAAAAAAAFyyQAAAAAAAXLJAAAAAAACOskAAAAAAAFC0QAAAAAAAXLJAAAAAAAD4sUAAAAAAAI6yQAAAAAAAEbJAAAAAAAB1skAAAAAAAI6yQAAAAAAA+LFAAAAAAAALs0AAAAAAAFazQAAAAAAAjrJAAAAAAADyskAAAAAAAAuzQAAAAAAAEbJAAAAAAADyskAAAAAAAG+zQAAAAAAAXLJAAAAAAADfsUAAAAAAAIizQAAAAAAAKrJAAAAAAAAXsUAAAAAAAD2zQAAAAAAA8rJAAAAAAABQtEA=",
          "dtype": "f8"
         },
         "xaxis": "x2",
         "yaxis": "y2"
        }
       ],
       "layout": {
        "annotations": [
         {
          "font": {},
          "showarrow": false,
          "text": "Sex=nan",
          "textangle": 90,
          "x": 0.98,
          "xanchor": "left",
          "xref": "paper",
          "y": 0.15666666666666665,
          "yanchor": "middle",
          "yref": "paper"
         },
         {
          "font": {},
          "showarrow": false,
          "text": "Sex=Female",
          "textangle": 90,
          "x": 0.98,
          "xanchor": "left",
          "xref": "paper",
          "y": 0.4999999999999999,
          "yanchor": "middle",
          "yref": "paper"
         },
         {
          "font": {},
          "showarrow": false,
          "text": "Sex=Male",
          "textangle": 90,
          "x": 0.98,
          "xanchor": "left",
          "xref": "paper",
          "y": 0.8433333333333332,
          "yanchor": "middle",
          "yref": "paper"
         }
        ],
        "barmode": "overlay",
        "legend": {
         "title": {
          "text": "Species"
         },
         "tracegroupgap": 0
        },
        "margin": {
         "t": 60
        },
        "template": {
         "data": {
          "bar": [
           {
            "error_x": {
             "color": "#2a3f5f"
            },
            "error_y": {
             "color": "#2a3f5f"
            },
            "marker": {
             "line": {
              "color": "#E5ECF6",
              "width": 0.5
             },
             "pattern": {
              "fillmode": "overlay",
              "size": 10,
              "solidity": 0.2
             }
            },
            "type": "bar"
           }
          ],
          "barpolar": [
           {
            "marker": {
             "line": {
              "color": "#E5ECF6",
              "width": 0.5
             },
             "pattern": {
              "fillmode": "overlay",
              "size": 10,
              "solidity": 0.2
             }
            },
            "type": "barpolar"
           }
          ],
          "carpet": [
           {
            "aaxis": {
             "endlinecolor": "#2a3f5f",
             "gridcolor": "white",
             "linecolor": "white",
             "minorgridcolor": "white",
             "startlinecolor": "#2a3f5f"
            },
            "baxis": {
             "endlinecolor": "#2a3f5f",
             "gridcolor": "white",
             "linecolor": "white",
             "minorgridcolor": "white",
             "startlinecolor": "#2a3f5f"
            },
            "type": "carpet"
           }
          ],
          "choropleth": [
           {
            "colorbar": {
             "outlinewidth": 0,
             "ticks": ""
            },
            "type": "choropleth"
           }
          ],
          "contour": [
           {
            "colorbar": {
             "outlinewidth": 0,
             "ticks": ""
            },
            "colorscale": [
             [
              0,
              "#0d0887"
             ],
             [
              0.1111111111111111,
              "#46039f"
             ],
             [
              0.2222222222222222,
              "#7201a8"
             ],
             [
              0.3333333333333333,
              "#9c179e"
             ],
             [
              0.4444444444444444,
              "#bd3786"
             ],
             [
              0.5555555555555556,
              "#d8576b"
             ],
             [
              0.6666666666666666,
              "#ed7953"
             ],
             [
              0.7777777777777778,
              "#fb9f3a"
             ],
             [
              0.8888888888888888,
              "#fdca26"
             ],
             [
              1,
              "#f0f921"
             ]
            ],
            "type": "contour"
           }
          ],
          "contourcarpet": [
           {
            "colorbar": {
             "outlinewidth": 0,
             "ticks": ""
            },
            "type": "contourcarpet"
           }
          ],
          "heatmap": [
           {
            "colorbar": {
             "outlinewidth": 0,
             "ticks": ""
            },
            "colorscale": [
             [
              0,
              "#0d0887"
             ],
             [
              0.1111111111111111,
              "#46039f"
             ],
             [
              0.2222222222222222,
              "#7201a8"
             ],
             [
              0.3333333333333333,
              "#9c179e"
             ],
             [
              0.4444444444444444,
              "#bd3786"
             ],
             [
              0.5555555555555556,
              "#d8576b"
             ],
             [
              0.6666666666666666,
              "#ed7953"
             ],
             [
              0.7777777777777778,
              "#fb9f3a"
             ],
             [
              0.8888888888888888,
              "#fdca26"
             ],
             [
              1,
              "#f0f921"
             ]
            ],
            "type": "heatmap"
           }
          ],
          "histogram": [
           {
            "marker": {
             "pattern": {
              "fillmode": "overlay",
              "size": 10,
              "solidity": 0.2
             }
            },
            "type": "histogram"
           }
          ],
          "histogram2d": [
           {
            "colorbar": {
             "outlinewidth": 0,
             "ticks": ""
            },
            "colorscale": [
             [
              0,
              "#0d0887"
             ],
             [
              0.1111111111111111,
              "#46039f"
             ],
             [
              0.2222222222222222,
              "#7201a8"
             ],
             [
              0.3333333333333333,
              "#9c179e"
             ],
             [
              0.4444444444444444,
              "#bd3786"
             ],
             [
              0.5555555555555556,
              "#d8576b"
             ],
             [
              0.6666666666666666,
              "#ed7953"
             ],
             [
              0.7777777777777778,
              "#fb9f3a"
             ],
             [
              0.8888888888888888,
              "#fdca26"
             ],
             [
              1,
              "#f0f921"
             ]
            ],
            "type": "histogram2d"
           }
          ],
          "histogram2dcontour": [
           {
            "colorbar": {
             "outlinewidth": 0,
             "ticks": ""
            },
            "colorscale": [
             [
              0,
              "#0d0887"
             ],
             [
              0.1111111111111111,
              "#46039f"
             ],
             [
              0.2222222222222222,
              "#7201a8"
             ],
             [
              0.3333333333333333,
              "#9c179e"
             ],
             [
              0.4444444444444444,
              "#bd3786"
             ],
             [
              0.5555555555555556,
              "#d8576b"
             ],
             [
              0.6666666666666666,
              "#ed7953"
             ],
             [
              0.7777777777777778,
              "#fb9f3a"
             ],
             [
              0.8888888888888888,
              "#fdca26"
             ],
             [
              1,
              "#f0f921"
             ]
            ],
            "type": "histogram2dcontour"
           }
          ],
          "mesh3d": [
           {
            "colorbar": {
             "outlinewidth": 0,
             "ticks": ""
            },
            "type": "mesh3d"
           }
          ],
          "parcoords": [
           {
            "line": {
             "colorbar": {
              "outlinewidth": 0,
              "ticks": ""
             }
            },
            "type": "parcoords"
           }
          ],
          "pie": [
           {
            "automargin": true,
            "type": "pie"
           }
          ],
          "scatter": [
           {
            "fillpattern": {
             "fillmode": "overlay",
             "size": 10,
             "solidity": 0.2
            },
            "type": "scatter"
           }
          ],
          "scatter3d": [
           {
            "line": {
             "colorbar": {
              "outlinewidth": 0,
              "ticks": ""
             }
            },
            "marker": {
             "colorbar": {
              "outlinewidth": 0,
              "ticks": ""
             }
            },
            "type": "scatter3d"
           }
          ],
          "scattercarpet": [
           {
            "marker": {
             "colorbar": {
              "outlinewidth": 0,
              "ticks": ""
             }
            },
            "type": "scattercarpet"
           }
          ],
          "scattergeo": [
           {
            "marker": {
             "colorbar": {
              "outlinewidth": 0,
              "ticks": ""
             }
            },
            "type": "scattergeo"
           }
          ],
          "scattergl": [
           {
            "marker": {
             "colorbar": {
              "outlinewidth": 0,
              "ticks": ""
             }
            },
            "type": "scattergl"
           }
          ],
          "scattermap": [
           {
            "marker": {
             "colorbar": {
              "outlinewidth": 0,
              "ticks": ""
             }
            },
            "type": "scattermap"
           }
          ],
          "scattermapbox": [
           {
            "marker": {
             "colorbar": {
              "outlinewidth": 0,
              "ticks": ""
             }
            },
            "type": "scattermapbox"
           }
          ],
          "scatterpolar": [
           {
            "marker": {
             "colorbar": {
              "outlinewidth": 0,
              "ticks": ""
             }
            },
            "type": "scatterpolar"
           }
          ],
          "scatterpolargl": [
           {
            "marker": {
             "colorbar": {
              "outlinewidth": 0,
              "ticks": ""
             }
            },
            "type": "scatterpolargl"
           }
          ],
          "scatterternary": [
           {
            "marker": {
             "colorbar": {
              "outlinewidth": 0,
              "ticks": ""
             }
            },
            "type": "scatterternary"
           }
          ],
          "surface": [
           {
            "colorbar": {
             "outlinewidth": 0,
             "ticks": ""
            },
            "colorscale": [
             [
              0,
              "#0d0887"
             ],
             [
              0.1111111111111111,
              "#46039f"
             ],
             [
              0.2222222222222222,
              "#7201a8"
             ],
             [
              0.3333333333333333,
              "#9c179e"
             ],
             [
              0.4444444444444444,
              "#bd3786"
             ],
             [
              0.5555555555555556,
              "#d8576b"
             ],
             [
              0.6666666666666666,
              "#ed7953"
             ],
             [
              0.7777777777777778,
              "#fb9f3a"
             ],
             [
              0.8888888888888888,
              "#fdca26"
             ],
             [
              1,
              "#f0f921"
             ]
            ],
            "type": "surface"
           }
          ],
          "table": [
           {
            "cells": {
             "fill": {
              "color": "#EBF0F8"
             },
             "line": {
              "color": "white"
             }
            },
            "header": {
             "fill": {
              "color": "#C8D4E3"
             },
             "line": {
              "color": "white"
             }
            },
            "type": "table"
           }
          ]
         },
         "layout": {
          "annotationdefaults": {
           "arrowcolor": "#2a3f5f",
           "arrowhead": 0,
           "arrowwidth": 1
          },
          "autotypenumbers": "strict",
          "coloraxis": {
           "colorbar": {
            "outlinewidth": 0,
            "ticks": ""
           }
          },
          "colorscale": {
           "diverging": [
            [
             0,
             "#8e0152"
            ],
            [
             0.1,
             "#c51b7d"
            ],
            [
             0.2,
             "#de77ae"
            ],
            [
             0.3,
             "#f1b6da"
            ],
            [
             0.4,
             "#fde0ef"
            ],
            [
             0.5,
             "#f7f7f7"
            ],
            [
             0.6,
             "#e6f5d0"
            ],
            [
             0.7,
             "#b8e186"
            ],
            [
             0.8,
             "#7fbc41"
            ],
            [
             0.9,
             "#4d9221"
            ],
            [
             1,
             "#276419"
            ]
           ],
           "sequential": [
            [
             0,
             "#0d0887"
            ],
            [
             0.1111111111111111,
             "#46039f"
            ],
            [
             0.2222222222222222,
             "#7201a8"
            ],
            [
             0.3333333333333333,
             "#9c179e"
            ],
            [
             0.4444444444444444,
             "#bd3786"
            ],
            [
             0.5555555555555556,
             "#d8576b"
            ],
            [
             0.6666666666666666,
             "#ed7953"
            ],
            [
             0.7777777777777778,
             "#fb9f3a"
            ],
            [
             0.8888888888888888,
             "#fdca26"
            ],
            [
             1,
             "#f0f921"
            ]
           ],
           "sequentialminus": [
            [
             0,
             "#0d0887"
            ],
            [
             0.1111111111111111,
             "#46039f"
            ],
            [
             0.2222222222222222,
             "#7201a8"
            ],
            [
             0.3333333333333333,
             "#9c179e"
            ],
            [
             0.4444444444444444,
             "#bd3786"
            ],
            [
             0.5555555555555556,
             "#d8576b"
            ],
            [
             0.6666666666666666,
             "#ed7953"
            ],
            [
             0.7777777777777778,
             "#fb9f3a"
            ],
            [
             0.8888888888888888,
             "#fdca26"
            ],
            [
             1,
             "#f0f921"
            ]
           ]
          },
          "colorway": [
           "#636efa",
           "#EF553B",
           "#00cc96",
           "#ab63fa",
           "#FFA15A",
           "#19d3f3",
           "#FF6692",
           "#B6E880",
           "#FF97FF",
           "#FECB52"
          ],
          "font": {
           "color": "#2a3f5f"
          },
          "geo": {
           "bgcolor": "white",
           "lakecolor": "white",
           "landcolor": "#E5ECF6",
           "showlakes": true,
           "showland": true,
           "subunitcolor": "white"
          },
          "hoverlabel": {
           "align": "left"
          },
          "hovermode": "closest",
          "mapbox": {
           "style": "light"
          },
          "paper_bgcolor": "white",
          "plot_bgcolor": "#E5ECF6",
          "polar": {
           "angularaxis": {
            "gridcolor": "white",
            "linecolor": "white",
            "ticks": ""
           },
           "bgcolor": "#E5ECF6",
           "radialaxis": {
            "gridcolor": "white",
            "linecolor": "white",
            "ticks": ""
           }
          },
          "scene": {
           "xaxis": {
            "backgroundcolor": "#E5ECF6",
            "gridcolor": "white",
            "gridwidth": 2,
            "linecolor": "white",
            "showbackground": true,
            "ticks": "",
            "zerolinecolor": "white"
           },
           "yaxis": {
            "backgroundcolor": "#E5ECF6",
            "gridcolor": "white",
            "gridwidth": 2,
            "linecolor": "white",
            "showbackground": true,
            "ticks": "",
            "zerolinecolor": "white"
           },
           "zaxis": {
            "backgroundcolor": "#E5ECF6",
            "gridcolor": "white",
            "gridwidth": 2,
            "linecolor": "white",
            "showbackground": true,
            "ticks": "",
            "zerolinecolor": "white"
           }
          },
          "shapedefaults": {
           "line": {
            "color": "#2a3f5f"
           }
          },
          "ternary": {
           "aaxis": {
            "gridcolor": "white",
            "linecolor": "white",
            "ticks": ""
           },
           "baxis": {
            "gridcolor": "white",
            "linecolor": "white",
            "ticks": ""
           },
           "bgcolor": "#E5ECF6",
           "caxis": {
            "gridcolor": "white",
            "linecolor": "white",
            "ticks": ""
           }
          },
          "title": {
           "x": 0.05
          },
          "xaxis": {
           "automargin": true,
           "gridcolor": "white",
           "linecolor": "white",
           "ticks": "",
           "title": {
            "standoff": 15
           },
           "zerolinecolor": "white",
           "zerolinewidth": 2
          },
          "yaxis": {
           "automargin": true,
           "gridcolor": "white",
           "linecolor": "white",
           "ticks": "",
           "title": {
            "standoff": 15
           },
           "zerolinecolor": "white",
           "zerolinewidth": 2
          }
         }
        },
        "xaxis": {
         "anchor": "y",
         "domain": [
          0,
          0.98
         ],
         "title": {
          "text": "Body Mass G"
         }
        },
        "xaxis2": {
         "anchor": "y2",
         "domain": [
          0,
          0.98
         ],
         "matches": "x",
         "showticklabels": false
        },
        "xaxis3": {
         "anchor": "y3",
         "domain": [
          0,
          0.98
         ],
         "matches": "x",
         "showticklabels": false
        },
        "yaxis": {
         "anchor": "x",
         "domain": [
          0,
          0.3133333333333333
         ],
         "title": {
          "text": "count"
         }
        },
        "yaxis2": {
         "anchor": "x2",
         "domain": [
          0.34333333333333327,
          0.6566666666666665
         ],
         "matches": "y",
         "title": {
          "text": "count"
         }
        },
        "yaxis3": {
         "anchor": "x3",
         "domain": [
          0.6866666666666665,
          0.9999999999999998
         ],
         "matches": "y",
         "title": {
          "text": "count"
         }
        }
       }
      }
     },
     "metadata": {},
     "output_type": "display_data"
    }
   ],
   "source": [
    "fig = px.histogram(\n",
    "    df, x=\"Body Mass G\", color=\"Species\",\n",
    "    nbins=30, barmode=\"overlay\", opacity=0.60,\n",
    "    facet_row=\"Sex\"\n",
    ")\n",
    "fig.show()"
   ]
  },
  {
   "cell_type": "code",
   "execution_count": 16,
   "id": "45123927",
   "metadata": {},
   "outputs": [
    {
     "data": {
      "application/vnd.plotly.v1+json": {
       "config": {
        "plotlyServerURL": "https://plot.ly"
       },
       "data": [
        {
         "alignmentgroup": "True",
         "boxpoints": "all",
         "hovertemplate": "Species=%{x}<br>Body Mass G=%{y}<extra></extra>",
         "legendgroup": "",
         "marker": {
          "color": "#636efa"
         },
         "name": "",
         "notched": false,
         "offsetgroup": "",
         "orientation": "v",
         "showlegend": false,
         "type": "box",
         "x": [
          "Adelie",
          "Adelie",
          "Adelie",
          "Adelie",
          "Adelie",
          "Adelie",
          "Adelie",
          "Adelie",
          "Adelie",
          "Adelie",
          "Adelie",
          "Adelie",
          "Adelie",
          "Adelie",
          "Adelie",
          "Adelie",
          "Adelie",
          "Adelie",
          "Adelie",
          "Adelie",
          "Adelie",
          "Adelie",
          "Adelie",
          "Adelie",
          "Adelie",
          "Adelie",
          "Adelie",
          "Adelie",
          "Adelie",
          "Adelie",
          "Adelie",
          "Adelie",
          "Adelie",
          "Adelie",
          "Adelie",
          "Adelie",
          "Adelie",
          "Adelie",
          "Adelie",
          "Adelie",
          "Adelie",
          "Adelie",
          "Adelie",
          "Adelie",
          "Adelie",
          "Adelie",
          "Adelie",
          "Adelie",
          "Adelie",
          "Adelie",
          "Adelie",
          "Adelie",
          "Adelie",
          "Adelie",
          "Adelie",
          "Adelie",
          "Adelie",
          "Adelie",
          "Adelie",
          "Adelie",
          "Adelie",
          "Adelie",
          "Adelie",
          "Adelie",
          "Adelie",
          "Adelie",
          "Adelie",
          "Adelie",
          "Adelie",
          "Adelie",
          "Adelie",
          "Adelie",
          "Adelie",
          "Adelie",
          "Adelie",
          "Adelie",
          "Adelie",
          "Adelie",
          "Adelie",
          "Adelie",
          "Adelie",
          "Adelie",
          "Adelie",
          "Adelie",
          "Adelie",
          "Adelie",
          "Adelie",
          "Adelie",
          "Adelie",
          "Adelie",
          "Adelie",
          "Adelie",
          "Adelie",
          "Adelie",
          "Adelie",
          "Adelie",
          "Adelie",
          "Adelie",
          "Adelie",
          "Adelie",
          "Adelie",
          "Adelie",
          "Adelie",
          "Adelie",
          "Adelie",
          "Adelie",
          "Adelie",
          "Adelie",
          "Adelie",
          "Adelie",
          "Adelie",
          "Adelie",
          "Adelie",
          "Adelie",
          "Adelie",
          "Adelie",
          "Adelie",
          "Adelie",
          "Adelie",
          "Adelie",
          "Adelie",
          "Adelie",
          "Adelie",
          "Adelie",
          "Adelie",
          "Adelie",
          "Adelie",
          "Adelie",
          "Adelie",
          "Adelie",
          "Adelie",
          "Adelie",
          "Adelie",
          "Adelie",
          "Adelie",
          "Adelie",
          "Adelie",
          "Adelie",
          "Adelie",
          "Adelie",
          "Adelie",
          "Adelie",
          "Adelie",
          "Adelie",
          "Adelie",
          "Adelie",
          "Adelie",
          "Adelie",
          "Adelie",
          "Adelie",
          "Adelie",
          "Adelie",
          "Chinstrap",
          "Chinstrap",
          "Chinstrap",
          "Chinstrap",
          "Chinstrap",
          "Chinstrap",
          "Chinstrap",
          "Chinstrap",
          "Chinstrap",
          "Chinstrap",
          "Chinstrap",
          "Chinstrap",
          "Chinstrap",
          "Chinstrap",
          "Chinstrap",
          "Chinstrap",
          "Chinstrap",
          "Chinstrap",
          "Chinstrap",
          "Chinstrap",
          "Chinstrap",
          "Chinstrap",
          "Chinstrap",
          "Chinstrap",
          "Chinstrap",
          "Chinstrap",
          "Chinstrap",
          "Chinstrap",
          "Chinstrap",
          "Chinstrap",
          "Chinstrap",
          "Chinstrap",
          "Chinstrap",
          "Chinstrap",
          "Chinstrap",
          "Chinstrap",
          "Chinstrap",
          "Chinstrap",
          "Chinstrap",
          "Chinstrap",
          "Chinstrap",
          "Chinstrap",
          "Chinstrap",
          "Chinstrap",
          "Chinstrap",
          "Chinstrap",
          "Chinstrap",
          "Chinstrap",
          "Chinstrap",
          "Chinstrap",
          "Chinstrap",
          "Chinstrap",
          "Chinstrap",
          "Chinstrap",
          "Chinstrap",
          "Chinstrap",
          "Chinstrap",
          "Chinstrap",
          "Chinstrap",
          "Chinstrap",
          "Chinstrap",
          "Chinstrap",
          "Chinstrap",
          "Chinstrap",
          "Chinstrap",
          "Chinstrap",
          "Chinstrap",
          "Chinstrap",
          "Gentoo",
          "Gentoo",
          "Gentoo",
          "Gentoo",
          "Gentoo",
          "Gentoo",
          "Gentoo",
          "Gentoo",
          "Gentoo",
          "Gentoo",
          "Gentoo",
          "Gentoo",
          "Gentoo",
          "Gentoo",
          "Gentoo",
          "Gentoo",
          "Gentoo",
          "Gentoo",
          "Gentoo",
          "Gentoo",
          "Gentoo",
          "Gentoo",
          "Gentoo",
          "Gentoo",
          "Gentoo",
          "Gentoo",
          "Gentoo",
          "Gentoo",
          "Gentoo",
          "Gentoo",
          "Gentoo",
          "Gentoo",
          "Gentoo",
          "Gentoo",
          "Gentoo",
          "Gentoo",
          "Gentoo",
          "Gentoo",
          "Gentoo",
          "Gentoo",
          "Gentoo",
          "Gentoo",
          "Gentoo",
          "Gentoo",
          "Gentoo",
          "Gentoo",
          "Gentoo",
          "Gentoo",
          "Gentoo",
          "Gentoo",
          "Gentoo",
          "Gentoo",
          "Gentoo",
          "Gentoo",
          "Gentoo",
          "Gentoo",
          "Gentoo",
          "Gentoo",
          "Gentoo",
          "Gentoo",
          "Gentoo",
          "Gentoo",
          "Gentoo",
          "Gentoo",
          "Gentoo",
          "Gentoo",
          "Gentoo",
          "Gentoo",
          "Gentoo",
          "Gentoo",
          "Gentoo",
          "Gentoo",
          "Gentoo",
          "Gentoo",
          "Gentoo",
          "Gentoo",
          "Gentoo",
          "Gentoo",
          "Gentoo",
          "Gentoo",
          "Gentoo",
          "Gentoo",
          "Gentoo",
          "Gentoo",
          "Gentoo",
          "Gentoo",
          "Gentoo",
          "Gentoo",
          "Gentoo",
          "Gentoo",
          "Gentoo",
          "Gentoo",
          "Gentoo",
          "Gentoo",
          "Gentoo",
          "Gentoo",
          "Gentoo",
          "Gentoo",
          "Gentoo",
          "Gentoo",
          "Gentoo",
          "Gentoo",
          "Gentoo",
          "Gentoo",
          "Gentoo",
          "Gentoo",
          "Gentoo",
          "Gentoo",
          "Gentoo",
          "Gentoo",
          "Gentoo",
          "Gentoo",
          "Gentoo",
          "Gentoo",
          "Gentoo",
          "Gentoo",
          "Gentoo",
          "Gentoo",
          "Gentoo",
          "Gentoo",
          "Gentoo",
          "Gentoo",
          "Gentoo",
          "Gentoo"
         ],
         "x0": " ",
         "xaxis": "x",
         "y": {
          "bdata": "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",
          "dtype": "f8"
         },
         "y0": " ",
         "yaxis": "y"
        }
       ],
       "layout": {
        "boxmode": "group",
        "legend": {
         "tracegroupgap": 0
        },
        "margin": {
         "t": 60
        },
        "template": {
         "data": {
          "bar": [
           {
            "error_x": {
             "color": "#2a3f5f"
            },
            "error_y": {
             "color": "#2a3f5f"
            },
            "marker": {
             "line": {
              "color": "#E5ECF6",
              "width": 0.5
             },
             "pattern": {
              "fillmode": "overlay",
              "size": 10,
              "solidity": 0.2
             }
            },
            "type": "bar"
           }
          ],
          "barpolar": [
           {
            "marker": {
             "line": {
              "color": "#E5ECF6",
              "width": 0.5
             },
             "pattern": {
              "fillmode": "overlay",
              "size": 10,
              "solidity": 0.2
             }
            },
            "type": "barpolar"
           }
          ],
          "carpet": [
           {
            "aaxis": {
             "endlinecolor": "#2a3f5f",
             "gridcolor": "white",
             "linecolor": "white",
             "minorgridcolor": "white",
             "startlinecolor": "#2a3f5f"
            },
            "baxis": {
             "endlinecolor": "#2a3f5f",
             "gridcolor": "white",
             "linecolor": "white",
             "minorgridcolor": "white",
             "startlinecolor": "#2a3f5f"
            },
            "type": "carpet"
           }
          ],
          "choropleth": [
           {
            "colorbar": {
             "outlinewidth": 0,
             "ticks": ""
            },
            "type": "choropleth"
           }
          ],
          "contour": [
           {
            "colorbar": {
             "outlinewidth": 0,
             "ticks": ""
            },
            "colorscale": [
             [
              0,
              "#0d0887"
             ],
             [
              0.1111111111111111,
              "#46039f"
             ],
             [
              0.2222222222222222,
              "#7201a8"
             ],
             [
              0.3333333333333333,
              "#9c179e"
             ],
             [
              0.4444444444444444,
              "#bd3786"
             ],
             [
              0.5555555555555556,
              "#d8576b"
             ],
             [
              0.6666666666666666,
              "#ed7953"
             ],
             [
              0.7777777777777778,
              "#fb9f3a"
             ],
             [
              0.8888888888888888,
              "#fdca26"
             ],
             [
              1,
              "#f0f921"
             ]
            ],
            "type": "contour"
           }
          ],
          "contourcarpet": [
           {
            "colorbar": {
             "outlinewidth": 0,
             "ticks": ""
            },
            "type": "contourcarpet"
           }
          ],
          "heatmap": [
           {
            "colorbar": {
             "outlinewidth": 0,
             "ticks": ""
            },
            "colorscale": [
             [
              0,
              "#0d0887"
             ],
             [
              0.1111111111111111,
              "#46039f"
             ],
             [
              0.2222222222222222,
              "#7201a8"
             ],
             [
              0.3333333333333333,
              "#9c179e"
             ],
             [
              0.4444444444444444,
              "#bd3786"
             ],
             [
              0.5555555555555556,
              "#d8576b"
             ],
             [
              0.6666666666666666,
              "#ed7953"
             ],
             [
              0.7777777777777778,
              "#fb9f3a"
             ],
             [
              0.8888888888888888,
              "#fdca26"
             ],
             [
              1,
              "#f0f921"
             ]
            ],
            "type": "heatmap"
           }
          ],
          "histogram": [
           {
            "marker": {
             "pattern": {
              "fillmode": "overlay",
              "size": 10,
              "solidity": 0.2
             }
            },
            "type": "histogram"
           }
          ],
          "histogram2d": [
           {
            "colorbar": {
             "outlinewidth": 0,
             "ticks": ""
            },
            "colorscale": [
             [
              0,
              "#0d0887"
             ],
             [
              0.1111111111111111,
              "#46039f"
             ],
             [
              0.2222222222222222,
              "#7201a8"
             ],
             [
              0.3333333333333333,
              "#9c179e"
             ],
             [
              0.4444444444444444,
              "#bd3786"
             ],
             [
              0.5555555555555556,
              "#d8576b"
             ],
             [
              0.6666666666666666,
              "#ed7953"
             ],
             [
              0.7777777777777778,
              "#fb9f3a"
             ],
             [
              0.8888888888888888,
              "#fdca26"
             ],
             [
              1,
              "#f0f921"
             ]
            ],
            "type": "histogram2d"
           }
          ],
          "histogram2dcontour": [
           {
            "colorbar": {
             "outlinewidth": 0,
             "ticks": ""
            },
            "colorscale": [
             [
              0,
              "#0d0887"
             ],
             [
              0.1111111111111111,
              "#46039f"
             ],
             [
              0.2222222222222222,
              "#7201a8"
             ],
             [
              0.3333333333333333,
              "#9c179e"
             ],
             [
              0.4444444444444444,
              "#bd3786"
             ],
             [
              0.5555555555555556,
              "#d8576b"
             ],
             [
              0.6666666666666666,
              "#ed7953"
             ],
             [
              0.7777777777777778,
              "#fb9f3a"
             ],
             [
              0.8888888888888888,
              "#fdca26"
             ],
             [
              1,
              "#f0f921"
             ]
            ],
            "type": "histogram2dcontour"
           }
          ],
          "mesh3d": [
           {
            "colorbar": {
             "outlinewidth": 0,
             "ticks": ""
            },
            "type": "mesh3d"
           }
          ],
          "parcoords": [
           {
            "line": {
             "colorbar": {
              "outlinewidth": 0,
              "ticks": ""
             }
            },
            "type": "parcoords"
           }
          ],
          "pie": [
           {
            "automargin": true,
            "type": "pie"
           }
          ],
          "scatter": [
           {
            "fillpattern": {
             "fillmode": "overlay",
             "size": 10,
             "solidity": 0.2
            },
            "type": "scatter"
           }
          ],
          "scatter3d": [
           {
            "line": {
             "colorbar": {
              "outlinewidth": 0,
              "ticks": ""
             }
            },
            "marker": {
             "colorbar": {
              "outlinewidth": 0,
              "ticks": ""
             }
            },
            "type": "scatter3d"
           }
          ],
          "scattercarpet": [
           {
            "marker": {
             "colorbar": {
              "outlinewidth": 0,
              "ticks": ""
             }
            },
            "type": "scattercarpet"
           }
          ],
          "scattergeo": [
           {
            "marker": {
             "colorbar": {
              "outlinewidth": 0,
              "ticks": ""
             }
            },
            "type": "scattergeo"
           }
          ],
          "scattergl": [
           {
            "marker": {
             "colorbar": {
              "outlinewidth": 0,
              "ticks": ""
             }
            },
            "type": "scattergl"
           }
          ],
          "scattermap": [
           {
            "marker": {
             "colorbar": {
              "outlinewidth": 0,
              "ticks": ""
             }
            },
            "type": "scattermap"
           }
          ],
          "scattermapbox": [
           {
            "marker": {
             "colorbar": {
              "outlinewidth": 0,
              "ticks": ""
             }
            },
            "type": "scattermapbox"
           }
          ],
          "scatterpolar": [
           {
            "marker": {
             "colorbar": {
              "outlinewidth": 0,
              "ticks": ""
             }
            },
            "type": "scatterpolar"
           }
          ],
          "scatterpolargl": [
           {
            "marker": {
             "colorbar": {
              "outlinewidth": 0,
              "ticks": ""
             }
            },
            "type": "scatterpolargl"
           }
          ],
          "scatterternary": [
           {
            "marker": {
             "colorbar": {
              "outlinewidth": 0,
              "ticks": ""
             }
            },
            "type": "scatterternary"
           }
          ],
          "surface": [
           {
            "colorbar": {
             "outlinewidth": 0,
             "ticks": ""
            },
            "colorscale": [
             [
              0,
              "#0d0887"
             ],
             [
              0.1111111111111111,
              "#46039f"
             ],
             [
              0.2222222222222222,
              "#7201a8"
             ],
             [
              0.3333333333333333,
              "#9c179e"
             ],
             [
              0.4444444444444444,
              "#bd3786"
             ],
             [
              0.5555555555555556,
              "#d8576b"
             ],
             [
              0.6666666666666666,
              "#ed7953"
             ],
             [
              0.7777777777777778,
              "#fb9f3a"
             ],
             [
              0.8888888888888888,
              "#fdca26"
             ],
             [
              1,
              "#f0f921"
             ]
            ],
            "type": "surface"
           }
          ],
          "table": [
           {
            "cells": {
             "fill": {
              "color": "#EBF0F8"
             },
             "line": {
              "color": "white"
             }
            },
            "header": {
             "fill": {
              "color": "#C8D4E3"
             },
             "line": {
              "color": "white"
             }
            },
            "type": "table"
           }
          ]
         },
         "layout": {
          "annotationdefaults": {
           "arrowcolor": "#2a3f5f",
           "arrowhead": 0,
           "arrowwidth": 1
          },
          "autotypenumbers": "strict",
          "coloraxis": {
           "colorbar": {
            "outlinewidth": 0,
            "ticks": ""
           }
          },
          "colorscale": {
           "diverging": [
            [
             0,
             "#8e0152"
            ],
            [
             0.1,
             "#c51b7d"
            ],
            [
             0.2,
             "#de77ae"
            ],
            [
             0.3,
             "#f1b6da"
            ],
            [
             0.4,
             "#fde0ef"
            ],
            [
             0.5,
             "#f7f7f7"
            ],
            [
             0.6,
             "#e6f5d0"
            ],
            [
             0.7,
             "#b8e186"
            ],
            [
             0.8,
             "#7fbc41"
            ],
            [
             0.9,
             "#4d9221"
            ],
            [
             1,
             "#276419"
            ]
           ],
           "sequential": [
            [
             0,
             "#0d0887"
            ],
            [
             0.1111111111111111,
             "#46039f"
            ],
            [
             0.2222222222222222,
             "#7201a8"
            ],
            [
             0.3333333333333333,
             "#9c179e"
            ],
            [
             0.4444444444444444,
             "#bd3786"
            ],
            [
             0.5555555555555556,
             "#d8576b"
            ],
            [
             0.6666666666666666,
             "#ed7953"
            ],
            [
             0.7777777777777778,
             "#fb9f3a"
            ],
            [
             0.8888888888888888,
             "#fdca26"
            ],
            [
             1,
             "#f0f921"
            ]
           ],
           "sequentialminus": [
            [
             0,
             "#0d0887"
            ],
            [
             0.1111111111111111,
             "#46039f"
            ],
            [
             0.2222222222222222,
             "#7201a8"
            ],
            [
             0.3333333333333333,
             "#9c179e"
            ],
            [
             0.4444444444444444,
             "#bd3786"
            ],
            [
             0.5555555555555556,
             "#d8576b"
            ],
            [
             0.6666666666666666,
             "#ed7953"
            ],
            [
             0.7777777777777778,
             "#fb9f3a"
            ],
            [
             0.8888888888888888,
             "#fdca26"
            ],
            [
             1,
             "#f0f921"
            ]
           ]
          },
          "colorway": [
           "#636efa",
           "#EF553B",
           "#00cc96",
           "#ab63fa",
           "#FFA15A",
           "#19d3f3",
           "#FF6692",
           "#B6E880",
           "#FF97FF",
           "#FECB52"
          ],
          "font": {
           "color": "#2a3f5f"
          },
          "geo": {
           "bgcolor": "white",
           "lakecolor": "white",
           "landcolor": "#E5ECF6",
           "showlakes": true,
           "showland": true,
           "subunitcolor": "white"
          },
          "hoverlabel": {
           "align": "left"
          },
          "hovermode": "closest",
          "mapbox": {
           "style": "light"
          },
          "paper_bgcolor": "white",
          "plot_bgcolor": "#E5ECF6",
          "polar": {
           "angularaxis": {
            "gridcolor": "white",
            "linecolor": "white",
            "ticks": ""
           },
           "bgcolor": "#E5ECF6",
           "radialaxis": {
            "gridcolor": "white",
            "linecolor": "white",
            "ticks": ""
           }
          },
          "scene": {
           "xaxis": {
            "backgroundcolor": "#E5ECF6",
            "gridcolor": "white",
            "gridwidth": 2,
            "linecolor": "white",
            "showbackground": true,
            "ticks": "",
            "zerolinecolor": "white"
           },
           "yaxis": {
            "backgroundcolor": "#E5ECF6",
            "gridcolor": "white",
            "gridwidth": 2,
            "linecolor": "white",
            "showbackground": true,
            "ticks": "",
            "zerolinecolor": "white"
           },
           "zaxis": {
            "backgroundcolor": "#E5ECF6",
            "gridcolor": "white",
            "gridwidth": 2,
            "linecolor": "white",
            "showbackground": true,
            "ticks": "",
            "zerolinecolor": "white"
           }
          },
          "shapedefaults": {
           "line": {
            "color": "#2a3f5f"
           }
          },
          "ternary": {
           "aaxis": {
            "gridcolor": "white",
            "linecolor": "white",
            "ticks": ""
           },
           "baxis": {
            "gridcolor": "white",
            "linecolor": "white",
            "ticks": ""
           },
           "bgcolor": "#E5ECF6",
           "caxis": {
            "gridcolor": "white",
            "linecolor": "white",
            "ticks": ""
           }
          },
          "title": {
           "x": 0.05
          },
          "xaxis": {
           "automargin": true,
           "gridcolor": "white",
           "linecolor": "white",
           "ticks": "",
           "title": {
            "standoff": 15
           },
           "zerolinecolor": "white",
           "zerolinewidth": 2
          },
          "yaxis": {
           "automargin": true,
           "gridcolor": "white",
           "linecolor": "white",
           "ticks": "",
           "title": {
            "standoff": 15
           },
           "zerolinecolor": "white",
           "zerolinewidth": 2
          }
         }
        },
        "xaxis": {
         "anchor": "y",
         "domain": [
          0,
          1
         ],
         "title": {
          "text": "Species"
         }
        },
        "yaxis": {
         "anchor": "x",
         "domain": [
          0,
          1
         ],
         "title": {
          "text": "Body Mass G"
         }
        }
       }
      }
     },
     "metadata": {},
     "output_type": "display_data"
    }
   ],
   "source": [
    "px.box(df, x=\"Species\", y=\"Body Mass G\", points=\"all\").show()"
   ]
  },
  {
   "cell_type": "code",
   "execution_count": 17,
   "id": "fb9fa2d2",
   "metadata": {},
   "outputs": [
    {
     "data": {
      "application/vnd.plotly.v1+json": {
       "config": {
        "plotlyServerURL": "https://plot.ly"
       },
       "data": [
        {
         "alignmentgroup": "True",
         "box": {
          "visible": true
         },
         "hovertemplate": "Species=%{x}<br>Body Mass G=%{y}<extra></extra>",
         "legendgroup": "",
         "marker": {
          "color": "#636efa"
         },
         "name": "",
         "offsetgroup": "",
         "orientation": "v",
         "points": "all",
         "scalegroup": "True",
         "showlegend": false,
         "type": "violin",
         "x": [
          "Adelie",
          "Adelie",
          "Adelie",
          "Adelie",
          "Adelie",
          "Adelie",
          "Adelie",
          "Adelie",
          "Adelie",
          "Adelie",
          "Adelie",
          "Adelie",
          "Adelie",
          "Adelie",
          "Adelie",
          "Adelie",
          "Adelie",
          "Adelie",
          "Adelie",
          "Adelie",
          "Adelie",
          "Adelie",
          "Adelie",
          "Adelie",
          "Adelie",
          "Adelie",
          "Adelie",
          "Adelie",
          "Adelie",
          "Adelie",
          "Adelie",
          "Adelie",
          "Adelie",
          "Adelie",
          "Adelie",
          "Adelie",
          "Adelie",
          "Adelie",
          "Adelie",
          "Adelie",
          "Adelie",
          "Adelie",
          "Adelie",
          "Adelie",
          "Adelie",
          "Adelie",
          "Adelie",
          "Adelie",
          "Adelie",
          "Adelie",
          "Adelie",
          "Adelie",
          "Adelie",
          "Adelie",
          "Adelie",
          "Adelie",
          "Adelie",
          "Adelie",
          "Adelie",
          "Adelie",
          "Adelie",
          "Adelie",
          "Adelie",
          "Adelie",
          "Adelie",
          "Adelie",
          "Adelie",
          "Adelie",
          "Adelie",
          "Adelie",
          "Adelie",
          "Adelie",
          "Adelie",
          "Adelie",
          "Adelie",
          "Adelie",
          "Adelie",
          "Adelie",
          "Adelie",
          "Adelie",
          "Adelie",
          "Adelie",
          "Adelie",
          "Adelie",
          "Adelie",
          "Adelie",
          "Adelie",
          "Adelie",
          "Adelie",
          "Adelie",
          "Adelie",
          "Adelie",
          "Adelie",
          "Adelie",
          "Adelie",
          "Adelie",
          "Adelie",
          "Adelie",
          "Adelie",
          "Adelie",
          "Adelie",
          "Adelie",
          "Adelie",
          "Adelie",
          "Adelie",
          "Adelie",
          "Adelie",
          "Adelie",
          "Adelie",
          "Adelie",
          "Adelie",
          "Adelie",
          "Adelie",
          "Adelie",
          "Adelie",
          "Adelie",
          "Adelie",
          "Adelie",
          "Adelie",
          "Adelie",
          "Adelie",
          "Adelie",
          "Adelie",
          "Adelie",
          "Adelie",
          "Adelie",
          "Adelie",
          "Adelie",
          "Adelie",
          "Adelie",
          "Adelie",
          "Adelie",
          "Adelie",
          "Adelie",
          "Adelie",
          "Adelie",
          "Adelie",
          "Adelie",
          "Adelie",
          "Adelie",
          "Adelie",
          "Adelie",
          "Adelie",
          "Adelie",
          "Adelie",
          "Adelie",
          "Adelie",
          "Adelie",
          "Adelie",
          "Adelie",
          "Adelie",
          "Adelie",
          "Chinstrap",
          "Chinstrap",
          "Chinstrap",
          "Chinstrap",
          "Chinstrap",
          "Chinstrap",
          "Chinstrap",
          "Chinstrap",
          "Chinstrap",
          "Chinstrap",
          "Chinstrap",
          "Chinstrap",
          "Chinstrap",
          "Chinstrap",
          "Chinstrap",
          "Chinstrap",
          "Chinstrap",
          "Chinstrap",
          "Chinstrap",
          "Chinstrap",
          "Chinstrap",
          "Chinstrap",
          "Chinstrap",
          "Chinstrap",
          "Chinstrap",
          "Chinstrap",
          "Chinstrap",
          "Chinstrap",
          "Chinstrap",
          "Chinstrap",
          "Chinstrap",
          "Chinstrap",
          "Chinstrap",
          "Chinstrap",
          "Chinstrap",
          "Chinstrap",
          "Chinstrap",
          "Chinstrap",
          "Chinstrap",
          "Chinstrap",
          "Chinstrap",
          "Chinstrap",
          "Chinstrap",
          "Chinstrap",
          "Chinstrap",
          "Chinstrap",
          "Chinstrap",
          "Chinstrap",
          "Chinstrap",
          "Chinstrap",
          "Chinstrap",
          "Chinstrap",
          "Chinstrap",
          "Chinstrap",
          "Chinstrap",
          "Chinstrap",
          "Chinstrap",
          "Chinstrap",
          "Chinstrap",
          "Chinstrap",
          "Chinstrap",
          "Chinstrap",
          "Chinstrap",
          "Chinstrap",
          "Chinstrap",
          "Chinstrap",
          "Chinstrap",
          "Chinstrap",
          "Gentoo",
          "Gentoo",
          "Gentoo",
          "Gentoo",
          "Gentoo",
          "Gentoo",
          "Gentoo",
          "Gentoo",
          "Gentoo",
          "Gentoo",
          "Gentoo",
          "Gentoo",
          "Gentoo",
          "Gentoo",
          "Gentoo",
          "Gentoo",
          "Gentoo",
          "Gentoo",
          "Gentoo",
          "Gentoo",
          "Gentoo",
          "Gentoo",
          "Gentoo",
          "Gentoo",
          "Gentoo",
          "Gentoo",
          "Gentoo",
          "Gentoo",
          "Gentoo",
          "Gentoo",
          "Gentoo",
          "Gentoo",
          "Gentoo",
          "Gentoo",
          "Gentoo",
          "Gentoo",
          "Gentoo",
          "Gentoo",
          "Gentoo",
          "Gentoo",
          "Gentoo",
          "Gentoo",
          "Gentoo",
          "Gentoo",
          "Gentoo",
          "Gentoo",
          "Gentoo",
          "Gentoo",
          "Gentoo",
          "Gentoo",
          "Gentoo",
          "Gentoo",
          "Gentoo",
          "Gentoo",
          "Gentoo",
          "Gentoo",
          "Gentoo",
          "Gentoo",
          "Gentoo",
          "Gentoo",
          "Gentoo",
          "Gentoo",
          "Gentoo",
          "Gentoo",
          "Gentoo",
          "Gentoo",
          "Gentoo",
          "Gentoo",
          "Gentoo",
          "Gentoo",
          "Gentoo",
          "Gentoo",
          "Gentoo",
          "Gentoo",
          "Gentoo",
          "Gentoo",
          "Gentoo",
          "Gentoo",
          "Gentoo",
          "Gentoo",
          "Gentoo",
          "Gentoo",
          "Gentoo",
          "Gentoo",
          "Gentoo",
          "Gentoo",
          "Gentoo",
          "Gentoo",
          "Gentoo",
          "Gentoo",
          "Gentoo",
          "Gentoo",
          "Gentoo",
          "Gentoo",
          "Gentoo",
          "Gentoo",
          "Gentoo",
          "Gentoo",
          "Gentoo",
          "Gentoo",
          "Gentoo",
          "Gentoo",
          "Gentoo",
          "Gentoo",
          "Gentoo",
          "Gentoo",
          "Gentoo",
          "Gentoo",
          "Gentoo",
          "Gentoo",
          "Gentoo",
          "Gentoo",
          "Gentoo",
          "Gentoo",
          "Gentoo",
          "Gentoo",
          "Gentoo",
          "Gentoo",
          "Gentoo",
          "Gentoo",
          "Gentoo",
          "Gentoo",
          "Gentoo",
          "Gentoo"
         ],
         "x0": " ",
         "xaxis": "x",
         "y": {
          "bdata": "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",
          "dtype": "f8"
         },
         "y0": " ",
         "yaxis": "y"
        }
       ],
       "layout": {
        "legend": {
         "tracegroupgap": 0
        },
        "margin": {
         "t": 60
        },
        "template": {
         "data": {
          "bar": [
           {
            "error_x": {
             "color": "#2a3f5f"
            },
            "error_y": {
             "color": "#2a3f5f"
            },
            "marker": {
             "line": {
              "color": "#E5ECF6",
              "width": 0.5
             },
             "pattern": {
              "fillmode": "overlay",
              "size": 10,
              "solidity": 0.2
             }
            },
            "type": "bar"
           }
          ],
          "barpolar": [
           {
            "marker": {
             "line": {
              "color": "#E5ECF6",
              "width": 0.5
             },
             "pattern": {
              "fillmode": "overlay",
              "size": 10,
              "solidity": 0.2
             }
            },
            "type": "barpolar"
           }
          ],
          "carpet": [
           {
            "aaxis": {
             "endlinecolor": "#2a3f5f",
             "gridcolor": "white",
             "linecolor": "white",
             "minorgridcolor": "white",
             "startlinecolor": "#2a3f5f"
            },
            "baxis": {
             "endlinecolor": "#2a3f5f",
             "gridcolor": "white",
             "linecolor": "white",
             "minorgridcolor": "white",
             "startlinecolor": "#2a3f5f"
            },
            "type": "carpet"
           }
          ],
          "choropleth": [
           {
            "colorbar": {
             "outlinewidth": 0,
             "ticks": ""
            },
            "type": "choropleth"
           }
          ],
          "contour": [
           {
            "colorbar": {
             "outlinewidth": 0,
             "ticks": ""
            },
            "colorscale": [
             [
              0,
              "#0d0887"
             ],
             [
              0.1111111111111111,
              "#46039f"
             ],
             [
              0.2222222222222222,
              "#7201a8"
             ],
             [
              0.3333333333333333,
              "#9c179e"
             ],
             [
              0.4444444444444444,
              "#bd3786"
             ],
             [
              0.5555555555555556,
              "#d8576b"
             ],
             [
              0.6666666666666666,
              "#ed7953"
             ],
             [
              0.7777777777777778,
              "#fb9f3a"
             ],
             [
              0.8888888888888888,
              "#fdca26"
             ],
             [
              1,
              "#f0f921"
             ]
            ],
            "type": "contour"
           }
          ],
          "contourcarpet": [
           {
            "colorbar": {
             "outlinewidth": 0,
             "ticks": ""
            },
            "type": "contourcarpet"
           }
          ],
          "heatmap": [
           {
            "colorbar": {
             "outlinewidth": 0,
             "ticks": ""
            },
            "colorscale": [
             [
              0,
              "#0d0887"
             ],
             [
              0.1111111111111111,
              "#46039f"
             ],
             [
              0.2222222222222222,
              "#7201a8"
             ],
             [
              0.3333333333333333,
              "#9c179e"
             ],
             [
              0.4444444444444444,
              "#bd3786"
             ],
             [
              0.5555555555555556,
              "#d8576b"
             ],
             [
              0.6666666666666666,
              "#ed7953"
             ],
             [
              0.7777777777777778,
              "#fb9f3a"
             ],
             [
              0.8888888888888888,
              "#fdca26"
             ],
             [
              1,
              "#f0f921"
             ]
            ],
            "type": "heatmap"
           }
          ],
          "histogram": [
           {
            "marker": {
             "pattern": {
              "fillmode": "overlay",
              "size": 10,
              "solidity": 0.2
             }
            },
            "type": "histogram"
           }
          ],
          "histogram2d": [
           {
            "colorbar": {
             "outlinewidth": 0,
             "ticks": ""
            },
            "colorscale": [
             [
              0,
              "#0d0887"
             ],
             [
              0.1111111111111111,
              "#46039f"
             ],
             [
              0.2222222222222222,
              "#7201a8"
             ],
             [
              0.3333333333333333,
              "#9c179e"
             ],
             [
              0.4444444444444444,
              "#bd3786"
             ],
             [
              0.5555555555555556,
              "#d8576b"
             ],
             [
              0.6666666666666666,
              "#ed7953"
             ],
             [
              0.7777777777777778,
              "#fb9f3a"
             ],
             [
              0.8888888888888888,
              "#fdca26"
             ],
             [
              1,
              "#f0f921"
             ]
            ],
            "type": "histogram2d"
           }
          ],
          "histogram2dcontour": [
           {
            "colorbar": {
             "outlinewidth": 0,
             "ticks": ""
            },
            "colorscale": [
             [
              0,
              "#0d0887"
             ],
             [
              0.1111111111111111,
              "#46039f"
             ],
             [
              0.2222222222222222,
              "#7201a8"
             ],
             [
              0.3333333333333333,
              "#9c179e"
             ],
             [
              0.4444444444444444,
              "#bd3786"
             ],
             [
              0.5555555555555556,
              "#d8576b"
             ],
             [
              0.6666666666666666,
              "#ed7953"
             ],
             [
              0.7777777777777778,
              "#fb9f3a"
             ],
             [
              0.8888888888888888,
              "#fdca26"
             ],
             [
              1,
              "#f0f921"
             ]
            ],
            "type": "histogram2dcontour"
           }
          ],
          "mesh3d": [
           {
            "colorbar": {
             "outlinewidth": 0,
             "ticks": ""
            },
            "type": "mesh3d"
           }
          ],
          "parcoords": [
           {
            "line": {
             "colorbar": {
              "outlinewidth": 0,
              "ticks": ""
             }
            },
            "type": "parcoords"
           }
          ],
          "pie": [
           {
            "automargin": true,
            "type": "pie"
           }
          ],
          "scatter": [
           {
            "fillpattern": {
             "fillmode": "overlay",
             "size": 10,
             "solidity": 0.2
            },
            "type": "scatter"
           }
          ],
          "scatter3d": [
           {
            "line": {
             "colorbar": {
              "outlinewidth": 0,
              "ticks": ""
             }
            },
            "marker": {
             "colorbar": {
              "outlinewidth": 0,
              "ticks": ""
             }
            },
            "type": "scatter3d"
           }
          ],
          "scattercarpet": [
           {
            "marker": {
             "colorbar": {
              "outlinewidth": 0,
              "ticks": ""
             }
            },
            "type": "scattercarpet"
           }
          ],
          "scattergeo": [
           {
            "marker": {
             "colorbar": {
              "outlinewidth": 0,
              "ticks": ""
             }
            },
            "type": "scattergeo"
           }
          ],
          "scattergl": [
           {
            "marker": {
             "colorbar": {
              "outlinewidth": 0,
              "ticks": ""
             }
            },
            "type": "scattergl"
           }
          ],
          "scattermap": [
           {
            "marker": {
             "colorbar": {
              "outlinewidth": 0,
              "ticks": ""
             }
            },
            "type": "scattermap"
           }
          ],
          "scattermapbox": [
           {
            "marker": {
             "colorbar": {
              "outlinewidth": 0,
              "ticks": ""
             }
            },
            "type": "scattermapbox"
           }
          ],
          "scatterpolar": [
           {
            "marker": {
             "colorbar": {
              "outlinewidth": 0,
              "ticks": ""
             }
            },
            "type": "scatterpolar"
           }
          ],
          "scatterpolargl": [
           {
            "marker": {
             "colorbar": {
              "outlinewidth": 0,
              "ticks": ""
             }
            },
            "type": "scatterpolargl"
           }
          ],
          "scatterternary": [
           {
            "marker": {
             "colorbar": {
              "outlinewidth": 0,
              "ticks": ""
             }
            },
            "type": "scatterternary"
           }
          ],
          "surface": [
           {
            "colorbar": {
             "outlinewidth": 0,
             "ticks": ""
            },
            "colorscale": [
             [
              0,
              "#0d0887"
             ],
             [
              0.1111111111111111,
              "#46039f"
             ],
             [
              0.2222222222222222,
              "#7201a8"
             ],
             [
              0.3333333333333333,
              "#9c179e"
             ],
             [
              0.4444444444444444,
              "#bd3786"
             ],
             [
              0.5555555555555556,
              "#d8576b"
             ],
             [
              0.6666666666666666,
              "#ed7953"
             ],
             [
              0.7777777777777778,
              "#fb9f3a"
             ],
             [
              0.8888888888888888,
              "#fdca26"
             ],
             [
              1,
              "#f0f921"
             ]
            ],
            "type": "surface"
           }
          ],
          "table": [
           {
            "cells": {
             "fill": {
              "color": "#EBF0F8"
             },
             "line": {
              "color": "white"
             }
            },
            "header": {
             "fill": {
              "color": "#C8D4E3"
             },
             "line": {
              "color": "white"
             }
            },
            "type": "table"
           }
          ]
         },
         "layout": {
          "annotationdefaults": {
           "arrowcolor": "#2a3f5f",
           "arrowhead": 0,
           "arrowwidth": 1
          },
          "autotypenumbers": "strict",
          "coloraxis": {
           "colorbar": {
            "outlinewidth": 0,
            "ticks": ""
           }
          },
          "colorscale": {
           "diverging": [
            [
             0,
             "#8e0152"
            ],
            [
             0.1,
             "#c51b7d"
            ],
            [
             0.2,
             "#de77ae"
            ],
            [
             0.3,
             "#f1b6da"
            ],
            [
             0.4,
             "#fde0ef"
            ],
            [
             0.5,
             "#f7f7f7"
            ],
            [
             0.6,
             "#e6f5d0"
            ],
            [
             0.7,
             "#b8e186"
            ],
            [
             0.8,
             "#7fbc41"
            ],
            [
             0.9,
             "#4d9221"
            ],
            [
             1,
             "#276419"
            ]
           ],
           "sequential": [
            [
             0,
             "#0d0887"
            ],
            [
             0.1111111111111111,
             "#46039f"
            ],
            [
             0.2222222222222222,
             "#7201a8"
            ],
            [
             0.3333333333333333,
             "#9c179e"
            ],
            [
             0.4444444444444444,
             "#bd3786"
            ],
            [
             0.5555555555555556,
             "#d8576b"
            ],
            [
             0.6666666666666666,
             "#ed7953"
            ],
            [
             0.7777777777777778,
             "#fb9f3a"
            ],
            [
             0.8888888888888888,
             "#fdca26"
            ],
            [
             1,
             "#f0f921"
            ]
           ],
           "sequentialminus": [
            [
             0,
             "#0d0887"
            ],
            [
             0.1111111111111111,
             "#46039f"
            ],
            [
             0.2222222222222222,
             "#7201a8"
            ],
            [
             0.3333333333333333,
             "#9c179e"
            ],
            [
             0.4444444444444444,
             "#bd3786"
            ],
            [
             0.5555555555555556,
             "#d8576b"
            ],
            [
             0.6666666666666666,
             "#ed7953"
            ],
            [
             0.7777777777777778,
             "#fb9f3a"
            ],
            [
             0.8888888888888888,
             "#fdca26"
            ],
            [
             1,
             "#f0f921"
            ]
           ]
          },
          "colorway": [
           "#636efa",
           "#EF553B",
           "#00cc96",
           "#ab63fa",
           "#FFA15A",
           "#19d3f3",
           "#FF6692",
           "#B6E880",
           "#FF97FF",
           "#FECB52"
          ],
          "font": {
           "color": "#2a3f5f"
          },
          "geo": {
           "bgcolor": "white",
           "lakecolor": "white",
           "landcolor": "#E5ECF6",
           "showlakes": true,
           "showland": true,
           "subunitcolor": "white"
          },
          "hoverlabel": {
           "align": "left"
          },
          "hovermode": "closest",
          "mapbox": {
           "style": "light"
          },
          "paper_bgcolor": "white",
          "plot_bgcolor": "#E5ECF6",
          "polar": {
           "angularaxis": {
            "gridcolor": "white",
            "linecolor": "white",
            "ticks": ""
           },
           "bgcolor": "#E5ECF6",
           "radialaxis": {
            "gridcolor": "white",
            "linecolor": "white",
            "ticks": ""
           }
          },
          "scene": {
           "xaxis": {
            "backgroundcolor": "#E5ECF6",
            "gridcolor": "white",
            "gridwidth": 2,
            "linecolor": "white",
            "showbackground": true,
            "ticks": "",
            "zerolinecolor": "white"
           },
           "yaxis": {
            "backgroundcolor": "#E5ECF6",
            "gridcolor": "white",
            "gridwidth": 2,
            "linecolor": "white",
            "showbackground": true,
            "ticks": "",
            "zerolinecolor": "white"
           },
           "zaxis": {
            "backgroundcolor": "#E5ECF6",
            "gridcolor": "white",
            "gridwidth": 2,
            "linecolor": "white",
            "showbackground": true,
            "ticks": "",
            "zerolinecolor": "white"
           }
          },
          "shapedefaults": {
           "line": {
            "color": "#2a3f5f"
           }
          },
          "ternary": {
           "aaxis": {
            "gridcolor": "white",
            "linecolor": "white",
            "ticks": ""
           },
           "baxis": {
            "gridcolor": "white",
            "linecolor": "white",
            "ticks": ""
           },
           "bgcolor": "#E5ECF6",
           "caxis": {
            "gridcolor": "white",
            "linecolor": "white",
            "ticks": ""
           }
          },
          "title": {
           "x": 0.05
          },
          "xaxis": {
           "automargin": true,
           "gridcolor": "white",
           "linecolor": "white",
           "ticks": "",
           "title": {
            "standoff": 15
           },
           "zerolinecolor": "white",
           "zerolinewidth": 2
          },
          "yaxis": {
           "automargin": true,
           "gridcolor": "white",
           "linecolor": "white",
           "ticks": "",
           "title": {
            "standoff": 15
           },
           "zerolinecolor": "white",
           "zerolinewidth": 2
          }
         }
        },
        "violinmode": "group",
        "xaxis": {
         "anchor": "y",
         "domain": [
          0,
          1
         ],
         "title": {
          "text": "Species"
         }
        },
        "yaxis": {
         "anchor": "x",
         "domain": [
          0,
          1
         ],
         "title": {
          "text": "Body Mass G"
         }
        }
       }
      }
     },
     "metadata": {},
     "output_type": "display_data"
    }
   ],
   "source": [
    "px.violin(df, x=\"Species\", y=\"Body Mass G\", box=True, points=\"all\").show()"
   ]
  },
  {
   "cell_type": "code",
   "execution_count": 18,
   "id": "dfbdec3a",
   "metadata": {},
   "outputs": [
    {
     "data": {
      "application/vnd.plotly.v1+json": {
       "config": {
        "plotlyServerURL": "https://plot.ly"
       },
       "data": [
        {
         "hovertemplate": "Species=Adelie<br>Island=Torgersen<br>Sex=Male<br>Flipper Length Mm=%{x}<br>Body Mass G=%{y}<extra></extra>",
         "legendgroup": "Adelie",
         "marker": {
          "color": "#636efa",
          "opacity": 0.85,
          "symbol": "circle"
         },
         "mode": "markers",
         "name": "Adelie",
         "orientation": "v",
         "showlegend": true,
         "type": "scatter",
         "x": {
          "bdata": "AAAAAACgZkAAAAAAAMBnQAAAAAAAYGhAAAAAAADgZ0AAAAAAAMBoQAAAAAAAoGhAAAAAAABAaEAAAAAAAMBoQAAAAAAAwGdAAAAAAACgaEAAAAAAAGBoQAAAAAAAAGdAAAAAAABgaEAAAAAAAIBoQAAAAAAAIGhAAAAAAADgaEAAAAAAAKBnQAAAAAAAwGhAAAAAAABAaUAAAAAAAOBoQAAAAAAAYGhAAAAAAABAakAAAAAAAKBoQA==",
          "dtype": "f8"
         },
         "xaxis": "x7",
         "y": {
          "bdata": "AAAAAABMrUAAAAAAAISsQAAAAAAAQ7JAAAAAAACwrUAAAAAAADCxQAAAAAAAlLFAAAAAAABosEAAAAAAAGKxQAAAAAAAeK5AAAAAAAA2sEAAAAAAAJqwQAAAAAAAeK5AAAAAAABAr0AAAAAAAFyyQAAAAAAAaLBAAAAAAAB+rUAAAAAAAPqpQAAAAAAAWKtAAAAAAABGrkAAAAAAAECvQAAAAAAAzLBAAAAAAABAr0AAAAAAAFirQA==",
          "dtype": "f8"
         },
         "yaxis": "y7"
        },
        {
         "hovertemplate": "Species=Adelie<br>Island=Torgersen<br>Sex=Female<br>Flipper Length Mm=%{x}<br>Body Mass G=%{y}<extra></extra>",
         "legendgroup": "Adelie",
         "marker": {
          "color": "#636efa",
          "opacity": 0.85,
          "symbol": "circle"
         },
         "mode": "markers",
         "name": "Adelie",
         "orientation": "v",
         "showlegend": false,
         "type": "scatter",
         "x": {
          "bdata": "AAAAAABAZ0AAAAAAAGBoQAAAAAAAIGhAAAAAAACgZkAAAAAAAMBmQAAAAAAAIGdAAAAAAABgaEAAAAAAAABnQAAAAAAAwGdAAAAAAADAZ0AAAAAAAIBoQAAAAAAAwGdAAAAAAADgZ0AAAAAAAGBnQAAAAAAAoGdAAAAAAABgZ0AAAAAAAIBnQAAAAAAAoGdAAAAAAABgZ0AAAAAAAABmQAAAAAAAQGdAAAAAAADgZ0AAAAAAAOBnQAAAAAAAwGdA",
          "dtype": "f8"
         },
         "xaxis": "x8",
         "y": {
          "bdata": "AAAAAACwrUAAAAAAAGSpQAAAAAAA9KpAAAAAAABSrEAAAAAAAACpQAAAAAAA6KxAAAAAAAD0qkAAAAAAAPqpQAAAAAAA1KdAAAAAAAAgrEAAAAAAALyrQAAAAAAA6KxAAAAAAADorEAAAAAAALyrQAAAAAAAAKlAAAAAAACwrUAAAAAAAKimQAAAAAAALKpAAAAAAACcqEAAAAAAAPSqQAAAAAAA1KdAAAAAAACWqUAAAAAAANSnQAAAAAAA+qlA",
          "dtype": "f8"
         },
         "yaxis": "y8"
        },
        {
         "hovertemplate": "Species=Adelie<br>Island=Biscoe<br>Sex=Male<br>Flipper Length Mm=%{x}<br>Body Mass G=%{y}<extra></extra>",
         "legendgroup": "Adelie",
         "marker": {
          "color": "#636efa",
          "opacity": 0.85,
          "symbol": "circle"
         },
         "mode": "markers",
         "name": "Adelie",
         "orientation": "v",
         "showlegend": false,
         "type": "scatter",
         "x": {
          "bdata": "AAAAAACAZkAAAAAAACBnQAAAAAAAgGZAAAAAAADgZkAAAAAAAIBmQAAAAAAAgGdAAAAAAAAAaUAAAAAAAOBnQAAAAAAAIGhAAAAAAABAaEAAAAAAAGBoQAAAAAAAAGhAAAAAAAAAaEAAAAAAAIBnQAAAAAAAYGlAAAAAAADAZ0AAAAAAAABnQAAAAAAAwGdAAAAAAACgaEAAAAAAAOBnQAAAAAAAoGhAAAAAAACAaEA=",
          "dtype": "f8"
         },
         "xaxis": "x4",
         "y": {
          "bdata": "AAAAAAAgrEAAAAAAANyuQAAAAAAAsK1AAAAAAAC8q0AAAAAAANyuQAAAAAAAzLBAAAAAAACkr0AAAAAAAOisQAAAAAAAsK1AAAAAAABMrUAAAAAAADCxQAAAAAAApK9AAAAAAADcrkAAAAAAAASwQAAAAAAAdbJAAAAAAACasEAAAAAAALyrQAAAAAAAeK5AAAAAAACnskAAAAAAAPixQAAAAAAAs7BAAAAAAADWr0A=",
          "dtype": "f8"
         },
         "yaxis": "y4"
        },
        {
         "hovertemplate": "Species=Adelie<br>Island=Biscoe<br>Sex=Female<br>Flipper Length Mm=%{x}<br>Body Mass G=%{y}<extra></extra>",
         "legendgroup": "Adelie",
         "marker": {
          "color": "#636efa",
          "opacity": 0.85,
          "symbol": "circle"
         },
         "mode": "markers",
         "name": "Adelie",
         "orientation": "v",
         "showlegend": false,
         "type": "scatter",
         "x": {
          "bdata": "AAAAAADAZUAAAAAAAKBnQAAAAAAAYGdAAAAAAABgZ0AAAAAAAIBlQAAAAAAAQGdAAAAAAADAZ0AAAAAAAGBnQAAAAAAAQGdAAAAAAACgZkAAAAAAACBnQAAAAAAAIGdAAAAAAAAAZ0AAAAAAAGBoQAAAAAAAAGhAAAAAAADgZkAAAAAAACBoQAAAAAAA4GhAAAAAAACgZkAAAAAAAMBoQAAAAAAAIGhAAAAAAADgZ0A=",
          "dtype": "f8"
         },
         "xaxis": "x5",
         "y": {
          "bdata": "AAAAAACQqkAAAAAAALCtQAAAAAAAsK1AAAAAAAAAqUAAAAAAAJyoQAAAAAAAWKtAAAAAAAD0qkAAAAAAAKimQAAAAAAAvKtAAAAAAABEpkAAAAAAAJyoQAAAAAAAIKxAAAAAAABEpkAAAAAAACyqQAAAAAAAGq1AAAAAAAAGqEAAAAAAANqmQAAAAAAATK1AAAAAAADOqEAAAAAAAOKtQAAAAAAAAKlAAAAAAAB4rkA=",
          "dtype": "f8"
         },
         "yaxis": "y5"
        },
        {
         "hovertemplate": "Species=Adelie<br>Island=Dream<br>Sex=Male<br>Flipper Length Mm=%{x}<br>Body Mass G=%{y}<extra></extra>",
         "legendgroup": "Adelie",
         "marker": {
          "color": "#636efa",
          "opacity": 0.85,
          "symbol": "circle"
         },
         "mode": "markers",
         "name": "Adelie",
         "orientation": "v",
         "showlegend": false,
         "type": "scatter",
         "x": {
          "bdata": "AAAAAABAZkAAAAAAAABnQAAAAAAAgGhAAAAAAADAZ0AAAAAAAABnQAAAAAAAYGhAAAAAAACAaEAAAAAAAMBnQAAAAAAAwGZAAAAAAADgZ0AAAAAAAEBoQAAAAAAAwGdAAAAAAACgZ0AAAAAAAKBpQAAAAAAAQGdAAAAAAAAAakAAAAAAAIBoQAAAAAAAAGhAAAAAAADgaEAAAAAAAMBnQAAAAAAAAGlAAAAAAAAgaEAAAAAAAGBnQAAAAAAAwGdAAAAAAAAgZ0AAAAAAAMBnQAAAAAAAIGhAAAAAAAAgaUA=",
          "dtype": "f8"
         },
         "xaxis": "x",
         "y": {
          "bdata": "AAAAAAB4rkAAAAAAAHiuQAAAAAAANrBAAAAAAADcrkAAAAAAACqyQAAAAAAAeK5AAAAAAAAwsUAAAAAAAPixQAAAAAAAwqpAAAAAAAA2sEAAAAAAALyrQAAAAAAAsK1AAAAAAADcrkAAAAAAAMywQAAAAAAAYrFAAAAAAADMsEAAAAAAAP6wQAAAAAAABLBAAAAAAAB7sUAAAAAAAHiuQAAAAAAADq9AAAAAAACasEAAAAAAACarQAAAAAAAGq1AAAAAAACErEAAAAAAAJqwQAAAAAAATK1AAAAAAABAr0A=",
          "dtype": "f8"
         },
         "yaxis": "y"
        },
        {
         "hovertemplate": "Species=Adelie<br>Island=Dream<br>Sex=Female<br>Flipper Length Mm=%{x}<br>Body Mass G=%{y}<extra></extra>",
         "legendgroup": "Adelie",
         "marker": {
          "color": "#636efa",
          "opacity": 0.85,
          "symbol": "circle"
         },
         "mode": "markers",
         "name": "Adelie",
         "orientation": "v",
         "showlegend": false,
         "type": "scatter",
         "x": {
          "bdata": "AAAAAABAZkAAAAAAAIBnQAAAAAAAYGhAAAAAAACAZkAAAAAAAKBmQAAAAAAAwGZAAAAAAABAZ0AAAAAAACBnQAAAAAAAwGdAAAAAAADgZ0AAAAAAAKBnQAAAAAAAwGdAAAAAAABAaUAAAAAAACBnQAAAAAAAYGdAAAAAAADAZ0AAAAAAAEBmQAAAAAAAIGhAAAAAAABgZ0AAAAAAAOBnQAAAAAAAIGdAAAAAAAAgaEAAAAAAAIBnQAAAAAAAAGhAAAAAAAAAZ0AAAAAAAGBoQAAAAAAAYGdA",
          "dtype": "f8"
         },
         "xaxis": "x2",
         "y": {
          "bdata": "AAAAAABkqUAAAAAAAMipQAAAAAAA+qlAAAAAAAC8q0AAAAAAAMipQAAAAAAAnKhAAAAAAAA4qEAAAAAAAHCnQAAAAAAA9KpAAAAAAAAsqkAAAAAAAFirQAAAAAAAIKxAAAAAAAC8q0AAAAAAAJCqQAAAAAAAyKlAAAAAAADorEAAAAAAAKimQAAAAAAAWKtAAAAAAADCqkAAAAAAAM6oQAAAAAAAkKpAAAAAAACQqkAAAAAAANSnQAAAAAAAcKdAAAAAAAAmq0AAAAAAAPSqQAAAAAAA6KxA",
          "dtype": "f8"
         },
         "yaxis": "y2"
        },
        {
         "hovertemplate": "Species=Chinstrap<br>Island=Dream<br>Sex=Male<br>Flipper Length Mm=%{x}<br>Body Mass G=%{y}<extra></extra>",
         "legendgroup": "Chinstrap",
         "marker": {
          "color": "#EF553B",
          "opacity": 0.85,
          "symbol": "circle"
         },
         "mode": "markers",
         "name": "Chinstrap",
         "orientation": "v",
         "showlegend": true,
         "type": "scatter",
         "x": {
          "bdata": "AAAAAACAaEAAAAAAACBoQAAAAAAAoGhAAAAAAACgaEAAAAAAAMBoQAAAAAAAQGhAAAAAAAAgaUAAAAAAACBpQAAAAAAAoGhAAAAAAABgaEAAAAAAAOBnQAAAAAAAIGhAAAAAAACgaEAAAAAAAABpQAAAAAAAoGlAAAAAAAAgaUAAAAAAAGBpQAAAAAAAYGhAAAAAAABAakAAAAAAAKBpQAAAAAAAQGpAAAAAAACAaEAAAAAAACBpQAAAAAAAgGpAAAAAAABgZ0AAAAAAACBpQAAAAAAAYGlAAAAAAACgaEAAAAAAAGBpQAAAAAAAQGlAAAAAAADAaUAAAAAAAOBpQAAAAAAAIGhAAAAAAABAakA=",
          "dtype": "f8"
         },
         "xaxis": "x",
         "y": {
          "bdata": "AAAAAAB4rkAAAAAAAISsQAAAAAAAGq1AAAAAAABMrUAAAAAAAOisQAAAAAAAfq1AAAAAAACkr0AAAAAAAKSvQAAAAAAAyKlAAAAAAAAwsUAAAAAAAJCqQAAAAAAAsK1AAAAAAAA2sEAAAAAAALCtQAAAAAAAxrFAAAAAAADMsEAAAAAAAASwQAAAAAAAIKxAAAAAAADAskAAAAAAAJSxQAAAAAAA3K5AAAAAAAC8q0AAAAAAAGKxQAAAAAAAzLBAAAAAAABkqUAAAAAAANyuQAAAAAAApK9AAAAAAAD0qkAAAAAAAKSvQAAAAAAAsK1AAAAAAADcrkAAAAAAAECvQAAAAAAAfq1AAAAAAAAEsEA=",
          "dtype": "f8"
         },
         "yaxis": "y"
        },
        {
         "hovertemplate": "Species=Chinstrap<br>Island=Dream<br>Sex=Female<br>Flipper Length Mm=%{x}<br>Body Mass G=%{y}<extra></extra>",
         "legendgroup": "Chinstrap",
         "marker": {
          "color": "#EF553B",
          "opacity": 0.85,
          "symbol": "circle"
         },
         "mode": "markers",
         "name": "Chinstrap",
         "orientation": "v",
         "showlegend": false,
         "type": "scatter",
         "x": {
          "bdata": "AAAAAAAAaEAAAAAAAIBnQAAAAAAAwGhAAAAAAABAZkAAAAAAAGBoQAAAAAAAIGhAAAAAAAAgZ0AAAAAAAMBnQAAAAAAAoGZAAAAAAADAZ0AAAAAAAKBmQAAAAAAAYGdAAAAAAABgaEAAAAAAAABpQAAAAAAA4GdAAAAAAABgZ0AAAAAAAGBnQAAAAAAA4GhAAAAAAABgaEAAAAAAAABoQAAAAAAAYGdAAAAAAACAaEAAAAAAAIBoQAAAAAAAwGdAAAAAAADAaEAAAAAAAOBoQAAAAAAAIGhAAAAAAABgZ0AAAAAAAOBnQAAAAAAAQGhAAAAAAACgZ0AAAAAAAGBoQAAAAAAAQGlAAAAAAADAaEA=",
          "dtype": "f8"
         },
         "xaxis": "x2",
         "y": {
          "bdata": "AAAAAABYq0AAAAAAAIqrQAAAAAAA3K5AAAAAAABkqUAAAAAAADawQAAAAAAAsK1AAAAAAADorEAAAAAAAO6rQAAAAAAA6KxAAAAAAAD0qkAAAAAAACCsQAAAAAAAqKZAAAAAAADIqUAAAAAAAJCqQAAAAAAA6KxAAAAAAAAAqUAAAAAAACyqQAAAAAAAeK5AAAAAAAAUrkAAAAAAABilQAAAAAAAhKxAAAAAAABYq0AAAAAAALasQAAAAAAAkKpAAAAAAAC2rEAAAAAAAPqpQAAAAAAAIKxAAAAAAAAsqkAAAAAAAGSpQAAAAAAAiqtAAAAAAACErEAAAAAAAISsQAAAAAAAkKpAAAAAAAB+rUA=",
          "dtype": "f8"
         },
         "yaxis": "y2"
        },
        {
         "hovertemplate": "Species=Gentoo<br>Island=Biscoe<br>Sex=Male<br>Flipper Length Mm=%{x}<br>Body Mass G=%{y}<extra></extra>",
         "legendgroup": "Gentoo",
         "marker": {
          "color": "#00cc96",
          "opacity": 0.85,
          "symbol": "circle"
         },
         "mode": "markers",
         "name": "Gentoo",
         "orientation": "v",
         "showlegend": true,
         "type": "scatter",
         "x": {
          "bdata": "AAAAAADAbEAAAAAAAEBrQAAAAAAA4GpAAAAAAABga0AAAAAAAOBqQAAAAAAAAGtAAAAAAACgakAAAAAAACBrQAAAAAAAoGtAAAAAAADAa0AAAAAAAEBrQAAAAAAA4GpAAAAAAADgakAAAAAAAOBqQAAAAAAAgGtAAAAAAADAa0AAAAAAAMBsQAAAAAAAgGtAAAAAAABga0AAAAAAAABqQAAAAAAAIGxAAAAAAAAAa0AAAAAAAMBrQAAAAAAAIGxAAAAAAADgakAAAAAAAIBrQAAAAAAAIGxAAAAAAACAa0AAAAAAAIBrQAAAAAAAAGxAAAAAAACga0AAAAAAAOBsQAAAAAAAwGxAAAAAAACgbEAAAAAAAOBrQAAAAAAAoGtAAAAAAACga0AAAAAAAMBsQAAAAAAAgGtAAAAAAADga0AAAAAAAKBrQAAAAAAAAGxAAAAAAACAbEAAAAAAAEBrQAAAAAAAwGxAAAAAAACAbEAAAAAAAABsQAAAAAAAQGxAAAAAAAAAa0AAAAAAACBsQAAAAAAAgGxAAAAAAACAbEAAAAAAAOBqQAAAAAAAYGtAAAAAAAAgakAAAAAAAKBsQAAAAAAAwGxAAAAAAADAbEAAAAAAAMBrQAAAAAAAwGtAAAAAAACgakA=",
          "dtype": "f8"
         },
         "xaxis": "x4",
         "y": {
          "bdata": "AAAAAABEtkAAAAAAAES2QAAAAAAAGLVAAAAAAABQtEAAAAAAAB60QAAAAAAArrVAAAAAAADatkAAAAAAANq2QAAAAAAAnLhAAAAAAADmtEAAAAAAAES2QAAAAAAAurNAAAAAAADss0AAAAAAABK2QAAAAAAArrVAAAAAAACCtEAAAAAAAKK3QAAAAAAAGLVAAAAAAACCtEAAAAAAAOa0QAAAAAAARLZAAAAAAACOskAAAAAAAK61QAAAAAAAGLVAAAAAAAC0tEAAAAAAALS0QAAAAAAAiLNAAAAAAAC6s0AAAAAAAIizQAAAAAAArrVAAAAAAAC0tEAAAAAAABK2QAAAAAAARLZAAAAAAACotkAAAAAAAK61QAAAAAAAiLNAAAAAAADss0AAAAAAAKi2QAAAAAAAcLdAAAAAAAA+t0AAAAAAAEq1QAAAAAAA5rRAAAAAAADgtUAAAAAAALS0QAAAAAAArrVAAAAAAAAYtUAAAAAAABK2QAAAAAAAULRAAAAAAAA9s0AAAAAAAIK0QAAAAAAA4LVAAAAAAAB8tUAAAAAAAHy1QAAAAAAAfLVAAAAAAAB8tUAAAAAAAD63QAAAAAAAfLVAAAAAAADatkAAAAAAAHC3QAAAAAAAdrZAAAAAAAAYtUA=",
          "dtype": "f8"
         },
         "yaxis": "y4"
        },
        {
         "hovertemplate": "Species=Gentoo<br>Island=Biscoe<br>Sex=Female<br>Flipper Length Mm=%{x}<br>Body Mass G=%{y}<extra></extra>",
         "legendgroup": "Gentoo",
         "marker": {
          "color": "#00cc96",
          "opacity": 0.85,
          "symbol": "circle"
         },
         "mode": "markers",
         "name": "Gentoo",
         "orientation": "v",
         "showlegend": false,
         "type": "scatter",
         "x": {
          "bdata": "AAAAAABgakAAAAAAAEBqQAAAAAAAQGpAAAAAAABgakAAAAAAACBqQAAAAAAAwGpAAAAAAADAakAAAAAAAEBqQAAAAAAAQGpAAAAAAAAgakAAAAAAAOBqQAAAAAAAoGpAAAAAAADgakAAAAAAAEBqQAAAAAAAIGpAAAAAAADgaUAAAAAAAIBrQAAAAAAAoGpAAAAAAAAAakAAAAAAAABqQAAAAAAAQGpAAAAAAAAga0AAAAAAAEBqQAAAAAAAoGpAAAAAAABAakAAAAAAAEBqQAAAAAAAIGtAAAAAAAAAakAAAAAAAABqQAAAAAAAAGpAAAAAAADAakAAAAAAAGBrQAAAAAAAgGtAAAAAAAAAa0AAAAAAACBrQAAAAAAAAGtAAAAAAAAgakAAAAAAAOBqQAAAAAAAgGpAAAAAAACAakAAAAAAAIBqQAAAAAAAQGtAAAAAAACAakAAAAAAAEBrQAAAAAAAgGpAAAAAAADAakAAAAAAAMBrQAAAAAAAYGlAAAAAAABga0AAAAAAAOBqQAAAAAAAQGpAAAAAAAAAakAAAAAAAABrQAAAAAAAoGpAAAAAAAAga0AAAAAAAMBqQAAAAAAA4GpAAAAAAACAakA=",
          "dtype": "f8"
         },
         "xaxis": "x5",
         "y": {
          "bdata": "AAAAAACUsUAAAAAAAGKxQAAAAAAAxrFAAAAAAADAskAAAAAAADCxQAAAAAAAKrJAAAAAAAAqskAAAAAAAGiwQAAAAAAANrBAAAAAAADAskAAAAAAAIizQAAAAAAAMLFAAAAAAACIs0AAAAAAAPixQAAAAAAAXLJAAAAAAAC6s0AAAAAAAB60QAAAAAAAVrNAAAAAAAD+sEAAAAAAANyuQAAAAAAAzLBAAAAAAAAks0AAAAAAAGiwQAAAAAAA7LNAAAAAAADyskAAAAAAADCxQAAAAAAAJLNAAAAAAADMsEAAAAAAAGKxQAAAAAAAaLBAAAAAAAAwsUAAAAAAAFyyQAAAAAAAXLJAAAAAAACOskAAAAAAAFC0QAAAAAAAXLJAAAAAAAD4sUAAAAAAAI6yQAAAAAAAEbJAAAAAAAB1skAAAAAAAI6yQAAAAAAA+LFAAAAAAAALs0AAAAAAAFazQAAAAAAAjrJAAAAAAADyskAAAAAAAAuzQAAAAAAAEbJAAAAAAADyskAAAAAAAG+zQAAAAAAAXLJAAAAAAADfsUAAAAAAAIizQAAAAAAAKrJAAAAAAAAXsUAAAAAAAD2zQAAAAAAA8rJAAAAAAABQtEA=",
          "dtype": "f8"
         },
         "yaxis": "y5"
        }
       ],
       "layout": {
        "annotations": [
         {
          "font": {},
          "showarrow": false,
          "text": "Sex=Male",
          "x": 0.15666666666666665,
          "xanchor": "center",
          "xref": "paper",
          "y": 0.9999999999999998,
          "yanchor": "bottom",
          "yref": "paper"
         },
         {
          "font": {},
          "showarrow": false,
          "text": "Sex=Female",
          "x": 0.49,
          "xanchor": "center",
          "xref": "paper",
          "y": 0.9999999999999998,
          "yanchor": "bottom",
          "yref": "paper"
         },
         {
          "font": {},
          "showarrow": false,
          "text": "Sex=nan",
          "x": 0.8233333333333333,
          "xanchor": "center",
          "xref": "paper",
          "y": 0.9999999999999998,
          "yanchor": "bottom",
          "yref": "paper"
         },
         {
          "font": {},
          "showarrow": false,
          "text": "Island=Dream",
          "textangle": 90,
          "x": 0.98,
          "xanchor": "left",
          "xref": "paper",
          "y": 0.15666666666666665,
          "yanchor": "middle",
          "yref": "paper"
         },
         {
          "font": {},
          "showarrow": false,
          "text": "Island=Biscoe",
          "textangle": 90,
          "x": 0.98,
          "xanchor": "left",
          "xref": "paper",
          "y": 0.4999999999999999,
          "yanchor": "middle",
          "yref": "paper"
         },
         {
          "font": {},
          "showarrow": false,
          "text": "Island=Torgersen",
          "textangle": 90,
          "x": 0.98,
          "xanchor": "left",
          "xref": "paper",
          "y": 0.8433333333333332,
          "yanchor": "middle",
          "yref": "paper"
         }
        ],
        "height": 700,
        "legend": {
         "title": {
          "text": "Species"
         },
         "tracegroupgap": 0
        },
        "margin": {
         "t": 60
        },
        "template": {
         "data": {
          "bar": [
           {
            "error_x": {
             "color": "#2a3f5f"
            },
            "error_y": {
             "color": "#2a3f5f"
            },
            "marker": {
             "line": {
              "color": "#E5ECF6",
              "width": 0.5
             },
             "pattern": {
              "fillmode": "overlay",
              "size": 10,
              "solidity": 0.2
             }
            },
            "type": "bar"
           }
          ],
          "barpolar": [
           {
            "marker": {
             "line": {
              "color": "#E5ECF6",
              "width": 0.5
             },
             "pattern": {
              "fillmode": "overlay",
              "size": 10,
              "solidity": 0.2
             }
            },
            "type": "barpolar"
           }
          ],
          "carpet": [
           {
            "aaxis": {
             "endlinecolor": "#2a3f5f",
             "gridcolor": "white",
             "linecolor": "white",
             "minorgridcolor": "white",
             "startlinecolor": "#2a3f5f"
            },
            "baxis": {
             "endlinecolor": "#2a3f5f",
             "gridcolor": "white",
             "linecolor": "white",
             "minorgridcolor": "white",
             "startlinecolor": "#2a3f5f"
            },
            "type": "carpet"
           }
          ],
          "choropleth": [
           {
            "colorbar": {
             "outlinewidth": 0,
             "ticks": ""
            },
            "type": "choropleth"
           }
          ],
          "contour": [
           {
            "colorbar": {
             "outlinewidth": 0,
             "ticks": ""
            },
            "colorscale": [
             [
              0,
              "#0d0887"
             ],
             [
              0.1111111111111111,
              "#46039f"
             ],
             [
              0.2222222222222222,
              "#7201a8"
             ],
             [
              0.3333333333333333,
              "#9c179e"
             ],
             [
              0.4444444444444444,
              "#bd3786"
             ],
             [
              0.5555555555555556,
              "#d8576b"
             ],
             [
              0.6666666666666666,
              "#ed7953"
             ],
             [
              0.7777777777777778,
              "#fb9f3a"
             ],
             [
              0.8888888888888888,
              "#fdca26"
             ],
             [
              1,
              "#f0f921"
             ]
            ],
            "type": "contour"
           }
          ],
          "contourcarpet": [
           {
            "colorbar": {
             "outlinewidth": 0,
             "ticks": ""
            },
            "type": "contourcarpet"
           }
          ],
          "heatmap": [
           {
            "colorbar": {
             "outlinewidth": 0,
             "ticks": ""
            },
            "colorscale": [
             [
              0,
              "#0d0887"
             ],
             [
              0.1111111111111111,
              "#46039f"
             ],
             [
              0.2222222222222222,
              "#7201a8"
             ],
             [
              0.3333333333333333,
              "#9c179e"
             ],
             [
              0.4444444444444444,
              "#bd3786"
             ],
             [
              0.5555555555555556,
              "#d8576b"
             ],
             [
              0.6666666666666666,
              "#ed7953"
             ],
             [
              0.7777777777777778,
              "#fb9f3a"
             ],
             [
              0.8888888888888888,
              "#fdca26"
             ],
             [
              1,
              "#f0f921"
             ]
            ],
            "type": "heatmap"
           }
          ],
          "histogram": [
           {
            "marker": {
             "pattern": {
              "fillmode": "overlay",
              "size": 10,
              "solidity": 0.2
             }
            },
            "type": "histogram"
           }
          ],
          "histogram2d": [
           {
            "colorbar": {
             "outlinewidth": 0,
             "ticks": ""
            },
            "colorscale": [
             [
              0,
              "#0d0887"
             ],
             [
              0.1111111111111111,
              "#46039f"
             ],
             [
              0.2222222222222222,
              "#7201a8"
             ],
             [
              0.3333333333333333,
              "#9c179e"
             ],
             [
              0.4444444444444444,
              "#bd3786"
             ],
             [
              0.5555555555555556,
              "#d8576b"
             ],
             [
              0.6666666666666666,
              "#ed7953"
             ],
             [
              0.7777777777777778,
              "#fb9f3a"
             ],
             [
              0.8888888888888888,
              "#fdca26"
             ],
             [
              1,
              "#f0f921"
             ]
            ],
            "type": "histogram2d"
           }
          ],
          "histogram2dcontour": [
           {
            "colorbar": {
             "outlinewidth": 0,
             "ticks": ""
            },
            "colorscale": [
             [
              0,
              "#0d0887"
             ],
             [
              0.1111111111111111,
              "#46039f"
             ],
             [
              0.2222222222222222,
              "#7201a8"
             ],
             [
              0.3333333333333333,
              "#9c179e"
             ],
             [
              0.4444444444444444,
              "#bd3786"
             ],
             [
              0.5555555555555556,
              "#d8576b"
             ],
             [
              0.6666666666666666,
              "#ed7953"
             ],
             [
              0.7777777777777778,
              "#fb9f3a"
             ],
             [
              0.8888888888888888,
              "#fdca26"
             ],
             [
              1,
              "#f0f921"
             ]
            ],
            "type": "histogram2dcontour"
           }
          ],
          "mesh3d": [
           {
            "colorbar": {
             "outlinewidth": 0,
             "ticks": ""
            },
            "type": "mesh3d"
           }
          ],
          "parcoords": [
           {
            "line": {
             "colorbar": {
              "outlinewidth": 0,
              "ticks": ""
             }
            },
            "type": "parcoords"
           }
          ],
          "pie": [
           {
            "automargin": true,
            "type": "pie"
           }
          ],
          "scatter": [
           {
            "fillpattern": {
             "fillmode": "overlay",
             "size": 10,
             "solidity": 0.2
            },
            "type": "scatter"
           }
          ],
          "scatter3d": [
           {
            "line": {
             "colorbar": {
              "outlinewidth": 0,
              "ticks": ""
             }
            },
            "marker": {
             "colorbar": {
              "outlinewidth": 0,
              "ticks": ""
             }
            },
            "type": "scatter3d"
           }
          ],
          "scattercarpet": [
           {
            "marker": {
             "colorbar": {
              "outlinewidth": 0,
              "ticks": ""
             }
            },
            "type": "scattercarpet"
           }
          ],
          "scattergeo": [
           {
            "marker": {
             "colorbar": {
              "outlinewidth": 0,
              "ticks": ""
             }
            },
            "type": "scattergeo"
           }
          ],
          "scattergl": [
           {
            "marker": {
             "colorbar": {
              "outlinewidth": 0,
              "ticks": ""
             }
            },
            "type": "scattergl"
           }
          ],
          "scattermap": [
           {
            "marker": {
             "colorbar": {
              "outlinewidth": 0,
              "ticks": ""
             }
            },
            "type": "scattermap"
           }
          ],
          "scattermapbox": [
           {
            "marker": {
             "colorbar": {
              "outlinewidth": 0,
              "ticks": ""
             }
            },
            "type": "scattermapbox"
           }
          ],
          "scatterpolar": [
           {
            "marker": {
             "colorbar": {
              "outlinewidth": 0,
              "ticks": ""
             }
            },
            "type": "scatterpolar"
           }
          ],
          "scatterpolargl": [
           {
            "marker": {
             "colorbar": {
              "outlinewidth": 0,
              "ticks": ""
             }
            },
            "type": "scatterpolargl"
           }
          ],
          "scatterternary": [
           {
            "marker": {
             "colorbar": {
              "outlinewidth": 0,
              "ticks": ""
             }
            },
            "type": "scatterternary"
           }
          ],
          "surface": [
           {
            "colorbar": {
             "outlinewidth": 0,
             "ticks": ""
            },
            "colorscale": [
             [
              0,
              "#0d0887"
             ],
             [
              0.1111111111111111,
              "#46039f"
             ],
             [
              0.2222222222222222,
              "#7201a8"
             ],
             [
              0.3333333333333333,
              "#9c179e"
             ],
             [
              0.4444444444444444,
              "#bd3786"
             ],
             [
              0.5555555555555556,
              "#d8576b"
             ],
             [
              0.6666666666666666,
              "#ed7953"
             ],
             [
              0.7777777777777778,
              "#fb9f3a"
             ],
             [
              0.8888888888888888,
              "#fdca26"
             ],
             [
              1,
              "#f0f921"
             ]
            ],
            "type": "surface"
           }
          ],
          "table": [
           {
            "cells": {
             "fill": {
              "color": "#EBF0F8"
             },
             "line": {
              "color": "white"
             }
            },
            "header": {
             "fill": {
              "color": "#C8D4E3"
             },
             "line": {
              "color": "white"
             }
            },
            "type": "table"
           }
          ]
         },
         "layout": {
          "annotationdefaults": {
           "arrowcolor": "#2a3f5f",
           "arrowhead": 0,
           "arrowwidth": 1
          },
          "autotypenumbers": "strict",
          "coloraxis": {
           "colorbar": {
            "outlinewidth": 0,
            "ticks": ""
           }
          },
          "colorscale": {
           "diverging": [
            [
             0,
             "#8e0152"
            ],
            [
             0.1,
             "#c51b7d"
            ],
            [
             0.2,
             "#de77ae"
            ],
            [
             0.3,
             "#f1b6da"
            ],
            [
             0.4,
             "#fde0ef"
            ],
            [
             0.5,
             "#f7f7f7"
            ],
            [
             0.6,
             "#e6f5d0"
            ],
            [
             0.7,
             "#b8e186"
            ],
            [
             0.8,
             "#7fbc41"
            ],
            [
             0.9,
             "#4d9221"
            ],
            [
             1,
             "#276419"
            ]
           ],
           "sequential": [
            [
             0,
             "#0d0887"
            ],
            [
             0.1111111111111111,
             "#46039f"
            ],
            [
             0.2222222222222222,
             "#7201a8"
            ],
            [
             0.3333333333333333,
             "#9c179e"
            ],
            [
             0.4444444444444444,
             "#bd3786"
            ],
            [
             0.5555555555555556,
             "#d8576b"
            ],
            [
             0.6666666666666666,
             "#ed7953"
            ],
            [
             0.7777777777777778,
             "#fb9f3a"
            ],
            [
             0.8888888888888888,
             "#fdca26"
            ],
            [
             1,
             "#f0f921"
            ]
           ],
           "sequentialminus": [
            [
             0,
             "#0d0887"
            ],
            [
             0.1111111111111111,
             "#46039f"
            ],
            [
             0.2222222222222222,
             "#7201a8"
            ],
            [
             0.3333333333333333,
             "#9c179e"
            ],
            [
             0.4444444444444444,
             "#bd3786"
            ],
            [
             0.5555555555555556,
             "#d8576b"
            ],
            [
             0.6666666666666666,
             "#ed7953"
            ],
            [
             0.7777777777777778,
             "#fb9f3a"
            ],
            [
             0.8888888888888888,
             "#fdca26"
            ],
            [
             1,
             "#f0f921"
            ]
           ]
          },
          "colorway": [
           "#636efa",
           "#EF553B",
           "#00cc96",
           "#ab63fa",
           "#FFA15A",
           "#19d3f3",
           "#FF6692",
           "#B6E880",
           "#FF97FF",
           "#FECB52"
          ],
          "font": {
           "color": "#2a3f5f"
          },
          "geo": {
           "bgcolor": "white",
           "lakecolor": "white",
           "landcolor": "#E5ECF6",
           "showlakes": true,
           "showland": true,
           "subunitcolor": "white"
          },
          "hoverlabel": {
           "align": "left"
          },
          "hovermode": "closest",
          "mapbox": {
           "style": "light"
          },
          "paper_bgcolor": "white",
          "plot_bgcolor": "#E5ECF6",
          "polar": {
           "angularaxis": {
            "gridcolor": "white",
            "linecolor": "white",
            "ticks": ""
           },
           "bgcolor": "#E5ECF6",
           "radialaxis": {
            "gridcolor": "white",
            "linecolor": "white",
            "ticks": ""
           }
          },
          "scene": {
           "xaxis": {
            "backgroundcolor": "#E5ECF6",
            "gridcolor": "white",
            "gridwidth": 2,
            "linecolor": "white",
            "showbackground": true,
            "ticks": "",
            "zerolinecolor": "white"
           },
           "yaxis": {
            "backgroundcolor": "#E5ECF6",
            "gridcolor": "white",
            "gridwidth": 2,
            "linecolor": "white",
            "showbackground": true,
            "ticks": "",
            "zerolinecolor": "white"
           },
           "zaxis": {
            "backgroundcolor": "#E5ECF6",
            "gridcolor": "white",
            "gridwidth": 2,
            "linecolor": "white",
            "showbackground": true,
            "ticks": "",
            "zerolinecolor": "white"
           }
          },
          "shapedefaults": {
           "line": {
            "color": "#2a3f5f"
           }
          },
          "ternary": {
           "aaxis": {
            "gridcolor": "white",
            "linecolor": "white",
            "ticks": ""
           },
           "baxis": {
            "gridcolor": "white",
            "linecolor": "white",
            "ticks": ""
           },
           "bgcolor": "#E5ECF6",
           "caxis": {
            "gridcolor": "white",
            "linecolor": "white",
            "ticks": ""
           }
          },
          "title": {
           "x": 0.05
          },
          "xaxis": {
           "automargin": true,
           "gridcolor": "white",
           "linecolor": "white",
           "ticks": "",
           "title": {
            "standoff": 15
           },
           "zerolinecolor": "white",
           "zerolinewidth": 2
          },
          "yaxis": {
           "automargin": true,
           "gridcolor": "white",
           "linecolor": "white",
           "ticks": "",
           "title": {
            "standoff": 15
           },
           "zerolinecolor": "white",
           "zerolinewidth": 2
          }
         }
        },
        "xaxis": {
         "anchor": "y",
         "domain": [
          0,
          0.3133333333333333
         ],
         "title": {
          "text": "Flipper Length Mm"
         }
        },
        "xaxis2": {
         "anchor": "y2",
         "domain": [
          0.3333333333333333,
          0.6466666666666666
         ],
         "matches": "x",
         "title": {
          "text": "Flipper Length Mm"
         }
        },
        "xaxis3": {
         "anchor": "y3",
         "domain": [
          0.6666666666666666,
          0.98
         ],
         "matches": "x",
         "title": {
          "text": "Flipper Length Mm"
         }
        },
        "xaxis4": {
         "anchor": "y4",
         "domain": [
          0,
          0.3133333333333333
         ],
         "matches": "x",
         "showticklabels": false
        },
        "xaxis5": {
         "anchor": "y5",
         "domain": [
          0.3333333333333333,
          0.6466666666666666
         ],
         "matches": "x",
         "showticklabels": false
        },
        "xaxis6": {
         "anchor": "y6",
         "domain": [
          0.6666666666666666,
          0.98
         ],
         "matches": "x",
         "showticklabels": false
        },
        "xaxis7": {
         "anchor": "y7",
         "domain": [
          0,
          0.3133333333333333
         ],
         "matches": "x",
         "showticklabels": false
        },
        "xaxis8": {
         "anchor": "y8",
         "domain": [
          0.3333333333333333,
          0.6466666666666666
         ],
         "matches": "x",
         "showticklabels": false
        },
        "xaxis9": {
         "anchor": "y9",
         "domain": [
          0.6666666666666666,
          0.98
         ],
         "matches": "x",
         "showticklabels": false
        },
        "yaxis": {
         "anchor": "x",
         "domain": [
          0,
          0.3133333333333333
         ],
         "title": {
          "text": "Body Mass G"
         }
        },
        "yaxis2": {
         "anchor": "x2",
         "domain": [
          0,
          0.3133333333333333
         ],
         "matches": "y",
         "showticklabels": false
        },
        "yaxis3": {
         "anchor": "x3",
         "domain": [
          0,
          0.3133333333333333
         ],
         "matches": "y",
         "showticklabels": false
        },
        "yaxis4": {
         "anchor": "x4",
         "domain": [
          0.34333333333333327,
          0.6566666666666665
         ],
         "matches": "y",
         "title": {
          "text": "Body Mass G"
         }
        },
        "yaxis5": {
         "anchor": "x5",
         "domain": [
          0.34333333333333327,
          0.6566666666666665
         ],
         "matches": "y",
         "showticklabels": false
        },
        "yaxis6": {
         "anchor": "x6",
         "domain": [
          0.34333333333333327,
          0.6566666666666665
         ],
         "matches": "y",
         "showticklabels": false
        },
        "yaxis7": {
         "anchor": "x7",
         "domain": [
          0.6866666666666665,
          0.9999999999999998
         ],
         "matches": "y",
         "title": {
          "text": "Body Mass G"
         }
        },
        "yaxis8": {
         "anchor": "x8",
         "domain": [
          0.6866666666666665,
          0.9999999999999998
         ],
         "matches": "y",
         "showticklabels": false
        },
        "yaxis9": {
         "anchor": "x9",
         "domain": [
          0.6866666666666665,
          0.9999999999999998
         ],
         "matches": "y",
         "showticklabels": false
        }
       }
      }
     },
     "metadata": {},
     "output_type": "display_data"
    }
   ],
   "source": [
    "fig = px.scatter(\n",
    "    df, x=\"Flipper Length Mm\", y=\"Body Mass G\", \n",
    "    color=\"Species\", facet_col=\"Sex\", facet_row=\"Island\",\n",
    "    height=700, opacity=0.85\n",
    ")\n",
    "fig.show()"
   ]
  },
  {
   "cell_type": "code",
   "execution_count": 19,
   "id": "4f54432c",
   "metadata": {},
   "outputs": [
    {
     "data": {
      "application/vnd.plotly.v1+json": {
       "config": {
        "plotlyServerURL": "https://plot.ly"
       },
       "data": [
        {
         "hovertemplate": "Species=Adelie<br>Sex=Male<br>Bill Length Mm=%{x}<br>Bill Depth Mm=%{y}<br>Flipper Length Mm=%{z}<extra></extra>",
         "legendgroup": "Adelie, Male",
         "marker": {
          "color": "#636efa",
          "opacity": 0.8,
          "symbol": "circle"
         },
         "mode": "markers",
         "name": "Adelie, Male",
         "scene": "scene",
         "showlegend": true,
         "type": "scatter3d",
         "x": {
          "bdata": "zczMzMyMQ0BmZmZmZqZDQJqZmZmZmUNAzczMzMxMQ0DNzMzMzExBQAAAAAAAQEVAAAAAAAAAR0CamZmZmdlCQJqZmZmZGUNAZmZmZmZmQ0DNzMzMzExEQAAAAAAAQERAmpmZmZmZQkAzMzMzM3NEQJqZmZmZmUNAZmZmZmZmQ0BmZmZmZuZDQGZmZmZmZkRAzczMzMwMRkDNzMzMzMxDQM3MzMzMjERAZmZmZmYmRUDNzMzMzAxEQAAAAAAAAEVAMzMzMzOzREDNzMzMzExEQM3MzMzMzEJAZmZmZmamREDNzMzMzIxEQM3MzMzMzERAzczMzMyMREBmZmZmZuZEQJqZmZmZ2UNAZmZmZmbmRkBmZmZmZmZFQJqZmZmZmUJAzczMzMwMRUAzMzMzM3NFQM3MzMzMjEFAZmZmZmamREBmZmZmZiZCQGZmZmZmJkNAzczMzMyMREDNzMzMzMxDQGZmZmZmZkRAZmZmZmYmRECamZmZmZlFQAAAAAAAgERAZmZmZmbmQkCamZmZmdlDQJqZmZmZGUNAmpmZmZmZRUDNzMzMzMxGQJqZmZmZGUVAmpmZmZlZRUBmZmZmZqZCQM3MzMzMjERAmpmZmZnZQkAzMzMzM7NEQM3MzMzMTERAAAAAAADAREDNzMzMzAxGQM3MzMzMjEVAAAAAAADAQkDNzMzMzIxEQJqZmZmZGURAmpmZmZnZQ0DNzMzMzExEQJqZmZmZWURAAAAAAACAQ0CamZmZmZlDQGZmZmZm5kJAAAAAAADAREA=",
          "dtype": "f8"
         },
         "y": {
          "bdata": "MzMzMzOzMkCamZmZmZk0QJqZmZmZmTNAMzMzMzMzNUCamZmZmRk1QDMzMzMzszRAAAAAAACANUAzMzMzM7MyQJqZmZmZGTJAMzMzMzMzMUCamZmZmZkyQGZmZmZm5jJAmpmZmZkZMkBmZmZmZuYyQJqZmZmZGTVAAAAAAAAANECamZmZmRkzQGZmZmZmZjJAMzMzMzOzM0DNzMzMzMwyQAAAAAAAADNAMzMzMzMzNUBmZmZmZuYyQAAAAAAAgDNAmpmZmZmZMkDNzMzMzMwyQJqZmZmZGTNAmpmZmZkZNUAzMzMzMzMyQAAAAAAAADJAmpmZmZkZM0BmZmZmZmYzQGZmZmZmZjJAZmZmZmbmMkAAAAAAAIAyQGZmZmZmZjNAmpmZmZkZM0CamZmZmZkxQGZmZmZmZjNAzczMzMxMNEAAAAAAAIAzQDMzMzMzMzNAmpmZmZkZMkCamZmZmRkyQGZmZmZm5jJAAAAAAACAMkAAAAAAAIAyQAAAAAAAADRAAAAAAAAANEBmZmZmZuYyQAAAAAAAADRAAAAAAAAAM0DNzMzMzEw0QAAAAAAAgDNAzczMzMxMMkAAAAAAAIA0QJqZmZmZmTJAzczMzMzMM0AAAAAAAIAyQAAAAAAAADNAzczMzMxMMkAAAAAAAAAyQDMzMzMzMzNAAAAAAACAMkAAAAAAAIAxQJqZmZmZGTRAZmZmZmbmMUAzMzMzMzMxQAAAAAAAADFAMzMzMzOzMkCamZmZmZkyQJqZmZmZGTJAAAAAAACAMkA=",
          "dtype": "f8"
         },
         "z": {
          "bdata": "AAAAAACgZkAAAAAAAMBnQAAAAAAAYGhAAAAAAADgZ0AAAAAAAMBoQAAAAAAAoGhAAAAAAABAaEAAAAAAAIBmQAAAAAAAIGdAAAAAAACAZkAAAAAAAOBmQAAAAAAAgGZAAAAAAABAZkAAAAAAAABnQAAAAAAAgGhAAAAAAADAZ0AAAAAAAABnQAAAAAAAYGhAAAAAAACAaEAAAAAAAMBnQAAAAAAAwGZAAAAAAADgZ0AAAAAAAIBnQAAAAAAAAGlAAAAAAADgZ0AAAAAAACBoQAAAAAAAQGhAAAAAAABgaEAAAAAAAABoQAAAAAAAAGhAAAAAAACAZ0AAAAAAAMBoQAAAAAAAwGdAAAAAAACgaEAAAAAAAGBoQAAAAAAAAGdAAAAAAABgaEAAAAAAAIBoQAAAAAAAIGhAAAAAAABAaEAAAAAAAMBnQAAAAAAAoGdAAAAAAACgaUAAAAAAAEBnQAAAAAAAAGpAAAAAAACAaEAAAAAAAABoQAAAAAAAYGlAAAAAAADAZ0AAAAAAAABnQAAAAAAAwGdAAAAAAACgaEAAAAAAAOBnQAAAAAAAoGhAAAAAAACAaEAAAAAAAOBoQAAAAAAAoGdAAAAAAADAaEAAAAAAAEBpQAAAAAAA4GhAAAAAAABgaEAAAAAAAEBqQAAAAAAAoGhAAAAAAADgaEAAAAAAAMBnQAAAAAAAAGlAAAAAAAAgaEAAAAAAAGBnQAAAAAAAwGdAAAAAAAAgZ0AAAAAAAMBnQAAAAAAAIGhAAAAAAAAgaUA=",
          "dtype": "f8"
         }
        },
        {
         "hovertemplate": "Species=Adelie<br>Sex=Female<br>Bill Length Mm=%{x}<br>Bill Depth Mm=%{y}<br>Flipper Length Mm=%{z}<extra></extra>",
         "legendgroup": "Adelie, Female",
         "marker": {
          "color": "#636efa",
          "opacity": 0.8,
          "symbol": "diamond"
         },
         "mode": "markers",
         "name": "Adelie, Female",
         "scene": "scene",
         "showlegend": true,
         "type": "scatter3d",
         "x": {
          "bdata": "AAAAAADAQ0BmZmZmZiZEQJqZmZmZWUJAMzMzMzNzQ0DNzMzMzIxEQM3MzMzMTEJAmpmZmZlZQ0AzMzMzMzNBQGZmZmZm5kJAMzMzMzPzQUBmZmZmZqZBQAAAAAAAQERAMzMzMzPzQkAAAAAAAMBDQAAAAAAAwENAMzMzMzMzQkCamZmZmRlFQM3MzMzMzEJAAAAAAABAQkAAAAAAAABCQAAAAAAAgEJAAAAAAAAAQkDNzMzMzMxDQAAAAAAAgEFAAAAAAABAQUAAAAAAAIBDQAAAAAAAQEJAmpmZmZnZQUDNzMzMzMxCQDMzMzMzM0JAAAAAAADAQUAzMzMzM/NBQAAAAAAAwEBAzczMzMzMQ0AAAAAAAMBBQDMzMzMzc0RAmpmZmZkZQkDNzMzMzExBQJqZmZmZWUJAZmZmZmamQkAzMzMzM3NCQDMzMzMzc0NAmpmZmZnZQUAAAAAAAABBQJqZmZmZGUJAzczMzMwMQ0DNzMzMzIxAQAAAAAAAgEFAmpmZmZnZQkAzMzMzM/NCQM3MzMzMTENAzczMzMwMQ0DNzMzMzAxDQJqZmZmZ2UNAzczMzMzMQ0DNzMzMzExDQJqZmZmZ2UFAmpmZmZkZQkCamZmZmRlEQJqZmZmZmUFAZmZmZmZmQ0AAAAAAAIBDQAAAAAAAQENAZmZmZmZmQkDNzMzMzAxDQM3MzMzMzEFAAAAAAACAQkCamZmZmRlEQM3MzMzMDEBAZmZmZmamQkDNzMzMzExCQAAAAAAAAEJAAAAAAAAAQkA=",
          "dtype": "f8"
         },
         "y": {
          "bdata": "ZmZmZmZmMUAAAAAAAAAyQM3MzMzMTDNAzczMzMzMMUCamZmZmZkxQM3MzMzMzDFAAAAAAAAAM0BmZmZmZmYyQM3MzMzMTDJAMzMzMzMzM0BmZmZmZuYyQGZmZmZm5jFAmpmZmZmZMkAzMzMzM7MwQM3MzMzMzDFAAAAAAAAAMUAAAAAAAIAyQM3MzMzMTDNAAAAAAAAAMkAAAAAAAIAyQGZmZmZm5jBAZmZmZmbmMUAzMzMzM7MxQGZmZmZm5jFAmpmZmZkZMkAAAAAAAIAxQJqZmZmZmTBAZmZmZmbmMEAAAAAAAAAxQJqZmZmZGTFAMzMzMzMzMECamZmZmZkwQAAAAAAAADNAMzMzMzMzMUAAAAAAAIAxQM3MzMzMzDBAmpmZmZkZMEAzMzMzMzMxQM3MzMzMzDJAzczMzMzMMUCamZmZmZkyQM3MzMzMzDJAAAAAAAAAMkCamZmZmRkxQM3MzMzMTDFAmpmZmZmZMkCamZmZmRkwQGZmZmZm5jFAAAAAAAAAMECamZmZmZkyQDMzMzMzMzFAAAAAAAAAMUAAAAAAAIAwQDMzMzMzszFAMzMzMzOzNEAAAAAAAAAxQAAAAAAAADFAMzMzMzMzMUAAAAAAAAAxQM3MzMzMzC9AmpmZmZmZMUCamZmZmRkxQGZmZmZm5jFAAAAAAACAMkCamZmZmZkxQAAAAAAAgDFAAAAAAACAMECamZmZmRkxQAAAAAAAAC9AzczMzMzMMEBmZmZmZmYyQM3MzMzMzDFAmpmZmZkZMUA=",
          "dtype": "f8"
         },
         "z": {
          "bdata": "AAAAAABAZ0AAAAAAAGBoQAAAAAAAIGhAAAAAAACgZkAAAAAAAMBmQAAAAAAAIGdAAAAAAABgaEAAAAAAAABnQAAAAAAAwGVAAAAAAACgZ0AAAAAAAGBnQAAAAAAAYGdAAAAAAACAZUAAAAAAAEBmQAAAAAAAgGdAAAAAAABgaEAAAAAAAIBmQAAAAAAAoGZAAAAAAADAZkAAAAAAAEBnQAAAAAAAIGdAAAAAAADAZ0AAAAAAAEBnQAAAAAAAwGdAAAAAAABgZ0AAAAAAAEBnQAAAAAAAoGZAAAAAAAAgZ0AAAAAAACBnQAAAAAAAAGdAAAAAAABgaEAAAAAAAMBnQAAAAAAAwGdAAAAAAACAaEAAAAAAAMBnQAAAAAAA4GdAAAAAAABgZ0AAAAAAAKBnQAAAAAAAYGdAAAAAAADgZ0AAAAAAAKBnQAAAAAAAwGdAAAAAAABAaUAAAAAAACBnQAAAAAAAYGdAAAAAAADAZ0AAAAAAAEBmQAAAAAAAAGhAAAAAAADgZkAAAAAAACBoQAAAAAAA4GhAAAAAAACgZkAAAAAAAMBoQAAAAAAAIGhAAAAAAADgZ0AAAAAAAIBnQAAAAAAAoGdAAAAAAABgZ0AAAAAAAABmQAAAAAAAQGdAAAAAAADgZ0AAAAAAAOBnQAAAAAAAwGdAAAAAAAAgaEAAAAAAAGBnQAAAAAAA4GdAAAAAAAAgZ0AAAAAAACBoQAAAAAAAgGdAAAAAAAAAaEAAAAAAAABnQAAAAAAAYGhAAAAAAABgZ0A=",
          "dtype": "f8"
         }
        },
        {
         "hovertemplate": "Species=Chinstrap<br>Sex=Male<br>Bill Length Mm=%{x}<br>Bill Depth Mm=%{y}<br>Flipper Length Mm=%{z}<extra></extra>",
         "legendgroup": "Chinstrap, Male",
         "marker": {
          "color": "#EF553B",
          "opacity": 0.8,
          "symbol": "circle"
         },
         "mode": "markers",
         "name": "Chinstrap, Male",
         "scene": "scene",
         "showlegend": true,
         "type": "scatter3d",
         "x": {
          "bdata": "AAAAAAAASUBmZmZmZqZJQJqZmZmZWUpAZmZmZmamSUBmZmZmZqZJQJqZmZmZ2UlAAAAAAAAASkAAAAAAAEBJQGZmZmZmJklAmpmZmZmZSEAAAAAAAEBIQM3MzMzMTElAAAAAAAAASkAAAAAAAMBIQGZmZmZmZkpAmpmZmZkZS0AAAAAAAIBJQJqZmZmZ2UhAAAAAAAAASkAAAAAAAMBKQAAAAAAAgEhAMzMzMzNzSUBmZmZmZmZJQAAAAAAAgEhAAAAAAADASUAzMzMzM7NJQJqZmZmZWUlAmpmZmZkZSkBmZmZmZqZIQJqZmZmZGUlAMzMzMzPzSUBmZmZmZuZLQM3MzMzMzEhAZmZmZmZmSUA=",
          "dtype": "f8"
         },
         "y": {
          "bdata": "AAAAAACAM0AzMzMzMzMzQM3MzMzMzDNAMzMzMzMzMkBmZmZmZuYzQM3MzMzMTDRAmpmZmZkZMkCamZmZmZkzQAAAAAAAADRAMzMzMzMzMkAAAAAAAIAxQGZmZmZmZjNAAAAAAAAAM0AAAAAAAAAzQAAAAAAAADRAzczMzMzMNEDNzMzMzMwyQJqZmZmZmTJAMzMzMzOzNEBmZmZmZuYzQAAAAAAAgDNAmpmZmZkZM0AAAAAAAIAyQJqZmZmZmTNAMzMzMzOzMkAAAAAAAAAzQDMzMzMzszNAzczMzMzMMkBmZmZmZuYzQM3MzMzMzDJAAAAAAACAM0DNzMzMzMwzQDMzMzMzMzJAAAAAAAAAM0A=",
          "dtype": "f8"
         },
         "z": {
          "bdata": "AAAAAACAaEAAAAAAACBoQAAAAAAAoGhAAAAAAACgaEAAAAAAAMBoQAAAAAAAQGhAAAAAAAAgaUAAAAAAACBpQAAAAAAAoGhAAAAAAABgaEAAAAAAAOBnQAAAAAAAIGhAAAAAAACgaEAAAAAAAABpQAAAAAAAoGlAAAAAAAAgaUAAAAAAAGBpQAAAAAAAYGhAAAAAAABAakAAAAAAAKBpQAAAAAAAQGpAAAAAAACAaEAAAAAAACBpQAAAAAAAgGpAAAAAAABgZ0AAAAAAACBpQAAAAAAAYGlAAAAAAACgaEAAAAAAAGBpQAAAAAAAQGlAAAAAAADAaUAAAAAAAOBpQAAAAAAAIGhAAAAAAABAakA=",
          "dtype": "f8"
         }
        },
        {
         "hovertemplate": "Species=Chinstrap<br>Sex=Female<br>Bill Length Mm=%{x}<br>Bill Depth Mm=%{y}<br>Flipper Length Mm=%{z}<extra></extra>",
         "legendgroup": "Chinstrap, Female",
         "marker": {
          "color": "#EF553B",
          "opacity": 0.8,
          "symbol": "diamond"
         },
         "mode": "markers",
         "name": "Chinstrap, Female",
         "scene": "scene",
         "showlegend": true,
         "type": "scatter3d",
         "x": {
          "bdata": "AAAAAABAR0AzMzMzM7NGQJqZmZmZmUZAzczMzMwMR0AAAAAAAABHQM3MzMzMTEdAAAAAAACAR0AzMzMzM/NGQAAAAAAAAE1AMzMzMzMzR0AzMzMzMzNFQJqZmZmZmUVAmpmZmZlZR0AAAAAAAEBJQDMzMzMzM0dAMzMzMzNzREAAAAAAAEBFQAAAAAAAwEdAzczMzMzMR0AzMzMzM3NHQJqZmZmZGUdAAAAAAADARkAzMzMzM3NJQM3MzMzMDElAZmZmZmbmSEDNzMzMzAxIQJqZmZmZ2UZAAAAAAABARUCamZmZmZlGQM3MzMzMzEZAZmZmZmZmR0CamZmZmdlGQAAAAAAAwEVAmpmZmZkZSUA=",
          "dtype": "f8"
         },
         "y": {
          "bdata": "ZmZmZmbmMUAzMzMzM7MyQM3MzMzMzDFAMzMzMzMzMkBmZmZmZuYyQM3MzMzMzDFAzczMzMxMMUCamZmZmRkxQM3MzMzMzDFAmpmZmZmZMkDNzMzMzEwxQJqZmZmZmTBAZmZmZmbmMUBmZmZmZmYyQM3MzMzMzDFAmpmZmZmZMEAzMzMzM7MwQM3MzMzMzDBAzczMzMxMMkCamZmZmZkwQAAAAAAAgDFAAAAAAAAAMUBmZmZmZuYxQGZmZmZm5jFAzczMzMxMMUBmZmZmZmYwQM3MzMzMTDFAzczMzMxMMUCamZmZmZkwQGZmZmZmZjNAAAAAAACAMEAAAAAAAAAxQJqZmZmZGTJAMzMzMzOzMkA=",
          "dtype": "f8"
         },
         "z": {
          "bdata": "AAAAAAAAaEAAAAAAAIBnQAAAAAAAwGhAAAAAAABAZkAAAAAAAGBoQAAAAAAAIGhAAAAAAAAgZ0AAAAAAAMBnQAAAAAAAoGZAAAAAAADAZ0AAAAAAAKBmQAAAAAAAYGdAAAAAAABgaEAAAAAAAABpQAAAAAAA4GdAAAAAAABgZ0AAAAAAAGBnQAAAAAAA4GhAAAAAAABgaEAAAAAAAABoQAAAAAAAYGdAAAAAAACAaEAAAAAAAIBoQAAAAAAAwGdAAAAAAADAaEAAAAAAAOBoQAAAAAAAIGhAAAAAAABgZ0AAAAAAAOBnQAAAAAAAQGhAAAAAAACgZ0AAAAAAAGBoQAAAAAAAQGlAAAAAAADAaEA=",
          "dtype": "f8"
         }
        },
        {
         "hovertemplate": "Species=Gentoo<br>Sex=Male<br>Bill Length Mm=%{x}<br>Bill Depth Mm=%{y}<br>Flipper Length Mm=%{z}<extra></extra>",
         "legendgroup": "Gentoo, Male",
         "marker": {
          "color": "#00cc96",
          "opacity": 0.8,
          "symbol": "circle"
         },
         "mode": "markers",
         "name": "Gentoo, Male",
         "scene": "scene",
         "showlegend": true,
         "type": "scatter3d",
         "x": {
          "bdata": "AAAAAAAASUAAAAAAAABJQM3MzMzMzEdAmpmZmZlZR0BmZmZmZmZHQAAAAAAAgEhAMzMzMzMzSEBmZmZmZqZIQJqZmZmZmUhAmpmZmZlZSECamZmZmRlJQGZmZmZmJkdAzczMzMwMR0BmZmZmZuZHQAAAAAAAAElAZmZmZmamR0DNzMzMzMxNQDMzMzMzM0hAMzMzMzMzRkCamZmZmVlIQM3MzMzMzEhAzczMzMzMSEAAAAAAAEBJQAAAAAAAQElAmpmZmZmZRkAAAAAAAEBIQM3MzMzMDElAAAAAAACARkAAAAAAAMBGQDMzMzMzM0lAmpmZmZkZR0BmZmZmZiZLQGZmZmZm5khAAAAAAADASECamZmZmVlJQDMzMzMzM0dAmpmZmZkZSEDNzMzMzExIQM3MzMzMjElAmpmZmZmZRkAAAAAAAEBKQAAAAAAAAElAZmZmZmZmSUBmZmZmZqZJQM3MzMzMDEpAmpmZmZkZSkAAAAAAAMBIQGZmZmZmZklAMzMzMzOzSEDNzMzMzIxJQDMzMzMz80tAzczMzMyMSEBmZmZmZmZHQDMzMzMzs0pAzczMzMwMSEBmZmZmZuZIQAAAAAAAwElAzczMzMyMS0BmZmZmZmZIQDMzMzMzM0lAMzMzMzPzSEA=",
          "dtype": "f8"
         },
         "y": {
          "bdata": "zczMzMxMMEBmZmZmZmYuQAAAAAAAAC1AmpmZmZmZLkDNzMzMzMwuQJqZmZmZGTBAMzMzMzMzLUBmZmZmZmYvQGZmZmZmZi5AMzMzMzMzLkCamZmZmZksQJqZmZmZmS9AMzMzMzMzLkAAAAAAAAAuQJqZmZmZmS5AmpmZmZmZLkAAAAAAAAAxQM3MzMzMTDBAzczMzMxMMUBmZmZmZmYvQAAAAAAAADBAAAAAAAAALkDNzMzMzMwvQM3MzMzMzC9AmpmZmZmZL0AzMzMzMzMsQAAAAAAAAC5AzczMzMzMLkAAAAAAAAAuQJqZmZmZmS5AzczMzMzMLUBmZmZmZmYvQM3MzMzMzDBAMzMzMzMzMEAAAAAAAAAuQDMzMzMzMy9AMzMzMzMzL0AAAAAAAAAwQM3MzMzMTDBAZmZmZmZmMEAzMzMzMzMvQM3MzMzMzC9AzczMzMxMMUBmZmZmZmYsQAAAAAAAADFAmpmZmZkZMUCamZmZmRkwQGZmZmZmZi9AmpmZmZmZL0AAAAAAAIAwQAAAAAAAADFAAAAAAAAALkCamZmZmRkwQJqZmZmZmS9AMzMzMzMzLkDNzMzMzMwvQM3MzMzMTDBAAAAAAAAAMEAzMzMzMzMwQGZmZmZmZi9AmpmZmZkZMEA=",
          "dtype": "f8"
         },
         "z": {
          "bdata": "AAAAAADAbEAAAAAAAEBrQAAAAAAA4GpAAAAAAABga0AAAAAAAOBqQAAAAAAAAGtAAAAAAACgakAAAAAAACBrQAAAAAAAoGtAAAAAAADAa0AAAAAAAEBrQAAAAAAA4GpAAAAAAADgakAAAAAAAOBqQAAAAAAAgGtAAAAAAADAa0AAAAAAAMBsQAAAAAAAgGtAAAAAAABga0AAAAAAAABqQAAAAAAAIGxAAAAAAAAAa0AAAAAAAMBrQAAAAAAAIGxAAAAAAADgakAAAAAAAIBrQAAAAAAAIGxAAAAAAACAa0AAAAAAAIBrQAAAAAAAAGxAAAAAAACga0AAAAAAAOBsQAAAAAAAwGxAAAAAAACgbEAAAAAAAOBrQAAAAAAAoGtAAAAAAACga0AAAAAAAMBsQAAAAAAAgGtAAAAAAADga0AAAAAAAKBrQAAAAAAAAGxAAAAAAACAbEAAAAAAAEBrQAAAAAAAwGxAAAAAAACAbEAAAAAAAABsQAAAAAAAQGxAAAAAAAAAa0AAAAAAACBsQAAAAAAAgGxAAAAAAACAbEAAAAAAAOBqQAAAAAAAYGtAAAAAAAAgakAAAAAAAKBsQAAAAAAAwGxAAAAAAADAbEAAAAAAAMBrQAAAAAAAwGtAAAAAAACgakA=",
          "dtype": "f8"
         }
        },
        {
         "hovertemplate": "Species=Gentoo<br>Sex=Female<br>Bill Length Mm=%{x}<br>Bill Depth Mm=%{y}<br>Flipper Length Mm=%{z}<extra></extra>",
         "legendgroup": "Gentoo, Female",
         "marker": {
          "color": "#00cc96",
          "opacity": 0.8,
          "symbol": "diamond"
         },
         "mode": "markers",
         "name": "Gentoo, Female",
         "scene": "scene",
         "showlegend": true,
         "type": "scatter3d",
         "x": {
          "bdata": "zczMzMwMR0CamZmZmVlIQAAAAAAAQEdAMzMzMzOzRkBmZmZmZqZFQDMzMzMzc0RAAAAAAADARkBmZmZmZuZGQAAAAAAAAEVAmpmZmZkZR0DNzMzMzIxGQAAAAAAAQEdAMzMzMzNzRUCamZmZmRlIQGZmZmZmZkVAzczMzMyMRkDNzMzMzIxIQM3MzMzMTEVAAAAAAAAARkCamZmZmVlFQGZmZmZmpkZAzczMzMzMRUAAAAAAAMBGQDMzMzMzc0ZAzczMzMxMR0DNzMzMzIxGQAAAAAAAQEdAZmZmZmbmRUCamZmZmZlFQGZmZmZmpkZAmpmZmZnZRkBmZmZmZuZGQAAAAAAAwEVAmpmZmZnZR0AAAAAAAEBHQDMzMzMzM0dAAAAAAADAR0CamZmZmZlGQM3MzMzMjEhAMzMzMzOzR0AzMzMzM3NGQDMzMzMzs0VAAAAAAADAR0AAAAAAAMBHQAAAAAAAwEZAAAAAAABARkAzMzMzM3NHQDMzMzMzM0hAAAAAAABASECamZmZmZlHQJqZmZmZ2URAZmZmZmamRUAAAAAAAEBJQAAAAAAAwEVAmpmZmZkZR0CamZmZmZlHQGZmZmZmZkdAmpmZmZmZRkA=",
          "dtype": "f8"
         },
         "y": {
          "bdata": "ZmZmZmZmKkAzMzMzMzMsQAAAAAAAACtAMzMzMzMzLUDNzMzMzMwqQGZmZmZmZitAZmZmZmZmK0AzMzMzMzMtQAAAAAAAACtAAAAAAAAALUAAAAAAAAAtQAAAAAAAAC1AMzMzMzMzKkCamZmZmZksQGZmZmZmZixAAAAAAAAALUCamZmZmZktQGZmZmZmZitAMzMzMzMzK0BmZmZmZmYrQGZmZmZmZitAzczMzMzMK0DNzMzMzMwrQJqZmZmZmSpAZmZmZmZmLEDNzMzMzMwsQM3MzMzMzCxAzczMzMzMK0AAAAAAAAAtQJqZmZmZmStAzczMzMzMK0BmZmZmZmYsQGZmZmZmZixAAAAAAAAALkCamZmZmZktQAAAAAAAAC5AZmZmZmZmLECamZmZmZkrQAAAAAAAAC1AMzMzMzMzLUCamZmZmZkrQM3MzMzMzCxAAAAAAAAALEAAAAAAAAAuQAAAAAAAAC1AZmZmZmZmLUAzMzMzMzMtQM3MzMzMzCxAAAAAAAAALkAAAAAAAAAvQGZmZmZmZi1AAAAAAAAALEBmZmZmZmYuQGZmZmZmZi5AMzMzMzMzLEBmZmZmZmYrQJqZmZmZmSxAmpmZmZmZLUA=",
          "dtype": "f8"
         },
         "z": {
          "bdata": "AAAAAABgakAAAAAAAEBqQAAAAAAAQGpAAAAAAABgakAAAAAAACBqQAAAAAAAwGpAAAAAAADAakAAAAAAAEBqQAAAAAAAQGpAAAAAAAAgakAAAAAAAOBqQAAAAAAAoGpAAAAAAADgakAAAAAAAEBqQAAAAAAAIGpAAAAAAADgaUAAAAAAAIBrQAAAAAAAoGpAAAAAAAAAakAAAAAAAABqQAAAAAAAQGpAAAAAAAAga0AAAAAAAEBqQAAAAAAAoGpAAAAAAABAakAAAAAAAEBqQAAAAAAAIGtAAAAAAAAAakAAAAAAAABqQAAAAAAAAGpAAAAAAADAakAAAAAAAGBrQAAAAAAAgGtAAAAAAAAAa0AAAAAAACBrQAAAAAAAAGtAAAAAAAAgakAAAAAAAOBqQAAAAAAAgGpAAAAAAACAakAAAAAAAIBqQAAAAAAAQGtAAAAAAACAakAAAAAAAEBrQAAAAAAAgGpAAAAAAADAakAAAAAAAMBrQAAAAAAAYGlAAAAAAABga0AAAAAAAOBqQAAAAAAAQGpAAAAAAAAAakAAAAAAAABrQAAAAAAAoGpAAAAAAAAga0AAAAAAAMBqQAAAAAAA4GpAAAAAAACAakA=",
          "dtype": "f8"
         }
        }
       ],
       "layout": {
        "legend": {
         "title": {
          "text": "Species, Sex"
         },
         "tracegroupgap": 0
        },
        "margin": {
         "t": 60
        },
        "scene": {
         "domain": {
          "x": [
           0,
           1
          ],
          "y": [
           0,
           1
          ]
         },
         "xaxis": {
          "title": {
           "text": "Bill Length Mm"
          }
         },
         "yaxis": {
          "title": {
           "text": "Bill Depth Mm"
          }
         },
         "zaxis": {
          "title": {
           "text": "Flipper Length Mm"
          }
         }
        },
        "template": {
         "data": {
          "bar": [
           {
            "error_x": {
             "color": "#2a3f5f"
            },
            "error_y": {
             "color": "#2a3f5f"
            },
            "marker": {
             "line": {
              "color": "#E5ECF6",
              "width": 0.5
             },
             "pattern": {
              "fillmode": "overlay",
              "size": 10,
              "solidity": 0.2
             }
            },
            "type": "bar"
           }
          ],
          "barpolar": [
           {
            "marker": {
             "line": {
              "color": "#E5ECF6",
              "width": 0.5
             },
             "pattern": {
              "fillmode": "overlay",
              "size": 10,
              "solidity": 0.2
             }
            },
            "type": "barpolar"
           }
          ],
          "carpet": [
           {
            "aaxis": {
             "endlinecolor": "#2a3f5f",
             "gridcolor": "white",
             "linecolor": "white",
             "minorgridcolor": "white",
             "startlinecolor": "#2a3f5f"
            },
            "baxis": {
             "endlinecolor": "#2a3f5f",
             "gridcolor": "white",
             "linecolor": "white",
             "minorgridcolor": "white",
             "startlinecolor": "#2a3f5f"
            },
            "type": "carpet"
           }
          ],
          "choropleth": [
           {
            "colorbar": {
             "outlinewidth": 0,
             "ticks": ""
            },
            "type": "choropleth"
           }
          ],
          "contour": [
           {
            "colorbar": {
             "outlinewidth": 0,
             "ticks": ""
            },
            "colorscale": [
             [
              0,
              "#0d0887"
             ],
             [
              0.1111111111111111,
              "#46039f"
             ],
             [
              0.2222222222222222,
              "#7201a8"
             ],
             [
              0.3333333333333333,
              "#9c179e"
             ],
             [
              0.4444444444444444,
              "#bd3786"
             ],
             [
              0.5555555555555556,
              "#d8576b"
             ],
             [
              0.6666666666666666,
              "#ed7953"
             ],
             [
              0.7777777777777778,
              "#fb9f3a"
             ],
             [
              0.8888888888888888,
              "#fdca26"
             ],
             [
              1,
              "#f0f921"
             ]
            ],
            "type": "contour"
           }
          ],
          "contourcarpet": [
           {
            "colorbar": {
             "outlinewidth": 0,
             "ticks": ""
            },
            "type": "contourcarpet"
           }
          ],
          "heatmap": [
           {
            "colorbar": {
             "outlinewidth": 0,
             "ticks": ""
            },
            "colorscale": [
             [
              0,
              "#0d0887"
             ],
             [
              0.1111111111111111,
              "#46039f"
             ],
             [
              0.2222222222222222,
              "#7201a8"
             ],
             [
              0.3333333333333333,
              "#9c179e"
             ],
             [
              0.4444444444444444,
              "#bd3786"
             ],
             [
              0.5555555555555556,
              "#d8576b"
             ],
             [
              0.6666666666666666,
              "#ed7953"
             ],
             [
              0.7777777777777778,
              "#fb9f3a"
             ],
             [
              0.8888888888888888,
              "#fdca26"
             ],
             [
              1,
              "#f0f921"
             ]
            ],
            "type": "heatmap"
           }
          ],
          "histogram": [
           {
            "marker": {
             "pattern": {
              "fillmode": "overlay",
              "size": 10,
              "solidity": 0.2
             }
            },
            "type": "histogram"
           }
          ],
          "histogram2d": [
           {
            "colorbar": {
             "outlinewidth": 0,
             "ticks": ""
            },
            "colorscale": [
             [
              0,
              "#0d0887"
             ],
             [
              0.1111111111111111,
              "#46039f"
             ],
             [
              0.2222222222222222,
              "#7201a8"
             ],
             [
              0.3333333333333333,
              "#9c179e"
             ],
             [
              0.4444444444444444,
              "#bd3786"
             ],
             [
              0.5555555555555556,
              "#d8576b"
             ],
             [
              0.6666666666666666,
              "#ed7953"
             ],
             [
              0.7777777777777778,
              "#fb9f3a"
             ],
             [
              0.8888888888888888,
              "#fdca26"
             ],
             [
              1,
              "#f0f921"
             ]
            ],
            "type": "histogram2d"
           }
          ],
          "histogram2dcontour": [
           {
            "colorbar": {
             "outlinewidth": 0,
             "ticks": ""
            },
            "colorscale": [
             [
              0,
              "#0d0887"
             ],
             [
              0.1111111111111111,
              "#46039f"
             ],
             [
              0.2222222222222222,
              "#7201a8"
             ],
             [
              0.3333333333333333,
              "#9c179e"
             ],
             [
              0.4444444444444444,
              "#bd3786"
             ],
             [
              0.5555555555555556,
              "#d8576b"
             ],
             [
              0.6666666666666666,
              "#ed7953"
             ],
             [
              0.7777777777777778,
              "#fb9f3a"
             ],
             [
              0.8888888888888888,
              "#fdca26"
             ],
             [
              1,
              "#f0f921"
             ]
            ],
            "type": "histogram2dcontour"
           }
          ],
          "mesh3d": [
           {
            "colorbar": {
             "outlinewidth": 0,
             "ticks": ""
            },
            "type": "mesh3d"
           }
          ],
          "parcoords": [
           {
            "line": {
             "colorbar": {
              "outlinewidth": 0,
              "ticks": ""
             }
            },
            "type": "parcoords"
           }
          ],
          "pie": [
           {
            "automargin": true,
            "type": "pie"
           }
          ],
          "scatter": [
           {
            "fillpattern": {
             "fillmode": "overlay",
             "size": 10,
             "solidity": 0.2
            },
            "type": "scatter"
           }
          ],
          "scatter3d": [
           {
            "line": {
             "colorbar": {
              "outlinewidth": 0,
              "ticks": ""
             }
            },
            "marker": {
             "colorbar": {
              "outlinewidth": 0,
              "ticks": ""
             }
            },
            "type": "scatter3d"
           }
          ],
          "scattercarpet": [
           {
            "marker": {
             "colorbar": {
              "outlinewidth": 0,
              "ticks": ""
             }
            },
            "type": "scattercarpet"
           }
          ],
          "scattergeo": [
           {
            "marker": {
             "colorbar": {
              "outlinewidth": 0,
              "ticks": ""
             }
            },
            "type": "scattergeo"
           }
          ],
          "scattergl": [
           {
            "marker": {
             "colorbar": {
              "outlinewidth": 0,
              "ticks": ""
             }
            },
            "type": "scattergl"
           }
          ],
          "scattermap": [
           {
            "marker": {
             "colorbar": {
              "outlinewidth": 0,
              "ticks": ""
             }
            },
            "type": "scattermap"
           }
          ],
          "scattermapbox": [
           {
            "marker": {
             "colorbar": {
              "outlinewidth": 0,
              "ticks": ""
             }
            },
            "type": "scattermapbox"
           }
          ],
          "scatterpolar": [
           {
            "marker": {
             "colorbar": {
              "outlinewidth": 0,
              "ticks": ""
             }
            },
            "type": "scatterpolar"
           }
          ],
          "scatterpolargl": [
           {
            "marker": {
             "colorbar": {
              "outlinewidth": 0,
              "ticks": ""
             }
            },
            "type": "scatterpolargl"
           }
          ],
          "scatterternary": [
           {
            "marker": {
             "colorbar": {
              "outlinewidth": 0,
              "ticks": ""
             }
            },
            "type": "scatterternary"
           }
          ],
          "surface": [
           {
            "colorbar": {
             "outlinewidth": 0,
             "ticks": ""
            },
            "colorscale": [
             [
              0,
              "#0d0887"
             ],
             [
              0.1111111111111111,
              "#46039f"
             ],
             [
              0.2222222222222222,
              "#7201a8"
             ],
             [
              0.3333333333333333,
              "#9c179e"
             ],
             [
              0.4444444444444444,
              "#bd3786"
             ],
             [
              0.5555555555555556,
              "#d8576b"
             ],
             [
              0.6666666666666666,
              "#ed7953"
             ],
             [
              0.7777777777777778,
              "#fb9f3a"
             ],
             [
              0.8888888888888888,
              "#fdca26"
             ],
             [
              1,
              "#f0f921"
             ]
            ],
            "type": "surface"
           }
          ],
          "table": [
           {
            "cells": {
             "fill": {
              "color": "#EBF0F8"
             },
             "line": {
              "color": "white"
             }
            },
            "header": {
             "fill": {
              "color": "#C8D4E3"
             },
             "line": {
              "color": "white"
             }
            },
            "type": "table"
           }
          ]
         },
         "layout": {
          "annotationdefaults": {
           "arrowcolor": "#2a3f5f",
           "arrowhead": 0,
           "arrowwidth": 1
          },
          "autotypenumbers": "strict",
          "coloraxis": {
           "colorbar": {
            "outlinewidth": 0,
            "ticks": ""
           }
          },
          "colorscale": {
           "diverging": [
            [
             0,
             "#8e0152"
            ],
            [
             0.1,
             "#c51b7d"
            ],
            [
             0.2,
             "#de77ae"
            ],
            [
             0.3,
             "#f1b6da"
            ],
            [
             0.4,
             "#fde0ef"
            ],
            [
             0.5,
             "#f7f7f7"
            ],
            [
             0.6,
             "#e6f5d0"
            ],
            [
             0.7,
             "#b8e186"
            ],
            [
             0.8,
             "#7fbc41"
            ],
            [
             0.9,
             "#4d9221"
            ],
            [
             1,
             "#276419"
            ]
           ],
           "sequential": [
            [
             0,
             "#0d0887"
            ],
            [
             0.1111111111111111,
             "#46039f"
            ],
            [
             0.2222222222222222,
             "#7201a8"
            ],
            [
             0.3333333333333333,
             "#9c179e"
            ],
            [
             0.4444444444444444,
             "#bd3786"
            ],
            [
             0.5555555555555556,
             "#d8576b"
            ],
            [
             0.6666666666666666,
             "#ed7953"
            ],
            [
             0.7777777777777778,
             "#fb9f3a"
            ],
            [
             0.8888888888888888,
             "#fdca26"
            ],
            [
             1,
             "#f0f921"
            ]
           ],
           "sequentialminus": [
            [
             0,
             "#0d0887"
            ],
            [
             0.1111111111111111,
             "#46039f"
            ],
            [
             0.2222222222222222,
             "#7201a8"
            ],
            [
             0.3333333333333333,
             "#9c179e"
            ],
            [
             0.4444444444444444,
             "#bd3786"
            ],
            [
             0.5555555555555556,
             "#d8576b"
            ],
            [
             0.6666666666666666,
             "#ed7953"
            ],
            [
             0.7777777777777778,
             "#fb9f3a"
            ],
            [
             0.8888888888888888,
             "#fdca26"
            ],
            [
             1,
             "#f0f921"
            ]
           ]
          },
          "colorway": [
           "#636efa",
           "#EF553B",
           "#00cc96",
           "#ab63fa",
           "#FFA15A",
           "#19d3f3",
           "#FF6692",
           "#B6E880",
           "#FF97FF",
           "#FECB52"
          ],
          "font": {
           "color": "#2a3f5f"
          },
          "geo": {
           "bgcolor": "white",
           "lakecolor": "white",
           "landcolor": "#E5ECF6",
           "showlakes": true,
           "showland": true,
           "subunitcolor": "white"
          },
          "hoverlabel": {
           "align": "left"
          },
          "hovermode": "closest",
          "mapbox": {
           "style": "light"
          },
          "paper_bgcolor": "white",
          "plot_bgcolor": "#E5ECF6",
          "polar": {
           "angularaxis": {
            "gridcolor": "white",
            "linecolor": "white",
            "ticks": ""
           },
           "bgcolor": "#E5ECF6",
           "radialaxis": {
            "gridcolor": "white",
            "linecolor": "white",
            "ticks": ""
           }
          },
          "scene": {
           "xaxis": {
            "backgroundcolor": "#E5ECF6",
            "gridcolor": "white",
            "gridwidth": 2,
            "linecolor": "white",
            "showbackground": true,
            "ticks": "",
            "zerolinecolor": "white"
           },
           "yaxis": {
            "backgroundcolor": "#E5ECF6",
            "gridcolor": "white",
            "gridwidth": 2,
            "linecolor": "white",
            "showbackground": true,
            "ticks": "",
            "zerolinecolor": "white"
           },
           "zaxis": {
            "backgroundcolor": "#E5ECF6",
            "gridcolor": "white",
            "gridwidth": 2,
            "linecolor": "white",
            "showbackground": true,
            "ticks": "",
            "zerolinecolor": "white"
           }
          },
          "shapedefaults": {
           "line": {
            "color": "#2a3f5f"
           }
          },
          "ternary": {
           "aaxis": {
            "gridcolor": "white",
            "linecolor": "white",
            "ticks": ""
           },
           "baxis": {
            "gridcolor": "white",
            "linecolor": "white",
            "ticks": ""
           },
           "bgcolor": "#E5ECF6",
           "caxis": {
            "gridcolor": "white",
            "linecolor": "white",
            "ticks": ""
           }
          },
          "title": {
           "x": 0.05
          },
          "xaxis": {
           "automargin": true,
           "gridcolor": "white",
           "linecolor": "white",
           "ticks": "",
           "title": {
            "standoff": 15
           },
           "zerolinecolor": "white",
           "zerolinewidth": 2
          },
          "yaxis": {
           "automargin": true,
           "gridcolor": "white",
           "linecolor": "white",
           "ticks": "",
           "title": {
            "standoff": 15
           },
           "zerolinecolor": "white",
           "zerolinewidth": 2
          }
         }
        }
       }
      }
     },
     "metadata": {},
     "output_type": "display_data"
    }
   ],
   "source": [
    "fig = px.scatter_3d(\n",
    "    df, x=\"Bill Length Mm\", y=\"Bill Depth Mm\", z=\"Flipper Length Mm\",\n",
    "    color=\"Species\", symbol=\"Sex\", opacity=0.8\n",
    ")\n",
    "fig.show()"
   ]
  },
  {
   "cell_type": "code",
   "execution_count": 20,
   "id": "a8132db4",
   "metadata": {},
   "outputs": [
    {
     "data": {
      "application/vnd.plotly.v1+json": {
       "config": {
        "plotlyServerURL": "https://plot.ly"
       },
       "data": [
        {
         "dimensions": [
          {
           "label": "Species",
           "values": [
            "Adelie",
            "Adelie",
            "Adelie",
            "Adelie",
            "Adelie",
            "Adelie",
            "Adelie",
            "Adelie",
            "Adelie",
            "Adelie",
            "Adelie",
            "Adelie",
            "Adelie",
            "Adelie",
            "Adelie",
            "Adelie",
            "Adelie",
            "Adelie",
            "Adelie",
            "Adelie",
            "Adelie",
            "Adelie",
            "Adelie",
            "Adelie",
            "Adelie",
            "Adelie",
            "Adelie",
            "Adelie",
            "Adelie",
            "Adelie",
            "Adelie",
            "Adelie",
            "Adelie",
            "Adelie",
            "Adelie",
            "Adelie",
            "Adelie",
            "Adelie",
            "Adelie",
            "Adelie",
            "Adelie",
            "Adelie",
            "Adelie",
            "Adelie",
            "Adelie",
            "Adelie",
            "Adelie",
            "Adelie",
            "Adelie",
            "Adelie",
            "Adelie",
            "Adelie",
            "Adelie",
            "Adelie",
            "Adelie",
            "Adelie",
            "Adelie",
            "Adelie",
            "Adelie",
            "Adelie",
            "Adelie",
            "Adelie",
            "Adelie",
            "Adelie",
            "Adelie",
            "Adelie",
            "Adelie",
            "Adelie",
            "Adelie",
            "Adelie",
            "Adelie",
            "Adelie",
            "Adelie",
            "Adelie",
            "Adelie",
            "Adelie",
            "Adelie",
            "Adelie",
            "Adelie",
            "Adelie",
            "Adelie",
            "Adelie",
            "Adelie",
            "Adelie",
            "Adelie",
            "Adelie",
            "Adelie",
            "Adelie",
            "Adelie",
            "Adelie",
            "Adelie",
            "Adelie",
            "Adelie",
            "Adelie",
            "Adelie",
            "Adelie",
            "Adelie",
            "Adelie",
            "Adelie",
            "Adelie",
            "Adelie",
            "Adelie",
            "Adelie",
            "Adelie",
            "Adelie",
            "Adelie",
            "Adelie",
            "Adelie",
            "Adelie",
            "Adelie",
            "Adelie",
            "Adelie",
            "Adelie",
            "Adelie",
            "Adelie",
            "Adelie",
            "Adelie",
            "Adelie",
            "Adelie",
            "Adelie",
            "Adelie",
            "Adelie",
            "Adelie",
            "Adelie",
            "Adelie",
            "Adelie",
            "Adelie",
            "Adelie",
            "Adelie",
            "Adelie",
            "Adelie",
            "Adelie",
            "Adelie",
            "Adelie",
            "Adelie",
            "Adelie",
            "Adelie",
            "Adelie",
            "Adelie",
            "Adelie",
            "Adelie",
            "Adelie",
            "Adelie",
            "Adelie",
            "Adelie",
            "Adelie",
            "Adelie",
            "Adelie",
            "Adelie",
            "Adelie",
            "Adelie",
            "Adelie",
            "Chinstrap",
            "Chinstrap",
            "Chinstrap",
            "Chinstrap",
            "Chinstrap",
            "Chinstrap",
            "Chinstrap",
            "Chinstrap",
            "Chinstrap",
            "Chinstrap",
            "Chinstrap",
            "Chinstrap",
            "Chinstrap",
            "Chinstrap",
            "Chinstrap",
            "Chinstrap",
            "Chinstrap",
            "Chinstrap",
            "Chinstrap",
            "Chinstrap",
            "Chinstrap",
            "Chinstrap",
            "Chinstrap",
            "Chinstrap",
            "Chinstrap",
            "Chinstrap",
            "Chinstrap",
            "Chinstrap",
            "Chinstrap",
            "Chinstrap",
            "Chinstrap",
            "Chinstrap",
            "Chinstrap",
            "Chinstrap",
            "Chinstrap",
            "Chinstrap",
            "Chinstrap",
            "Chinstrap",
            "Chinstrap",
            "Chinstrap",
            "Chinstrap",
            "Chinstrap",
            "Chinstrap",
            "Chinstrap",
            "Chinstrap",
            "Chinstrap",
            "Chinstrap",
            "Chinstrap",
            "Chinstrap",
            "Chinstrap",
            "Chinstrap",
            "Chinstrap",
            "Chinstrap",
            "Chinstrap",
            "Chinstrap",
            "Chinstrap",
            "Chinstrap",
            "Chinstrap",
            "Chinstrap",
            "Chinstrap",
            "Chinstrap",
            "Chinstrap",
            "Chinstrap",
            "Chinstrap",
            "Chinstrap",
            "Chinstrap",
            "Chinstrap",
            "Chinstrap",
            "Gentoo",
            "Gentoo",
            "Gentoo",
            "Gentoo",
            "Gentoo",
            "Gentoo",
            "Gentoo",
            "Gentoo",
            "Gentoo",
            "Gentoo",
            "Gentoo",
            "Gentoo",
            "Gentoo",
            "Gentoo",
            "Gentoo",
            "Gentoo",
            "Gentoo",
            "Gentoo",
            "Gentoo",
            "Gentoo",
            "Gentoo",
            "Gentoo",
            "Gentoo",
            "Gentoo",
            "Gentoo",
            "Gentoo",
            "Gentoo",
            "Gentoo",
            "Gentoo",
            "Gentoo",
            "Gentoo",
            "Gentoo",
            "Gentoo",
            "Gentoo",
            "Gentoo",
            "Gentoo",
            "Gentoo",
            "Gentoo",
            "Gentoo",
            "Gentoo",
            "Gentoo",
            "Gentoo",
            "Gentoo",
            "Gentoo",
            "Gentoo",
            "Gentoo",
            "Gentoo",
            "Gentoo",
            "Gentoo",
            "Gentoo",
            "Gentoo",
            "Gentoo",
            "Gentoo",
            "Gentoo",
            "Gentoo",
            "Gentoo",
            "Gentoo",
            "Gentoo",
            "Gentoo",
            "Gentoo",
            "Gentoo",
            "Gentoo",
            "Gentoo",
            "Gentoo",
            "Gentoo",
            "Gentoo",
            "Gentoo",
            "Gentoo",
            "Gentoo",
            "Gentoo",
            "Gentoo",
            "Gentoo",
            "Gentoo",
            "Gentoo",
            "Gentoo",
            "Gentoo",
            "Gentoo",
            "Gentoo",
            "Gentoo",
            "Gentoo",
            "Gentoo",
            "Gentoo",
            "Gentoo",
            "Gentoo",
            "Gentoo",
            "Gentoo",
            "Gentoo",
            "Gentoo",
            "Gentoo",
            "Gentoo",
            "Gentoo",
            "Gentoo",
            "Gentoo",
            "Gentoo",
            "Gentoo",
            "Gentoo",
            "Gentoo",
            "Gentoo",
            "Gentoo",
            "Gentoo",
            "Gentoo",
            "Gentoo",
            "Gentoo",
            "Gentoo",
            "Gentoo",
            "Gentoo",
            "Gentoo",
            "Gentoo",
            "Gentoo",
            "Gentoo",
            "Gentoo",
            "Gentoo",
            "Gentoo",
            "Gentoo",
            "Gentoo",
            "Gentoo",
            "Gentoo",
            "Gentoo",
            "Gentoo",
            "Gentoo",
            "Gentoo",
            "Gentoo",
            "Gentoo",
            "Gentoo"
           ]
          },
          {
           "label": "Island",
           "values": [
            "Torgersen",
            "Torgersen",
            "Torgersen",
            "Torgersen",
            "Torgersen",
            "Torgersen",
            "Torgersen",
            "Torgersen",
            "Torgersen",
            "Torgersen",
            "Torgersen",
            "Torgersen",
            "Torgersen",
            "Torgersen",
            "Torgersen",
            "Torgersen",
            "Torgersen",
            "Torgersen",
            "Torgersen",
            "Torgersen",
            "Biscoe",
            "Biscoe",
            "Biscoe",
            "Biscoe",
            "Biscoe",
            "Biscoe",
            "Biscoe",
            "Biscoe",
            "Biscoe",
            "Biscoe",
            "Dream",
            "Dream",
            "Dream",
            "Dream",
            "Dream",
            "Dream",
            "Dream",
            "Dream",
            "Dream",
            "Dream",
            "Dream",
            "Dream",
            "Dream",
            "Dream",
            "Dream",
            "Dream",
            "Dream",
            "Dream",
            "Dream",
            "Dream",
            "Biscoe",
            "Biscoe",
            "Biscoe",
            "Biscoe",
            "Biscoe",
            "Biscoe",
            "Biscoe",
            "Biscoe",
            "Biscoe",
            "Biscoe",
            "Biscoe",
            "Biscoe",
            "Biscoe",
            "Biscoe",
            "Biscoe",
            "Biscoe",
            "Biscoe",
            "Biscoe",
            "Torgersen",
            "Torgersen",
            "Torgersen",
            "Torgersen",
            "Torgersen",
            "Torgersen",
            "Torgersen",
            "Torgersen",
            "Torgersen",
            "Torgersen",
            "Torgersen",
            "Torgersen",
            "Torgersen",
            "Torgersen",
            "Torgersen",
            "Torgersen",
            "Dream",
            "Dream",
            "Dream",
            "Dream",
            "Dream",
            "Dream",
            "Dream",
            "Dream",
            "Dream",
            "Dream",
            "Dream",
            "Dream",
            "Dream",
            "Dream",
            "Dream",
            "Dream",
            "Biscoe",
            "Biscoe",
            "Biscoe",
            "Biscoe",
            "Biscoe",
            "Biscoe",
            "Biscoe",
            "Biscoe",
            "Biscoe",
            "Biscoe",
            "Biscoe",
            "Biscoe",
            "Biscoe",
            "Biscoe",
            "Biscoe",
            "Biscoe",
            "Torgersen",
            "Torgersen",
            "Torgersen",
            "Torgersen",
            "Torgersen",
            "Torgersen",
            "Torgersen",
            "Torgersen",
            "Torgersen",
            "Torgersen",
            "Torgersen",
            "Torgersen",
            "Torgersen",
            "Torgersen",
            "Torgersen",
            "Torgersen",
            "Dream",
            "Dream",
            "Dream",
            "Dream",
            "Dream",
            "Dream",
            "Dream",
            "Dream",
            "Dream",
            "Dream",
            "Dream",
            "Dream",
            "Dream",
            "Dream",
            "Dream",
            "Dream",
            "Dream",
            "Dream",
            "Dream",
            "Dream",
            "Dream",
            "Dream",
            "Dream",
            "Dream",
            "Dream",
            "Dream",
            "Dream",
            "Dream",
            "Dream",
            "Dream",
            "Dream",
            "Dream",
            "Dream",
            "Dream",
            "Dream",
            "Dream",
            "Dream",
            "Dream",
            "Dream",
            "Dream",
            "Dream",
            "Dream",
            "Dream",
            "Dream",
            "Dream",
            "Dream",
            "Dream",
            "Dream",
            "Dream",
            "Dream",
            "Dream",
            "Dream",
            "Dream",
            "Dream",
            "Dream",
            "Dream",
            "Dream",
            "Dream",
            "Dream",
            "Dream",
            "Dream",
            "Dream",
            "Dream",
            "Dream",
            "Dream",
            "Dream",
            "Dream",
            "Dream",
            "Dream",
            "Dream",
            "Dream",
            "Dream",
            "Dream",
            "Dream",
            "Dream",
            "Dream",
            "Dream",
            "Dream",
            "Dream",
            "Dream",
            "Dream",
            "Dream",
            "Dream",
            "Dream",
            "Dream",
            "Dream",
            "Dream",
            "Dream",
            "Biscoe",
            "Biscoe",
            "Biscoe",
            "Biscoe",
            "Biscoe",
            "Biscoe",
            "Biscoe",
            "Biscoe",
            "Biscoe",
            "Biscoe",
            "Biscoe",
            "Biscoe",
            "Biscoe",
            "Biscoe",
            "Biscoe",
            "Biscoe",
            "Biscoe",
            "Biscoe",
            "Biscoe",
            "Biscoe",
            "Biscoe",
            "Biscoe",
            "Biscoe",
            "Biscoe",
            "Biscoe",
            "Biscoe",
            "Biscoe",
            "Biscoe",
            "Biscoe",
            "Biscoe",
            "Biscoe",
            "Biscoe",
            "Biscoe",
            "Biscoe",
            "Biscoe",
            "Biscoe",
            "Biscoe",
            "Biscoe",
            "Biscoe",
            "Biscoe",
            "Biscoe",
            "Biscoe",
            "Biscoe",
            "Biscoe",
            "Biscoe",
            "Biscoe",
            "Biscoe",
            "Biscoe",
            "Biscoe",
            "Biscoe",
            "Biscoe",
            "Biscoe",
            "Biscoe",
            "Biscoe",
            "Biscoe",
            "Biscoe",
            "Biscoe",
            "Biscoe",
            "Biscoe",
            "Biscoe",
            "Biscoe",
            "Biscoe",
            "Biscoe",
            "Biscoe",
            "Biscoe",
            "Biscoe",
            "Biscoe",
            "Biscoe",
            "Biscoe",
            "Biscoe",
            "Biscoe",
            "Biscoe",
            "Biscoe",
            "Biscoe",
            "Biscoe",
            "Biscoe",
            "Biscoe",
            "Biscoe",
            "Biscoe",
            "Biscoe",
            "Biscoe",
            "Biscoe",
            "Biscoe",
            "Biscoe",
            "Biscoe",
            "Biscoe",
            "Biscoe",
            "Biscoe",
            "Biscoe",
            "Biscoe",
            "Biscoe",
            "Biscoe",
            "Biscoe",
            "Biscoe",
            "Biscoe",
            "Biscoe",
            "Biscoe",
            "Biscoe",
            "Biscoe",
            "Biscoe",
            "Biscoe",
            "Biscoe",
            "Biscoe",
            "Biscoe",
            "Biscoe",
            "Biscoe",
            "Biscoe",
            "Biscoe",
            "Biscoe",
            "Biscoe",
            "Biscoe",
            "Biscoe",
            "Biscoe",
            "Biscoe",
            "Biscoe",
            "Biscoe",
            "Biscoe",
            "Biscoe",
            "Biscoe",
            "Biscoe",
            "Biscoe",
            "Biscoe",
            "Biscoe",
            "Biscoe"
           ]
          },
          {
           "label": "Sex",
           "values": [
            "Male",
            "Female",
            "Female",
            null,
            "Female",
            "Male",
            "Female",
            "Male",
            null,
            null,
            null,
            null,
            "Female",
            "Male",
            "Male",
            "Female",
            "Female",
            "Male",
            "Female",
            "Male",
            "Female",
            "Male",
            "Female",
            "Male",
            "Male",
            "Female",
            "Male",
            "Female",
            "Female",
            "Male",
            "Female",
            "Male",
            "Female",
            "Male",
            "Female",
            "Male",
            "Male",
            "Female",
            "Female",
            "Male",
            "Female",
            "Male",
            "Female",
            "Male",
            "Female",
            "Male",
            "Male",
            null,
            "Female",
            "Male",
            "Female",
            "Male",
            "Female",
            "Male",
            "Female",
            "Male",
            "Female",
            "Male",
            "Female",
            "Male",
            "Female",
            "Male",
            "Female",
            "Male",
            "Female",
            "Male",
            "Female",
            "Male",
            "Female",
            "Male",
            "Female",
            "Male",
            "Female",
            "Male",
            "Female",
            "Male",
            "Female",
            "Male",
            "Female",
            "Male",
            "Female",
            "Male",
            "Female",
            "Male",
            "Female",
            "Male",
            "Male",
            "Female",
            "Male",
            "Female",
            "Female",
            "Male",
            "Female",
            "Male",
            "Female",
            "Male",
            "Female",
            "Male",
            "Female",
            "Male",
            "Female",
            "Male",
            "Female",
            "Male",
            "Female",
            "Male",
            "Female",
            "Male",
            "Female",
            "Male",
            "Female",
            "Male",
            "Female",
            "Male",
            "Female",
            "Male",
            "Female",
            "Male",
            "Female",
            "Male",
            "Female",
            "Male",
            "Female",
            "Male",
            "Female",
            "Male",
            "Female",
            "Male",
            "Female",
            "Male",
            "Female",
            "Male",
            "Female",
            "Male",
            "Female",
            "Male",
            "Female",
            "Male",
            "Female",
            "Male",
            "Female",
            "Male",
            "Female",
            "Male",
            "Female",
            "Male",
            "Male",
            "Female",
            "Female",
            "Male",
            "Female",
            "Male",
            "Female",
            "Male",
            "Male",
            "Female",
            "Male",
            "Female",
            "Female",
            "Male",
            "Female",
            "Male",
            "Female",
            "Male",
            "Female",
            "Male",
            "Female",
            "Male",
            "Male",
            "Female",
            "Female",
            "Male",
            "Female",
            "Male",
            "Female",
            "Male",
            "Female",
            "Male",
            "Female",
            "Male",
            "Female",
            "Male",
            "Female",
            "Male",
            "Female",
            "Male",
            "Male",
            "Female",
            "Female",
            "Male",
            "Female",
            "Male",
            "Male",
            "Female",
            "Male",
            "Female",
            "Female",
            "Male",
            "Female",
            "Male",
            "Male",
            "Female",
            "Female",
            "Male",
            "Female",
            "Male",
            "Female",
            "Male",
            "Female",
            "Male",
            "Male",
            "Female",
            "Male",
            "Female",
            "Female",
            "Male",
            "Female",
            "Male",
            "Male",
            "Female",
            "Female",
            "Male",
            "Female",
            "Male",
            "Male",
            "Female",
            "Female",
            "Male",
            "Female",
            "Male",
            "Female",
            "Male",
            "Female",
            "Male",
            "Female",
            "Male",
            "Female",
            "Male",
            "Female",
            "Male",
            "Male",
            "Female",
            "Female",
            "Male",
            "Female",
            "Male",
            null,
            "Male",
            "Female",
            "Male",
            "Male",
            "Female",
            "Female",
            "Male",
            "Female",
            "Male",
            "Female",
            "Male",
            "Female",
            "Male",
            "Female",
            "Male",
            "Female",
            "Male",
            "Male",
            "Female",
            "Female",
            "Male",
            "Female",
            "Male",
            "Female",
            "Male",
            "Female",
            "Male",
            "Female",
            "Male",
            "Female",
            "Male",
            "Female",
            "Male",
            "Female",
            "Male",
            "Female",
            "Male",
            "Female",
            "Male",
            null,
            "Male",
            "Female",
            "Male",
            "Female",
            "Male",
            "Male",
            "Female",
            "Female",
            "Male",
            "Female",
            "Male",
            "Female",
            "Male",
            "Female",
            "Male",
            "Female",
            "Male",
            "Female",
            "Male",
            "Female",
            "Male",
            "Female",
            "Male",
            "Female",
            "Male",
            "Female",
            "Male",
            "Female",
            "Male",
            "Male",
            "Female",
            "Female",
            "Male",
            "Female",
            "Male",
            "Female",
            "Male",
            null,
            "Male",
            "Female",
            "Male",
            "Female",
            "Male",
            "Female",
            "Male",
            "Female",
            "Male",
            "Female",
            "Male",
            null,
            "Male",
            "Female",
            null,
            "Female",
            "Male",
            "Female",
            "Male"
           ]
          },
          {
           "label": "Mass Bucket",
           "values": [
            "Light",
            "Light",
            "Light",
            null,
            "Light",
            "Light",
            "Light",
            "Heavy",
            "Light",
            "Medium",
            "Light",
            "Light",
            "Light",
            "Light",
            "Medium",
            "Light",
            "Light",
            "Heavy",
            "Light",
            "Medium",
            "Light",
            "Light",
            "Light",
            "Medium",
            "Light",
            "Light",
            "Light",
            "Light",
            "Light",
            "Medium",
            "Light",
            "Medium",
            "Light",
            "Medium",
            "Light",
            "Medium",
            "Medium",
            "Light",
            "Light",
            "Heavy",
            "Light",
            "Medium",
            "Light",
            "Medium",
            "Light",
            "Heavy",
            "Light",
            "Light",
            "Light",
            "Medium",
            "Light",
            "Medium",
            "Light",
            "Medium",
            "Light",
            "Light",
            "Light",
            "Light",
            "Light",
            "Light",
            "Light",
            "Medium",
            "Light",
            "Medium",
            "Light",
            "Medium",
            "Light",
            "Medium",
            "Light",
            "Heavy",
            "Light",
            "Medium",
            "Light",
            "Medium",
            "Light",
            "Medium",
            "Light",
            "Medium",
            "Light",
            "Medium",
            "Light",
            "Heavy",
            "Light",
            "Medium",
            "Light",
            "Light",
            "Light",
            "Light",
            "Medium",
            "Light",
            "Light",
            "Medium",
            "Light",
            "Heavy",
            "Light",
            "Medium",
            "Light",
            "Medium",
            "Light",
            "Medium",
            "Light",
            "Heavy",
            "Light",
            "Medium",
            "Light",
            "Light",
            "Light",
            "Medium",
            "Light",
            "Heavy",
            "Medium",
            "Heavy",
            "Light",
            "Medium",
            "Medium",
            "Medium",
            "Light",
            "Light",
            "Light",
            "Light",
            "Light",
            "Light",
            "Light",
            "Medium",
            "Light",
            "Medium",
            "Light",
            "Medium",
            "Light",
            "Medium",
            "Light",
            "Light",
            "Light",
            "Heavy",
            "Light",
            "Medium",
            "Light",
            "Medium",
            "Light",
            "Medium",
            "Light",
            "Light",
            "Light",
            "Light",
            "Light",
            "Light",
            "Medium",
            "Light",
            "Light",
            "Light",
            "Light",
            "Medium",
            "Light",
            "Medium",
            "Light",
            "Light",
            "Light",
            "Medium",
            "Light",
            "Light",
            "Medium",
            "Light",
            "Light",
            "Light",
            "Light",
            "Medium",
            "Light",
            "Medium",
            "Light",
            "Light",
            "Light",
            "Medium",
            "Light",
            "Light",
            "Light",
            "Light",
            "Light",
            "Medium",
            "Light",
            "Light",
            "Light",
            "Heavy",
            "Light",
            "Medium",
            "Light",
            "Medium",
            "Light",
            "Medium",
            "Medium",
            "Heavy",
            "Light",
            "Heavy",
            "Medium",
            "Light",
            "Light",
            "Light",
            "Light",
            "Heavy",
            "Light",
            "Medium",
            "Light",
            "Light",
            "Light",
            "Medium",
            "Light",
            "Medium",
            "Light",
            "Light",
            "Light",
            "Medium",
            "Light",
            "Light",
            "Medium",
            "Light",
            "Light",
            "Medium",
            "Light",
            "Light",
            "Medium",
            "Light",
            "Heavy",
            "Heavy",
            "Heavy",
            "Heavy",
            "Heavy",
            "Heavy",
            "Heavy",
            "Heavy",
            "Medium",
            "Heavy",
            "Heavy",
            "Heavy",
            "Heavy",
            "Heavy",
            "Medium",
            "Heavy",
            "Medium",
            "Heavy",
            "Heavy",
            "Heavy",
            "Heavy",
            "Heavy",
            "Medium",
            "Heavy",
            "Heavy",
            "Heavy",
            "Medium",
            "Heavy",
            "Heavy",
            "Heavy",
            "Heavy",
            "Heavy",
            "Heavy",
            "Heavy",
            "Heavy",
            "Heavy",
            "Heavy",
            "Heavy",
            "Medium",
            "Heavy",
            "Medium",
            "Heavy",
            "Medium",
            "Heavy",
            "Heavy",
            "Heavy",
            "Medium",
            "Heavy",
            "Heavy",
            "Heavy",
            "Heavy",
            "Heavy",
            "Medium",
            "Heavy",
            "Heavy",
            "Heavy",
            "Medium",
            "Heavy",
            "Heavy",
            "Heavy",
            "Medium",
            "Heavy",
            "Medium",
            "Heavy",
            "Heavy",
            "Heavy",
            "Heavy",
            "Heavy",
            "Heavy",
            "Heavy",
            "Heavy",
            "Heavy",
            "Heavy",
            "Heavy",
            "Heavy",
            "Heavy",
            "Heavy",
            "Heavy",
            "Heavy",
            "Heavy",
            "Heavy",
            "Heavy",
            "Heavy",
            "Heavy",
            "Heavy",
            "Heavy",
            "Heavy",
            "Heavy",
            "Heavy",
            "Heavy",
            "Heavy",
            "Heavy",
            "Heavy",
            "Heavy",
            "Heavy",
            "Heavy",
            "Heavy",
            "Heavy",
            "Heavy",
            "Heavy",
            "Heavy",
            "Heavy",
            "Heavy",
            "Heavy",
            "Heavy",
            "Heavy",
            "Heavy",
            "Heavy",
            "Heavy",
            "Heavy",
            "Heavy",
            "Heavy",
            "Heavy",
            "Heavy",
            "Medium",
            "Heavy",
            "Heavy",
            "Heavy",
            "Heavy",
            null,
            "Heavy",
            "Heavy",
            "Heavy",
            "Heavy"
           ]
          }
         ],
         "domain": {
          "x": [
           0,
           1
          ],
          "y": [
           0,
           1
          ]
         },
         "line": {
          "color": {
           "bdata": "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",
           "dtype": "f8"
          },
          "coloraxis": "coloraxis"
         },
         "name": "",
         "type": "parcats"
        }
       ],
       "layout": {
        "coloraxis": {
         "colorbar": {
          "title": {
           "text": "Body Mass G"
          }
         },
         "colorscale": [
          [
           0,
           "#440154"
          ],
          [
           0.1111111111111111,
           "#482878"
          ],
          [
           0.2222222222222222,
           "#3e4989"
          ],
          [
           0.3333333333333333,
           "#31688e"
          ],
          [
           0.4444444444444444,
           "#26828e"
          ],
          [
           0.5555555555555556,
           "#1f9e89"
          ],
          [
           0.6666666666666666,
           "#35b779"
          ],
          [
           0.7777777777777778,
           "#6ece58"
          ],
          [
           0.8888888888888888,
           "#b5de2b"
          ],
          [
           1,
           "#fde725"
          ]
         ]
        },
        "legend": {
         "tracegroupgap": 0
        },
        "margin": {
         "t": 60
        },
        "template": {
         "data": {
          "bar": [
           {
            "error_x": {
             "color": "#2a3f5f"
            },
            "error_y": {
             "color": "#2a3f5f"
            },
            "marker": {
             "line": {
              "color": "#E5ECF6",
              "width": 0.5
             },
             "pattern": {
              "fillmode": "overlay",
              "size": 10,
              "solidity": 0.2
             }
            },
            "type": "bar"
           }
          ],
          "barpolar": [
           {
            "marker": {
             "line": {
              "color": "#E5ECF6",
              "width": 0.5
             },
             "pattern": {
              "fillmode": "overlay",
              "size": 10,
              "solidity": 0.2
             }
            },
            "type": "barpolar"
           }
          ],
          "carpet": [
           {
            "aaxis": {
             "endlinecolor": "#2a3f5f",
             "gridcolor": "white",
             "linecolor": "white",
             "minorgridcolor": "white",
             "startlinecolor": "#2a3f5f"
            },
            "baxis": {
             "endlinecolor": "#2a3f5f",
             "gridcolor": "white",
             "linecolor": "white",
             "minorgridcolor": "white",
             "startlinecolor": "#2a3f5f"
            },
            "type": "carpet"
           }
          ],
          "choropleth": [
           {
            "colorbar": {
             "outlinewidth": 0,
             "ticks": ""
            },
            "type": "choropleth"
           }
          ],
          "contour": [
           {
            "colorbar": {
             "outlinewidth": 0,
             "ticks": ""
            },
            "colorscale": [
             [
              0,
              "#0d0887"
             ],
             [
              0.1111111111111111,
              "#46039f"
             ],
             [
              0.2222222222222222,
              "#7201a8"
             ],
             [
              0.3333333333333333,
              "#9c179e"
             ],
             [
              0.4444444444444444,
              "#bd3786"
             ],
             [
              0.5555555555555556,
              "#d8576b"
             ],
             [
              0.6666666666666666,
              "#ed7953"
             ],
             [
              0.7777777777777778,
              "#fb9f3a"
             ],
             [
              0.8888888888888888,
              "#fdca26"
             ],
             [
              1,
              "#f0f921"
             ]
            ],
            "type": "contour"
           }
          ],
          "contourcarpet": [
           {
            "colorbar": {
             "outlinewidth": 0,
             "ticks": ""
            },
            "type": "contourcarpet"
           }
          ],
          "heatmap": [
           {
            "colorbar": {
             "outlinewidth": 0,
             "ticks": ""
            },
            "colorscale": [
             [
              0,
              "#0d0887"
             ],
             [
              0.1111111111111111,
              "#46039f"
             ],
             [
              0.2222222222222222,
              "#7201a8"
             ],
             [
              0.3333333333333333,
              "#9c179e"
             ],
             [
              0.4444444444444444,
              "#bd3786"
             ],
             [
              0.5555555555555556,
              "#d8576b"
             ],
             [
              0.6666666666666666,
              "#ed7953"
             ],
             [
              0.7777777777777778,
              "#fb9f3a"
             ],
             [
              0.8888888888888888,
              "#fdca26"
             ],
             [
              1,
              "#f0f921"
             ]
            ],
            "type": "heatmap"
           }
          ],
          "histogram": [
           {
            "marker": {
             "pattern": {
              "fillmode": "overlay",
              "size": 10,
              "solidity": 0.2
             }
            },
            "type": "histogram"
           }
          ],
          "histogram2d": [
           {
            "colorbar": {
             "outlinewidth": 0,
             "ticks": ""
            },
            "colorscale": [
             [
              0,
              "#0d0887"
             ],
             [
              0.1111111111111111,
              "#46039f"
             ],
             [
              0.2222222222222222,
              "#7201a8"
             ],
             [
              0.3333333333333333,
              "#9c179e"
             ],
             [
              0.4444444444444444,
              "#bd3786"
             ],
             [
              0.5555555555555556,
              "#d8576b"
             ],
             [
              0.6666666666666666,
              "#ed7953"
             ],
             [
              0.7777777777777778,
              "#fb9f3a"
             ],
             [
              0.8888888888888888,
              "#fdca26"
             ],
             [
              1,
              "#f0f921"
             ]
            ],
            "type": "histogram2d"
           }
          ],
          "histogram2dcontour": [
           {
            "colorbar": {
             "outlinewidth": 0,
             "ticks": ""
            },
            "colorscale": [
             [
              0,
              "#0d0887"
             ],
             [
              0.1111111111111111,
              "#46039f"
             ],
             [
              0.2222222222222222,
              "#7201a8"
             ],
             [
              0.3333333333333333,
              "#9c179e"
             ],
             [
              0.4444444444444444,
              "#bd3786"
             ],
             [
              0.5555555555555556,
              "#d8576b"
             ],
             [
              0.6666666666666666,
              "#ed7953"
             ],
             [
              0.7777777777777778,
              "#fb9f3a"
             ],
             [
              0.8888888888888888,
              "#fdca26"
             ],
             [
              1,
              "#f0f921"
             ]
            ],
            "type": "histogram2dcontour"
           }
          ],
          "mesh3d": [
           {
            "colorbar": {
             "outlinewidth": 0,
             "ticks": ""
            },
            "type": "mesh3d"
           }
          ],
          "parcoords": [
           {
            "line": {
             "colorbar": {
              "outlinewidth": 0,
              "ticks": ""
             }
            },
            "type": "parcoords"
           }
          ],
          "pie": [
           {
            "automargin": true,
            "type": "pie"
           }
          ],
          "scatter": [
           {
            "fillpattern": {
             "fillmode": "overlay",
             "size": 10,
             "solidity": 0.2
            },
            "type": "scatter"
           }
          ],
          "scatter3d": [
           {
            "line": {
             "colorbar": {
              "outlinewidth": 0,
              "ticks": ""
             }
            },
            "marker": {
             "colorbar": {
              "outlinewidth": 0,
              "ticks": ""
             }
            },
            "type": "scatter3d"
           }
          ],
          "scattercarpet": [
           {
            "marker": {
             "colorbar": {
              "outlinewidth": 0,
              "ticks": ""
             }
            },
            "type": "scattercarpet"
           }
          ],
          "scattergeo": [
           {
            "marker": {
             "colorbar": {
              "outlinewidth": 0,
              "ticks": ""
             }
            },
            "type": "scattergeo"
           }
          ],
          "scattergl": [
           {
            "marker": {
             "colorbar": {
              "outlinewidth": 0,
              "ticks": ""
             }
            },
            "type": "scattergl"
           }
          ],
          "scattermap": [
           {
            "marker": {
             "colorbar": {
              "outlinewidth": 0,
              "ticks": ""
             }
            },
            "type": "scattermap"
           }
          ],
          "scattermapbox": [
           {
            "marker": {
             "colorbar": {
              "outlinewidth": 0,
              "ticks": ""
             }
            },
            "type": "scattermapbox"
           }
          ],
          "scatterpolar": [
           {
            "marker": {
             "colorbar": {
              "outlinewidth": 0,
              "ticks": ""
             }
            },
            "type": "scatterpolar"
           }
          ],
          "scatterpolargl": [
           {
            "marker": {
             "colorbar": {
              "outlinewidth": 0,
              "ticks": ""
             }
            },
            "type": "scatterpolargl"
           }
          ],
          "scatterternary": [
           {
            "marker": {
             "colorbar": {
              "outlinewidth": 0,
              "ticks": ""
             }
            },
            "type": "scatterternary"
           }
          ],
          "surface": [
           {
            "colorbar": {
             "outlinewidth": 0,
             "ticks": ""
            },
            "colorscale": [
             [
              0,
              "#0d0887"
             ],
             [
              0.1111111111111111,
              "#46039f"
             ],
             [
              0.2222222222222222,
              "#7201a8"
             ],
             [
              0.3333333333333333,
              "#9c179e"
             ],
             [
              0.4444444444444444,
              "#bd3786"
             ],
             [
              0.5555555555555556,
              "#d8576b"
             ],
             [
              0.6666666666666666,
              "#ed7953"
             ],
             [
              0.7777777777777778,
              "#fb9f3a"
             ],
             [
              0.8888888888888888,
              "#fdca26"
             ],
             [
              1,
              "#f0f921"
             ]
            ],
            "type": "surface"
           }
          ],
          "table": [
           {
            "cells": {
             "fill": {
              "color": "#EBF0F8"
             },
             "line": {
              "color": "white"
             }
            },
            "header": {
             "fill": {
              "color": "#C8D4E3"
             },
             "line": {
              "color": "white"
             }
            },
            "type": "table"
           }
          ]
         },
         "layout": {
          "annotationdefaults": {
           "arrowcolor": "#2a3f5f",
           "arrowhead": 0,
           "arrowwidth": 1
          },
          "autotypenumbers": "strict",
          "coloraxis": {
           "colorbar": {
            "outlinewidth": 0,
            "ticks": ""
           }
          },
          "colorscale": {
           "diverging": [
            [
             0,
             "#8e0152"
            ],
            [
             0.1,
             "#c51b7d"
            ],
            [
             0.2,
             "#de77ae"
            ],
            [
             0.3,
             "#f1b6da"
            ],
            [
             0.4,
             "#fde0ef"
            ],
            [
             0.5,
             "#f7f7f7"
            ],
            [
             0.6,
             "#e6f5d0"
            ],
            [
             0.7,
             "#b8e186"
            ],
            [
             0.8,
             "#7fbc41"
            ],
            [
             0.9,
             "#4d9221"
            ],
            [
             1,
             "#276419"
            ]
           ],
           "sequential": [
            [
             0,
             "#0d0887"
            ],
            [
             0.1111111111111111,
             "#46039f"
            ],
            [
             0.2222222222222222,
             "#7201a8"
            ],
            [
             0.3333333333333333,
             "#9c179e"
            ],
            [
             0.4444444444444444,
             "#bd3786"
            ],
            [
             0.5555555555555556,
             "#d8576b"
            ],
            [
             0.6666666666666666,
             "#ed7953"
            ],
            [
             0.7777777777777778,
             "#fb9f3a"
            ],
            [
             0.8888888888888888,
             "#fdca26"
            ],
            [
             1,
             "#f0f921"
            ]
           ],
           "sequentialminus": [
            [
             0,
             "#0d0887"
            ],
            [
             0.1111111111111111,
             "#46039f"
            ],
            [
             0.2222222222222222,
             "#7201a8"
            ],
            [
             0.3333333333333333,
             "#9c179e"
            ],
            [
             0.4444444444444444,
             "#bd3786"
            ],
            [
             0.5555555555555556,
             "#d8576b"
            ],
            [
             0.6666666666666666,
             "#ed7953"
            ],
            [
             0.7777777777777778,
             "#fb9f3a"
            ],
            [
             0.8888888888888888,
             "#fdca26"
            ],
            [
             1,
             "#f0f921"
            ]
           ]
          },
          "colorway": [
           "#636efa",
           "#EF553B",
           "#00cc96",
           "#ab63fa",
           "#FFA15A",
           "#19d3f3",
           "#FF6692",
           "#B6E880",
           "#FF97FF",
           "#FECB52"
          ],
          "font": {
           "color": "#2a3f5f"
          },
          "geo": {
           "bgcolor": "white",
           "lakecolor": "white",
           "landcolor": "#E5ECF6",
           "showlakes": true,
           "showland": true,
           "subunitcolor": "white"
          },
          "hoverlabel": {
           "align": "left"
          },
          "hovermode": "closest",
          "mapbox": {
           "style": "light"
          },
          "paper_bgcolor": "white",
          "plot_bgcolor": "#E5ECF6",
          "polar": {
           "angularaxis": {
            "gridcolor": "white",
            "linecolor": "white",
            "ticks": ""
           },
           "bgcolor": "#E5ECF6",
           "radialaxis": {
            "gridcolor": "white",
            "linecolor": "white",
            "ticks": ""
           }
          },
          "scene": {
           "xaxis": {
            "backgroundcolor": "#E5ECF6",
            "gridcolor": "white",
            "gridwidth": 2,
            "linecolor": "white",
            "showbackground": true,
            "ticks": "",
            "zerolinecolor": "white"
           },
           "yaxis": {
            "backgroundcolor": "#E5ECF6",
            "gridcolor": "white",
            "gridwidth": 2,
            "linecolor": "white",
            "showbackground": true,
            "ticks": "",
            "zerolinecolor": "white"
           },
           "zaxis": {
            "backgroundcolor": "#E5ECF6",
            "gridcolor": "white",
            "gridwidth": 2,
            "linecolor": "white",
            "showbackground": true,
            "ticks": "",
            "zerolinecolor": "white"
           }
          },
          "shapedefaults": {
           "line": {
            "color": "#2a3f5f"
           }
          },
          "ternary": {
           "aaxis": {
            "gridcolor": "white",
            "linecolor": "white",
            "ticks": ""
           },
           "baxis": {
            "gridcolor": "white",
            "linecolor": "white",
            "ticks": ""
           },
           "bgcolor": "#E5ECF6",
           "caxis": {
            "gridcolor": "white",
            "linecolor": "white",
            "ticks": ""
           }
          },
          "title": {
           "x": 0.05
          },
          "xaxis": {
           "automargin": true,
           "gridcolor": "white",
           "linecolor": "white",
           "ticks": "",
           "title": {
            "standoff": 15
           },
           "zerolinecolor": "white",
           "zerolinewidth": 2
          },
          "yaxis": {
           "automargin": true,
           "gridcolor": "white",
           "linecolor": "white",
           "ticks": "",
           "title": {
            "standoff": 15
           },
           "zerolinecolor": "white",
           "zerolinewidth": 2
          }
         }
        }
       }
      }
     },
     "metadata": {},
     "output_type": "display_data"
    }
   ],
   "source": [
    "# Parallel Categories\n",
    "df[\"Mass Bucket\"] = pd.cut(\n",
    "    df[\"Body Mass G\"],\n",
    "    bins=[0, 3800, 4400, 9999],\n",
    "    labels=[\"Light\", \"Medium\", \"Heavy\"])\n",
    "px.parallel_categories(\n",
    "    df, dimensions=[\"Species\", \"Island\", \"Sex\", \"Mass Bucket\"],\n",
    "    color=\"Body Mass G\", color_continuous_scale=px.colors.sequential.Viridis\n",
    ").show()"
   ]
  },
  {
   "cell_type": "code",
   "execution_count": 25,
   "id": "6101fbfc",
   "metadata": {},
   "outputs": [
    {
     "data": {
      "application/vnd.plotly.v1+json": {
       "config": {
        "plotlyServerURL": "https://plot.ly"
       },
       "data": [
        {
         "hovertemplate": "<b>%{text}</b><br>Flipper: %{x} mm<br>Mass: %{y} g<extra></extra>",
         "mode": "markers",
         "name": "Adelie",
         "text": [
          "Torgersen | Male",
          "Torgersen | Female",
          "Torgersen | Female",
          "Torgersen | nan",
          "Torgersen | Female",
          "Torgersen | Male",
          "Torgersen | Female",
          "Torgersen | Male",
          "Torgersen | nan",
          "Torgersen | nan",
          "Torgersen | nan",
          "Torgersen | nan",
          "Torgersen | Female",
          "Torgersen | Male",
          "Torgersen | Male",
          "Torgersen | Female",
          "Torgersen | Female",
          "Torgersen | Male",
          "Torgersen | Female",
          "Torgersen | Male",
          "Biscoe | Female",
          "Biscoe | Male",
          "Biscoe | Female",
          "Biscoe | Male",
          "Biscoe | Male",
          "Biscoe | Female",
          "Biscoe | Male",
          "Biscoe | Female",
          "Biscoe | Female",
          "Biscoe | Male",
          "Dream | Female",
          "Dream | Male",
          "Dream | Female",
          "Dream | Male",
          "Dream | Female",
          "Dream | Male",
          "Dream | Male",
          "Dream | Female",
          "Dream | Female",
          "Dream | Male",
          "Dream | Female",
          "Dream | Male",
          "Dream | Female",
          "Dream | Male",
          "Dream | Female",
          "Dream | Male",
          "Dream | Male",
          "Dream | nan",
          "Dream | Female",
          "Dream | Male",
          "Biscoe | Female",
          "Biscoe | Male",
          "Biscoe | Female",
          "Biscoe | Male",
          "Biscoe | Female",
          "Biscoe | Male",
          "Biscoe | Female",
          "Biscoe | Male",
          "Biscoe | Female",
          "Biscoe | Male",
          "Biscoe | Female",
          "Biscoe | Male",
          "Biscoe | Female",
          "Biscoe | Male",
          "Biscoe | Female",
          "Biscoe | Male",
          "Biscoe | Female",
          "Biscoe | Male",
          "Torgersen | Female",
          "Torgersen | Male",
          "Torgersen | Female",
          "Torgersen | Male",
          "Torgersen | Female",
          "Torgersen | Male",
          "Torgersen | Female",
          "Torgersen | Male",
          "Torgersen | Female",
          "Torgersen | Male",
          "Torgersen | Female",
          "Torgersen | Male",
          "Torgersen | Female",
          "Torgersen | Male",
          "Torgersen | Female",
          "Torgersen | Male",
          "Dream | Female",
          "Dream | Male",
          "Dream | Male",
          "Dream | Female",
          "Dream | Male",
          "Dream | Female",
          "Dream | Female",
          "Dream | Male",
          "Dream | Female",
          "Dream | Male",
          "Dream | Female",
          "Dream | Male",
          "Dream | Female",
          "Dream | Male",
          "Dream | Female",
          "Dream | Male",
          "Biscoe | Female",
          "Biscoe | Male",
          "Biscoe | Female",
          "Biscoe | Male",
          "Biscoe | Female",
          "Biscoe | Male",
          "Biscoe | Female",
          "Biscoe | Male",
          "Biscoe | Female",
          "Biscoe | Male",
          "Biscoe | Female",
          "Biscoe | Male",
          "Biscoe | Female",
          "Biscoe | Male",
          "Biscoe | Female",
          "Biscoe | Male",
          "Torgersen | Female",
          "Torgersen | Male",
          "Torgersen | Female",
          "Torgersen | Male",
          "Torgersen | Female",
          "Torgersen | Male",
          "Torgersen | Female",
          "Torgersen | Male",
          "Torgersen | Female",
          "Torgersen | Male",
          "Torgersen | Female",
          "Torgersen | Male",
          "Torgersen | Female",
          "Torgersen | Male",
          "Torgersen | Female",
          "Torgersen | Male",
          "Dream | Female",
          "Dream | Male",
          "Dream | Female",
          "Dream | Male",
          "Dream | Female",
          "Dream | Male",
          "Dream | Female",
          "Dream | Male",
          "Dream | Female",
          "Dream | Male",
          "Dream | Female",
          "Dream | Male",
          "Dream | Female",
          "Dream | Male",
          "Dream | Male",
          "Dream | Female",
          "Dream | Female",
          "Dream | Male",
          "Dream | Female",
          "Dream | Male"
         ],
         "type": "scatter",
         "x": {
          "bdata": "AAAAAACgZkAAAAAAAEBnQAAAAAAAYGhAAAAAAAAA+H8AAAAAACBoQAAAAAAAwGdAAAAAAACgZkAAAAAAAGBoQAAAAAAAIGhAAAAAAADAZ0AAAAAAAEBnQAAAAAAAgGZAAAAAAADAZkAAAAAAAOBnQAAAAAAAwGhAAAAAAAAgZ0AAAAAAAGBoQAAAAAAAoGhAAAAAAAAAZ0AAAAAAAEBoQAAAAAAAwGVAAAAAAACAZkAAAAAAAKBnQAAAAAAAIGdAAAAAAACAZkAAAAAAAGBnQAAAAAAA4GZAAAAAAABgZ0AAAAAAAIBlQAAAAAAAgGZAAAAAAABAZkAAAAAAAEBmQAAAAAAAgGdAAAAAAAAAZ0AAAAAAAGBoQAAAAAAAgGhAAAAAAADAZ0AAAAAAAIBmQAAAAAAAoGZAAAAAAAAAZ0AAAAAAAMBmQAAAAAAAYGhAAAAAAABAZ0AAAAAAAIBoQAAAAAAAIGdAAAAAAADAZ0AAAAAAAMBmQAAAAAAAYGZAAAAAAADAZ0AAAAAAAOBnQAAAAAAAQGdAAAAAAACAZ0AAAAAAAMBnQAAAAAAAAGlAAAAAAABgZ0AAAAAAAOBnQAAAAAAAQGdAAAAAAAAgaEAAAAAAAKBmQAAAAAAAQGhAAAAAAAAgZ0AAAAAAAGBoQAAAAAAAIGdAAAAAAAAAaEAAAAAAAABnQAAAAAAAAGhAAAAAAABgaEAAAAAAAIBnQAAAAAAAwGdAAAAAAADAaEAAAAAAAMBnQAAAAAAAwGdAAAAAAACAaEAAAAAAAKBoQAAAAAAAwGdAAAAAAABgaEAAAAAAAOBnQAAAAAAAAGdAAAAAAABgZ0AAAAAAAGBoQAAAAAAAoGdAAAAAAACAaEAAAAAAAGBnQAAAAAAAIGhAAAAAAADgZ0AAAAAAAEBoQAAAAAAAwGdAAAAAAACgZ0AAAAAAAKBnQAAAAAAAwGdAAAAAAABAaUAAAAAAAKBpQAAAAAAAIGdAAAAAAABAZ0AAAAAAAGBnQAAAAAAAAGpAAAAAAADAZ0AAAAAAAIBoQAAAAAAAQGZAAAAAAAAAaEAAAAAAAABoQAAAAAAAYGlAAAAAAADgZkAAAAAAAMBnQAAAAAAAIGhAAAAAAAAAZ0AAAAAAAOBoQAAAAAAAwGdAAAAAAACgZkAAAAAAAKBoQAAAAAAAwGhAAAAAAADgZ0AAAAAAACBoQAAAAAAAoGhAAAAAAADgZ0AAAAAAAIBoQAAAAAAAgGdAAAAAAADgaEAAAAAAAKBnQAAAAAAAoGdAAAAAAABgZ0AAAAAAAMBoQAAAAAAAAGZAAAAAAABAaUAAAAAAAEBnQAAAAAAA4GhAAAAAAADgZ0AAAAAAAGBoQAAAAAAA4GdAAAAAAABAakAAAAAAAMBnQAAAAAAAoGhAAAAAAAAgaEAAAAAAAOBoQAAAAAAAYGdAAAAAAADAZ0AAAAAAAOBnQAAAAAAAAGlAAAAAAAAgZ0AAAAAAACBoQAAAAAAAIGhAAAAAAABgZ0AAAAAAAIBnQAAAAAAAwGdAAAAAAAAAaEAAAAAAACBnQAAAAAAAwGdAAAAAAAAAZ0AAAAAAAGBoQAAAAAAAIGhAAAAAAABgZ0AAAAAAACBpQA==",
          "dtype": "f8"
         },
         "y": {
          "bdata": "AAAAAABMrUAAAAAAALCtQAAAAAAAZKlAAAAAAAAA+H8AAAAAAPSqQAAAAAAAhKxAAAAAAABSrEAAAAAAAEOyQAAAAAAAJqtAAAAAAACasEAAAAAAAMipQAAAAAAA6KxAAAAAAAAAqUAAAAAAALCtQAAAAAAAMLFAAAAAAADorEAAAAAAAPSqQAAAAAAAlLFAAAAAAAD6qUAAAAAAAGiwQAAAAAAAkKpAAAAAAAAgrEAAAAAAALCtQAAAAAAA3K5AAAAAAACwrUAAAAAAALCtQAAAAAAAvKtAAAAAAAAAqUAAAAAAAJyoQAAAAAAA3K5AAAAAAABkqUAAAAAAAHiuQAAAAAAAyKlAAAAAAAB4rkAAAAAAAPqpQAAAAAAANrBAAAAAAADcrkAAAAAAALyrQAAAAAAAyKlAAAAAAAAqskAAAAAAAJyoQAAAAAAAeK5AAAAAAAA4qEAAAAAAADCxQAAAAAAAcKdAAAAAAAD4sUAAAAAAAMKqQAAAAAAAPqdAAAAAAAD0qkAAAAAAADawQAAAAAAAWKtAAAAAAADMsEAAAAAAAPSqQAAAAAAApK9AAAAAAACopkAAAAAAAOisQAAAAAAAvKtAAAAAAACwrUAAAAAAAESmQAAAAAAATK1AAAAAAACcqEAAAAAAADCxQAAAAAAAIKxAAAAAAACkr0AAAAAAAESmQAAAAAAA3K5AAAAAAAAsqkAAAAAAAASwQAAAAAAA1KdAAAAAAABisUAAAAAAACCsQAAAAAAAeK5AAAAAAAC8q0AAAAAAADawQAAAAAAA6KxAAAAAAACasEAAAAAAAOisQAAAAAAAeK5AAAAAAAC8q0AAAAAAAECvQAAAAAAAAKlAAAAAAABcskAAAAAAALCtQAAAAAAAaLBAAAAAAAAsqkAAAAAAALyrQAAAAAAAsK1AAAAAAABYq0AAAAAAANyuQAAAAAAAIKxAAAAAAAC8q0AAAAAAAMywQAAAAAAAkKpAAAAAAABisUAAAAAAAMipQAAAAAAAzLBAAAAAAADorEAAAAAAAP6wQAAAAAAAqKZAAAAAAAAEsEAAAAAAABqtQAAAAAAAdbJAAAAAAAAGqEAAAAAAAJqwQAAAAAAA2qZAAAAAAAC8q0AAAAAAAEytQAAAAAAAeK5AAAAAAADOqEAAAAAAAKeyQAAAAAAA4q1AAAAAAAD4sUAAAAAAAACpQAAAAAAAs7BAAAAAAAB4rkAAAAAAANavQAAAAAAAqKZAAAAAAAB+rUAAAAAAACyqQAAAAAAA+qlAAAAAAACcqEAAAAAAAFirQAAAAAAA9KpAAAAAAABGrkAAAAAAANSnQAAAAAAAQK9AAAAAAACWqUAAAAAAAMywQAAAAAAA1KdAAAAAAABAr0AAAAAAAPqpQAAAAAAAWKtAAAAAAABYq0AAAAAAAHuxQAAAAAAAwqpAAAAAAAB4rkAAAAAAAM6oQAAAAAAADq9AAAAAAACQqkAAAAAAAJqwQAAAAAAAkKpAAAAAAAAmq0AAAAAAANSnQAAAAAAAGq1AAAAAAABwp0AAAAAAAISsQAAAAAAAmrBAAAAAAAAmq0AAAAAAAPSqQAAAAAAATK1AAAAAAADorEAAAAAAAECvQA==",
          "dtype": "f8"
         }
        },
        {
         "hovertemplate": "<b>%{text}</b><br>Flipper: %{x} mm<br>Mass: %{y} g<extra></extra>",
         "mode": "markers",
         "name": "Chinstrap",
         "text": [
          "Dream | Female",
          "Dream | Male",
          "Dream | Male",
          "Dream | Female",
          "Dream | Male",
          "Dream | Female",
          "Dream | Female",
          "Dream | Male",
          "Dream | Female",
          "Dream | Male",
          "Dream | Female",
          "Dream | Male",
          "Dream | Female",
          "Dream | Male",
          "Dream | Female",
          "Dream | Male",
          "Dream | Male",
          "Dream | Female",
          "Dream | Female",
          "Dream | Male",
          "Dream | Female",
          "Dream | Male",
          "Dream | Female",
          "Dream | Male",
          "Dream | Female",
          "Dream | Male",
          "Dream | Female",
          "Dream | Male",
          "Dream | Female",
          "Dream | Male",
          "Dream | Female",
          "Dream | Male",
          "Dream | Female",
          "Dream | Male",
          "Dream | Male",
          "Dream | Female",
          "Dream | Female",
          "Dream | Male",
          "Dream | Female",
          "Dream | Male",
          "Dream | Male",
          "Dream | Female",
          "Dream | Male",
          "Dream | Female",
          "Dream | Female",
          "Dream | Male",
          "Dream | Female",
          "Dream | Male",
          "Dream | Male",
          "Dream | Female",
          "Dream | Female",
          "Dream | Male",
          "Dream | Female",
          "Dream | Male",
          "Dream | Female",
          "Dream | Male",
          "Dream | Female",
          "Dream | Male",
          "Dream | Male",
          "Dream | Female",
          "Dream | Male",
          "Dream | Female",
          "Dream | Female",
          "Dream | Male",
          "Dream | Female",
          "Dream | Male",
          "Dream | Male",
          "Dream | Female"
         ],
         "type": "scatter",
         "x": {
          "bdata": "AAAAAAAAaEAAAAAAAIBoQAAAAAAAIGhAAAAAAACAZ0AAAAAAAKBoQAAAAAAAwGhAAAAAAABAZkAAAAAAAKBoQAAAAAAAYGhAAAAAAADAaEAAAAAAACBoQAAAAAAAQGhAAAAAAAAgZ0AAAAAAACBpQAAAAAAAwGdAAAAAAAAgaUAAAAAAAKBoQAAAAAAAoGZAAAAAAADAZ0AAAAAAAGBoQAAAAAAAoGZAAAAAAADgZ0AAAAAAAGBnQAAAAAAAIGhAAAAAAABgaEAAAAAAAKBoQAAAAAAAAGlAAAAAAAAAaUAAAAAAAOBnQAAAAAAAoGlAAAAAAABgZ0AAAAAAACBpQAAAAAAAYGdAAAAAAABgaUAAAAAAAGBoQAAAAAAA4GhAAAAAAABgaEAAAAAAAEBqQAAAAAAAAGhAAAAAAACgaUAAAAAAAEBqQAAAAAAAYGdAAAAAAACAaEAAAAAAAIBoQAAAAAAAgGhAAAAAAAAgaUAAAAAAAMBnQAAAAAAAgGpAAAAAAABgZ0AAAAAAAMBoQAAAAAAA4GhAAAAAAAAgaUAAAAAAACBoQAAAAAAAYGlAAAAAAABgZ0AAAAAAAKBoQAAAAAAA4GdAAAAAAABgaUAAAAAAAEBpQAAAAAAAQGhAAAAAAADAaUAAAAAAAKBnQAAAAAAAYGhAAAAAAADgaUAAAAAAAEBpQAAAAAAAIGhAAAAAAABAakAAAAAAAMBoQA==",
          "dtype": "f8"
         },
         "y": {
          "bdata": "AAAAAABYq0AAAAAAAHiuQAAAAAAAhKxAAAAAAACKq0AAAAAAABqtQAAAAAAA3K5AAAAAAABkqUAAAAAAAEytQAAAAAAANrBAAAAAAADorEAAAAAAALCtQAAAAAAAfq1AAAAAAADorEAAAAAAAKSvQAAAAAAA7qtAAAAAAACkr0AAAAAAAMipQAAAAAAA6KxAAAAAAAD0qkAAAAAAADCxQAAAAAAAIKxAAAAAAACQqkAAAAAAAKimQAAAAAAAsK1AAAAAAADIqUAAAAAAADawQAAAAAAAkKpAAAAAAACwrUAAAAAAAOisQAAAAAAAxrFAAAAAAAAAqUAAAAAAAMywQAAAAAAALKpAAAAAAAAEsEAAAAAAACCsQAAAAAAAeK5AAAAAAAAUrkAAAAAAAMCyQAAAAAAAGKVAAAAAAACUsUAAAAAAANyuQAAAAAAAhKxAAAAAAAC8q0AAAAAAAFirQAAAAAAAtqxAAAAAAABisUAAAAAAAJCqQAAAAAAAzLBAAAAAAABkqUAAAAAAALasQAAAAAAA+qlAAAAAAADcrkAAAAAAACCsQAAAAAAApK9AAAAAAAAsqkAAAAAAAPSqQAAAAAAAZKlAAAAAAACkr0AAAAAAALCtQAAAAAAAiqtAAAAAAADcrkAAAAAAAISsQAAAAAAAhKxAAAAAAABAr0AAAAAAAJCqQAAAAAAAfq1AAAAAAAAEsEAAAAAAAH6tQA==",
          "dtype": "f8"
         }
        },
        {
         "hovertemplate": "<b>%{text}</b><br>Flipper: %{x} mm<br>Mass: %{y} g<extra></extra>",
         "mode": "markers",
         "name": "Gentoo",
         "text": [
          "Biscoe | Female",
          "Biscoe | Male",
          "Biscoe | Female",
          "Biscoe | Male",
          "Biscoe | Male",
          "Biscoe | Female",
          "Biscoe | Female",
          "Biscoe | Male",
          "Biscoe | Female",
          "Biscoe | Male",
          "Biscoe | Female",
          "Biscoe | Male",
          "Biscoe | Female",
          "Biscoe | Male",
          "Biscoe | Female",
          "Biscoe | Male",
          "Biscoe | Female",
          "Biscoe | Male",
          "Biscoe | Female",
          "Biscoe | Male",
          "Biscoe | Male",
          "Biscoe | Female",
          "Biscoe | Female",
          "Biscoe | Male",
          "Biscoe | Female",
          "Biscoe | Male",
          "Biscoe | nan",
          "Biscoe | Male",
          "Biscoe | Female",
          "Biscoe | Male",
          "Biscoe | Male",
          "Biscoe | Female",
          "Biscoe | Female",
          "Biscoe | Male",
          "Biscoe | Female",
          "Biscoe | Male",
          "Biscoe | Female",
          "Biscoe | Male",
          "Biscoe | Female",
          "Biscoe | Male",
          "Biscoe | Female",
          "Biscoe | Male",
          "Biscoe | Female",
          "Biscoe | Male",
          "Biscoe | Male",
          "Biscoe | Female",
          "Biscoe | Female",
          "Biscoe | Male",
          "Biscoe | Female",
          "Biscoe | Male",
          "Biscoe | Female",
          "Biscoe | Male",
          "Biscoe | Female",
          "Biscoe | Male",
          "Biscoe | Female",
          "Biscoe | Male",
          "Biscoe | Female",
          "Biscoe | Male",
          "Biscoe | Female",
          "Biscoe | Male",
          "Biscoe | Female",
          "Biscoe | Male",
          "Biscoe | Female",
          "Biscoe | Male",
          "Biscoe | Female",
          "Biscoe | Male",
          "Biscoe | nan",
          "Biscoe | Male",
          "Biscoe | Female",
          "Biscoe | Male",
          "Biscoe | Female",
          "Biscoe | Male",
          "Biscoe | Male",
          "Biscoe | Female",
          "Biscoe | Female",
          "Biscoe | Male",
          "Biscoe | Female",
          "Biscoe | Male",
          "Biscoe | Female",
          "Biscoe | Male",
          "Biscoe | Female",
          "Biscoe | Male",
          "Biscoe | Female",
          "Biscoe | Male",
          "Biscoe | Female",
          "Biscoe | Male",
          "Biscoe | Female",
          "Biscoe | Male",
          "Biscoe | Female",
          "Biscoe | Male",
          "Biscoe | Female",
          "Biscoe | Male",
          "Biscoe | Female",
          "Biscoe | Male",
          "Biscoe | Female",
          "Biscoe | Male",
          "Biscoe | Male",
          "Biscoe | Female",
          "Biscoe | Female",
          "Biscoe | Male",
          "Biscoe | Female",
          "Biscoe | Male",
          "Biscoe | Female",
          "Biscoe | Male",
          "Biscoe | nan",
          "Biscoe | Male",
          "Biscoe | Female",
          "Biscoe | Male",
          "Biscoe | Female",
          "Biscoe | Male",
          "Biscoe | Female",
          "Biscoe | Male",
          "Biscoe | Female",
          "Biscoe | Male",
          "Biscoe | Female",
          "Biscoe | Male",
          "Biscoe | nan",
          "Biscoe | Male",
          "Biscoe | Female",
          "Biscoe | nan",
          "Biscoe | Female",
          "Biscoe | Male",
          "Biscoe | Female",
          "Biscoe | Male"
         ],
         "type": "scatter",
         "x": {
          "bdata": "AAAAAABgakAAAAAAAMBsQAAAAAAAQGpAAAAAAABAa0AAAAAAAOBqQAAAAAAAQGpAAAAAAABgakAAAAAAAGBrQAAAAAAAIGpAAAAAAADgakAAAAAAAMBqQAAAAAAAAGtAAAAAAADAakAAAAAAAKBqQAAAAAAAQGpAAAAAAAAga0AAAAAAAEBqQAAAAAAAoGtAAAAAAAAgakAAAAAAAMBrQAAAAAAAQGtAAAAAAADgakAAAAAAAKBqQAAAAAAA4GpAAAAAAADgakAAAAAAAOBqQAAAAAAAAGtAAAAAAADgakAAAAAAAEBqQAAAAAAAgGtAAAAAAADAa0AAAAAAACBqQAAAAAAA4GlAAAAAAADAbEAAAAAAAIBrQAAAAAAAgGtAAAAAAACgakAAAAAAAGBrQAAAAAAAAGpAAAAAAAAAakAAAAAAAABqQAAAAAAAIGxAAAAAAABAakAAAAAAAABrQAAAAAAAwGtAAAAAAAAga0AAAAAAAEBqQAAAAAAAIGxAAAAAAACgakAAAAAAAOBqQAAAAAAAQGpAAAAAAACAa0AAAAAAAEBqQAAAAAAAIGxAAAAAAAAga0AAAAAAAIBrQAAAAAAAAGpAAAAAAACAa0AAAAAAAABqQAAAAAAAAGxAAAAAAAAAakAAAAAAAKBrQAAAAAAAwGpAAAAAAADgbEAAAAAAAGBrQAAAAAAAwGxAAAAAAADAakAAAAAAAKBsQAAAAAAAgGtAAAAAAADga0AAAAAAAABrQAAAAAAAoGtAAAAAAACga0AAAAAAACBrQAAAAAAAAGtAAAAAAADAbEAAAAAAACBqQAAAAAAAgGtAAAAAAADgakAAAAAAAOBrQAAAAAAAgGpAAAAAAACga0AAAAAAAIBqQAAAAAAAAGxAAAAAAACAakAAAAAAAIBsQAAAAAAAQGtAAAAAAABAa0AAAAAAAIBqQAAAAAAAwGxAAAAAAABAa0AAAAAAAIBsQAAAAAAAgGpAAAAAAAAAbEAAAAAAAMBqQAAAAAAAQGxAAAAAAAAAa0AAAAAAAMBrQAAAAAAAYGlAAAAAAAAgbEAAAAAAAGBrQAAAAAAAgGxAAAAAAADgakAAAAAAAIBsQAAAAAAAAGtAAAAAAADgakAAAAAAAEBqQAAAAAAAYGtAAAAAAAAAakAAAAAAACBqQAAAAAAAAGtAAAAAAACgbEAAAAAAAKBqQAAAAAAAwGxAAAAAAAAga0AAAAAAAMBsQAAAAAAAIGtAAAAAAADAa0AAAAAAAMBqQAAAAAAAAPh/AAAAAADgakAAAAAAAMBrQAAAAAAAgGpAAAAAAACgakA=",
          "dtype": "f8"
         },
         "y": {
          "bdata": "AAAAAACUsUAAAAAAAES2QAAAAAAAYrFAAAAAAABEtkAAAAAAABi1QAAAAAAAxrFAAAAAAADAskAAAAAAAFC0QAAAAAAAMLFAAAAAAAAetEAAAAAAACqyQAAAAAAArrVAAAAAAAAqskAAAAAAANq2QAAAAAAAaLBAAAAAAADatkAAAAAAADawQAAAAAAAnLhAAAAAAADAskAAAAAAAOa0QAAAAAAARLZAAAAAAACIs0AAAAAAADCxQAAAAAAAurNAAAAAAACIs0AAAAAAAOyzQAAAAAAABLBAAAAAAAAStkAAAAAAAPixQAAAAAAArrVAAAAAAACCtEAAAAAAAFyyQAAAAAAAurNAAAAAAACit0AAAAAAAB60QAAAAAAAGLVAAAAAAABWs0AAAAAAAIK0QAAAAAAA/rBAAAAAAADmtEAAAAAAANyuQAAAAAAARLZAAAAAAADMsEAAAAAAAI6yQAAAAAAArrVAAAAAAAAks0AAAAAAAGiwQAAAAAAAGLVAAAAAAADss0AAAAAAALS0QAAAAAAA8rJAAAAAAAC0tEAAAAAAADCxQAAAAAAAiLNAAAAAAAAks0AAAAAAALqzQAAAAAAAzLBAAAAAAACIs0AAAAAAAGKxQAAAAAAArrVAAAAAAABosEAAAAAAALS0QAAAAAAAMLFAAAAAAAAStkAAAAAAAFyyQAAAAAAARLZAAAAAAAAqskAAAAAAAKi2QAAAAAAAXLJAAAAAAACutUAAAAAAAI6yQAAAAAAAiLNAAAAAAADss0AAAAAAAFC0QAAAAAAAXLJAAAAAAACotkAAAAAAAPixQAAAAAAAcLdAAAAAAACOskAAAAAAAD63QAAAAAAAEbJAAAAAAABKtUAAAAAAAHWyQAAAAAAA5rRAAAAAAACOskAAAAAAAOC1QAAAAAAA+LFAAAAAAAC0tEAAAAAAAAuzQAAAAAAArrVAAAAAAABWs0AAAAAAABi1QAAAAAAAjrJAAAAAAAAStkAAAAAAAPKyQAAAAAAAULRAAAAAAAA9s0AAAAAAAAuzQAAAAAAAEbJAAAAAAACCtEAAAAAAAPKyQAAAAAAA4LVAAAAAAABvs0AAAAAAAHy1QAAAAAAAdbJAAAAAAAB8tUAAAAAAAFyyQAAAAAAAfLVAAAAAAADfsUAAAAAAAHy1QAAAAAAAiLNAAAAAAAA+t0AAAAAAACqyQAAAAAAAfLVAAAAAAAAXsUAAAAAAANq2QAAAAAAAC7NAAAAAAABwt0AAAAAAAD2zQAAAAAAAAPh/AAAAAADyskAAAAAAAHa2QAAAAAAAULRAAAAAAAAYtUA=",
          "dtype": "f8"
         }
        }
       ],
       "layout": {
        "template": {
         "data": {
          "bar": [
           {
            "error_x": {
             "color": "#2a3f5f"
            },
            "error_y": {
             "color": "#2a3f5f"
            },
            "marker": {
             "line": {
              "color": "#E5ECF6",
              "width": 0.5
             },
             "pattern": {
              "fillmode": "overlay",
              "size": 10,
              "solidity": 0.2
             }
            },
            "type": "bar"
           }
          ],
          "barpolar": [
           {
            "marker": {
             "line": {
              "color": "#E5ECF6",
              "width": 0.5
             },
             "pattern": {
              "fillmode": "overlay",
              "size": 10,
              "solidity": 0.2
             }
            },
            "type": "barpolar"
           }
          ],
          "carpet": [
           {
            "aaxis": {
             "endlinecolor": "#2a3f5f",
             "gridcolor": "white",
             "linecolor": "white",
             "minorgridcolor": "white",
             "startlinecolor": "#2a3f5f"
            },
            "baxis": {
             "endlinecolor": "#2a3f5f",
             "gridcolor": "white",
             "linecolor": "white",
             "minorgridcolor": "white",
             "startlinecolor": "#2a3f5f"
            },
            "type": "carpet"
           }
          ],
          "choropleth": [
           {
            "colorbar": {
             "outlinewidth": 0,
             "ticks": ""
            },
            "type": "choropleth"
           }
          ],
          "contour": [
           {
            "colorbar": {
             "outlinewidth": 0,
             "ticks": ""
            },
            "colorscale": [
             [
              0,
              "#0d0887"
             ],
             [
              0.1111111111111111,
              "#46039f"
             ],
             [
              0.2222222222222222,
              "#7201a8"
             ],
             [
              0.3333333333333333,
              "#9c179e"
             ],
             [
              0.4444444444444444,
              "#bd3786"
             ],
             [
              0.5555555555555556,
              "#d8576b"
             ],
             [
              0.6666666666666666,
              "#ed7953"
             ],
             [
              0.7777777777777778,
              "#fb9f3a"
             ],
             [
              0.8888888888888888,
              "#fdca26"
             ],
             [
              1,
              "#f0f921"
             ]
            ],
            "type": "contour"
           }
          ],
          "contourcarpet": [
           {
            "colorbar": {
             "outlinewidth": 0,
             "ticks": ""
            },
            "type": "contourcarpet"
           }
          ],
          "heatmap": [
           {
            "colorbar": {
             "outlinewidth": 0,
             "ticks": ""
            },
            "colorscale": [
             [
              0,
              "#0d0887"
             ],
             [
              0.1111111111111111,
              "#46039f"
             ],
             [
              0.2222222222222222,
              "#7201a8"
             ],
             [
              0.3333333333333333,
              "#9c179e"
             ],
             [
              0.4444444444444444,
              "#bd3786"
             ],
             [
              0.5555555555555556,
              "#d8576b"
             ],
             [
              0.6666666666666666,
              "#ed7953"
             ],
             [
              0.7777777777777778,
              "#fb9f3a"
             ],
             [
              0.8888888888888888,
              "#fdca26"
             ],
             [
              1,
              "#f0f921"
             ]
            ],
            "type": "heatmap"
           }
          ],
          "histogram": [
           {
            "marker": {
             "pattern": {
              "fillmode": "overlay",
              "size": 10,
              "solidity": 0.2
             }
            },
            "type": "histogram"
           }
          ],
          "histogram2d": [
           {
            "colorbar": {
             "outlinewidth": 0,
             "ticks": ""
            },
            "colorscale": [
             [
              0,
              "#0d0887"
             ],
             [
              0.1111111111111111,
              "#46039f"
             ],
             [
              0.2222222222222222,
              "#7201a8"
             ],
             [
              0.3333333333333333,
              "#9c179e"
             ],
             [
              0.4444444444444444,
              "#bd3786"
             ],
             [
              0.5555555555555556,
              "#d8576b"
             ],
             [
              0.6666666666666666,
              "#ed7953"
             ],
             [
              0.7777777777777778,
              "#fb9f3a"
             ],
             [
              0.8888888888888888,
              "#fdca26"
             ],
             [
              1,
              "#f0f921"
             ]
            ],
            "type": "histogram2d"
           }
          ],
          "histogram2dcontour": [
           {
            "colorbar": {
             "outlinewidth": 0,
             "ticks": ""
            },
            "colorscale": [
             [
              0,
              "#0d0887"
             ],
             [
              0.1111111111111111,
              "#46039f"
             ],
             [
              0.2222222222222222,
              "#7201a8"
             ],
             [
              0.3333333333333333,
              "#9c179e"
             ],
             [
              0.4444444444444444,
              "#bd3786"
             ],
             [
              0.5555555555555556,
              "#d8576b"
             ],
             [
              0.6666666666666666,
              "#ed7953"
             ],
             [
              0.7777777777777778,
              "#fb9f3a"
             ],
             [
              0.8888888888888888,
              "#fdca26"
             ],
             [
              1,
              "#f0f921"
             ]
            ],
            "type": "histogram2dcontour"
           }
          ],
          "mesh3d": [
           {
            "colorbar": {
             "outlinewidth": 0,
             "ticks": ""
            },
            "type": "mesh3d"
           }
          ],
          "parcoords": [
           {
            "line": {
             "colorbar": {
              "outlinewidth": 0,
              "ticks": ""
             }
            },
            "type": "parcoords"
           }
          ],
          "pie": [
           {
            "automargin": true,
            "type": "pie"
           }
          ],
          "scatter": [
           {
            "fillpattern": {
             "fillmode": "overlay",
             "size": 10,
             "solidity": 0.2
            },
            "type": "scatter"
           }
          ],
          "scatter3d": [
           {
            "line": {
             "colorbar": {
              "outlinewidth": 0,
              "ticks": ""
             }
            },
            "marker": {
             "colorbar": {
              "outlinewidth": 0,
              "ticks": ""
             }
            },
            "type": "scatter3d"
           }
          ],
          "scattercarpet": [
           {
            "marker": {
             "colorbar": {
              "outlinewidth": 0,
              "ticks": ""
             }
            },
            "type": "scattercarpet"
           }
          ],
          "scattergeo": [
           {
            "marker": {
             "colorbar": {
              "outlinewidth": 0,
              "ticks": ""
             }
            },
            "type": "scattergeo"
           }
          ],
          "scattergl": [
           {
            "marker": {
             "colorbar": {
              "outlinewidth": 0,
              "ticks": ""
             }
            },
            "type": "scattergl"
           }
          ],
          "scattermap": [
           {
            "marker": {
             "colorbar": {
              "outlinewidth": 0,
              "ticks": ""
             }
            },
            "type": "scattermap"
           }
          ],
          "scattermapbox": [
           {
            "marker": {
             "colorbar": {
              "outlinewidth": 0,
              "ticks": ""
             }
            },
            "type": "scattermapbox"
           }
          ],
          "scatterpolar": [
           {
            "marker": {
             "colorbar": {
              "outlinewidth": 0,
              "ticks": ""
             }
            },
            "type": "scatterpolar"
           }
          ],
          "scatterpolargl": [
           {
            "marker": {
             "colorbar": {
              "outlinewidth": 0,
              "ticks": ""
             }
            },
            "type": "scatterpolargl"
           }
          ],
          "scatterternary": [
           {
            "marker": {
             "colorbar": {
              "outlinewidth": 0,
              "ticks": ""
             }
            },
            "type": "scatterternary"
           }
          ],
          "surface": [
           {
            "colorbar": {
             "outlinewidth": 0,
             "ticks": ""
            },
            "colorscale": [
             [
              0,
              "#0d0887"
             ],
             [
              0.1111111111111111,
              "#46039f"
             ],
             [
              0.2222222222222222,
              "#7201a8"
             ],
             [
              0.3333333333333333,
              "#9c179e"
             ],
             [
              0.4444444444444444,
              "#bd3786"
             ],
             [
              0.5555555555555556,
              "#d8576b"
             ],
             [
              0.6666666666666666,
              "#ed7953"
             ],
             [
              0.7777777777777778,
              "#fb9f3a"
             ],
             [
              0.8888888888888888,
              "#fdca26"
             ],
             [
              1,
              "#f0f921"
             ]
            ],
            "type": "surface"
           }
          ],
          "table": [
           {
            "cells": {
             "fill": {
              "color": "#EBF0F8"
             },
             "line": {
              "color": "white"
             }
            },
            "header": {
             "fill": {
              "color": "#C8D4E3"
             },
             "line": {
              "color": "white"
             }
            },
            "type": "table"
           }
          ]
         },
         "layout": {
          "annotationdefaults": {
           "arrowcolor": "#2a3f5f",
           "arrowhead": 0,
           "arrowwidth": 1
          },
          "autotypenumbers": "strict",
          "coloraxis": {
           "colorbar": {
            "outlinewidth": 0,
            "ticks": ""
           }
          },
          "colorscale": {
           "diverging": [
            [
             0,
             "#8e0152"
            ],
            [
             0.1,
             "#c51b7d"
            ],
            [
             0.2,
             "#de77ae"
            ],
            [
             0.3,
             "#f1b6da"
            ],
            [
             0.4,
             "#fde0ef"
            ],
            [
             0.5,
             "#f7f7f7"
            ],
            [
             0.6,
             "#e6f5d0"
            ],
            [
             0.7,
             "#b8e186"
            ],
            [
             0.8,
             "#7fbc41"
            ],
            [
             0.9,
             "#4d9221"
            ],
            [
             1,
             "#276419"
            ]
           ],
           "sequential": [
            [
             0,
             "#0d0887"
            ],
            [
             0.1111111111111111,
             "#46039f"
            ],
            [
             0.2222222222222222,
             "#7201a8"
            ],
            [
             0.3333333333333333,
             "#9c179e"
            ],
            [
             0.4444444444444444,
             "#bd3786"
            ],
            [
             0.5555555555555556,
             "#d8576b"
            ],
            [
             0.6666666666666666,
             "#ed7953"
            ],
            [
             0.7777777777777778,
             "#fb9f3a"
            ],
            [
             0.8888888888888888,
             "#fdca26"
            ],
            [
             1,
             "#f0f921"
            ]
           ],
           "sequentialminus": [
            [
             0,
             "#0d0887"
            ],
            [
             0.1111111111111111,
             "#46039f"
            ],
            [
             0.2222222222222222,
             "#7201a8"
            ],
            [
             0.3333333333333333,
             "#9c179e"
            ],
            [
             0.4444444444444444,
             "#bd3786"
            ],
            [
             0.5555555555555556,
             "#d8576b"
            ],
            [
             0.6666666666666666,
             "#ed7953"
            ],
            [
             0.7777777777777778,
             "#fb9f3a"
            ],
            [
             0.8888888888888888,
             "#fdca26"
            ],
            [
             1,
             "#f0f921"
            ]
           ]
          },
          "colorway": [
           "#636efa",
           "#EF553B",
           "#00cc96",
           "#ab63fa",
           "#FFA15A",
           "#19d3f3",
           "#FF6692",
           "#B6E880",
           "#FF97FF",
           "#FECB52"
          ],
          "font": {
           "color": "#2a3f5f"
          },
          "geo": {
           "bgcolor": "white",
           "lakecolor": "white",
           "landcolor": "#E5ECF6",
           "showlakes": true,
           "showland": true,
           "subunitcolor": "white"
          },
          "hoverlabel": {
           "align": "left"
          },
          "hovermode": "closest",
          "mapbox": {
           "style": "light"
          },
          "paper_bgcolor": "white",
          "plot_bgcolor": "#E5ECF6",
          "polar": {
           "angularaxis": {
            "gridcolor": "white",
            "linecolor": "white",
            "ticks": ""
           },
           "bgcolor": "#E5ECF6",
           "radialaxis": {
            "gridcolor": "white",
            "linecolor": "white",
            "ticks": ""
           }
          },
          "scene": {
           "xaxis": {
            "backgroundcolor": "#E5ECF6",
            "gridcolor": "white",
            "gridwidth": 2,
            "linecolor": "white",
            "showbackground": true,
            "ticks": "",
            "zerolinecolor": "white"
           },
           "yaxis": {
            "backgroundcolor": "#E5ECF6",
            "gridcolor": "white",
            "gridwidth": 2,
            "linecolor": "white",
            "showbackground": true,
            "ticks": "",
            "zerolinecolor": "white"
           },
           "zaxis": {
            "backgroundcolor": "#E5ECF6",
            "gridcolor": "white",
            "gridwidth": 2,
            "linecolor": "white",
            "showbackground": true,
            "ticks": "",
            "zerolinecolor": "white"
           }
          },
          "shapedefaults": {
           "line": {
            "color": "#2a3f5f"
           }
          },
          "ternary": {
           "aaxis": {
            "gridcolor": "white",
            "linecolor": "white",
            "ticks": ""
           },
           "baxis": {
            "gridcolor": "white",
            "linecolor": "white",
            "ticks": ""
           },
           "bgcolor": "#E5ECF6",
           "caxis": {
            "gridcolor": "white",
            "linecolor": "white",
            "ticks": ""
           }
          },
          "title": {
           "x": 0.05
          },
          "xaxis": {
           "automargin": true,
           "gridcolor": "white",
           "linecolor": "white",
           "ticks": "",
           "title": {
            "standoff": 15
           },
           "zerolinecolor": "white",
           "zerolinewidth": 2
          },
          "yaxis": {
           "automargin": true,
           "gridcolor": "white",
           "linecolor": "white",
           "ticks": "",
           "title": {
            "standoff": 15
           },
           "zerolinecolor": "white",
           "zerolinewidth": 2
          }
         }
        },
        "title": {
         "text": "Mass vs Flipper Length — Dropdown by Species"
        },
        "updatemenus": [
         {
          "buttons": [
           {
            "args": [
             {
              "visible": [
               true,
               true,
               true
              ]
             }
            ],
            "label": "All",
            "method": "update"
           },
           {
            "args": [
             {
              "visible": [
               true,
               false,
               false
              ]
             }
            ],
            "label": "Adelie",
            "method": "update"
           },
           {
            "args": [
             {
              "visible": [
               false,
               true,
               false
              ]
             }
            ],
            "label": "Chinstrap",
            "method": "update"
           },
           {
            "args": [
             {
              "visible": [
               false,
               false,
               true
              ]
             }
            ],
            "label": "Gentoo",
            "method": "update"
           }
          ],
          "type": "dropdown",
          "x": 1,
          "xanchor": "right",
          "y": 1.15
         }
        ]
       }
      }
     },
     "metadata": {},
     "output_type": "display_data"
    }
   ],
   "source": [
    "species_list = sorted(df[\"Species\"].unique())\n",
    "traces = []\n",
    "for sp in species_list:\n",
    "    sub = df[df[\"Species\"] == sp]\n",
    "    traces.append(go.Scatter(\n",
    "        x=sub[\"Flipper Length Mm\"], y=sub[\"Body Mass G\"],\n",
    "        mode=\"markers\", name=sp,\n",
    "        hovertemplate=\"<b>%{text}</b><br>Flipper: %{x} mm<br>Mass: %{y} g<extra></extra>\",\n",
    "        text=sub[\"Island\"] + \" | \" + sub[\"Sex\"].astype(str)        \n",
    "    ))\n",
    "\n",
    "fig = go.Figure(data=traces)\n",
    "buttons = [dict(\n",
    "    label=\"All\",\n",
    "    method=\"update\",\n",
    "    args=[{\"visible\": [True]*len(species_list)}]\n",
    ")]\n",
    "for i, sp in enumerate(species_list):\n",
    "    vis = [False]*len(species_list)\n",
    "    vis[i] = True\n",
    "    buttons.append(dict(label=sp, method=\"update\", args=[{\"visible\": vis}]))\n",
    "\n",
    "fig.update_layout(\n",
    "    title=\"Mass vs Flipper Length — Dropdown by Species\",\n",
    "    updatemenus=[dict(type=\"dropdown\", x=1.0, xanchor=\"right\", y=1.15, buttons=buttons)]\n",
    ")\n",
    "fig.show()"
   ]
  },
  {
   "cell_type": "code",
   "execution_count": 26,
   "id": "4a587ef1",
   "metadata": {},
   "outputs": [
    {
     "data": {
      "application/vnd.plotly.v1+json": {
       "config": {
        "plotlyServerURL": "https://plot.ly"
       },
       "data": [
        {
         "customdata": [
          [
           "Torgersen",
           "Male",
           181,
           3750,
           20.718232044198896
          ],
          [
           "Torgersen",
           "Female",
           186,
           3800,
           20.43010752688172
          ],
          [
           "Torgersen",
           "Female",
           195,
           3250,
           16.666666666666668
          ],
          [
           "Torgersen",
           null,
           null,
           null,
           null
          ],
          [
           "Torgersen",
           "Female",
           193,
           3450,
           17.875647668393782
          ],
          [
           "Torgersen",
           "Male",
           190,
           3650,
           19.210526315789473
          ],
          [
           "Torgersen",
           "Female",
           181,
           3625,
           20.027624309392266
          ],
          [
           "Torgersen",
           "Male",
           195,
           4675,
           23.974358974358974
          ],
          [
           "Torgersen",
           null,
           193,
           3475,
           18.00518134715026
          ],
          [
           "Torgersen",
           null,
           190,
           4250,
           22.36842105263158
          ],
          [
           "Torgersen",
           null,
           186,
           3300,
           17.741935483870968
          ],
          [
           "Torgersen",
           null,
           180,
           3700,
           20.555555555555557
          ],
          [
           "Torgersen",
           "Female",
           182,
           3200,
           17.582417582417584
          ],
          [
           "Torgersen",
           "Male",
           191,
           3800,
           19.895287958115183
          ],
          [
           "Torgersen",
           "Male",
           198,
           4400,
           22.22222222222222
          ],
          [
           "Torgersen",
           "Female",
           185,
           3700,
           20
          ],
          [
           "Torgersen",
           "Female",
           195,
           3450,
           17.692307692307693
          ],
          [
           "Torgersen",
           "Male",
           197,
           4500,
           22.84263959390863
          ],
          [
           "Torgersen",
           "Female",
           184,
           3325,
           18.070652173913043
          ],
          [
           "Torgersen",
           "Male",
           194,
           4200,
           21.649484536082475
          ],
          [
           "Biscoe",
           "Female",
           174,
           3400,
           19.54022988505747
          ],
          [
           "Biscoe",
           "Male",
           180,
           3600,
           20
          ],
          [
           "Biscoe",
           "Female",
           189,
           3800,
           20.105820105820104
          ],
          [
           "Biscoe",
           "Male",
           185,
           3950,
           21.35135135135135
          ],
          [
           "Biscoe",
           "Male",
           180,
           3800,
           21.11111111111111
          ],
          [
           "Biscoe",
           "Female",
           187,
           3800,
           20.32085561497326
          ],
          [
           "Biscoe",
           "Male",
           183,
           3550,
           19.398907103825138
          ],
          [
           "Biscoe",
           "Female",
           187,
           3200,
           17.112299465240643
          ],
          [
           "Biscoe",
           "Female",
           172,
           3150,
           18.313953488372093
          ],
          [
           "Biscoe",
           "Male",
           180,
           3950,
           21.944444444444443
          ],
          [
           "Dream",
           "Female",
           178,
           3250,
           18.258426966292134
          ],
          [
           "Dream",
           "Male",
           178,
           3900,
           21.910112359550563
          ],
          [
           "Dream",
           "Female",
           188,
           3300,
           17.5531914893617
          ],
          [
           "Dream",
           "Male",
           184,
           3900,
           21.195652173913043
          ],
          [
           "Dream",
           "Female",
           195,
           3325,
           17.05128205128205
          ],
          [
           "Dream",
           "Male",
           196,
           4150,
           21.1734693877551
          ],
          [
           "Dream",
           "Male",
           190,
           3950,
           20.789473684210527
          ],
          [
           "Dream",
           "Female",
           180,
           3550,
           19.72222222222222
          ],
          [
           "Dream",
           "Female",
           181,
           3300,
           18.23204419889503
          ],
          [
           "Dream",
           "Male",
           184,
           4650,
           25.27173913043478
          ],
          [
           "Dream",
           "Female",
           182,
           3150,
           17.307692307692307
          ],
          [
           "Dream",
           "Male",
           195,
           3900,
           20
          ],
          [
           "Dream",
           "Female",
           186,
           3100,
           16.666666666666668
          ],
          [
           "Dream",
           "Male",
           196,
           4400,
           22.448979591836736
          ],
          [
           "Dream",
           "Female",
           185,
           3000,
           16.216216216216218
          ],
          [
           "Dream",
           "Male",
           190,
           4600,
           24.210526315789473
          ],
          [
           "Dream",
           "Male",
           182,
           3425,
           18.818681318681318
          ],
          [
           "Dream",
           null,
           179,
           2975,
           16.620111731843576
          ],
          [
           "Dream",
           "Female",
           190,
           3450,
           18.157894736842106
          ],
          [
           "Dream",
           "Male",
           191,
           4150,
           21.727748691099478
          ],
          [
           "Biscoe",
           "Female",
           186,
           3500,
           18.817204301075268
          ],
          [
           "Biscoe",
           "Male",
           188,
           4300,
           22.872340425531913
          ],
          [
           "Biscoe",
           "Female",
           190,
           3450,
           18.157894736842106
          ],
          [
           "Biscoe",
           "Male",
           200,
           4050,
           20.25
          ],
          [
           "Biscoe",
           "Female",
           187,
           2900,
           15.508021390374331
          ],
          [
           "Biscoe",
           "Male",
           191,
           3700,
           19.3717277486911
          ],
          [
           "Biscoe",
           "Female",
           186,
           3550,
           19.086021505376344
          ],
          [
           "Biscoe",
           "Male",
           193,
           3800,
           19.689119170984455
          ],
          [
           "Biscoe",
           "Female",
           181,
           2850,
           15.74585635359116
          ],
          [
           "Biscoe",
           "Male",
           194,
           3750,
           19.329896907216494
          ],
          [
           "Biscoe",
           "Female",
           185,
           3150,
           17.027027027027028
          ],
          [
           "Biscoe",
           "Male",
           195,
           4400,
           22.564102564102566
          ],
          [
           "Biscoe",
           "Female",
           185,
           3600,
           19.45945945945946
          ],
          [
           "Biscoe",
           "Male",
           192,
           4050,
           21.09375
          ],
          [
           "Biscoe",
           "Female",
           184,
           2850,
           15.48913043478261
          ],
          [
           "Biscoe",
           "Male",
           192,
           3950,
           20.572916666666668
          ],
          [
           "Biscoe",
           "Female",
           195,
           3350,
           17.17948717948718
          ],
          [
           "Biscoe",
           "Male",
           188,
           4100,
           21.80851063829787
          ],
          [
           "Torgersen",
           "Female",
           190,
           3050,
           16.05263157894737
          ],
          [
           "Torgersen",
           "Male",
           198,
           4450,
           22.474747474747474
          ],
          [
           "Torgersen",
           "Female",
           190,
           3600,
           18.94736842105263
          ],
          [
           "Torgersen",
           "Male",
           190,
           3900,
           20.526315789473685
          ],
          [
           "Torgersen",
           "Female",
           196,
           3550,
           18.112244897959183
          ],
          [
           "Torgersen",
           "Male",
           197,
           4150,
           21.065989847715738
          ],
          [
           "Torgersen",
           "Female",
           190,
           3700,
           19.473684210526315
          ],
          [
           "Torgersen",
           "Male",
           195,
           4250,
           21.794871794871796
          ],
          [
           "Torgersen",
           "Female",
           191,
           3700,
           19.3717277486911
          ],
          [
           "Torgersen",
           "Male",
           184,
           3900,
           21.195652173913043
          ],
          [
           "Torgersen",
           "Female",
           187,
           3550,
           18.983957219251337
          ],
          [
           "Torgersen",
           "Male",
           195,
           4000,
           20.512820512820515
          ],
          [
           "Torgersen",
           "Female",
           189,
           3200,
           16.93121693121693
          ],
          [
           "Torgersen",
           "Male",
           196,
           4700,
           23.979591836734695
          ],
          [
           "Torgersen",
           "Female",
           187,
           3800,
           20.32085561497326
          ],
          [
           "Torgersen",
           "Male",
           193,
           4200,
           21.761658031088082
          ],
          [
           "Dream",
           "Female",
           191,
           3350,
           17.539267015706805
          ],
          [
           "Dream",
           "Male",
           194,
           3550,
           18.298969072164947
          ],
          [
           "Dream",
           "Male",
           190,
           3800,
           20
          ],
          [
           "Dream",
           "Female",
           189,
           3500,
           18.51851851851852
          ],
          [
           "Dream",
           "Male",
           189,
           3950,
           20.8994708994709
          ],
          [
           "Dream",
           "Female",
           190,
           3600,
           18.94736842105263
          ],
          [
           "Dream",
           "Female",
           202,
           3550,
           17.574257425742573
          ],
          [
           "Dream",
           "Male",
           205,
           4300,
           20.975609756097562
          ],
          [
           "Dream",
           "Female",
           185,
           3400,
           18.37837837837838
          ],
          [
           "Dream",
           "Male",
           186,
           4450,
           23.9247311827957
          ],
          [
           "Dream",
           "Female",
           187,
           3300,
           17.647058823529413
          ],
          [
           "Dream",
           "Male",
           208,
           4300,
           20.673076923076923
          ],
          [
           "Dream",
           "Female",
           190,
           3700,
           19.473684210526315
          ],
          [
           "Dream",
           "Male",
           196,
           4350,
           22.193877551020407
          ],
          [
           "Dream",
           "Female",
           178,
           2900,
           16.292134831460675
          ],
          [
           "Dream",
           "Male",
           192,
           4100,
           21.354166666666668
          ],
          [
           "Biscoe",
           "Female",
           192,
           3725,
           19.401041666666668
          ],
          [
           "Biscoe",
           "Male",
           203,
           4725,
           23.275862068965516
          ],
          [
           "Biscoe",
           "Female",
           183,
           3075,
           16.80327868852459
          ],
          [
           "Biscoe",
           "Male",
           190,
           4250,
           22.36842105263158
          ],
          [
           "Biscoe",
           "Female",
           193,
           2925,
           15.155440414507773
          ],
          [
           "Biscoe",
           "Male",
           184,
           3550,
           19.293478260869566
          ],
          [
           "Biscoe",
           "Female",
           199,
           3750,
           18.844221105527637
          ],
          [
           "Biscoe",
           "Male",
           190,
           3900,
           20.526315789473685
          ],
          [
           "Biscoe",
           "Female",
           181,
           3175,
           17.5414364640884
          ],
          [
           "Biscoe",
           "Male",
           197,
           4775,
           24.238578680203045
          ],
          [
           "Biscoe",
           "Female",
           198,
           3825,
           19.318181818181817
          ],
          [
           "Biscoe",
           "Male",
           191,
           4600,
           24.083769633507853
          ],
          [
           "Biscoe",
           "Female",
           193,
           3200,
           16.580310880829014
          ],
          [
           "Biscoe",
           "Male",
           197,
           4275,
           21.700507614213198
          ],
          [
           "Biscoe",
           "Female",
           191,
           3900,
           20.418848167539267
          ],
          [
           "Biscoe",
           "Male",
           196,
           4075,
           20.790816326530614
          ],
          [
           "Torgersen",
           "Female",
           188,
           2900,
           15.425531914893616
          ],
          [
           "Torgersen",
           "Male",
           199,
           3775,
           18.969849246231156
          ],
          [
           "Torgersen",
           "Female",
           189,
           3350,
           17.724867724867725
          ],
          [
           "Torgersen",
           "Male",
           189,
           3325,
           17.59259259259259
          ],
          [
           "Torgersen",
           "Female",
           187,
           3150,
           16.844919786096256
          ],
          [
           "Torgersen",
           "Male",
           198,
           3500,
           17.67676767676768
          ],
          [
           "Torgersen",
           "Female",
           176,
           3450,
           19.602272727272727
          ],
          [
           "Torgersen",
           "Male",
           202,
           3875,
           19.183168316831683
          ],
          [
           "Torgersen",
           "Female",
           186,
           3050,
           16.397849462365592
          ],
          [
           "Torgersen",
           "Male",
           199,
           4000,
           20.100502512562816
          ],
          [
           "Torgersen",
           "Female",
           191,
           3275,
           17.146596858638745
          ],
          [
           "Torgersen",
           "Male",
           195,
           4300,
           22.05128205128205
          ],
          [
           "Torgersen",
           "Female",
           191,
           3050,
           15.968586387434556
          ],
          [
           "Torgersen",
           "Male",
           210,
           4000,
           19.047619047619047
          ],
          [
           "Torgersen",
           "Female",
           190,
           3325,
           17.5
          ],
          [
           "Torgersen",
           "Male",
           197,
           3500,
           17.766497461928935
          ],
          [
           "Dream",
           "Female",
           193,
           3500,
           18.134715025906736
          ],
          [
           "Dream",
           "Male",
           199,
           4475,
           22.487437185929647
          ],
          [
           "Dream",
           "Female",
           187,
           3425,
           18.315508021390375
          ],
          [
           "Dream",
           "Male",
           190,
           3900,
           20.526315789473685
          ],
          [
           "Dream",
           "Female",
           191,
           3175,
           16.623036649214658
          ],
          [
           "Dream",
           "Male",
           200,
           3975,
           19.875
          ],
          [
           "Dream",
           "Female",
           185,
           3400,
           18.37837837837838
          ],
          [
           "Dream",
           "Male",
           193,
           4250,
           22.020725388601036
          ],
          [
           "Dream",
           "Female",
           193,
           3400,
           17.616580310880828
          ],
          [
           "Dream",
           "Male",
           187,
           3475,
           18.58288770053476
          ],
          [
           "Dream",
           "Female",
           188,
           3050,
           16.22340425531915
          ],
          [
           "Dream",
           "Male",
           190,
           3725,
           19.605263157894736
          ],
          [
           "Dream",
           "Female",
           192,
           3000,
           15.625
          ],
          [
           "Dream",
           "Male",
           185,
           3650,
           19.72972972972973
          ],
          [
           "Dream",
           "Male",
           190,
           4250,
           22.36842105263158
          ],
          [
           "Dream",
           "Female",
           184,
           3475,
           18.88586956521739
          ],
          [
           "Dream",
           "Female",
           195,
           3450,
           17.692307692307693
          ],
          [
           "Dream",
           "Male",
           193,
           3750,
           19.430051813471504
          ],
          [
           "Dream",
           "Female",
           187,
           3700,
           19.78609625668449
          ],
          [
           "Dream",
           "Male",
           201,
           4000,
           19.90049751243781
          ]
         ],
         "hovertemplate": "Species=Adelie<br>Island=%{customdata[0]}<br>Sex=%{customdata[1]}<br>Flipper Length Mm=%{customdata[2]:.0f}<br>Body Mass G=%{customdata[3]:.0f}<br>Mass/Flipper=%{customdata[4]:.2f}<extra></extra>",
         "legendgroup": "Adelie",
         "marker": {
          "color": "#636efa",
          "symbol": "circle"
         },
         "mode": "markers",
         "name": "Adelie",
         "orientation": "v",
         "showlegend": true,
         "type": "scatter",
         "x": {
          "bdata": "zczMzMyMQ0AAAAAAAMBDQGZmZmZmJkRAAAAAAAAA+H+amZmZmVlCQGZmZmZmpkNAMzMzMzNzQ0CamZmZmZlDQM3MzMzMDEFAAAAAAAAARUBmZmZmZuZCQGZmZmZm5kJAzczMzMyMREDNzMzMzExDQM3MzMzMTEFAzczMzMxMQkCamZmZmVlDQAAAAAAAQEVAMzMzMzMzQUAAAAAAAABHQGZmZmZm5kJAmpmZmZnZQkAzMzMzM/NBQJqZmZmZGUNAZmZmZmZmQ0BmZmZmZqZBQM3MzMzMTERAAAAAAABAREAzMzMzM/NCQAAAAAAAQERAAAAAAADAQ0CamZmZmZlCQAAAAAAAwENAMzMzMzNzREAzMzMzMzNCQJqZmZmZmUNAZmZmZmZmQ0CamZmZmRlFQM3MzMzMzEJAZmZmZmbmQ0AAAAAAAEBCQGZmZmZmZkRAAAAAAAAAQkDNzMzMzAxGQAAAAAAAgEJAzczMzMzMQ0DNzMzMzIxEQAAAAAAAwEJAAAAAAAAAQkBmZmZmZiZFQM3MzMzMzENAzczMzMwMREAAAAAAAIBBQAAAAAAAAEVAAAAAAABAQUAzMzMzM7NEQAAAAAAAgENAzczMzMxMREAAAAAAAEBCQM3MzMzMzEJAmpmZmZnZQUBmZmZmZqZEQM3MzMzMzEJAzczMzMyMREAzMzMzMzNCQM3MzMzMzERAAAAAAADAQUDNzMzMzIxEQDMzMzMz80FAZmZmZmbmREAAAAAAAMBAQJqZmZmZ2UNAzczMzMzMQ0BmZmZmZuZGQAAAAAAAwEFAZmZmZmZmRUAzMzMzM3NEQJqZmZmZmUJAmpmZmZkZQkDNzMzMzAxFQM3MzMzMTEFAMzMzMzNzRUCamZmZmVlCQM3MzMzMjEFAZmZmZmamQkBmZmZmZqZEQGZmZmZmJkJAMzMzMzNzQkBmZmZmZiZDQDMzMzMzc0NAmpmZmZnZQUDNzMzMzIxEQAAAAAAAAEFAzczMzMzMQ0CamZmZmRlCQGZmZmZmZkRAzczMzMwMQ0BmZmZmZiZEQM3MzMzMjEBAmpmZmZmZRUAAAAAAAIBBQAAAAAAAgERAmpmZmZnZQkBmZmZmZuZCQDMzMzMz80JAmpmZmZnZQ0DNzMzMzExDQJqZmZmZGUNAzczMzMwMQ0CamZmZmZlFQM3MzMzMDENAzczMzMzMRkCamZmZmdlDQJqZmZmZGUVAzczMzMzMQ0CamZmZmVlFQM3MzMzMTENAZmZmZmamQkCamZmZmdlBQM3MzMzMjERAmpmZmZkZQkCamZmZmdlCQJqZmZmZGURAMzMzMzOzRECamZmZmZlBQM3MzMzMTERAZmZmZmZmQ0AAAAAAAMBEQAAAAAAAgENAzczMzMwMRkAAAAAAAEBDQM3MzMzMjEVAZmZmZmZmQkAAAAAAAMBCQM3MzMzMDENAzczMzMyMREDNzMzMzMxBQJqZmZmZGURAAAAAAACAQkCamZmZmdlDQJqZmZmZGURAzczMzMxMREDNzMzMzAxAQJqZmZmZWURAZmZmZmamQkAAAAAAAIBDQJqZmZmZmUNAzczMzMxMQkAAAAAAAABCQGZmZmZm5kJAAAAAAAAAQkAAAAAAAMBEQA==",
          "dtype": "f8"
         },
         "xaxis": "x",
         "y": {
          "bdata": "MzMzMzOzMkBmZmZmZmYxQAAAAAAAADJAAAAAAAAA+H/NzMzMzEwzQJqZmZmZmTRAzczMzMzMMUCamZmZmZkzQJqZmZmZGTJAMzMzMzMzNECamZmZmRkxQM3MzMzMTDFAmpmZmZmZMUAzMzMzMzM1QJqZmZmZGTVAzczMzMzMMUAAAAAAAAAzQDMzMzMzszRAZmZmZmZmMkAAAAAAAIA1QM3MzMzMTDJAMzMzMzOzMkAzMzMzMzMzQJqZmZmZGTJAMzMzMzMzMUBmZmZmZuYyQJqZmZmZmTJAZmZmZmbmMUCamZmZmZkyQGZmZmZm5jJAMzMzMzOzMECamZmZmRkyQM3MzMzMzDFAZmZmZmbmMkAAAAAAAAAxQJqZmZmZGTVAAAAAAAAANEAAAAAAAIAyQM3MzMzMTDNAmpmZmZkZM0AAAAAAAAAyQGZmZmZmZjJAAAAAAACAMkAzMzMzM7MzQGZmZmZm5jBAzczMzMzMMkAAAAAAAAAzQGZmZmZm5jJAZmZmZmbmMUAzMzMzMzM1QDMzMzMzszFAZmZmZmbmMkBmZmZmZuYxQAAAAAAAgDNAmpmZmZkZMkCamZmZmZkyQAAAAAAAgDFAzczMzMzMMkCamZmZmZkwQJqZmZmZGTNAZmZmZmbmMECamZmZmRk1QAAAAAAAADFAMzMzMzMzMkCamZmZmRkxQAAAAAAAADJAMzMzMzMzMECamZmZmRkzQJqZmZmZmTBAZmZmZmZmM0AAAAAAAAAzQGZmZmZmZjJAMzMzMzMzMUBmZmZmZuYyQAAAAAAAgDFAAAAAAACAMkDNzMzMzMwwQGZmZmZmZjNAmpmZmZkZMECamZmZmRkzQDMzMzMzMzFAmpmZmZmZMUDNzMzMzMwyQGZmZmZmZjNAzczMzMzMMUDNzMzMzEw0QAAAAAAAgDNAmpmZmZmZMkAzMzMzMzMzQM3MzMzMzDJAAAAAAAAAMkCamZmZmRkyQJqZmZmZGTFAmpmZmZkZMkDNzMzMzEwxQGZmZmZm5jJAmpmZmZmZMkAAAAAAAIAyQJqZmZmZGTBAAAAAAACAMkBmZmZmZuYxQAAAAAAAADRAAAAAAAAAMEAAAAAAAAA0QJqZmZmZmTJAZmZmZmbmMkAzMzMzMzMxQAAAAAAAADRAAAAAAAAAMUAAAAAAAAAzQAAAAAAAgDBAzczMzMxMNEAzMzMzM7MxQAAAAAAAgDNAMzMzMzOzNEDNzMzMzEwyQAAAAAAAADFAAAAAAACANEAAAAAAAAAxQJqZmZmZmTJAMzMzMzMzMUDNzMzMzMwzQAAAAAAAADFAAAAAAACAMkDNzMzMzMwvQAAAAAAAADNAmpmZmZmZMUDNzMzMzEwyQJqZmZmZGTFAAAAAAAAAMkBmZmZmZuYxQDMzMzMzMzNAAAAAAACAMkAAAAAAAIAyQJqZmZmZmTFAAAAAAACAMUAAAAAAAIAxQJqZmZmZGTRAAAAAAACAMEBmZmZmZuYxQJqZmZmZGTFAMzMzMzMzMUAAAAAAAAAvQAAAAAAAADFAzczMzMzMMEAzMzMzM7MyQJqZmZmZmTJAZmZmZmZmMkDNzMzMzMwxQJqZmZmZGTJAmpmZmZkZMUAAAAAAAIAyQA==",
          "dtype": "f8"
         },
         "yaxis": "y"
        },
        {
         "customdata": [
          [
           "Dream",
           "Female",
           192,
           3500,
           18.229166666666668
          ],
          [
           "Dream",
           "Male",
           196,
           3900,
           19.897959183673468
          ],
          [
           "Dream",
           "Male",
           193,
           3650,
           18.911917098445596
          ],
          [
           "Dream",
           "Female",
           188,
           3525,
           18.75
          ],
          [
           "Dream",
           "Male",
           197,
           3725,
           18.908629441624367
          ],
          [
           "Dream",
           "Female",
           198,
           3950,
           19.949494949494948
          ],
          [
           "Dream",
           "Female",
           178,
           3250,
           18.258426966292134
          ],
          [
           "Dream",
           "Male",
           197,
           3750,
           19.03553299492386
          ],
          [
           "Dream",
           "Female",
           195,
           4150,
           21.28205128205128
          ],
          [
           "Dream",
           "Male",
           198,
           3700,
           18.68686868686869
          ],
          [
           "Dream",
           "Female",
           193,
           3800,
           19.689119170984455
          ],
          [
           "Dream",
           "Male",
           194,
           3775,
           19.45876288659794
          ],
          [
           "Dream",
           "Female",
           185,
           3700,
           20
          ],
          [
           "Dream",
           "Male",
           201,
           4050,
           20.149253731343283
          ],
          [
           "Dream",
           "Female",
           190,
           3575,
           18.81578947368421
          ],
          [
           "Dream",
           "Male",
           201,
           4050,
           20.149253731343283
          ],
          [
           "Dream",
           "Male",
           197,
           3300,
           16.751269035532996
          ],
          [
           "Dream",
           "Female",
           181,
           3700,
           20.441988950276244
          ],
          [
           "Dream",
           "Female",
           190,
           3450,
           18.157894736842106
          ],
          [
           "Dream",
           "Male",
           195,
           4400,
           22.564102564102566
          ],
          [
           "Dream",
           "Female",
           181,
           3600,
           19.88950276243094
          ],
          [
           "Dream",
           "Male",
           191,
           3400,
           17.801047120418847
          ],
          [
           "Dream",
           "Female",
           187,
           2900,
           15.508021390374331
          ],
          [
           "Dream",
           "Male",
           193,
           3800,
           19.689119170984455
          ],
          [
           "Dream",
           "Female",
           195,
           3300,
           16.923076923076923
          ],
          [
           "Dream",
           "Male",
           197,
           4150,
           21.065989847715738
          ],
          [
           "Dream",
           "Female",
           200,
           3400,
           17
          ],
          [
           "Dream",
           "Male",
           200,
           3800,
           19
          ],
          [
           "Dream",
           "Female",
           191,
           3700,
           19.3717277486911
          ],
          [
           "Dream",
           "Male",
           205,
           4550,
           22.195121951219512
          ],
          [
           "Dream",
           "Female",
           187,
           3200,
           17.112299465240643
          ],
          [
           "Dream",
           "Male",
           201,
           4300,
           21.393034825870647
          ],
          [
           "Dream",
           "Female",
           187,
           3350,
           17.914438502673796
          ],
          [
           "Dream",
           "Male",
           203,
           4100,
           20.19704433497537
          ],
          [
           "Dream",
           "Male",
           195,
           3600,
           18.46153846153846
          ],
          [
           "Dream",
           "Female",
           199,
           3900,
           19.597989949748744
          ],
          [
           "Dream",
           "Female",
           195,
           3850,
           19.743589743589745
          ],
          [
           "Dream",
           "Male",
           210,
           4800,
           22.857142857142858
          ],
          [
           "Dream",
           "Female",
           192,
           2700,
           14.0625
          ],
          [
           "Dream",
           "Male",
           205,
           4500,
           21.951219512195124
          ],
          [
           "Dream",
           "Male",
           210,
           3950,
           18.80952380952381
          ],
          [
           "Dream",
           "Female",
           187,
           3650,
           19.518716577540108
          ],
          [
           "Dream",
           "Male",
           196,
           3550,
           18.112244897959183
          ],
          [
           "Dream",
           "Female",
           196,
           3500,
           17.857142857142858
          ],
          [
           "Dream",
           "Female",
           196,
           3675,
           18.75
          ],
          [
           "Dream",
           "Male",
           201,
           4450,
           22.139303482587064
          ],
          [
           "Dream",
           "Female",
           190,
           3400,
           17.894736842105264
          ],
          [
           "Dream",
           "Male",
           212,
           4300,
           20.28301886792453
          ],
          [
           "Dream",
           "Male",
           187,
           3250,
           17.379679144385026
          ],
          [
           "Dream",
           "Female",
           198,
           3675,
           18.560606060606062
          ],
          [
           "Dream",
           "Female",
           199,
           3325,
           16.70854271356784
          ],
          [
           "Dream",
           "Male",
           201,
           3950,
           19.65174129353234
          ],
          [
           "Dream",
           "Female",
           193,
           3600,
           18.65284974093264
          ],
          [
           "Dream",
           "Male",
           203,
           4050,
           19.950738916256157
          ],
          [
           "Dream",
           "Female",
           187,
           3350,
           17.914438502673796
          ],
          [
           "Dream",
           "Male",
           197,
           3450,
           17.512690355329948
          ],
          [
           "Dream",
           "Female",
           191,
           3250,
           17.015706806282722
          ],
          [
           "Dream",
           "Male",
           203,
           4050,
           19.950738916256157
          ],
          [
           "Dream",
           "Male",
           202,
           3800,
           18.81188118811881
          ],
          [
           "Dream",
           "Female",
           194,
           3525,
           18.170103092783506
          ],
          [
           "Dream",
           "Male",
           206,
           3950,
           19.174757281553397
          ],
          [
           "Dream",
           "Female",
           189,
           3650,
           19.312169312169313
          ],
          [
           "Dream",
           "Female",
           195,
           3650,
           18.71794871794872
          ],
          [
           "Dream",
           "Male",
           207,
           4000,
           19.32367149758454
          ],
          [
           "Dream",
           "Female",
           202,
           3400,
           16.831683168316832
          ],
          [
           "Dream",
           "Male",
           193,
           3775,
           19.559585492227978
          ],
          [
           "Dream",
           "Male",
           210,
           4100,
           19.523809523809526
          ],
          [
           "Dream",
           "Female",
           198,
           3775,
           19.065656565656564
          ]
         ],
         "hovertemplate": "Species=Chinstrap<br>Island=%{customdata[0]}<br>Sex=%{customdata[1]}<br>Flipper Length Mm=%{customdata[2]:.0f}<br>Body Mass G=%{customdata[3]:.0f}<br>Mass/Flipper=%{customdata[4]:.2f}<extra></extra>",
         "legendgroup": "Chinstrap",
         "marker": {
          "color": "#EF553B",
          "symbol": "circle"
         },
         "mode": "markers",
         "name": "Chinstrap",
         "orientation": "v",
         "showlegend": true,
         "type": "scatter",
         "x": {
          "bdata": "AAAAAABAR0AAAAAAAABJQGZmZmZmpklAMzMzMzOzRkCamZmZmVlKQJqZmZmZmUZAzczMzMwMR0BmZmZmZqZJQAAAAAAAAEdAZmZmZmamSUDNzMzMzExHQJqZmZmZ2UlAAAAAAACAR0AAAAAAAABKQDMzMzMz80ZAAAAAAABASUBmZmZmZiZJQAAAAAAAAE1AMzMzMzMzR0CamZmZmZlIQDMzMzMzM0VAAAAAAABASECamZmZmZlFQM3MzMzMTElAmpmZmZlZR0AAAAAAAABKQAAAAAAAQElAAAAAAADASEAzMzMzMzNHQGZmZmZmZkpAMzMzMzNzRECamZmZmRlLQAAAAAAAQEVAAAAAAACASUCamZmZmdlIQAAAAAAAwEdAzczMzMzMR0AAAAAAAABKQDMzMzMzc0dAAAAAAADASkAAAAAAAIBIQJqZmZmZGUdAMzMzMzNzSUAAAAAAAMBGQDMzMzMzc0lAZmZmZmZmSUDNzMzMzAxJQAAAAAAAgEhAAAAAAADASUBmZmZmZuZIQM3MzMzMDEhAMzMzMzOzSUCamZmZmdlGQJqZmZmZWUlAAAAAAABARUCamZmZmRlKQJqZmZmZmUZAZmZmZmamSECamZmZmRlJQM3MzMzMzEZAMzMzMzPzSUBmZmZmZmZHQJqZmZmZ2UZAZmZmZmbmS0AAAAAAAMBFQM3MzMzMzEhAZmZmZmZmSUCamZmZmRlJQA==",
          "dtype": "f8"
         },
         "xaxis": "x",
         "y": {
          "bdata": "ZmZmZmbmMUAAAAAAAIAzQDMzMzMzMzNAMzMzMzOzMkDNzMzMzMwzQM3MzMzMzDFAMzMzMzMzMkAzMzMzMzMyQGZmZmZm5jJAZmZmZmbmM0DNzMzMzMwxQM3MzMzMTDRAzczMzMxMMUCamZmZmRkyQJqZmZmZGTFAmpmZmZmZM0AAAAAAAAA0QM3MzMzMzDFAmpmZmZmZMkAzMzMzMzMyQM3MzMzMTDFAAAAAAACAMUCamZmZmZkwQGZmZmZmZjNAZmZmZmbmMUAAAAAAAAAzQGZmZmZmZjJAAAAAAAAAM0DNzMzMzMwxQAAAAAAAADRAmpmZmZmZMEDNzMzMzMw0QDMzMzMzszBAzczMzMzMMkCamZmZmZkyQM3MzMzMzDBAzczMzMxMMkAzMzMzM7M0QJqZmZmZmTBAZmZmZmbmM0AAAAAAAIAzQAAAAAAAgDFAmpmZmZkZM0AAAAAAAAAxQGZmZmZm5jFAAAAAAACAMkBmZmZmZuYxQJqZmZmZmTNAMzMzMzOzMkDNzMzMzEwxQGZmZmZmZjBAAAAAAAAAM0DNzMzMzEwxQDMzMzMzszNAzczMzMxMMUDNzMzMzMwyQJqZmZmZmTBAZmZmZmbmM0DNzMzMzMwyQGZmZmZmZjNAAAAAAACAM0AAAAAAAIAwQAAAAAAAADFAzczMzMzMM0CamZmZmRkyQDMzMzMzMzJAAAAAAAAAM0AzMzMzM7MyQA==",
          "dtype": "f8"
         },
         "yaxis": "y"
        },
        {
         "customdata": [
          [
           "Biscoe",
           "Female",
           211,
           4500,
           21.327014218009477
          ],
          [
           "Biscoe",
           "Male",
           230,
           5700,
           24.782608695652176
          ],
          [
           "Biscoe",
           "Female",
           210,
           4450,
           21.19047619047619
          ],
          [
           "Biscoe",
           "Male",
           218,
           5700,
           26.146788990825687
          ],
          [
           "Biscoe",
           "Male",
           215,
           5400,
           25.11627906976744
          ],
          [
           "Biscoe",
           "Female",
           210,
           4550,
           21.666666666666668
          ],
          [
           "Biscoe",
           "Female",
           211,
           4800,
           22.748815165876778
          ],
          [
           "Biscoe",
           "Male",
           219,
           5200,
           23.744292237442924
          ],
          [
           "Biscoe",
           "Female",
           209,
           4400,
           21.05263157894737
          ],
          [
           "Biscoe",
           "Male",
           215,
           5150,
           23.953488372093023
          ],
          [
           "Biscoe",
           "Female",
           214,
           4650,
           21.72897196261682
          ],
          [
           "Biscoe",
           "Male",
           216,
           5550,
           25.694444444444443
          ],
          [
           "Biscoe",
           "Female",
           214,
           4650,
           21.72897196261682
          ],
          [
           "Biscoe",
           "Male",
           213,
           5850,
           27.464788732394368
          ],
          [
           "Biscoe",
           "Female",
           210,
           4200,
           20
          ],
          [
           "Biscoe",
           "Male",
           217,
           5850,
           26.95852534562212
          ],
          [
           "Biscoe",
           "Female",
           210,
           4150,
           19.761904761904763
          ],
          [
           "Biscoe",
           "Male",
           221,
           6300,
           28.506787330316744
          ],
          [
           "Biscoe",
           "Female",
           209,
           4800,
           22.966507177033492
          ],
          [
           "Biscoe",
           "Male",
           222,
           5350,
           24.0990990990991
          ],
          [
           "Biscoe",
           "Male",
           218,
           5700,
           26.146788990825687
          ],
          [
           "Biscoe",
           "Female",
           215,
           5000,
           23.25581395348837
          ],
          [
           "Biscoe",
           "Female",
           213,
           4400,
           20.657276995305164
          ],
          [
           "Biscoe",
           "Male",
           215,
           5050,
           23.488372093023255
          ],
          [
           "Biscoe",
           "Female",
           215,
           5000,
           23.25581395348837
          ],
          [
           "Biscoe",
           "Male",
           215,
           5100,
           23.72093023255814
          ],
          [
           "Biscoe",
           null,
           216,
           4100,
           18.98148148148148
          ],
          [
           "Biscoe",
           "Male",
           215,
           5650,
           26.27906976744186
          ],
          [
           "Biscoe",
           "Female",
           210,
           4600,
           21.904761904761905
          ],
          [
           "Biscoe",
           "Male",
           220,
           5550,
           25.227272727272727
          ],
          [
           "Biscoe",
           "Male",
           222,
           5250,
           23.64864864864865
          ],
          [
           "Biscoe",
           "Female",
           209,
           4700,
           22.48803827751196
          ],
          [
           "Biscoe",
           "Female",
           207,
           5050,
           24.396135265700483
          ],
          [
           "Biscoe",
           "Male",
           230,
           6050,
           26.304347826086957
          ],
          [
           "Biscoe",
           "Female",
           220,
           5150,
           23.40909090909091
          ],
          [
           "Biscoe",
           "Male",
           220,
           5400,
           24.545454545454547
          ],
          [
           "Biscoe",
           "Female",
           213,
           4950,
           23.239436619718308
          ],
          [
           "Biscoe",
           "Male",
           219,
           5250,
           23.972602739726028
          ],
          [
           "Biscoe",
           "Female",
           208,
           4350,
           20.91346153846154
          ],
          [
           "Biscoe",
           "Male",
           208,
           5350,
           25.721153846153847
          ],
          [
           "Biscoe",
           "Female",
           208,
           3950,
           18.990384615384617
          ],
          [
           "Biscoe",
           "Male",
           225,
           5700,
           25.333333333333332
          ],
          [
           "Biscoe",
           "Female",
           210,
           4300,
           20.476190476190474
          ],
          [
           "Biscoe",
           "Male",
           216,
           4750,
           21.99074074074074
          ],
          [
           "Biscoe",
           "Male",
           222,
           5550,
           25
          ],
          [
           "Biscoe",
           "Female",
           217,
           4900,
           22.580645161290324
          ],
          [
           "Biscoe",
           "Female",
           210,
           4200,
           20
          ],
          [
           "Biscoe",
           "Male",
           225,
           5400,
           24
          ],
          [
           "Biscoe",
           "Female",
           213,
           5100,
           23.943661971830984
          ],
          [
           "Biscoe",
           "Male",
           215,
           5300,
           24.651162790697676
          ],
          [
           "Biscoe",
           "Female",
           210,
           4850,
           23.095238095238095
          ],
          [
           "Biscoe",
           "Male",
           220,
           5300,
           24.09090909090909
          ],
          [
           "Biscoe",
           "Female",
           210,
           4400,
           20.952380952380953
          ],
          [
           "Biscoe",
           "Male",
           225,
           5000,
           22.22222222222222
          ],
          [
           "Biscoe",
           "Female",
           217,
           4900,
           22.580645161290324
          ],
          [
           "Biscoe",
           "Male",
           220,
           5050,
           22.954545454545453
          ],
          [
           "Biscoe",
           "Female",
           208,
           4300,
           20.673076923076923
          ],
          [
           "Biscoe",
           "Male",
           220,
           5000,
           22.727272727272727
          ],
          [
           "Biscoe",
           "Female",
           208,
           4450,
           21.39423076923077
          ],
          [
           "Biscoe",
           "Male",
           224,
           5550,
           24.776785714285715
          ],
          [
           "Biscoe",
           "Female",
           208,
           4200,
           20.192307692307693
          ],
          [
           "Biscoe",
           "Male",
           221,
           5300,
           23.981900452488688
          ],
          [
           "Biscoe",
           "Female",
           214,
           4400,
           20.560747663551403
          ],
          [
           "Biscoe",
           "Male",
           231,
           5650,
           24.458874458874458
          ],
          [
           "Biscoe",
           "Female",
           219,
           4700,
           21.461187214611872
          ],
          [
           "Biscoe",
           "Male",
           230,
           5700,
           24.782608695652176
          ],
          [
           "Biscoe",
           null,
           214,
           4650,
           21.72897196261682
          ],
          [
           "Biscoe",
           "Male",
           229,
           5800,
           25.32751091703057
          ],
          [
           "Biscoe",
           "Female",
           220,
           4700,
           21.363636363636363
          ],
          [
           "Biscoe",
           "Male",
           223,
           5550,
           24.887892376681613
          ],
          [
           "Biscoe",
           "Female",
           216,
           4750,
           21.99074074074074
          ],
          [
           "Biscoe",
           "Male",
           221,
           5000,
           22.624434389140273
          ],
          [
           "Biscoe",
           "Male",
           221,
           5100,
           23.076923076923077
          ],
          [
           "Biscoe",
           "Female",
           217,
           5200,
           23.963133640552996
          ],
          [
           "Biscoe",
           "Female",
           216,
           4700,
           21.75925925925926
          ],
          [
           "Biscoe",
           "Male",
           230,
           5800,
           25.217391304347824
          ],
          [
           "Biscoe",
           "Female",
           209,
           4600,
           22.00956937799043
          ],
          [
           "Biscoe",
           "Male",
           220,
           6000,
           27.272727272727273
          ],
          [
           "Biscoe",
           "Female",
           215,
           4750,
           22.093023255813954
          ],
          [
           "Biscoe",
           "Male",
           223,
           5950,
           26.681614349775785
          ],
          [
           "Biscoe",
           "Female",
           212,
           4625,
           21.816037735849058
          ],
          [
           "Biscoe",
           "Male",
           221,
           5450,
           24.660633484162897
          ],
          [
           "Biscoe",
           "Female",
           212,
           4725,
           22.287735849056602
          ],
          [
           "Biscoe",
           "Male",
           224,
           5350,
           23.883928571428573
          ],
          [
           "Biscoe",
           "Female",
           212,
           4750,
           22.40566037735849
          ],
          [
           "Biscoe",
           "Male",
           228,
           5600,
           24.56140350877193
          ],
          [
           "Biscoe",
           "Female",
           218,
           4600,
           21.10091743119266
          ],
          [
           "Biscoe",
           "Male",
           218,
           5300,
           24.31192660550459
          ],
          [
           "Biscoe",
           "Female",
           212,
           4875,
           22.995283018867923
          ],
          [
           "Biscoe",
           "Male",
           230,
           5550,
           24.130434782608695
          ],
          [
           "Biscoe",
           "Female",
           218,
           4950,
           22.706422018348626
          ],
          [
           "Biscoe",
           "Male",
           228,
           5400,
           23.68421052631579
          ],
          [
           "Biscoe",
           "Female",
           212,
           4750,
           22.40566037735849
          ],
          [
           "Biscoe",
           "Male",
           224,
           5650,
           25.223214285714285
          ],
          [
           "Biscoe",
           "Female",
           214,
           4850,
           22.66355140186916
          ],
          [
           "Biscoe",
           "Male",
           226,
           5200,
           23.008849557522122
          ],
          [
           "Biscoe",
           "Male",
           216,
           4925,
           22.800925925925927
          ],
          [
           "Biscoe",
           "Female",
           222,
           4875,
           21.95945945945946
          ],
          [
           "Biscoe",
           "Female",
           203,
           4625,
           22.783251231527093
          ],
          [
           "Biscoe",
           "Male",
           225,
           5250,
           23.333333333333332
          ],
          [
           "Biscoe",
           "Female",
           219,
           4850,
           22.14611872146119
          ],
          [
           "Biscoe",
           "Male",
           228,
           5600,
           24.56140350877193
          ],
          [
           "Biscoe",
           "Female",
           215,
           4975,
           23.13953488372093
          ],
          [
           "Biscoe",
           "Male",
           228,
           5500,
           24.12280701754386
          ],
          [
           "Biscoe",
           null,
           216,
           4725,
           21.875
          ],
          [
           "Biscoe",
           "Male",
           215,
           5500,
           25.58139534883721
          ],
          [
           "Biscoe",
           "Female",
           210,
           4700,
           22.38095238095238
          ],
          [
           "Biscoe",
           "Male",
           219,
           5500,
           25.114155251141554
          ],
          [
           "Biscoe",
           "Female",
           208,
           4575,
           21.995192307692307
          ],
          [
           "Biscoe",
           "Male",
           209,
           5500,
           26.31578947368421
          ],
          [
           "Biscoe",
           "Female",
           216,
           5000,
           23.14814814814815
          ],
          [
           "Biscoe",
           "Male",
           229,
           5950,
           25.982532751091703
          ],
          [
           "Biscoe",
           "Female",
           213,
           4650,
           21.830985915492956
          ],
          [
           "Biscoe",
           "Male",
           230,
           5500,
           23.91304347826087
          ],
          [
           "Biscoe",
           "Female",
           217,
           4375,
           20.161290322580644
          ],
          [
           "Biscoe",
           "Male",
           230,
           5850,
           25.434782608695652
          ],
          [
           "Biscoe",
           null,
           217,
           4875,
           22.465437788018434
          ],
          [
           "Biscoe",
           "Male",
           222,
           6000,
           27.027027027027028
          ],
          [
           "Biscoe",
           "Female",
           214,
           4925,
           23.014018691588785
          ],
          [
           "Biscoe",
           null,
           null,
           null,
           null
          ],
          [
           "Biscoe",
           "Female",
           215,
           4850,
           22.558139534883722
          ],
          [
           "Biscoe",
           "Male",
           222,
           5750,
           25.9009009009009
          ],
          [
           "Biscoe",
           "Female",
           212,
           5200,
           24.528301886792452
          ],
          [
           "Biscoe",
           "Male",
           213,
           5400,
           25.35211267605634
          ]
         ],
         "hovertemplate": "Species=Gentoo<br>Island=%{customdata[0]}<br>Sex=%{customdata[1]}<br>Flipper Length Mm=%{customdata[2]:.0f}<br>Body Mass G=%{customdata[3]:.0f}<br>Mass/Flipper=%{customdata[4]:.2f}<extra></extra>",
         "legendgroup": "Gentoo",
         "marker": {
          "color": "#00cc96",
          "symbol": "circle"
         },
         "mode": "markers",
         "name": "Gentoo",
         "orientation": "v",
         "showlegend": true,
         "type": "scatter",
         "x": {
          "bdata": "zczMzMwMR0AAAAAAAABJQJqZmZmZWUhAAAAAAAAASUDNzMzMzMxHQAAAAAAAQEdAMzMzMzOzRkCamZmZmVlHQGZmZmZmpkVAZmZmZmZmR0AzMzMzM3NEQAAAAAAAgEhAAAAAAADARkAzMzMzMzNIQGZmZmZm5kZAZmZmZmamSEAAAAAAAABFQJqZmZmZmUhAmpmZmZkZR0CamZmZmVlIQJqZmZmZGUlAzczMzMyMRkAAAAAAAEBHQGZmZmZmJkdAMzMzMzNzRUDNzMzMzAxHQAAAAAAAQEZAZmZmZmbmR0CamZmZmRlIQAAAAAAAAElAZmZmZmamR0BmZmZmZmZFQM3MzMzMjEZAzczMzMzMTUDNzMzMzIxIQDMzMzMzM0hAzczMzMxMRUAzMzMzMzNGQAAAAAAAAEZAmpmZmZlZSECamZmZmVlFQM3MzMzMzEhAZmZmZmamRkDNzMzMzMxIQAAAAAAAQElAzczMzMzMRUAAAAAAAMBGQAAAAAAAQElAMzMzMzNzRkCamZmZmZlGQM3MzMzMTEdAAAAAAABASEDNzMzMzIxGQM3MzMzMDElAAAAAAABAR0AAAAAAAIBGQGZmZmZm5kVAAAAAAADARkCamZmZmZlFQDMzMzMzM0lAZmZmZmamRkCamZmZmRlHQJqZmZmZ2UZAZmZmZmYmS0BmZmZmZuZGQGZmZmZm5khAmpmZmZkZR0AAAAAAAMBIQAAAAAAAwEVAmpmZmZlZSUCamZmZmdlHQDMzMzMzM0dAmpmZmZkZSEAAAAAAAEBHQDMzMzMzM0dAzczMzMxMSEAAAAAAAMBHQM3MzMzMjElAmpmZmZmZRkCamZmZmZlGQM3MzMzMjEhAAAAAAABASkAzMzMzM7NHQAAAAAAAAElAMzMzMzNzRkBmZmZmZmZJQDMzMzMzs0VAZmZmZmamSUAAAAAAAMBHQM3MzMzMDEpAAAAAAADAR0CamZmZmRlKQAAAAAAAwEZAAAAAAADASEAAAAAAAEBGQGZmZmZmZklAMzMzMzOzSEAzMzMzM3NHQDMzMzMzM0hAzczMzMyMSUAAAAAAAEBIQDMzMzMz80tAmpmZmZmZR0DNzMzMzIxIQGZmZmZmpkdAZmZmZmZmR0CamZmZmdlEQDMzMzMzs0pAZmZmZmamRUDNzMzMzAxIQAAAAAAAQElAZmZmZmbmSEAAAAAAAMBFQAAAAAAAwElAmpmZmZkZR0DNzMzMzIxLQAAAAAAAQEZAZmZmZmZmSECamZmZmZlHQAAAAAAAAPh/ZmZmZmZmR0AzMzMzMzNJQJqZmZmZmUZAMzMzMzPzSEA=",
          "dtype": "f8"
         },
         "xaxis": "x",
         "y": {
          "bdata": "ZmZmZmZmKkDNzMzMzEwwQDMzMzMzMyxAZmZmZmZmLkAAAAAAAAAtQAAAAAAAACtAMzMzMzMzLUCamZmZmZkuQM3MzMzMzCpAzczMzMzMLkBmZmZmZmYrQJqZmZmZGTBAZmZmZmZmK0AzMzMzMzMtQDMzMzMzMy1AZmZmZmZmL0AAAAAAAAArQGZmZmZmZi5AAAAAAAAALUAzMzMzMzMuQJqZmZmZmSxAAAAAAAAALUAAAAAAAAAtQJqZmZmZmS9AMzMzMzMzKkAzMzMzMzMuQJqZmZmZmSxAAAAAAAAALkCamZmZmZksQJqZmZmZmS5AmpmZmZmZLkBmZmZmZmYsQAAAAAAAAC1AAAAAAAAAMUCamZmZmZktQM3MzMzMTDBAZmZmZmZmK0DNzMzMzEwxQDMzMzMzMytAZmZmZmZmL0BmZmZmZmYrQAAAAAAAADBAZmZmZmZmK0AAAAAAAAAuQM3MzMzMzC9AzczMzMzMK0DNzMzMzMwrQM3MzMzMzC9AmpmZmZmZKkCamZmZmZkvQGZmZmZmZixAMzMzMzMzLEDNzMzMzMwsQAAAAAAAAC5AzczMzMzMLEDNzMzMzMwuQM3MzMzMzCtAAAAAAAAALkAAAAAAAAAtQJqZmZmZmS5AmpmZmZmZK0DNzMzMzMwtQM3MzMzMzCtAZmZmZmZmL0BmZmZmZmYsQM3MzMzMzDBAzczMzMzMLEAzMzMzMzMwQGZmZmZmZixAAAAAAAAALkAAAAAAAAAuQDMzMzMzMy9AMzMzMzMzL0CamZmZmZktQAAAAAAAAC5AAAAAAAAAMEBmZmZmZmYsQM3MzMzMTDBAmpmZmZmZK0BmZmZmZmYwQAAAAAAAAC1AMzMzMzMzL0AzMzMzMzMtQM3MzMzMzC9AmpmZmZmZK0DNzMzMzEwxQM3MzMzMzCxAZmZmZmZmLEAAAAAAAAAsQAAAAAAAADFAAAAAAAAALkCamZmZmRkxQAAAAAAAAC1AmpmZmZkZMEBmZmZmZmYtQGZmZmZmZi9AmpmZmZmZL0AzMzMzMzMtQM3MzMzMzCxAAAAAAACAMEAAAAAAAAAuQAAAAAAAADFAAAAAAAAAL0AAAAAAAAAuQJqZmZmZmStAmpmZmZkZMEBmZmZmZmYtQJqZmZmZmS9AAAAAAAAALEAzMzMzMzMuQGZmZmZmZi5AzczMzMzML0BmZmZmZmYuQM3MzMzMTDBAMzMzMzMzLEAAAAAAAAAwQGZmZmZmZi9AMzMzMzMzMEBmZmZmZmYrQAAAAAAAAPh/mpmZmZmZLEBmZmZmZmYvQJqZmZmZmS1AmpmZmZkZMEA=",
          "dtype": "f8"
         },
         "yaxis": "y"
        }
       ],
       "layout": {
        "legend": {
         "title": {
          "text": "Species"
         },
         "tracegroupgap": 0
        },
        "template": {
         "data": {
          "bar": [
           {
            "error_x": {
             "color": "#2a3f5f"
            },
            "error_y": {
             "color": "#2a3f5f"
            },
            "marker": {
             "line": {
              "color": "#E5ECF6",
              "width": 0.5
             },
             "pattern": {
              "fillmode": "overlay",
              "size": 10,
              "solidity": 0.2
             }
            },
            "type": "bar"
           }
          ],
          "barpolar": [
           {
            "marker": {
             "line": {
              "color": "#E5ECF6",
              "width": 0.5
             },
             "pattern": {
              "fillmode": "overlay",
              "size": 10,
              "solidity": 0.2
             }
            },
            "type": "barpolar"
           }
          ],
          "carpet": [
           {
            "aaxis": {
             "endlinecolor": "#2a3f5f",
             "gridcolor": "white",
             "linecolor": "white",
             "minorgridcolor": "white",
             "startlinecolor": "#2a3f5f"
            },
            "baxis": {
             "endlinecolor": "#2a3f5f",
             "gridcolor": "white",
             "linecolor": "white",
             "minorgridcolor": "white",
             "startlinecolor": "#2a3f5f"
            },
            "type": "carpet"
           }
          ],
          "choropleth": [
           {
            "colorbar": {
             "outlinewidth": 0,
             "ticks": ""
            },
            "type": "choropleth"
           }
          ],
          "contour": [
           {
            "colorbar": {
             "outlinewidth": 0,
             "ticks": ""
            },
            "colorscale": [
             [
              0,
              "#0d0887"
             ],
             [
              0.1111111111111111,
              "#46039f"
             ],
             [
              0.2222222222222222,
              "#7201a8"
             ],
             [
              0.3333333333333333,
              "#9c179e"
             ],
             [
              0.4444444444444444,
              "#bd3786"
             ],
             [
              0.5555555555555556,
              "#d8576b"
             ],
             [
              0.6666666666666666,
              "#ed7953"
             ],
             [
              0.7777777777777778,
              "#fb9f3a"
             ],
             [
              0.8888888888888888,
              "#fdca26"
             ],
             [
              1,
              "#f0f921"
             ]
            ],
            "type": "contour"
           }
          ],
          "contourcarpet": [
           {
            "colorbar": {
             "outlinewidth": 0,
             "ticks": ""
            },
            "type": "contourcarpet"
           }
          ],
          "heatmap": [
           {
            "colorbar": {
             "outlinewidth": 0,
             "ticks": ""
            },
            "colorscale": [
             [
              0,
              "#0d0887"
             ],
             [
              0.1111111111111111,
              "#46039f"
             ],
             [
              0.2222222222222222,
              "#7201a8"
             ],
             [
              0.3333333333333333,
              "#9c179e"
             ],
             [
              0.4444444444444444,
              "#bd3786"
             ],
             [
              0.5555555555555556,
              "#d8576b"
             ],
             [
              0.6666666666666666,
              "#ed7953"
             ],
             [
              0.7777777777777778,
              "#fb9f3a"
             ],
             [
              0.8888888888888888,
              "#fdca26"
             ],
             [
              1,
              "#f0f921"
             ]
            ],
            "type": "heatmap"
           }
          ],
          "histogram": [
           {
            "marker": {
             "pattern": {
              "fillmode": "overlay",
              "size": 10,
              "solidity": 0.2
             }
            },
            "type": "histogram"
           }
          ],
          "histogram2d": [
           {
            "colorbar": {
             "outlinewidth": 0,
             "ticks": ""
            },
            "colorscale": [
             [
              0,
              "#0d0887"
             ],
             [
              0.1111111111111111,
              "#46039f"
             ],
             [
              0.2222222222222222,
              "#7201a8"
             ],
             [
              0.3333333333333333,
              "#9c179e"
             ],
             [
              0.4444444444444444,
              "#bd3786"
             ],
             [
              0.5555555555555556,
              "#d8576b"
             ],
             [
              0.6666666666666666,
              "#ed7953"
             ],
             [
              0.7777777777777778,
              "#fb9f3a"
             ],
             [
              0.8888888888888888,
              "#fdca26"
             ],
             [
              1,
              "#f0f921"
             ]
            ],
            "type": "histogram2d"
           }
          ],
          "histogram2dcontour": [
           {
            "colorbar": {
             "outlinewidth": 0,
             "ticks": ""
            },
            "colorscale": [
             [
              0,
              "#0d0887"
             ],
             [
              0.1111111111111111,
              "#46039f"
             ],
             [
              0.2222222222222222,
              "#7201a8"
             ],
             [
              0.3333333333333333,
              "#9c179e"
             ],
             [
              0.4444444444444444,
              "#bd3786"
             ],
             [
              0.5555555555555556,
              "#d8576b"
             ],
             [
              0.6666666666666666,
              "#ed7953"
             ],
             [
              0.7777777777777778,
              "#fb9f3a"
             ],
             [
              0.8888888888888888,
              "#fdca26"
             ],
             [
              1,
              "#f0f921"
             ]
            ],
            "type": "histogram2dcontour"
           }
          ],
          "mesh3d": [
           {
            "colorbar": {
             "outlinewidth": 0,
             "ticks": ""
            },
            "type": "mesh3d"
           }
          ],
          "parcoords": [
           {
            "line": {
             "colorbar": {
              "outlinewidth": 0,
              "ticks": ""
             }
            },
            "type": "parcoords"
           }
          ],
          "pie": [
           {
            "automargin": true,
            "type": "pie"
           }
          ],
          "scatter": [
           {
            "fillpattern": {
             "fillmode": "overlay",
             "size": 10,
             "solidity": 0.2
            },
            "type": "scatter"
           }
          ],
          "scatter3d": [
           {
            "line": {
             "colorbar": {
              "outlinewidth": 0,
              "ticks": ""
             }
            },
            "marker": {
             "colorbar": {
              "outlinewidth": 0,
              "ticks": ""
             }
            },
            "type": "scatter3d"
           }
          ],
          "scattercarpet": [
           {
            "marker": {
             "colorbar": {
              "outlinewidth": 0,
              "ticks": ""
             }
            },
            "type": "scattercarpet"
           }
          ],
          "scattergeo": [
           {
            "marker": {
             "colorbar": {
              "outlinewidth": 0,
              "ticks": ""
             }
            },
            "type": "scattergeo"
           }
          ],
          "scattergl": [
           {
            "marker": {
             "colorbar": {
              "outlinewidth": 0,
              "ticks": ""
             }
            },
            "type": "scattergl"
           }
          ],
          "scattermap": [
           {
            "marker": {
             "colorbar": {
              "outlinewidth": 0,
              "ticks": ""
             }
            },
            "type": "scattermap"
           }
          ],
          "scattermapbox": [
           {
            "marker": {
             "colorbar": {
              "outlinewidth": 0,
              "ticks": ""
             }
            },
            "type": "scattermapbox"
           }
          ],
          "scatterpolar": [
           {
            "marker": {
             "colorbar": {
              "outlinewidth": 0,
              "ticks": ""
             }
            },
            "type": "scatterpolar"
           }
          ],
          "scatterpolargl": [
           {
            "marker": {
             "colorbar": {
              "outlinewidth": 0,
              "ticks": ""
             }
            },
            "type": "scatterpolargl"
           }
          ],
          "scatterternary": [
           {
            "marker": {
             "colorbar": {
              "outlinewidth": 0,
              "ticks": ""
             }
            },
            "type": "scatterternary"
           }
          ],
          "surface": [
           {
            "colorbar": {
             "outlinewidth": 0,
             "ticks": ""
            },
            "colorscale": [
             [
              0,
              "#0d0887"
             ],
             [
              0.1111111111111111,
              "#46039f"
             ],
             [
              0.2222222222222222,
              "#7201a8"
             ],
             [
              0.3333333333333333,
              "#9c179e"
             ],
             [
              0.4444444444444444,
              "#bd3786"
             ],
             [
              0.5555555555555556,
              "#d8576b"
             ],
             [
              0.6666666666666666,
              "#ed7953"
             ],
             [
              0.7777777777777778,
              "#fb9f3a"
             ],
             [
              0.8888888888888888,
              "#fdca26"
             ],
             [
              1,
              "#f0f921"
             ]
            ],
            "type": "surface"
           }
          ],
          "table": [
           {
            "cells": {
             "fill": {
              "color": "#EBF0F8"
             },
             "line": {
              "color": "white"
             }
            },
            "header": {
             "fill": {
              "color": "#C8D4E3"
             },
             "line": {
              "color": "white"
             }
            },
            "type": "table"
           }
          ]
         },
         "layout": {
          "annotationdefaults": {
           "arrowcolor": "#2a3f5f",
           "arrowhead": 0,
           "arrowwidth": 1
          },
          "autotypenumbers": "strict",
          "coloraxis": {
           "colorbar": {
            "outlinewidth": 0,
            "ticks": ""
           }
          },
          "colorscale": {
           "diverging": [
            [
             0,
             "#8e0152"
            ],
            [
             0.1,
             "#c51b7d"
            ],
            [
             0.2,
             "#de77ae"
            ],
            [
             0.3,
             "#f1b6da"
            ],
            [
             0.4,
             "#fde0ef"
            ],
            [
             0.5,
             "#f7f7f7"
            ],
            [
             0.6,
             "#e6f5d0"
            ],
            [
             0.7,
             "#b8e186"
            ],
            [
             0.8,
             "#7fbc41"
            ],
            [
             0.9,
             "#4d9221"
            ],
            [
             1,
             "#276419"
            ]
           ],
           "sequential": [
            [
             0,
             "#0d0887"
            ],
            [
             0.1111111111111111,
             "#46039f"
            ],
            [
             0.2222222222222222,
             "#7201a8"
            ],
            [
             0.3333333333333333,
             "#9c179e"
            ],
            [
             0.4444444444444444,
             "#bd3786"
            ],
            [
             0.5555555555555556,
             "#d8576b"
            ],
            [
             0.6666666666666666,
             "#ed7953"
            ],
            [
             0.7777777777777778,
             "#fb9f3a"
            ],
            [
             0.8888888888888888,
             "#fdca26"
            ],
            [
             1,
             "#f0f921"
            ]
           ],
           "sequentialminus": [
            [
             0,
             "#0d0887"
            ],
            [
             0.1111111111111111,
             "#46039f"
            ],
            [
             0.2222222222222222,
             "#7201a8"
            ],
            [
             0.3333333333333333,
             "#9c179e"
            ],
            [
             0.4444444444444444,
             "#bd3786"
            ],
            [
             0.5555555555555556,
             "#d8576b"
            ],
            [
             0.6666666666666666,
             "#ed7953"
            ],
            [
             0.7777777777777778,
             "#fb9f3a"
            ],
            [
             0.8888888888888888,
             "#fdca26"
            ],
            [
             1,
             "#f0f921"
            ]
           ]
          },
          "colorway": [
           "#636efa",
           "#EF553B",
           "#00cc96",
           "#ab63fa",
           "#FFA15A",
           "#19d3f3",
           "#FF6692",
           "#B6E880",
           "#FF97FF",
           "#FECB52"
          ],
          "font": {
           "color": "#2a3f5f"
          },
          "geo": {
           "bgcolor": "white",
           "lakecolor": "white",
           "landcolor": "#E5ECF6",
           "showlakes": true,
           "showland": true,
           "subunitcolor": "white"
          },
          "hoverlabel": {
           "align": "left"
          },
          "hovermode": "closest",
          "mapbox": {
           "style": "light"
          },
          "paper_bgcolor": "white",
          "plot_bgcolor": "#E5ECF6",
          "polar": {
           "angularaxis": {
            "gridcolor": "white",
            "linecolor": "white",
            "ticks": ""
           },
           "bgcolor": "#E5ECF6",
           "radialaxis": {
            "gridcolor": "white",
            "linecolor": "white",
            "ticks": ""
           }
          },
          "scene": {
           "xaxis": {
            "backgroundcolor": "#E5ECF6",
            "gridcolor": "white",
            "gridwidth": 2,
            "linecolor": "white",
            "showbackground": true,
            "ticks": "",
            "zerolinecolor": "white"
           },
           "yaxis": {
            "backgroundcolor": "#E5ECF6",
            "gridcolor": "white",
            "gridwidth": 2,
            "linecolor": "white",
            "showbackground": true,
            "ticks": "",
            "zerolinecolor": "white"
           },
           "zaxis": {
            "backgroundcolor": "#E5ECF6",
            "gridcolor": "white",
            "gridwidth": 2,
            "linecolor": "white",
            "showbackground": true,
            "ticks": "",
            "zerolinecolor": "white"
           }
          },
          "shapedefaults": {
           "line": {
            "color": "#2a3f5f"
           }
          },
          "ternary": {
           "aaxis": {
            "gridcolor": "white",
            "linecolor": "white",
            "ticks": ""
           },
           "baxis": {
            "gridcolor": "white",
            "linecolor": "white",
            "ticks": ""
           },
           "bgcolor": "#E5ECF6",
           "caxis": {
            "gridcolor": "white",
            "linecolor": "white",
            "ticks": ""
           }
          },
          "title": {
           "x": 0.05
          },
          "xaxis": {
           "automargin": true,
           "gridcolor": "white",
           "linecolor": "white",
           "ticks": "",
           "title": {
            "standoff": 15
           },
           "zerolinecolor": "white",
           "zerolinewidth": 2
          },
          "yaxis": {
           "automargin": true,
           "gridcolor": "white",
           "linecolor": "white",
           "ticks": "",
           "title": {
            "standoff": 15
           },
           "zerolinecolor": "white",
           "zerolinewidth": 2
          }
         }
        },
        "title": {
         "text": "Custom Hover: formatted and simplified"
        },
        "xaxis": {
         "anchor": "y",
         "domain": [
          0,
          1
         ],
         "title": {
          "text": "Bill Length Mm"
         }
        },
        "yaxis": {
         "anchor": "x",
         "domain": [
          0,
          1
         ],
         "title": {
          "text": "Bill Depth Mm"
         }
        }
       }
      }
     },
     "metadata": {},
     "output_type": "display_data"
    }
   ],
   "source": [
    "px.scatter(\n",
    "    df, x=\"Bill Length Mm\", y=\"Bill Depth Mm\", color=\"Species\",\n",
    "    hover_data={\n",
    "        \"Island\": True,\n",
    "        \"Sex\": True,\n",
    "        \"Flipper Length Mm\":\":.0f\",\n",
    "        \"Body Mass G\":\":.0f\",\n",
    "        \"Mass/Flipper\":\":.2f\",\n",
    "        \"Bill Length Mm\":False,\n",
    "        \"Bill Depth Mm\":False\n",
    "    },\n",
    "    title=\"Custom Hover: formatted and simplified\"\n",
    ").show()\n"
   ]
  },
  {
   "cell_type": "code",
   "execution_count": 27,
   "id": "5c9dfe4c",
   "metadata": {},
   "outputs": [],
   "source": [
    "fig.write_html(\"penguins_plotly_showcase.html\", include_plotlyjs=\"cdn\")"
   ]
  }
 ],
 "metadata": {
  "kernelspec": {
   "display_name": "Python 3",
   "language": "python",
   "name": "python3"
  },
  "language_info": {
   "codemirror_mode": {
    "name": "ipython",
    "version": 3
   },
   "file_extension": ".py",
   "mimetype": "text/x-python",
   "name": "python",
   "nbconvert_exporter": "python",
   "pygments_lexer": "ipython3",
   "version": "3.11.11"
  }
 },
 "nbformat": 4,
 "nbformat_minor": 5
}
